{
 "cells": [
  {
   "cell_type": "markdown",
   "metadata": {},
   "source": [
    "# Crews MPN RNASeq Analysis\n",
    "\n",
    "### Aged Bone Marrow (normal control) vs. Myeloproliferative Neoplasms (MPN) \n",
    "### Genes/Isoforms\n",
    "* ADAR1\n"
   ]
  },
  {
   "cell_type": "code",
   "execution_count": 1,
   "metadata": {},
   "outputs": [
    {
     "name": "stderr",
     "output_type": "stream",
     "text": [
      "Warning message:\n",
      "“package ‘IRdisplay’ was built under R version 4.1.0”\n",
      "Loading required package: AnnotationDbi\n",
      "\n",
      "Loading required package: stats4\n",
      "\n",
      "Loading required package: BiocGenerics\n",
      "\n",
      "Loading required package: parallel\n",
      "\n",
      "\n",
      "Attaching package: ‘BiocGenerics’\n",
      "\n",
      "\n",
      "The following objects are masked from ‘package:parallel’:\n",
      "\n",
      "    clusterApply, clusterApplyLB, clusterCall, clusterEvalQ,\n",
      "    clusterExport, clusterMap, parApply, parCapply, parLapply,\n",
      "    parLapplyLB, parRapply, parSapply, parSapplyLB\n",
      "\n",
      "\n",
      "The following object is masked from ‘package:limma’:\n",
      "\n",
      "    plotMA\n",
      "\n",
      "\n",
      "The following objects are masked from ‘package:stats’:\n",
      "\n",
      "    IQR, mad, sd, var, xtabs\n",
      "\n",
      "\n",
      "The following objects are masked from ‘package:base’:\n",
      "\n",
      "    anyDuplicated, append, as.data.frame, basename, cbind, colnames,\n",
      "    dirname, do.call, duplicated, eval, evalq, Filter, Find, get, grep,\n",
      "    grepl, intersect, is.unsorted, lapply, Map, mapply, match, mget,\n",
      "    order, paste, pmax, pmax.int, pmin, pmin.int, Position, rank,\n",
      "    rbind, Reduce, rownames, sapply, setdiff, sort, table, tapply,\n",
      "    union, unique, unsplit, which.max, which.min\n",
      "\n",
      "\n",
      "Loading required package: Biobase\n",
      "\n",
      "Welcome to Bioconductor\n",
      "\n",
      "    Vignettes contain introductory material; view with\n",
      "    'browseVignettes()'. To cite Bioconductor, see\n",
      "    'citation(\"Biobase\")', and for packages 'citation(\"pkgname\")'.\n",
      "\n",
      "\n",
      "Loading required package: IRanges\n",
      "\n",
      "Loading required package: S4Vectors\n",
      "\n",
      "\n",
      "Attaching package: ‘S4Vectors’\n",
      "\n",
      "\n",
      "The following object is masked from ‘package:base’:\n",
      "\n",
      "    expand.grid\n",
      "\n",
      "\n",
      "\n",
      "\n",
      "Loading required package: OrganismDbi\n",
      "\n",
      "Loading required package: GenomicFeatures\n",
      "\n",
      "Loading required package: GenomeInfoDb\n",
      "\n",
      "Loading required package: GenomicRanges\n",
      "\n",
      "Loading required package: GO.db\n",
      "\n",
      "\n",
      "\n",
      "Loading required package: TxDb.Hsapiens.UCSC.hg19.knownGene\n",
      "\n",
      "\n",
      "Attaching package: ‘plyr’\n",
      "\n",
      "\n",
      "The following object is masked from ‘package:IRanges’:\n",
      "\n",
      "    desc\n",
      "\n",
      "\n",
      "The following object is masked from ‘package:S4Vectors’:\n",
      "\n",
      "    rename\n",
      "\n",
      "\n",
      "The following object is masked from ‘package:ggpubr’:\n",
      "\n",
      "    mutate\n",
      "\n",
      "\n",
      "\n",
      "Attaching package: ‘dplyr’\n",
      "\n",
      "\n",
      "The following objects are masked from ‘package:plyr’:\n",
      "\n",
      "    arrange, count, desc, failwith, id, mutate, rename, summarise,\n",
      "    summarize\n",
      "\n",
      "\n",
      "The following object is masked from ‘package:OrganismDbi’:\n",
      "\n",
      "    select\n",
      "\n",
      "\n",
      "The following objects are masked from ‘package:GenomicRanges’:\n",
      "\n",
      "    intersect, setdiff, union\n",
      "\n",
      "\n",
      "The following object is masked from ‘package:GenomeInfoDb’:\n",
      "\n",
      "    intersect\n",
      "\n",
      "\n",
      "The following object is masked from ‘package:AnnotationDbi’:\n",
      "\n",
      "    select\n",
      "\n",
      "\n",
      "The following objects are masked from ‘package:IRanges’:\n",
      "\n",
      "    collapse, desc, intersect, setdiff, slice, union\n",
      "\n",
      "\n",
      "The following objects are masked from ‘package:S4Vectors’:\n",
      "\n",
      "    first, intersect, rename, setdiff, setequal, union\n",
      "\n",
      "\n",
      "The following object is masked from ‘package:Biobase’:\n",
      "\n",
      "    combine\n",
      "\n",
      "\n",
      "The following objects are masked from ‘package:BiocGenerics’:\n",
      "\n",
      "    combine, intersect, setdiff, union\n",
      "\n",
      "\n",
      "The following objects are masked from ‘package:stats’:\n",
      "\n",
      "    filter, lag\n",
      "\n",
      "\n",
      "The following objects are masked from ‘package:base’:\n",
      "\n",
      "    intersect, setdiff, setequal, union\n",
      "\n",
      "\n",
      "gdata: read.xls support for 'XLS' (Excel 97-2004) files ENABLED.\n",
      "\n",
      "\n",
      "\n",
      "gdata: Unable to load perl libaries needed by read.xls()\n",
      "gdata: to support 'XLSX' (Excel 2007+) files.\n",
      "\n",
      "\n",
      "\n",
      "gdata: Run the function 'installXLSXsupport()'\n",
      "gdata: to automatically download and install the perl\n",
      "gdata: libaries needed to support Excel XLS and XLSX formats.\n",
      "\n",
      "\n",
      "Attaching package: ‘gdata’\n",
      "\n",
      "\n",
      "The following objects are masked from ‘package:dplyr’:\n",
      "\n",
      "    combine, first, last\n",
      "\n",
      "\n",
      "The following object is masked from ‘package:GenomicRanges’:\n",
      "\n",
      "    trim\n",
      "\n",
      "\n",
      "The following object is masked from ‘package:IRanges’:\n",
      "\n",
      "    trim\n",
      "\n",
      "\n",
      "The following objects are masked from ‘package:S4Vectors’:\n",
      "\n",
      "    first, first<-\n",
      "\n",
      "\n",
      "The following object is masked from ‘package:Biobase’:\n",
      "\n",
      "    combine\n",
      "\n",
      "\n",
      "The following object is masked from ‘package:BiocGenerics’:\n",
      "\n",
      "    combine\n",
      "\n",
      "\n",
      "The following object is masked from ‘package:stats4’:\n",
      "\n",
      "    nobs\n",
      "\n",
      "\n",
      "The following object is masked from ‘package:stats’:\n",
      "\n",
      "    nobs\n",
      "\n",
      "\n",
      "The following object is masked from ‘package:utils’:\n",
      "\n",
      "    object.size\n",
      "\n",
      "\n",
      "The following object is masked from ‘package:base’:\n",
      "\n",
      "    startsWith\n",
      "\n",
      "\n"
     ]
    }
   ],
   "source": [
    "library(IRdisplay)\n",
    "library('limma')\n",
    "library('edgeR')\n",
    "library('ggplot2')\n",
    "library('ggpubr')\n",
    "library('org.Hs.eg.db')\n",
    "library('genefilter')\n",
    "library('Homo.sapiens')\n",
    "library('splitstackshape')\n",
    "library('statmod')\n",
    "library('plyr')\n",
    "library('dplyr')\n",
    "library('gdata')\n",
    "library('reshape2')\n",
    "\n",
    "\n",
    "EG2SYM <- toTable(org.Hs.egSYMBOL)\n",
    "ENS2EG <- toTable(org.Hs.egENSEMBL2EG)\n",
    "ENS2EG2SYM <- data.frame(gene_id=ENS2EG$gene_id, ens_id=ENS2EG,                 \n",
    "                         SYM=EG2SYM[match(ENS2EG$gene_id,EG2SYM$gene_id),\"symbol\"])"
   ]
  },
  {
   "cell_type": "markdown",
   "metadata": {},
   "source": [
    "### Preprocess RNASeq Gene Count Data and metadata"
   ]
  },
  {
   "cell_type": "code",
   "execution_count": 2,
   "metadata": {},
   "outputs": [],
   "source": [
    "meta2 <- read.csv(\"../data/combined_meta2.csv\", stringsAsFactors=FALSE)\n",
    "types <- unlist(lapply(meta2$ID, function(x) strsplit(x, split=\"\\\\.\")[[1]][2]))  \n",
    "meta2$CellType <- rep(\"BM\", nrow(meta2))\n",
    "meta2$CellType[which(!meta2$Sample.type %in% c(\"Aged normal bone marrow\",\"Young normal bone marrow\"))] <- types[which(!meta2$Sample.type %in% c(\"Aged normal bone marrow\",\"Young normal bone marrow\"))]\n",
    "meta2$Sample.type2 <- recode(meta2$Sample.type, `Aged normal bone marrow`=\"NBM\", `Young normal bone marrow`=\"NBM\")\n",
    "meta2$Sample.type3 <- meta2$Phenotype <- recode(meta2$Sample.type, `Aged normal bone marrow`=\"ABM\", \n",
    "                                                `Young normal bone marrow`=\"YBM\")\n",
    "\n",
    "meta2$Sample.type4 <- recode(meta2$Sample.type3, sAML=\"sAML_UnTx\", `de novo AML`=\"sAML_UnTx\", AML=\"sAML_Tx\")                       \n",
    "meta2$Sample.type2 <- gsub(\"^AML$\", \"sAML\", meta2$Sample.type2)\n",
    "meta2$Sample.type3 <- gsub(\"^AML$\", \"sAML\", meta2$Sample.type3)\n",
    "meta2$Sample.type2[which(meta2$Condition == \"de novo AML\")] <- \"dnAML\"\n",
    "meta2$Sample.type3[which(meta2$Condition == \"de novo AML\")] <- \"dnAML\"\n",
    "\n",
    "meta2$Phenotype <- recode(meta2$Sample.type, `Aged normal bone marrow`=\"ABM\", `Young normal bone marrow`=\"YBM\")\n",
    "meta2$Phenotype[which(meta2$Sample.type %in% c(\"Young normal bone marrow\"))] <- \"YBM\"\n",
    "\n",
    "meta2.Prog.filt <- meta2[meta2$Sample.type3 %in% c(\"ABM\", \"YBM\", \"CML\", \"sAML\", \"ET\", \"PV\", \"MF\", \"dnAML\") & \n",
    "                         meta2$Cell.type %in% c(\"Progenitor\", \"Sorted progenitors\"),]\n",
    "meta2.Prog.filt$Phenotype <- factor(as.character(meta2.Prog.filt$Phenotype), \n",
    "                                           levels=c(\"ABM\", \"YBM\", \"ET\", \"PV\", \"MF\", \"CML\", \"AML\"))\n",
    "                         \n",
    "meta2.Prog.all.filt <- meta2[meta2$Cell.type %in% c(\"Sorted progenitors\", \"Progenitor\"),]\n",
    "\n",
    "meta2.Stem.filt <- meta2[meta2$Phenotype %in% c(\"ABM\", \"YBM\", \"CML\", \"AML\", \"ET\", \"PV\", \"MF\") & \n",
    "                         meta2$Cell.type %in% c(\"Stem\", \"Sorted stem\"),] \n",
    "meta2.Stem.filt$Phenotype <- factor(as.character(meta2.Stem.filt$Phenotype), \n",
    "                                           levels=c(\"ABM\", \"YBM\", \"ET\", \"PV\", \"MF\", \"CML\", \"AML\"))\n",
    "meta2.Stem.all.filt <- meta2[meta2$Cell.type %in% c(\"Sorted stem\", \"Stem\"),]\n"
   ]
  },
  {
   "cell_type": "code",
   "execution_count": 3,
   "metadata": {},
   "outputs": [],
   "source": [
    "meta <- read.csv(\"../data/fheditsHolm_Jamieson_RNAseq_with_controls_meta_20200303.csv\", header=TRUE, stringsAsFactors = FALSE)\n",
    "meta$Phenotype <- meta$Condition_code2\n",
    "meta$Phenotype[which(meta$Condition_code2 %in% c(\"Aged_Normal\",\"Young_Normal\"))] <- \"Normal\"\n",
    "meta$Phenotype2 <- meta$Condition_code2 \n",
    "meta$Phenotype2[which(meta$Condition_code2 %in% c(\"Aged_Normal\"))] <- \"ABM\"\n",
    "meta$Phenotype2[which(meta$Condition_code2 %in% c(\"Young_Normal\"))] <- \"YBM\"\n",
    "meta$Phenotype3 <- recode(meta$Phenotype2, sAML=\"sAML_UnTx\", AML=\"sAML_Tx\")\n",
    "\n",
    "meta_filt <- subset(meta, Phenotype %in% c(\"Normal\", \"MF\", \"PV\", \"ET\", \"CML\", \"AML\", \"denovoAML\", \"sAML\") & \n",
    "                       Cell.type %in% c(\"Stem\", \"Progenitor\"))\n",
    "meta_filt$JAK2 <- meta_filt$Mutation\n",
    "meta_filt$JAK2[meta_filt$JAK2 %in% c(\"JAK2V617F+\",\"JAK2 V617F+\")] <- \"V617F+\"\n",
    "meta_filt$JAK2[meta_filt$JAK2 %in% c(\"JAK2 V617F-\")] <- \"V617F-\"\n",
    "meta_filt$JAK2[!meta_filt$JAK2 %in% c(\"V617F-\", \"V617F+\")] <- NA\n",
    "meta_filt$Tissue <- meta_filt$Tissue.Type\n",
    "meta_filt$Cells <- meta_filt$Cell.type\n",
    "\n",
    "\n",
    "meta2.Prog.filt$Treatment_code2 <- factor(as.character(meta_filt[match(gsub(\"_S[0-9]+$\",\"\",meta2.Prog.filt$Sample), \n",
    "                              gsub(\"_S[0-9]+$\",\"\",meta_filt$Sample)),\"Treatment_code2\"]))\n",
    "meta2.Stem.filt$Treatment_code2 <- factor(as.character(meta_filt[match(gsub(\"_S[0-9]+$\",\"\",meta2.Stem.filt$Sample), \n",
    "                              gsub(\"_S[0-9]+$\",\"\",meta_filt$Sample)),\"Treatment_code2\"]))\n",
    "meta2.Prog.filt$Phenotype2 <- factor(as.character(meta_filt[match(gsub(\"_S[0-9]+$\",\"\",meta2.Prog.filt$Sample), \n",
    "                              gsub(\"_S[0-9]+$\",\"\",meta_filt$Sample)),\"Phenotype2\"]), \n",
    "                              levels=c(\"ABM\", \"YBM\", \"ET\", \"PV\", \"MF\", \"CML\", \"AML\", \"sAML\", \"denovoAML\"))\n",
    "meta2.Prog.filt$Phenotype3 <- factor(as.character(meta_filt[match(gsub(\"_S[0-9]+$\",\"\",meta2.Prog.filt$Sample), \n",
    "                              gsub(\"_S[0-9]+$\",\"\",meta_filt$Sample)),\"Phenotype3\"]), \n",
    "                              levels=c(\"ABM\", \"YBM\", \"ET\", \"PV\", \"MF\", \"CML\", \"sAML_UnTx\", \"AML_Tx\"))\n",
    "meta2.Prog.filt$Phenotype4 <- factor(as.character(meta2.Prog.filt$Sample.type3),\n",
    "                                     levels=c(\"ABM\", \"YBM\", \"ET\", \"PV\", \"MF\", \"CML\", \"sAML\", \"dnAML\"))\n",
    "meta2.Stem.filt$Phenotype2 <- factor(as.character(meta_filt[match(gsub(\"_S[0-9]+$\",\"\",meta2.Stem.filt$Sample), \n",
    "                              gsub(\"_S[0-9]+$\",\"\",meta_filt$Sample)),\"Phenotype2\"]),  \n",
    "                              levels=c(\"ABM\", \"YBM\", \"ET\", \"PV\", \"MF\", \"CML\", \"AML\", \"sAML\", \"denovoAML\"))"
   ]
  },
  {
   "cell_type": "code",
   "execution_count": 4,
   "metadata": {},
   "outputs": [],
   "source": [
    "meta2.Prog <- meta2[meta2$Cell.type %in% c(\"Progenitor\", \"Sorted progenitors\"),]\n",
    "meta2.Prog$Phenotype <- factor(as.character(meta2.Prog$Phenotype), \n",
    "                                           levels=c(\"ABM\", \"YBM\", \"ET\", \"PV\", \"MF\", \"MDS\", \"CML\", \"AML\"))\n",
    "    \n",
    "meta_filt2 <- subset(meta, Cell.type %in% c(\"Stem\", \"Progenitor\"))\n",
    "meta_filt2$JAK2 <- meta_filt2$Mutation\n",
    "meta_filt2$JAK2[meta_filt2$JAK2 %in% c(\"JAK2V617F+\",\"JAK2 V617F+\")] <- \"V617F+\"\n",
    "meta_filt2$JAK2[meta_filt2$JAK2 %in% c(\"JAK2 V617F-\")] <- \"V617F-\"\n",
    "meta_filt2$JAK2[!meta_filt2$JAK2 %in% c(\"V617F-\", \"V617F+\")] <- NA\n",
    "meta_filt2$Tissue <- meta_filt2$Tissue.Type\n",
    "meta_filt2$Cells <- meta_filt2$Cell.type\n",
    "\n",
    "meta2.Prog$Treatment_code2 <- factor(as.character(meta_filt2[match(gsub(\"_S[0-9]+$\",\"\",meta2.Prog$Sample), \n",
    "                              gsub(\"_S[0-9]+$\",\"\",meta_filt2$Sample)),\"Treatment_code2\"]))\n",
    "meta2.Prog$Phenotype2 <- factor(as.character(meta_filt2[match(gsub(\"_S[0-9]+$\",\"\",meta2.Prog$Sample), \n",
    "                              gsub(\"_S[0-9]+$\",\"\",meta_filt2$Sample)),\"Phenotype2\"]), \n",
    "                              levels=c(\"ABM\", \"YBM\", \"ET\", \"PV\", \"MF\", \"MDS\", \"CML\", \"AML\", \"sAML\", \"denovoAML\"))\n",
    "meta2.Prog$Phenotype3 <- factor(as.character(meta_filt2[match(gsub(\"_S[0-9]+$\",\"\",meta2.Prog$Sample), \n",
    "                              gsub(\"_S[0-9]+$\",\"\",meta_filt2$Sample)),\"Phenotype3\"]), \n",
    "                              levels=c(\"ABM\", \"YBM\", \"ET\", \"PV\", \"MF\", \"MDS\", \"CML\", \"sAML_UnTx\", \"AML_Tx\"))\n",
    "meta2.Prog$Phenotype4 <- factor(as.character(meta2.Prog$Sample.type3),\n",
    "                                     levels=c(\"ABM\", \"YBM\", \"ET\", \"PV\", \"MF\", \"MDS\", \"CML\", \"sAML\", \"dnAML\"))"
   ]
  },
  {
   "cell_type": "markdown",
   "metadata": {},
   "source": [
    "### Load RNASeq Isoform Count Data and metadata"
   ]
  },
  {
   "cell_type": "code",
   "execution_count": 5,
   "metadata": {},
   "outputs": [],
   "source": [
    "# Available on request due to size limits\n",
    "load(\"../data/crews_MPN_rnaseq_20220521_data.RData\")"
   ]
  },
  {
   "cell_type": "code",
   "execution_count": 6,
   "metadata": {},
   "outputs": [],
   "source": [
    "meta2.Prog.filt2 <- meta2.Prog.filt[-grep(\"X672A.PB.Prog_S3\", meta2.Prog.filt$Sample),]\n",
    "meta2.Prog.all.filt2 <- meta2.Prog.all.filt[-grep(\"X672A.PB.Prog_S3\", meta2.Prog.all.filt$Sample),]\n"
   ]
  },
  {
   "cell_type": "code",
   "execution_count": 10,
   "metadata": {},
   "outputs": [],
   "source": [
    "NBM.Prog.meta.filt <- meta2.Prog.filt2[which(meta2.Prog.filt2$Sample.type2 %in% c(\"NBM\")),]\n",
    "ABM.Prog.meta.filt <- meta2.Prog.filt2[which(meta2.Prog.filt2$Phenotype %in% c(\"ABM\")),]\n",
    "YBM.Prog.meta.filt <- meta2.Prog.filt2[which(meta2.Prog.filt2$Phenotype %in% c(\"YBM\")),]\n",
    "PV.Prog.meta.filt <- meta2.Prog.filt2[which(meta2.Prog.filt2$Sample.type %in% c(\"PV\")),]\n",
    "ET.Prog.meta.filt <- meta2.Prog.filt2[which(meta2.Prog.filt2$Sample.type %in% c(\"ET\")),]\n",
    "MF.Prog.meta.filt <- meta2.Prog.filt2[which(meta2.Prog.filt2$Sample.type %in% c(\"MF\")),]\n",
    "CML.Prog.meta.filt <- meta2.Prog.filt2[which(meta2.Prog.filt2$Sample.type %in% c(\"CML\")),]\n",
    "sAML.Prog.meta.filt <- meta2.Prog.filt2[which(meta2.Prog.filt2$Sample.type %in% c(\"sAML\")),]\n",
    "AML.Prog.meta.filt <- meta2.Prog.filt2[which(meta2.Prog.filt2$Sample.type %in% c(\"AML\")),]\n",
    "\n",
    "NBM.Prog.samps.f <- match(NBM.Prog.meta.filt$Sample, colnames(iso_counts_control_pc))\n",
    "ABM.Prog.samps.f <- match(ABM.Prog.meta.filt$Sample, colnames(iso_counts_control_pc))\n",
    "YBM.Prog.samps.f <- match(YBM.Prog.meta.filt$Sample, colnames(iso_counts_control_pc))\n",
    "\n",
    "PV.Prog.samps.f <- match(gsub(\"_S[0-9]+$\", \"\", PV.Prog.meta.filt$Sample), \n",
    "                       gsub(\"_S[0-9]+$\", \"\", colnames(iso_counts_new_pc)))\n",
    "ET.Prog.samps.f <- match(gsub(\"_S[0-9]+$\", \"\", ET.Prog.meta.filt$Sample),\n",
    "                       gsub(\"_S[0-9]+$\", \"\", colnames(iso_counts_new_pc)))\n",
    "MF.Prog.samps.f <- match(gsub(\"_S[0-9]+$\", \"\", MF.Prog.meta.filt$Sample), \n",
    "                       gsub(\"_S[0-9]+$\", \"\", colnames(iso_counts_new_pc)))\n",
    "CML.Prog.samps.f <- match(gsub(\"_S[0-9]+$\", \"\", CML.Prog.meta.filt$Sample), \n",
    "                        gsub(\"_S[0-9]+$\", \"\", colnames(iso_counts_new_pc)))\n",
    "sAML.Prog.samps.f <- match(gsub(\"_S[0-9]+$\", \"\", sAML.Prog.meta.filt$Sample),\n",
    "                        gsub(\"_S[0-9]+$\", \"\", colnames(iso_counts_control_pc)))\n",
    "AML.Prog.samps.f <- match(gsub(\"_S[0-9]+$\", \"\", AML.Prog.meta.filt$Sample),\n",
    "                        gsub(\"_S[0-9]+$\", \"\", colnames(iso_counts_new_pc)))"
   ]
  },
  {
   "cell_type": "code",
   "execution_count": 11,
   "metadata": {},
   "outputs": [],
   "source": [
    "NBM.Stem.meta.filt <- meta2.Stem.filt[which(meta2.Stem.filt$Sample.type2 %in% c(\"NBM\")),]\n",
    "ABM.Stem.meta.filt <- meta2.Stem.filt[which(meta2.Stem.filt$Phenotype %in% c(\"ABM\")),]\n",
    "YBM.Stem.meta.filt <- meta2.Stem.filt[which(meta2.Stem.filt$Phenotype %in% c(\"YBM\")),]\n",
    "PV.Stem.meta.filt <- meta2.Stem.filt[which(meta2.Stem.filt$Sample.type %in% c(\"PV\")),]\n",
    "ET.Stem.meta.filt <- meta2.Stem.filt[which(meta2.Stem.filt$Sample.type %in% c(\"ET\")),]\n",
    "MF.Stem.meta.filt <- meta2.Stem.filt[which(meta2.Stem.filt$Sample.type %in% c(\"MF\")),]\n",
    "CML.Stem.meta.filt <- meta2.Stem.filt[which(meta2.Stem.filt$Sample.type %in% c(\"CML\")),]\n",
    "AML.Stem.meta.filt <- meta2.Stem.filt[which(meta2.Stem.filt$Sample.type %in% c(\"AML\")),]\n",
    "\n",
    "NBM.Stem.samps.f <- match(NBM.Stem.meta.filt$Sample, colnames(iso_counts_control_pc))\n",
    "ABM.Stem.samps.f <- match(ABM.Stem.meta.filt$Sample, colnames(iso_counts_control_pc))\n",
    "YBM.Stem.samps.f <- match(YBM.Stem.meta.filt$Sample, colnames(iso_counts_control_pc))\n",
    "\n",
    "PV.Stem.samps.f <- match(gsub(\"_S[0-9]+$\", \"\", PV.Stem.meta.filt$Sample), \n",
    "                       gsub(\"_S[0-9]+$\", \"\", colnames(iso_counts_new_pc)))\n",
    "ET.Stem.samps.f <- match(gsub(\"_S[0-9]+$\", \"\", ET.Stem.meta.filt$Sample),\n",
    "                       gsub(\"_S[0-9]+$\", \"\", colnames(iso_counts_new_pc)))\n",
    "MF.Stem.samps.f <- match(gsub(\"_S[0-9]+$\", \"\", MF.Stem.meta.filt$Sample), \n",
    "                       gsub(\"_S[0-9]+$\", \"\", colnames(iso_counts_new_pc)))\n",
    "CML.Stem.samps.f <- match(gsub(\"_S[0-9]+$\", \"\", CML.Stem.meta.filt$Sample), \n",
    "                        gsub(\"_S[0-9]+$\", \"\", colnames(iso_counts_new_pc)))\n",
    "AML.Stem.samps.f <- match(gsub(\"_S[0-9]+$\", \"\", AML.Stem.meta.filt$Sample),\n",
    "                        gsub(\"_S[0-9]+$\", \"\", colnames(iso_counts_new_pc)))"
   ]
  },
  {
   "cell_type": "markdown",
   "metadata": {},
   "source": [
    "### Prepare DGELists"
   ]
  },
  {
   "cell_type": "code",
   "execution_count": 12,
   "metadata": {},
   "outputs": [],
   "source": [
    "iso_counts_filt.Prog.filt <- cbind(iso_counts_control_pc[,c(ABM.Prog.samps.f, YBM.Prog.samps.f)], \n",
    "                                   iso_counts_new_pc[,c(PV.Prog.samps.f, ET.Prog.samps.f, MF.Prog.samps.f,\n",
    "                                                 CML.Prog.samps.f)], \n",
    "                                   iso_counts_control_pc[,sAML.Prog.samps.f], \n",
    "                                   iso_counts_new_pc[,AML.Prog.samps.f])\n",
    "iso_counts_filt.Stem.filt <- cbind(iso_counts_control_pc[,c(ABM.Stem.samps.f, YBM.Stem.samps.f)], \n",
    "                             iso_counts_new_pc[,c(PV.Stem.samps.f, ET.Stem.samps.f, MF.Stem.samps.f,\n",
    "                                                 CML.Stem.samps.f, AML.Stem.samps.f)])\n",
    "id_list.Prog.filt <- gsub(\"[.].*$\",\"\", rownames(iso_counts_filt.Prog.filt))\n",
    "id_list.Stem.filt <- gsub(\"[.].*$\",\"\", rownames(iso_counts_filt.Stem.filt))\n"
   ]
  },
  {
   "cell_type": "code",
   "execution_count": 13,
   "metadata": {},
   "outputs": [],
   "source": [
    "\n",
    "iso_counts_all <- cbind(iso_counts_control_pc, iso_counts_new_pc)\n",
    "iso_counts_filt.Prog.all.filt <- iso_counts_all[,match(gsub(\"_S[0-9]+$\", \"\", meta2.Prog.all.filt2$Sample), \n",
    "                       gsub(\"_S[0-9]+$\", \"\", colnames(iso_counts_all)))]\n",
    "iso_counts_filt.Stem.all.filt <- iso_counts_all[,match(gsub(\"_S[0-9]+$\", \"\", meta2.Stem.all.filt$Sample), \n",
    "                       gsub(\"_S[0-9]+$\", \"\", colnames(iso_counts_all)))]\n",
    "\n",
    "DGE_all.Prog.all.filt <- DGEList(counts = iso_counts_filt.Prog.all.filt, lib.size = colSums(iso_counts_filt.Prog.all.filt),\n",
    "                      norm.factors = rep(1,ncol(iso_counts_filt.Prog.all.filt)), samples = meta2.Prog.all.filt2,\n",
    "                      group = meta2.Prog.all.filt2$Phenotype, genes = id_list.Prog.filt, remove.zeros = FALSE) \n",
    "DGE_all.Prog.all.filt$genes[,2:3] <- iso_gene_table_anno_pc[match(gsub(\"[.].*$\",\"\", iso_gene_table_anno_pc$transcript_id),\n",
    "                                          id_list.Prog.filt),c(\"ENTREZID\",\"SYMBOL\")]\n",
    "\n",
    "DGE_all.Stem.all.filt <- DGEList(counts = iso_counts_filt.Stem.all.filt, lib.size = colSums(iso_counts_filt.Stem.all.filt),\n",
    "                      norm.factors = rep(1,ncol(iso_counts_filt.Stem.all.filt)), samples = meta2.Stem.all.filt,\n",
    "                      group = meta2.Stem.all.filt$Phenotype, genes = id_list.Stem.filt, remove.zeros = FALSE) \n",
    "DGE_all.Stem.all.filt$genes[,2:3] <- iso_gene_table_anno_pc[match(gsub(\"[.].*$\",\"\", iso_gene_table_anno_pc$transcript_id),\n",
    "                                          id_list.Stem.filt),c(\"ENTREZID\",\"SYMBOL\")]\n",
    "\n",
    "cpm.Prog.all.filt <- cpm(DGE_all.Prog.all.filt)\n",
    "lcpm.Prog.all.filt <- cpm(DGE_all.Prog.all.filt, log=TRUE)\n",
    "keep.exprs.Prog.filt <- rowSums(cpm.Prog.all.filt>1)>=15\n",
    "\n",
    "DGE_all.Prog.all.filt <- DGE_all.Prog.all.filt[keep.exprs.Prog.filt,, keep.lib.sizes=FALSE]\n",
    "DGE_all.Prog.all.filt <- calcNormFactors(DGE_all.Prog.all.filt, method = \"TMM\")\n",
    "\n",
    "lcpm2.Prog.all.filt <- cpm(DGE_all.Prog.all.filt, log=TRUE)\n",
    "\n",
    "cpm.Stem.all.filt <- cpm(DGE_all.Stem.all.filt)\n",
    "lcpm.Stem.all.filt <- cpm(DGE_all.Stem.all.filt, log=TRUE)\n",
    "keep.exprs.Stem.filt <- rowSums(cpm.Stem.all.filt>1)>=20\n",
    "DGE_all.Stem.all.filt <- DGE_all.Stem.all.filt[keep.exprs.Stem.filt,, keep.lib.sizes=FALSE]\n",
    "DGE_all.Stem.all.filt <- calcNormFactors(DGE_all.Stem.all.filt, method = \"TMM\")\n",
    "\n",
    "lcpm2.Stem.all.filt <- cpm(DGE_all.Stem.all.filt, log=TRUE)"
   ]
  },
  {
   "cell_type": "code",
   "execution_count": 14,
   "metadata": {},
   "outputs": [],
   "source": [
    "ADAR.tx.exp <- c(\"ENST00000368471\", \"ENST00000368474\", \"ENST00000529168\")\n",
    "ADAR.tx.exp.prog.lcpm <- lcpm2.Prog.all.filt[rownames(lcpm2.Prog.all.filt) %in% ADAR.tx.exp,]\n",
    "ADAR.tx.exp.prog.df <- cbind.data.frame(DGE_all.Prog.all.filt$samples, as.data.frame(t(ADAR.tx.exp.prog.lcpm)))\n",
    "colnames(ADAR.tx.exp.prog.df)[19:21] <- c(\"ADAR_201\", \"ADAR_202\", \"ADAR_208\")\n",
    "ADAR.tx.exp.prog.df <- subset(ADAR.tx.exp.prog.df, group == \"ABM\" | group == \"YBM\" | group == \"sAML\")\n"
   ]
  },
  {
   "cell_type": "code",
   "execution_count": 15,
   "metadata": {},
   "outputs": [
    {
     "name": "stderr",
     "output_type": "stream",
     "text": [
      "Using Sample.type3 as id variables\n",
      "\n"
     ]
    }
   ],
   "source": [
    "ADAR.tx.exp.prog.df2 <- cbind.data.frame(DGE_all.Prog.all.filt$samples, as.data.frame(t(ADAR.tx.exp.prog.lcpm)))\n",
    "colnames(ADAR.tx.exp.prog.df2)[19:21] <- c(\"ADAR_201\", \"ADAR_202\", \"ADAR_208\")\n",
    "ADAR.tx.exp.prog.df2 <- subset(ADAR.tx.exp.prog.df2, group != \"MDS\")\n",
    "ADAR.tx.exp.prog.df2.m <-  melt(ADAR.tx.exp.prog.df2[,-c(1:16,18)])\n",
    "ADAR.tx.exp.prog.df2.m$Sample.type3 <- ADAR.tx.exp.prog.df2.m$Sample.type3 <- factor(as.character(ADAR.tx.exp.prog.df2.m$Sample.type3), \n",
    "                                           levels=c(\"YBM\", \"ABM\", \"PV\", \"ET\", \"MF\", \"CML\", \"dnAML\", \"sAML\"))\n",
    "ADAR.tx.exp.prog.df2.m$value <- sapply(ADAR.tx.exp.prog.df2.m$value, function(x) ifelse(x > 0, x, 0))\n"
   ]
  },
  {
   "cell_type": "markdown",
   "metadata": {},
   "source": [
    "## Figure 1A - HPC"
   ]
  },
  {
   "cell_type": "code",
   "execution_count": 16,
   "metadata": {},
   "outputs": [
    {
     "data": {
      "image/png": "[encoded data removed]",
      "text/plain": [
       "plot without title"
      ]
     },
     "metadata": {
      "image/png": {
       "height": 360,
       "width": 420
      }
     },
     "output_type": "display_data"
    }
   ],
   "source": [
    "options(repr.plot.width=7, repr.plot.height=6)\n",
    "plot_pal <- c('#F8766D', '#CD9600','#7CAE00','#00BE67','#00BFC4','#00A9FF','#C77CFF','#FF61CC')\n",
    "ggboxplot(ADAR.tx.exp.prog.df2.m, x=\"variable\", y=\"value\", fill=\"Sample.type3\", ylab=\"LogCPM\", xlab=\"\", \n",
    "          main=\"ADAR Isoform Expression\", palette=plot_pal) +\n",
    "                                      theme_bw(base_size=16) + theme(legend.title=element_text(size=0))\n",
    "                                       "
   ]
  },
  {
   "cell_type": "code",
   "execution_count": 17,
   "metadata": {},
   "outputs": [],
   "source": [
    "ADAR.tx.exp <- c(\"ENST00000368471\", \"ENST00000368474\", \"ENST00000529168\")\n",
    "ADAR.tx.exp.stem.lcpm <- lcpm2.Stem.all.filt[rownames(lcpm2.Stem.all.filt) %in% ADAR.tx.exp,]\n",
    "ADAR.tx.exp.stem.df <- cbind.data.frame(DGE_all.Stem.all.filt$samples, as.data.frame(t(ADAR.tx.exp.stem.lcpm)))\n",
    "colnames(ADAR.tx.exp.stem.df)[19:21] <- c(\"ADAR_201\", \"ADAR_202\", \"ADAR_208\")\n"
   ]
  },
  {
   "cell_type": "code",
   "execution_count": 18,
   "metadata": {},
   "outputs": [
    {
     "name": "stderr",
     "output_type": "stream",
     "text": [
      "Using Sample.type3 as id variables\n",
      "\n"
     ]
    }
   ],
   "source": [
    "ADAR.tx.exp.Stem.df2 <- cbind.data.frame(DGE_all.Stem.all.filt$samples, as.data.frame(t(ADAR.tx.exp.stem.lcpm)))\n",
    "colnames(ADAR.tx.exp.Stem.df2)[19:21] <- c(\"ADAR_201\", \"ADAR_202\", \"ADAR_208\")\n",
    "ADAR.tx.exp.Stem.df2 <- subset(ADAR.tx.exp.Stem.df2, group != \"MDS\")\n",
    "ADAR.tx.exp.Stem.df2.m <-  melt(ADAR.tx.exp.Stem.df2[,-c(1:16,18)])\n",
    "ADAR.tx.exp.Stem.df2.m$Sample.type3 <- ADAR.tx.exp.Stem.df2.m$Sample.type3 <- factor(as.character(ADAR.tx.exp.Stem.df2.m$Sample.type3), \n",
    "                                           levels=c(\"YBM\", \"ABM\", \"PV\", \"ET\", \"MF\", \"CML\", \"sAML\"))\n",
    "ADAR.tx.exp.Stem.df2.m$value <- sapply(ADAR.tx.exp.Stem.df2.m$value, function(x) ifelse(x > 0, x, 0))\n"
   ]
  },
  {
   "cell_type": "markdown",
   "metadata": {},
   "source": [
    "## Figure 1A - HSC"
   ]
  },
  {
   "cell_type": "code",
   "execution_count": 19,
   "metadata": {},
   "outputs": [
    {
     "data": {
      "image/png": "[encoded data removed]",
      "text/plain": [
       "plot without title"
      ]
     },
     "metadata": {
      "image/png": {
       "height": 360,
       "width": 420
      }
     },
     "output_type": "display_data"
    }
   ],
   "source": [
    "options(repr.plot.width=7, repr.plot.height=6)\n",
    "plot_pal <- c('#F8766D', '#CD9600','#7CAE00','#00BE67','#00BFC4','#00A9FF','#C77CFF','#FF61CC')\n",
    "ggboxplot(ADAR.tx.exp.Stem.df2.m, x=\"variable\", y=\"value\", fill=\"Sample.type3\", ylab=\"LogCPM\", xlab=\"\", \n",
    "          main=\"ADAR Isoform Expression\", palette=plot_pal[c(1:6,8)]) +\n",
    "                                      theme_bw(base_size=16) + theme(legend.title=element_text(size=0))"
   ]
  },
  {
   "cell_type": "code",
   "execution_count": 1,
   "metadata": {},
   "outputs": [
    {
     "data": {
      "text/plain": [
       "R version 4.0.5 (2021-03-31)\n",
       "Platform: x86_64-conda-linux-gnu (64-bit)\n",
       "Running under: Ubuntu 20.04.2 LTS\n",
       "\n",
       "Matrix products: default\n",
       "BLAS/LAPACK: /home/ubuntu/anaconda3/lib/libmkl_rt.so.1\n",
       "\n",
       "locale:\n",
       " [1] LC_CTYPE=C.UTF-8       LC_NUMERIC=C           LC_TIME=C.UTF-8       \n",
       " [4] LC_COLLATE=C.UTF-8     LC_MONETARY=C.UTF-8    LC_MESSAGES=C.UTF-8   \n",
       " [7] LC_PAPER=C.UTF-8       LC_NAME=C              LC_ADDRESS=C          \n",
       "[10] LC_TELEPHONE=C         LC_MEASUREMENT=C.UTF-8 LC_IDENTIFICATION=C   \n",
       "\n",
       "attached base packages:\n",
       "[1] stats     graphics  grDevices utils     datasets  methods   base     \n",
       "\n",
       "loaded via a namespace (and not attached):\n",
       " [1] fansi_0.5.0     digest_0.6.29   utf8_1.2.2      crayon_1.4.2   \n",
       " [5] IRdisplay_1.0   repr_1.1.3      lifecycle_1.0.1 jsonlite_1.7.2 \n",
       " [9] evaluate_0.14   pillar_1.6.4    rlang_0.4.12    uuid_1.0-3     \n",
       "[13] vctrs_0.3.8     ellipsis_0.3.2  IRkernel_1.3.1  tools_4.0.5    \n",
       "[17] fastmap_1.1.0   compiler_4.0.5  base64enc_0.1-3 pbdZMQ_0.3-6   \n",
       "[21] htmltools_0.5.2"
      ]
     },
     "metadata": {},
     "output_type": "display_data"
    }
   ],
   "source": [
    "sessionInfo()"
   ]
  }
 ],
 "metadata": {
  "kernelspec": {
   "display_name": "R",
   "language": "R",
   "name": "ir"
  },
  "language_info": {
   "codemirror_mode": "r",
   "file_extension": ".r",
   "mimetype": "text/x-r-source",
   "name": "R",
   "pygments_lexer": "r",
   "version": "4.0.5"
  }
 },
 "nbformat": 4,
 "nbformat_minor": 2
}
