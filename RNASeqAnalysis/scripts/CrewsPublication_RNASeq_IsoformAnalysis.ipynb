{
 "cells": [
  {
   "cell_type": "markdown",
   "metadata": {},
   "source": [
    "# Crews RNA seq Analysis "
   ]
  },
  {
   "cell_type": "markdown",
   "metadata": {},
   "source": [
    "* Modeled on \"RNA-seq analysis is easy as 1-2-3 with limma, Glimma and edgeR\" ([1](#Citations))\n"
   ]
  },
  {
   "cell_type": "markdown",
   "metadata": {},
   "source": [
    "## Parameter Input"
   ]
  },
  {
   "cell_type": "code",
   "execution_count": 1,
   "metadata": {},
   "outputs": [],
   "source": [
    "gPreviousStepRdataEnv = \"../interim/crews_rnaseq_20220304_data.RData\""
   ]
  },
  {
   "cell_type": "code",
   "execution_count": 2,
   "metadata": {},
   "outputs": [],
   "source": [
    "gSourceDir = \"./src/\"\n",
    "# Import shared source code to load and save previous notebooks' environments:\n",
    "source(paste0(gSourceDir, \"ChainedNotebookSupport.R\"))\n",
    "# Import the previous step's state:\n",
    "gPreviousStepEnv = loadToEnvironment(gPreviousStepRdataEnv)"
   ]
  },
  {
   "cell_type": "code",
   "execution_count": 3,
   "metadata": {},
   "outputs": [],
   "source": [
    "# Load relevant variables:\n",
    "gIsoDgeList = gPreviousStepEnv$gIsoDgeList\n",
    "gIsoIdCol = gPreviousStepEnv$gIsoIdCol"
   ]
  },
  {
   "cell_type": "markdown",
   "metadata": {},
   "source": [
    "[Table of Contents](#Table-of-Contents)\n",
    "\n",
    "## Library Import\n",
    "\n",
    "Import the necessary R, Bioconductor, and CCBB libraries for the analysis:"
   ]
  },
  {
   "cell_type": "code",
   "execution_count": 4,
   "metadata": {},
   "outputs": [],
   "source": [
    "library(limma)\n",
    "library(edgeR)\n",
    "library(Glimma)"
   ]
  },
  {
   "cell_type": "code",
   "execution_count": 5,
   "metadata": {},
   "outputs": [
    {
     "name": "stderr",
     "output_type": "stream",
     "text": [
      "Warning message:\n",
      "“package ‘IRdisplay’ was built under R version 4.1.0”\n"
     ]
    }
   ],
   "source": [
    "library(IRdisplay)"
   ]
  },
  {
   "cell_type": "code",
   "execution_count": 6,
   "metadata": {},
   "outputs": [],
   "source": [
    "source(paste0(gSourceDir, \"PcaPlotter.R\"))\n",
    "source(paste0(gSourceDir, \"CountsPcaPlotter.R\"))"
   ]
  },
  {
   "cell_type": "code",
   "execution_count": 7,
   "metadata": {},
   "outputs": [],
   "source": [
    "# This line prevents SVG output, which interacts badly with export to HTML\n",
    "options(jupyter.plot_mimetypes = c(\"text/plain\", \"image/png\" ))"
   ]
  },
  {
   "cell_type": "code",
   "execution_count": 8,
   "metadata": {},
   "outputs": [],
   "source": [
    "lcpm_iso <- cpm(gIsoDgeList, log=TRUE)[,1:6]"
   ]
  },
  {
   "cell_type": "markdown",
   "metadata": {},
   "source": [
    "## MCL1 Expression"
   ]
  },
  {
   "cell_type": "code",
   "execution_count": 9,
   "metadata": {},
   "outputs": [
    {
     "data": {
      "text/plain": [
       "\n",
       " FALSE   TRUE \n",
       "150988      2 "
      ]
     },
     "metadata": {},
     "output_type": "display_data"
    },
    {
     "data": {
      "text/html": [
       "<style>\n",
       ".list-inline {list-style: none; margin:0; padding: 0}\n",
       ".list-inline>li {display: inline-block}\n",
       ".list-inline>li:not(:last-child)::after {content: \"\\00b7\"; padding: 0 .5ex}\n",
       "</style>\n",
       "<ol class=list-inline><li>2</li><li>6</li></ol>\n"
      ],
      "text/latex": [
       "\\begin{enumerate*}\n",
       "\\item 2\n",
       "\\item 6\n",
       "\\end{enumerate*}\n"
      ],
      "text/markdown": [
       "1. 2\n",
       "2. 6\n",
       "\n",
       "\n"
      ],
      "text/plain": [
       "[1] 2 6"
      ]
     },
     "metadata": {},
     "output_type": "display_data"
    },
    {
     "data": {
      "text/html": [
       "<table class=\"dataframe\">\n",
       "<caption>A matrix: 2 × 6 of type dbl</caption>\n",
       "<thead>\n",
       "\t<tr><th></th><th scope=col>X1.FD.BMV_S1</th><th scope=col>X2.FD.BM5_S2</th><th scope=col>X3.FD.BM10_S3</th><th scope=col>X4.FD.SPV_S4</th><th scope=col>X5.FD.SP5_S5</th><th scope=col>X6.FD.SP10_S6</th></tr>\n",
       "</thead>\n",
       "<tbody>\n",
       "\t<tr><th scope=row>ENST00000307940</th><td>-3.613775</td><td>1.515990</td><td>3.970125</td><td>0.1775431</td><td>0.531618</td><td>3.265199</td></tr>\n",
       "\t<tr><th scope=row>ENST00000369026</th><td> 7.799891</td><td>7.506437</td><td>8.055521</td><td>8.0396494</td><td>7.470850</td><td>6.793264</td></tr>\n",
       "</tbody>\n",
       "</table>\n"
      ],
      "text/latex": [
       "A matrix: 2 × 6 of type dbl\n",
       "\\begin{tabular}{r|llllll}\n",
       "  & X1.FD.BMV\\_S1 & X2.FD.BM5\\_S2 & X3.FD.BM10\\_S3 & X4.FD.SPV\\_S4 & X5.FD.SP5\\_S5 & X6.FD.SP10\\_S6\\\\\n",
       "\\hline\n",
       "\tENST00000307940 & -3.613775 & 1.515990 & 3.970125 & 0.1775431 & 0.531618 & 3.265199\\\\\n",
       "\tENST00000369026 &  7.799891 & 7.506437 & 8.055521 & 8.0396494 & 7.470850 & 6.793264\\\\\n",
       "\\end{tabular}\n"
      ],
      "text/markdown": [
       "\n",
       "A matrix: 2 × 6 of type dbl\n",
       "\n",
       "| <!--/--> | X1.FD.BMV_S1 | X2.FD.BM5_S2 | X3.FD.BM10_S3 | X4.FD.SPV_S4 | X5.FD.SP5_S5 | X6.FD.SP10_S6 |\n",
       "|---|---|---|---|---|---|---|\n",
       "| ENST00000307940 | -3.613775 | 1.515990 | 3.970125 | 0.1775431 | 0.531618 | 3.265199 |\n",
       "| ENST00000369026 |  7.799891 | 7.506437 | 8.055521 | 8.0396494 | 7.470850 | 6.793264 |\n",
       "\n"
      ],
      "text/plain": [
       "                X1.FD.BMV_S1 X2.FD.BM5_S2 X3.FD.BM10_S3 X4.FD.SPV_S4\n",
       "ENST00000307940 -3.613775    1.515990     3.970125      0.1775431   \n",
       "ENST00000369026  7.799891    7.506437     8.055521      8.0396494   \n",
       "                X5.FD.SP5_S5 X6.FD.SP10_S6\n",
       "ENST00000307940 0.531618     3.265199     \n",
       "ENST00000369026 7.470850     6.793264     "
      ]
     },
     "metadata": {},
     "output_type": "display_data"
    },
    {
     "data": {
      "text/html": [
       "<table class=\"dataframe\">\n",
       "<caption>A data.frame: 12 × 11</caption>\n",
       "<thead>\n",
       "\t<tr><th></th><th scope=col>group</th><th scope=col>lib.size</th><th scope=col>norm.factors</th><th scope=col>Sample</th><th scope=col>Tissue</th><th scope=col>Tx</th><th scope=col>Sort</th><th scope=col>MCL1-S</th><th scope=col>MCL1-L</th><th scope=col>Label</th><th scope=col>ratio</th></tr>\n",
       "\t<tr><th></th><th scope=col>&lt;fct&gt;</th><th scope=col>&lt;dbl&gt;</th><th scope=col>&lt;dbl&gt;</th><th scope=col>&lt;chr&gt;</th><th scope=col>&lt;chr&gt;</th><th scope=col>&lt;chr&gt;</th><th scope=col>&lt;chr&gt;</th><th scope=col>&lt;dbl&gt;</th><th scope=col>&lt;dbl&gt;</th><th scope=col>&lt;fct&gt;</th><th scope=col>&lt;dbl&gt;</th></tr>\n",
       "</thead>\n",
       "<tbody>\n",
       "\t<tr><th scope=row>X1.FD.BMV_S1</th><td>BM</td><td> 8327259</td><td>1</td><td>X1.FD.BMV_S1       </td><td>BM</td><td>V </td><td>US</td><td>-3.6137754</td><td>7.799891</td><td>FD.BMV </td><td>11.413666</td></tr>\n",
       "\t<tr><th scope=row>X2.FD.BM5_S2</th><td>BM</td><td>35061455</td><td>1</td><td>X2.FD.BM5_S2       </td><td>BM</td><td>5 </td><td>US</td><td> 1.5159898</td><td>7.506437</td><td>FD.BM5 </td><td> 5.990447</td></tr>\n",
       "\t<tr><th scope=row>X3.FD.BM10_S3</th><td>BM</td><td>13904070</td><td>1</td><td>X3.FD.BM10_S3      </td><td>BM</td><td>10</td><td>US</td><td> 3.9701250</td><td>8.055521</td><td>FD.BM10</td><td> 4.085396</td></tr>\n",
       "\t<tr><th scope=row>X4.FD.SPV_S4</th><td>SP</td><td>42448525</td><td>1</td><td>X4.FD.SPV_S4       </td><td>SP</td><td>V </td><td>US</td><td> 0.1775431</td><td>8.039649</td><td>FD.SPV </td><td> 7.862106</td></tr>\n",
       "\t<tr><th scope=row>X5.FD.SP5_S5</th><td>SP</td><td>35142795</td><td>1</td><td>X5.FD.SP5_S5       </td><td>SP</td><td>5 </td><td>US</td><td> 0.5316180</td><td>7.470850</td><td>FD.SP5 </td><td> 6.939232</td></tr>\n",
       "\t<tr><th scope=row>X6.FD.SP10_S6</th><td>SP</td><td>12020687</td><td>1</td><td>X6.FD.SP10_S6      </td><td>SP</td><td>10</td><td>US</td><td> 3.2651994</td><td>6.793264</td><td>FD.SP10</td><td> 3.528065</td></tr>\n",
       "\t<tr><th scope=row>SORTED_1.FD.BMV_S1</th><td>BM</td><td> 8327259</td><td>1</td><td>SORTED_1.FD.BMV_S1 </td><td>BM</td><td>V </td><td>S </td><td>-3.6137754</td><td>7.799891</td><td>NA     </td><td>11.413666</td></tr>\n",
       "\t<tr><th scope=row>SORTED_2.FD.BM5_S2</th><td>BM</td><td>35061455</td><td>1</td><td>SORTED_2.FD.BM5_S2 </td><td>BM</td><td>5 </td><td>S </td><td> 1.5159898</td><td>7.506437</td><td>NA     </td><td> 5.990447</td></tr>\n",
       "\t<tr><th scope=row>SORTED_3.FD.BM10_S3</th><td>BM</td><td>13904070</td><td>1</td><td>SORTED_3.FD.BM10_S3</td><td>BM</td><td>10</td><td>S </td><td> 3.9701250</td><td>8.055521</td><td>NA     </td><td> 4.085396</td></tr>\n",
       "\t<tr><th scope=row>SORTED_4.FD.SPV_S4</th><td>SP</td><td>42448525</td><td>1</td><td>SORTED_4.FD.SPV_S4 </td><td>SP</td><td>V </td><td>S </td><td> 0.1775431</td><td>8.039649</td><td>NA     </td><td> 7.862106</td></tr>\n",
       "\t<tr><th scope=row>SORTED_5.FD.SP5_S5</th><td>SP</td><td>35142795</td><td>1</td><td>SORTED_5.FD.SP5_S5 </td><td>SP</td><td>5 </td><td>S </td><td> 0.5316180</td><td>7.470850</td><td>NA     </td><td> 6.939232</td></tr>\n",
       "\t<tr><th scope=row>SORTED_6.FD.SP10_S6</th><td>SP</td><td>12020687</td><td>1</td><td>SORTED_6.FD.SP10_S6</td><td>SP</td><td>10</td><td>S </td><td> 3.2651994</td><td>6.793264</td><td>NA     </td><td> 3.528065</td></tr>\n",
       "</tbody>\n",
       "</table>\n"
      ],
      "text/latex": [
       "A data.frame: 12 × 11\n",
       "\\begin{tabular}{r|lllllllllll}\n",
       "  & group & lib.size & norm.factors & Sample & Tissue & Tx & Sort & MCL1-S & MCL1-L & Label & ratio\\\\\n",
       "  & <fct> & <dbl> & <dbl> & <chr> & <chr> & <chr> & <chr> & <dbl> & <dbl> & <fct> & <dbl>\\\\\n",
       "\\hline\n",
       "\tX1.FD.BMV\\_S1 & BM &  8327259 & 1 & X1.FD.BMV\\_S1        & BM & V  & US & -3.6137754 & 7.799891 & FD.BMV  & 11.413666\\\\\n",
       "\tX2.FD.BM5\\_S2 & BM & 35061455 & 1 & X2.FD.BM5\\_S2        & BM & 5  & US &  1.5159898 & 7.506437 & FD.BM5  &  5.990447\\\\\n",
       "\tX3.FD.BM10\\_S3 & BM & 13904070 & 1 & X3.FD.BM10\\_S3       & BM & 10 & US &  3.9701250 & 8.055521 & FD.BM10 &  4.085396\\\\\n",
       "\tX4.FD.SPV\\_S4 & SP & 42448525 & 1 & X4.FD.SPV\\_S4        & SP & V  & US &  0.1775431 & 8.039649 & FD.SPV  &  7.862106\\\\\n",
       "\tX5.FD.SP5\\_S5 & SP & 35142795 & 1 & X5.FD.SP5\\_S5        & SP & 5  & US &  0.5316180 & 7.470850 & FD.SP5  &  6.939232\\\\\n",
       "\tX6.FD.SP10\\_S6 & SP & 12020687 & 1 & X6.FD.SP10\\_S6       & SP & 10 & US &  3.2651994 & 6.793264 & FD.SP10 &  3.528065\\\\\n",
       "\tSORTED\\_1.FD.BMV\\_S1 & BM &  8327259 & 1 & SORTED\\_1.FD.BMV\\_S1  & BM & V  & S  & -3.6137754 & 7.799891 & NA      & 11.413666\\\\\n",
       "\tSORTED\\_2.FD.BM5\\_S2 & BM & 35061455 & 1 & SORTED\\_2.FD.BM5\\_S2  & BM & 5  & S  &  1.5159898 & 7.506437 & NA      &  5.990447\\\\\n",
       "\tSORTED\\_3.FD.BM10\\_S3 & BM & 13904070 & 1 & SORTED\\_3.FD.BM10\\_S3 & BM & 10 & S  &  3.9701250 & 8.055521 & NA      &  4.085396\\\\\n",
       "\tSORTED\\_4.FD.SPV\\_S4 & SP & 42448525 & 1 & SORTED\\_4.FD.SPV\\_S4  & SP & V  & S  &  0.1775431 & 8.039649 & NA      &  7.862106\\\\\n",
       "\tSORTED\\_5.FD.SP5\\_S5 & SP & 35142795 & 1 & SORTED\\_5.FD.SP5\\_S5  & SP & 5  & S  &  0.5316180 & 7.470850 & NA      &  6.939232\\\\\n",
       "\tSORTED\\_6.FD.SP10\\_S6 & SP & 12020687 & 1 & SORTED\\_6.FD.SP10\\_S6 & SP & 10 & S  &  3.2651994 & 6.793264 & NA      &  3.528065\\\\\n",
       "\\end{tabular}\n"
      ],
      "text/markdown": [
       "\n",
       "A data.frame: 12 × 11\n",
       "\n",
       "| <!--/--> | group &lt;fct&gt; | lib.size &lt;dbl&gt; | norm.factors &lt;dbl&gt; | Sample &lt;chr&gt; | Tissue &lt;chr&gt; | Tx &lt;chr&gt; | Sort &lt;chr&gt; | MCL1-S &lt;dbl&gt; | MCL1-L &lt;dbl&gt; | Label &lt;fct&gt; | ratio &lt;dbl&gt; |\n",
       "|---|---|---|---|---|---|---|---|---|---|---|---|\n",
       "| X1.FD.BMV_S1 | BM |  8327259 | 1 | X1.FD.BMV_S1        | BM | V  | US | -3.6137754 | 7.799891 | FD.BMV  | 11.413666 |\n",
       "| X2.FD.BM5_S2 | BM | 35061455 | 1 | X2.FD.BM5_S2        | BM | 5  | US |  1.5159898 | 7.506437 | FD.BM5  |  5.990447 |\n",
       "| X3.FD.BM10_S3 | BM | 13904070 | 1 | X3.FD.BM10_S3       | BM | 10 | US |  3.9701250 | 8.055521 | FD.BM10 |  4.085396 |\n",
       "| X4.FD.SPV_S4 | SP | 42448525 | 1 | X4.FD.SPV_S4        | SP | V  | US |  0.1775431 | 8.039649 | FD.SPV  |  7.862106 |\n",
       "| X5.FD.SP5_S5 | SP | 35142795 | 1 | X5.FD.SP5_S5        | SP | 5  | US |  0.5316180 | 7.470850 | FD.SP5  |  6.939232 |\n",
       "| X6.FD.SP10_S6 | SP | 12020687 | 1 | X6.FD.SP10_S6       | SP | 10 | US |  3.2651994 | 6.793264 | FD.SP10 |  3.528065 |\n",
       "| SORTED_1.FD.BMV_S1 | BM |  8327259 | 1 | SORTED_1.FD.BMV_S1  | BM | V  | S  | -3.6137754 | 7.799891 | NA      | 11.413666 |\n",
       "| SORTED_2.FD.BM5_S2 | BM | 35061455 | 1 | SORTED_2.FD.BM5_S2  | BM | 5  | S  |  1.5159898 | 7.506437 | NA      |  5.990447 |\n",
       "| SORTED_3.FD.BM10_S3 | BM | 13904070 | 1 | SORTED_3.FD.BM10_S3 | BM | 10 | S  |  3.9701250 | 8.055521 | NA      |  4.085396 |\n",
       "| SORTED_4.FD.SPV_S4 | SP | 42448525 | 1 | SORTED_4.FD.SPV_S4  | SP | V  | S  |  0.1775431 | 8.039649 | NA      |  7.862106 |\n",
       "| SORTED_5.FD.SP5_S5 | SP | 35142795 | 1 | SORTED_5.FD.SP5_S5  | SP | 5  | S  |  0.5316180 | 7.470850 | NA      |  6.939232 |\n",
       "| SORTED_6.FD.SP10_S6 | SP | 12020687 | 1 | SORTED_6.FD.SP10_S6 | SP | 10 | S  |  3.2651994 | 6.793264 | NA      |  3.528065 |\n",
       "\n"
      ],
      "text/plain": [
       "                    group lib.size norm.factors Sample              Tissue Tx\n",
       "X1.FD.BMV_S1        BM     8327259 1            X1.FD.BMV_S1        BM     V \n",
       "X2.FD.BM5_S2        BM    35061455 1            X2.FD.BM5_S2        BM     5 \n",
       "X3.FD.BM10_S3       BM    13904070 1            X3.FD.BM10_S3       BM     10\n",
       "X4.FD.SPV_S4        SP    42448525 1            X4.FD.SPV_S4        SP     V \n",
       "X5.FD.SP5_S5        SP    35142795 1            X5.FD.SP5_S5        SP     5 \n",
       "X6.FD.SP10_S6       SP    12020687 1            X6.FD.SP10_S6       SP     10\n",
       "SORTED_1.FD.BMV_S1  BM     8327259 1            SORTED_1.FD.BMV_S1  BM     V \n",
       "SORTED_2.FD.BM5_S2  BM    35061455 1            SORTED_2.FD.BM5_S2  BM     5 \n",
       "SORTED_3.FD.BM10_S3 BM    13904070 1            SORTED_3.FD.BM10_S3 BM     10\n",
       "SORTED_4.FD.SPV_S4  SP    42448525 1            SORTED_4.FD.SPV_S4  SP     V \n",
       "SORTED_5.FD.SP5_S5  SP    35142795 1            SORTED_5.FD.SP5_S5  SP     5 \n",
       "SORTED_6.FD.SP10_S6 SP    12020687 1            SORTED_6.FD.SP10_S6 SP     10\n",
       "                    Sort MCL1-S     MCL1-L   Label   ratio    \n",
       "X1.FD.BMV_S1        US   -3.6137754 7.799891 FD.BMV  11.413666\n",
       "X2.FD.BM5_S2        US    1.5159898 7.506437 FD.BM5   5.990447\n",
       "X3.FD.BM10_S3       US    3.9701250 8.055521 FD.BM10  4.085396\n",
       "X4.FD.SPV_S4        US    0.1775431 8.039649 FD.SPV   7.862106\n",
       "X5.FD.SP5_S5        US    0.5316180 7.470850 FD.SP5   6.939232\n",
       "X6.FD.SP10_S6       US    3.2651994 6.793264 FD.SP10  3.528065\n",
       "SORTED_1.FD.BMV_S1  S    -3.6137754 7.799891 NA      11.413666\n",
       "SORTED_2.FD.BM5_S2  S     1.5159898 7.506437 NA       5.990447\n",
       "SORTED_3.FD.BM10_S3 S     3.9701250 8.055521 NA       4.085396\n",
       "SORTED_4.FD.SPV_S4  S     0.1775431 8.039649 NA       7.862106\n",
       "SORTED_5.FD.SP5_S5  S     0.5316180 7.470850 NA       6.939232\n",
       "SORTED_6.FD.SP10_S6 S     3.2651994 6.793264 NA       3.528065"
      ]
     },
     "metadata": {},
     "output_type": "display_data"
    }
   ],
   "source": [
    "MCL1.tx <- c(\"ENST00000307940\", \"ENST00000369026\")\n",
    "table(rownames(gIsoDgeList$counts) %in% MCL1.tx)\n",
    "MCL1.tx.exp.filt <- lcpm_iso[rownames(lcpm_iso) %in% MCL1.tx,]\n",
    "dim(MCL1.tx.exp.filt)\n",
    "MCL1.tx.exp.filt\n",
    "MCL1.tx.exp.df <- cbind.data.frame(gIsoDgeList$samples, as.data.frame(t(MCL1.tx.exp.filt)))\n",
    "MCL1.tx.exp.df$Label <- gsub(\"^X[1-6]\\\\.|_S[1-6]*\", \"\", MCL1.tx.exp.df$Sample)\n",
    "colnames(MCL1.tx.exp.df)[8:9] <- c(\"MCL1-S\", \"MCL1-L\")\n",
    "MCL1.tx.exp.df$ratio <- as.numeric(MCL1.tx.exp.df$\"MCL1-L\") - as.numeric(MCL1.tx.exp.df$\"MCL1-S\")\n",
    "MCL1.tx.exp.df$Label <- factor(as.character(MCL1.tx.exp.df$Label), \n",
    "                                 levels=c(\"FD.BMV\", \"FD.BM5\", \"FD.BM10\", \"FD.SPV\",  \"FD.SP5\",  \"FD.SP10\"))\n",
    "MCL1.tx.exp.df\n"
   ]
  },
  {
   "cell_type": "markdown",
   "metadata": {},
   "source": [
    "## Figure 5F - MCL1-L & MCL1-S Expression"
   ]
  },
  {
   "cell_type": "code",
   "execution_count": 10,
   "metadata": {},
   "outputs": [
    {
     "name": "stderr",
     "output_type": "stream",
     "text": [
      "\n",
      "Attaching package: ‘ggpubr’\n",
      "\n",
      "\n",
      "The following object is masked from ‘package:cowplot’:\n",
      "\n",
      "    get_legend\n",
      "\n",
      "\n"
     ]
    },
    {
     "data": {
      "image/png": "[encoded data removed]",
      "text/plain": [
       "plot without title"
      ]
     },
     "metadata": {
      "image/png": {
       "height": 420,
       "width": 420
      }
     },
     "output_type": "display_data"
    },
    {
     "data": {
      "image/png": "[encoded data removed]",
      "text/plain": [
       "plot without title"
      ]
     },
     "metadata": {
      "image/png": {
       "height": 420,
       "width": 420
      }
     },
     "output_type": "display_data"
    }
   ],
   "source": [
    "library(ggpubr)\n",
    "ggbarplot(MCL1.tx.exp.df[4:6,], x=\"Label\", y=\"MCL1-L\", ylab=\"LogCPM\", main=\"MCL1-L Expression\", fill=\"black\")\n",
    "ggbarplot(MCL1.tx.exp.df[4:6,], x=\"Label\", y=\"MCL1-S\", ylab=\"LogCPM\", main=\"MCL1-S Expression\", fill=\"black\")\n"
   ]
  },
  {
   "cell_type": "markdown",
   "metadata": {},
   "source": [
    "## Appendix: R Session Info"
   ]
  },
  {
   "cell_type": "code",
   "execution_count": 13,
   "metadata": {},
   "outputs": [
    {
     "data": {
      "text/plain": [
       "[1] \"2023-01-19 21:50:16 UTC\""
      ]
     },
     "metadata": {},
     "output_type": "display_data"
    },
    {
     "data": {
      "text/plain": [
       "R version 4.0.5 (2021-03-31)\n",
       "Platform: x86_64-conda-linux-gnu (64-bit)\n",
       "Running under: Ubuntu 20.04.2 LTS\n",
       "\n",
       "Matrix products: default\n",
       "BLAS/LAPACK: /home/ubuntu/anaconda3/lib/libmkl_rt.so.1\n",
       "\n",
       "locale:\n",
       " [1] LC_CTYPE=C.UTF-8       LC_NUMERIC=C           LC_TIME=C.UTF-8       \n",
       " [4] LC_COLLATE=C.UTF-8     LC_MONETARY=C.UTF-8    LC_MESSAGES=C.UTF-8   \n",
       " [7] LC_PAPER=C.UTF-8       LC_NAME=C              LC_ADDRESS=C          \n",
       "[10] LC_TELEPHONE=C         LC_MEASUREMENT=C.UTF-8 LC_IDENTIFICATION=C   \n",
       "\n",
       "attached base packages:\n",
       "[1] grid      stats     graphics  grDevices utils     datasets  methods  \n",
       "[8] base     \n",
       "\n",
       "other attached packages:\n",
       "[1] ggpubr_0.4.0  ggplot2_3.3.5 cowplot_1.1.1 IRdisplay_1.0 Glimma_2.0.0 \n",
       "[6] edgeR_3.32.1  limma_3.46.0 \n",
       "\n",
       "loaded via a namespace (and not attached):\n",
       "  [1] bitops_1.0-7                matrixStats_0.61.0         \n",
       "  [3] bit64_4.0.5                 RColorBrewer_1.1-2         \n",
       "  [5] progress_1.2.2              httr_1.4.2                 \n",
       "  [7] GenomeInfoDb_1.26.7         repr_1.1.3                 \n",
       "  [9] backports_1.4.1             tools_4.0.5                \n",
       " [11] utf8_1.2.2                  R6_2.5.1                   \n",
       " [13] colorspace_2.0-2            DBI_1.1.2                  \n",
       " [15] BiocGenerics_0.36.1         withr_2.4.3                \n",
       " [17] tidyselect_1.1.1            prettyunits_1.1.1          \n",
       " [19] DESeq2_1.30.1               bit_4.0.4                  \n",
       " [21] curl_4.3.2                  compiler_4.0.5             \n",
       " [23] graph_1.68.0                Biobase_2.50.0             \n",
       " [25] Cairo_1.5-14                xml2_1.3.3                 \n",
       " [27] DelayedArray_0.16.3         labeling_0.4.2             \n",
       " [29] rtracklayer_1.50.0          scales_1.1.1               \n",
       " [31] genefilter_1.72.1           RBGL_1.66.0                \n",
       " [33] askpass_1.1                 rappdirs_0.3.3             \n",
       " [35] pbdZMQ_0.3-6                stringr_1.4.0              \n",
       " [37] digest_0.6.29               Rsamtools_2.6.0            \n",
       " [39] XVector_0.30.0              base64enc_0.1-3            \n",
       " [41] pkgconfig_2.0.3             htmltools_0.5.2            \n",
       " [43] MatrixGenerics_1.2.1        dbplyr_2.1.1               \n",
       " [45] fastmap_1.1.0               htmlwidgets_1.5.4          \n",
       " [47] rlang_0.4.12                RSQLite_2.2.9              \n",
       " [49] farver_2.1.0                generics_0.1.1             \n",
       " [51] jsonlite_1.7.2              BiocParallel_1.24.1        \n",
       " [53] car_3.0-12                  dplyr_1.0.7                \n",
       " [55] RCurl_1.98-1.5              magrittr_2.0.1             \n",
       " [57] GenomeInfoDbData_1.2.4      Matrix_1.4-0               \n",
       " [59] Rcpp_1.0.7                  IRkernel_1.3.1             \n",
       " [61] munsell_0.5.0               S4Vectors_0.28.1           \n",
       " [63] fansi_0.5.0                 abind_1.4-5                \n",
       " [65] lifecycle_1.0.1             stringi_1.7.3              \n",
       " [67] carData_3.0-4               SummarizedExperiment_1.20.0\n",
       " [69] zlibbioc_1.36.0             BiocFileCache_1.14.0       \n",
       " [71] blob_1.2.2                  parallel_4.0.5             \n",
       " [73] crayon_1.4.2                lattice_0.20-45            \n",
       " [75] Biostrings_2.58.0           splines_4.0.5              \n",
       " [77] GenomicFeatures_1.42.3      annotate_1.68.0            \n",
       " [79] hms_1.1.1                   locfit_1.5-9.4             \n",
       " [81] pillar_1.6.4                GenomicRanges_1.42.0       \n",
       " [83] uuid_1.0-3                  ggsignif_0.6.3             \n",
       " [85] geneplotter_1.68.0          biomaRt_2.46.3             \n",
       " [87] stats4_4.0.5                XML_3.99-0.8               \n",
       " [89] glue_1.6.0                  evaluate_0.14              \n",
       " [91] BiocManager_1.30.16         vctrs_0.3.8                \n",
       " [93] tidyr_1.1.4                 gtable_0.3.0               \n",
       " [95] openssl_1.4.6               purrr_0.3.4                \n",
       " [97] assertthat_0.2.1            cachem_1.0.6               \n",
       " [99] broom_0.7.10                xtable_1.8-4               \n",
       "[101] rstatix_0.7.0               survival_3.2-13            \n",
       "[103] tibble_3.1.6                OrganismDbi_1.32.0         \n",
       "[105] GenomicAlignments_1.26.0    AnnotationDbi_1.52.0       \n",
       "[107] memoise_2.0.1               IRanges_2.24.1             \n",
       "[109] ellipsis_0.3.2             "
      ]
     },
     "metadata": {},
     "output_type": "display_data"
    }
   ],
   "source": [
    "Sys.time()\n",
    "sessionInfo()"
   ]
  },
  {
   "cell_type": "markdown",
   "metadata": {},
   "source": [
    "[Table of Contents](#Table-of-Contents)\n",
    "\n",
    "Copyright (c) 2018 UC San Diego Center for Computational Biology & Bioinformatics under the MIT License\n",
    "\n",
    "Notebook template by Amanda Birmingham"
   ]
  }
 ],
 "metadata": {
  "anaconda-cloud": {},
  "kernelspec": {
   "display_name": "R",
   "language": "R",
   "name": "ir"
  },
  "language_info": {
   "codemirror_mode": "r",
   "file_extension": ".r",
   "mimetype": "text/x-r-source",
   "name": "R",
   "pygments_lexer": "r",
   "version": "4.0.5"
  },
  "toc": {
   "base_numbering": 1,
   "nav_menu": {},
   "number_sections": true,
   "sideBar": true,
   "skip_h1_title": false,
   "title_cell": "Table of Contents",
   "title_sidebar": "Contents",
   "toc_cell": false,
   "toc_position": {},
   "toc_section_display": true,
   "toc_window_display": false
  }
 },
 "nbformat": 4,
 "nbformat_minor": 1
}
