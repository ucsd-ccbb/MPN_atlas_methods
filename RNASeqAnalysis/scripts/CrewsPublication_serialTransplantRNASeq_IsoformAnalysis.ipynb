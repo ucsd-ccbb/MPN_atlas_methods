{
 "cells": [
  {
   "cell_type": "markdown",
   "metadata": {},
   "source": [
    "# Ma/Jamieson Treated Mouse Samples RNA-Seq Analysis\n",
    "</div>"
   ]
  },
  {
   "cell_type": "markdown",
   "metadata": {},
   "source": [
    "\n",
    "## Parameter Input"
   ]
  },
  {
   "cell_type": "code",
   "execution_count": 1,
   "metadata": {},
   "outputs": [],
   "source": [
    "gPreviousStepRdataFp = \"../interim/crews_serialtransplant_rnaseq_20220428_data.RData\""
   ]
  },
  {
   "cell_type": "code",
   "execution_count": 2,
   "metadata": {},
   "outputs": [],
   "source": [
    "gSourceDir = \"./src/\"\n",
    "# Import shared source code to load and save previous notebooks' environments:\n",
    "source(paste0(gSourceDir, \"ChainedNotebookSupport.R\"))\n",
    "# Import the previous step's state:\n",
    "gPreviousStepEnv = loadToEnvironment(gPreviousStepRdataFp)"
   ]
  },
  {
   "cell_type": "code",
   "execution_count": 3,
   "metadata": {},
   "outputs": [],
   "source": [
    "# Load relevant variables:\n",
    "gDgeList = gPreviousStepEnv$gDgeList\n",
    "gIsoDgeList = gPreviousStepEnv$gIsoDgeList\n",
    "gGeneType = gPreviousStepEnv$gGeneType\n",
    "gGeneIdCol = gPreviousStepEnv$gGeneIdCol\n",
    "gIsoIdCol = gPreviousStepEnv$gIsoIdCol"
   ]
  },
  {
   "cell_type": "markdown",
   "metadata": {},
   "source": [
    "[Table of Contents](#Table-of-Contents)\n",
    "\n",
    "## Library Import\n",
    "\n",
    "Import the necessary R, Bioconductor, and CCBB libraries for the analysis:"
   ]
  },
  {
   "cell_type": "code",
   "execution_count": 4,
   "metadata": {},
   "outputs": [
    {
     "name": "stderr",
     "output_type": "stream",
     "text": [
      "Loading required package: ggplot2\n",
      "\n"
     ]
    }
   ],
   "source": [
    "library(limma)\n",
    "library(edgeR)\n",
    "library(Glimma)\n",
    "library(ggpubr)"
   ]
  },
  {
   "cell_type": "code",
   "execution_count": 5,
   "metadata": {},
   "outputs": [
    {
     "name": "stderr",
     "output_type": "stream",
     "text": [
      "Warning message:\n",
      "“package ‘IRdisplay’ was built under R version 4.1.0”\n"
     ]
    }
   ],
   "source": [
    "library(IRdisplay)"
   ]
  },
  {
   "cell_type": "code",
   "execution_count": 6,
   "metadata": {},
   "outputs": [
    {
     "name": "stderr",
     "output_type": "stream",
     "text": [
      "\n",
      "Attaching package: ‘cowplot’\n",
      "\n",
      "\n",
      "The following object is masked from ‘package:ggpubr’:\n",
      "\n",
      "    get_legend\n",
      "\n",
      "\n"
     ]
    }
   ],
   "source": [
    "source(paste0(gSourceDir, \"PcaPlotter.R\"))\n",
    "source(paste0(gSourceDir, \"CountsPcaPlotter.R\"))"
   ]
  },
  {
   "cell_type": "code",
   "execution_count": 7,
   "metadata": {},
   "outputs": [],
   "source": [
    "# This line prevents SVG output, which interacts badly with export to HTML\n",
    "options(jupyter.plot_mimetypes = c(\"text/plain\", \"image/png\" ))\n",
    "options(browser = 'firefox')"
   ]
  },
  {
   "cell_type": "markdown",
   "metadata": {},
   "source": [
    "[Table of Contents](#Table-of-Contents)\n",
    "\n",
    "## Data Exploration\n",
    "\n",
    "### Library Size Visualization\n",
    "\n",
    "Examine the characteristics of the raw reads for protein coding genes:"
   ]
  },
  {
   "cell_type": "markdown",
   "metadata": {},
   "source": [
    "### Removal of Low-Alignment Samples"
   ]
  },
  {
   "cell_type": "code",
   "execution_count": 8,
   "metadata": {},
   "outputs": [
    {
     "data": {
      "text/html": [
       "13"
      ],
      "text/latex": [
       "13"
      ],
      "text/markdown": [
       "13"
      ],
      "text/plain": [
       "[1] 13"
      ]
     },
     "metadata": {},
     "output_type": "display_data"
    },
    {
     "data": {
      "text/html": [
       "11"
      ],
      "text/latex": [
       "11"
      ],
      "text/markdown": [
       "11"
      ],
      "text/plain": [
       "[1] 11"
      ]
     },
     "metadata": {},
     "output_type": "display_data"
    }
   ],
   "source": [
    "gSamplesToKeepMask = gDgeList$samples$lib.size > 10000000 # 10 million aligned reads\n",
    "length(gDgeList$samples$lib.size)\n",
    "sum(gSamplesToKeepMask==TRUE)"
   ]
  },
  {
   "cell_type": "code",
   "execution_count": 9,
   "metadata": {},
   "outputs": [
    {
     "data": {
      "text/html": [
       "<style>\n",
       ".list-inline {list-style: none; margin:0; padding: 0}\n",
       ".list-inline>li {display: inline-block}\n",
       ".list-inline>li:not(:last-child)::after {content: \"\\00b7\"; padding: 0 .5ex}\n",
       "</style>\n",
       "<ol class=list-inline><li>19937</li><li>11</li></ol>\n"
      ],
      "text/latex": [
       "\\begin{enumerate*}\n",
       "\\item 19937\n",
       "\\item 11\n",
       "\\end{enumerate*}\n"
      ],
      "text/markdown": [
       "1. 19937\n",
       "2. 11\n",
       "\n",
       "\n"
      ],
      "text/plain": [
       "[1] 19937    11"
      ]
     },
     "metadata": {},
     "output_type": "display_data"
    },
    {
     "data": {
      "text/html": [
       "<style>\n",
       ".list-inline {list-style: none; margin:0; padding: 0}\n",
       ".list-inline>li {display: inline-block}\n",
       ".list-inline>li:not(:last-child)::after {content: \"\\00b7\"; padding: 0 .5ex}\n",
       "</style>\n",
       "<ol class=list-inline><li>161790</li><li>11</li></ol>\n"
      ],
      "text/latex": [
       "\\begin{enumerate*}\n",
       "\\item 161790\n",
       "\\item 11\n",
       "\\end{enumerate*}\n"
      ],
      "text/markdown": [
       "1. 161790\n",
       "2. 11\n",
       "\n",
       "\n"
      ],
      "text/plain": [
       "[1] 161790     11"
      ]
     },
     "metadata": {},
     "output_type": "display_data"
    }
   ],
   "source": [
    "gSampleFilteredDgeList = gDgeList[,gSamplesToKeepMask]\n",
    "dim(gSampleFilteredDgeList)\n",
    "gSampleFilteredIsoDgeList = gIsoDgeList[,gSamplesToKeepMask]\n",
    "dim(gSampleFilteredIsoDgeList)"
   ]
  },
  {
   "cell_type": "markdown",
   "metadata": {},
   "source": [
    "[Table of Contents](#Table-of-Contents)\n",
    "\n",
    "## Pre-Processing"
   ]
  },
  {
   "cell_type": "markdown",
   "metadata": {},
   "source": [
    "### Scale Transformation and Lowly-Expressed Genes Filtration\n",
    "\n",
    "> For differential expression and related analyses, gene expression is rarely considered at the level of raw counts since libraries sequenced at a greater depth will result in higher counts. Rather, it is common practice to transform raw counts onto a scale that accounts for such library size differences. Popular transformations include counts per million (CPM), log2-counts per million (log-CPM), reads per kilobase of transcript per million (RPKM), and fragments per kilobase of transcript per million (FPKM).\n",
    ">\n",
    "> In our analyses, CPM and log-CPM transformations are used regularly although they do not account for feature length differences which RPKM and FPKM values do. Whilst RPKM and FPKM values can just as well be used, CPM and log-CPM values can be calculated using a counts matrix alone and will suffice for the type of comparisons we are interested in. Assuming that there are no differences in isoform usage between conditions, differential expression analyses look at gene expression changes between conditions rather than comparing expression across multiple genes or drawing conclusions on absolute levels of expression. In other words, gene lengths remain constant for comparisons of interest and any observed differences are a result of changes in condition rather than changes in gene length.\n",
    ">\n",
    "> Here raw counts are converted to CPM and log-CPM values using the cpm function in edgeR, where log-transformations use a prior count of 0.25 to avoid taking the log of zero. RPKM values are just as easily calculated as CPM values using the rpkm function in edgeR if gene lengths are available. ([1](#Citations))\n",
    "\n",
    "Also, regarding lowly expressed genes:\n",
    "\n",
    "> All datasets will include a mix of genes that are expressed and those that are not expressed. Whilst it is of interest to examine genes that are expressed in one condition but not in another, some genes are unexpressed throughout all samples....\n",
    ">\n",
    "> Genes that are not expressed at a biologically meaningful level in any condition should be discarded to reduce the subset of genes to those that are of interest, and to reduce the number of tests carried out downstream when looking at differential expression. Upon examination of log-CPM values, it can be seen that a large proportion of genes within each sample is unexpressed or lowly-expressed .... Using a nominal CPM value of 1 (which is equivalent to a log-CPM value of 0) genes are deemed to be expressed if their expression is above this threshold, and unexpressed otherwise. Genes must be expressed in at least one group (or in at least [a minimum number of] samples across the entire experiment) to be kept for downstream analysis.\n",
    ">\n",
    "> Although any sensible value can be used as the expression cutoff, typically a CPM value of 1 is used in our analyses as it separates expressed genes from unexpressed genes well for most datasets. ... If sequence reads are summarised by exons rather than genes and/or experiments have low sequencing depth, a lower CPM cutoff may be considered. ([1](#Citations))"
   ]
  },
  {
   "cell_type": "markdown",
   "metadata": {},
   "source": [
    "A filtration threshold of 1 CPM (counts per million) means a gene is considered expressed if it has more than the below number of counts in the sample with the lowest sequencing depth:"
   ]
  },
  {
   "cell_type": "code",
   "execution_count": 10,
   "metadata": {},
   "outputs": [],
   "source": [
    "# NB: this must be re-selected each time a new analysis is run\n",
    "# to ensure these values are appropriate to the data\n",
    "gMinExclusiveCpms = 1\n",
    "gMinInclusiveNumSamples = 3 "
   ]
  },
  {
   "cell_type": "code",
   "execution_count": 11,
   "metadata": {},
   "outputs": [],
   "source": [
    "filterDgeListByCpmThresholdForNumSamples = function(aDgeList, minExclusiveCpms, minInclusiveNumSamples){\n",
    "    cpmsMatrix = cpm(aDgeList)\n",
    "    keepMask = rowSums(cpmsMatrix>minExclusiveCpms)>=minInclusiveNumSamples\n",
    "    filteredDgeList = aDgeList[keepMask,, keep.lib.sizes=FALSE]\n",
    "    return(filteredDgeList)\n",
    "}\n"
   ]
  },
  {
   "cell_type": "code",
   "execution_count": 12,
   "metadata": {},
   "outputs": [],
   "source": [
    "gFilteredIsoDgeList = filterDgeListByCpmThresholdForNumSamples(gSampleFilteredIsoDgeList, gMinExclusiveCpms, gMinInclusiveNumSamples)"
   ]
  },
  {
   "cell_type": "code",
   "execution_count": 13,
   "metadata": {},
   "outputs": [],
   "source": [
    "lcpm2_iso <- cpm(gFilteredIsoDgeList, log=TRUE)"
   ]
  },
  {
   "cell_type": "code",
   "execution_count": 14,
   "metadata": {},
   "outputs": [],
   "source": [
    "library(ggpubr)\n",
    "library(reshape2)"
   ]
  },
  {
   "cell_type": "code",
   "execution_count": 15,
   "metadata": {
    "scrolled": false
   },
   "outputs": [
    {
     "data": {
      "image/png": "[encoded data removed]",
      "text/plain": [
       "plot without title"
      ]
     },
     "metadata": {
      "image/png": {
       "height": 480,
       "width": 300
      }
     },
     "output_type": "display_data"
    },
    {
     "data": {
      "image/png": "[encoded data removed]",
      "text/plain": [
       "plot without title"
      ]
     },
     "metadata": {
      "image/png": {
       "height": 480,
       "width": 300
      }
     },
     "output_type": "display_data"
    }
   ],
   "source": [
    "ADAR.ratio.tx.exp <- c(\"ENST00000368471\", \"ENST00000368474\", \"ENST00000529168\", \"ENST00000368474_2\")\n",
    "ADAR.ratio.tx.exp.lcpm <- lcpm2_iso[rownames(lcpm2_iso) %in% ADAR.ratio.tx.exp,]\n",
    "ADAR.ratio.tx.exp.df <- cbind.data.frame(gIsoDgeList$samples[rownames(gIsoDgeList$samples) %in% colnames(ADAR.ratio.tx.exp.lcpm),], \n",
    "                                   as.data.frame(t(ADAR.ratio.tx.exp.lcpm)))\n",
    "colnames(ADAR.ratio.tx.exp.df)[8:11] <- c(\"ADAR_201\", \"ADAR_202\", \"ADAR_208\", \"ADARp150_2\")\n",
    "ADAR.ratio.tx.exp.df$ADARp150_comb <- apply(ADAR.ratio.tx.exp.df, 1, function(x) mean\n",
    "                                            (as.numeric(x[9:10])))\n",
    "ADAR.ratio.tx.exp.df$Ratio <- ADAR.ratio.tx.exp.df$ADAR_202 - ADAR.ratio.tx.exp.df$ADAR_201\n",
    "ADAR.ratio.tx.exp.df$Ratio2 <- ADAR.ratio.tx.exp.df$ADAR_208 - ADAR.ratio.tx.exp.df$ADAR_201\n",
    "ADAR.ratio.tx.exp.df$Ratio3 <- ADAR.ratio.tx.exp.df$ADARp150_comb - ADAR.ratio.tx.exp.df$ADAR_201\n",
    "ADAR.ratio.tx.exp.df$Ratio4 <- ADAR.ratio.tx.exp.df$ADARp150_2 - ADAR.ratio.tx.exp.df$ADAR_201\n",
    "ADAR.ratio.tx.exp.df <- subset(ADAR.ratio.tx.exp.df, group == \"V\" | group == \"S\")\n",
    "ADAR.ratio.tx.exp.df$Tx <- factor(ADAR.ratio.tx.exp.df$Tx, levels=c(\"V\", \"S\", \"C\"))\n",
    "ADAR.ratio.tx.exp.df$Treatment <- \"Vehicle\"\n",
    "ADAR.ratio.tx.exp.df$Treatment[which(ADAR.ratio.tx.exp.df$Tx %in% \"S\")] <- \"Rebecsinib\"\n",
    "ADAR.ratio.tx.exp.df$Treatment <- factor(ADAR.ratio.tx.exp.df$Treatment, levels=c(\"Vehicle\", \"Rebecsinib\"))                                 \n",
    "\n",
    "options(repr.plot.width=5, repr.plot.height=8)\n",
    "ggboxplot(subset(ADAR.ratio.tx.exp.df, Tx != \"F\"), x=\"Treatment\", y=\"Ratio2\", ylab=\"LogCPM\", fill=\"Gray\",\n",
    "          xlab=\"\", main=\"ADAR-208/ADAR-201 ratio\",) + theme_bw(base_size=16) + \n",
    "          stat_compare_means(ref.group = \"Vehicle\",method = \"t.test\", label=\"p.format\")\n",
    "\n",
    "options(repr.plot.width=5, repr.plot.height=8)\n",
    "ggboxplot(subset(ADAR.ratio.tx.exp.df, Tx != \"F\"), x=\"Treatment\", y=\"Ratio4\", ylab=\"LogCPM\", fill=\"Gray\",\n",
    "          xlab=\"\", main=\"ADAR-202/ADAR-201 ratio\",) + theme_bw(base_size=16) + \n",
    "          stat_compare_means(ref.group = \"Vehicle\",method = \"t.test\", label=\"p.signif\")\n"
   ]
  },
  {
   "cell_type": "markdown",
   "metadata": {},
   "source": [
    "## Appendix: R Session Info"
   ]
  },
  {
   "cell_type": "code",
   "execution_count": 16,
   "metadata": {},
   "outputs": [
    {
     "data": {
      "text/plain": [
       "[1] \"2023-01-19 22:19:30 UTC\""
      ]
     },
     "metadata": {},
     "output_type": "display_data"
    },
    {
     "data": {
      "text/plain": [
       "R version 4.0.5 (2021-03-31)\n",
       "Platform: x86_64-conda-linux-gnu (64-bit)\n",
       "Running under: Ubuntu 20.04.2 LTS\n",
       "\n",
       "Matrix products: default\n",
       "BLAS/LAPACK: /home/ubuntu/anaconda3/lib/libmkl_rt.so.1\n",
       "\n",
       "locale:\n",
       " [1] LC_CTYPE=C.UTF-8       LC_NUMERIC=C           LC_TIME=C.UTF-8       \n",
       " [4] LC_COLLATE=C.UTF-8     LC_MONETARY=C.UTF-8    LC_MESSAGES=C.UTF-8   \n",
       " [7] LC_PAPER=C.UTF-8       LC_NAME=C              LC_ADDRESS=C          \n",
       "[10] LC_TELEPHONE=C         LC_MEASUREMENT=C.UTF-8 LC_IDENTIFICATION=C   \n",
       "\n",
       "attached base packages:\n",
       "[1] grid      stats     graphics  grDevices utils     datasets  methods  \n",
       "[8] base     \n",
       "\n",
       "other attached packages:\n",
       "[1] reshape2_1.4.4 cowplot_1.1.1  IRdisplay_1.0  ggpubr_0.4.0   ggplot2_3.3.5 \n",
       "[6] Glimma_2.0.0   edgeR_3.32.1   limma_3.46.0  \n",
       "\n",
       "loaded via a namespace (and not attached):\n",
       " [1] bitops_1.0-7                matrixStats_0.61.0         \n",
       " [3] bit64_4.0.5                 RColorBrewer_1.1-2         \n",
       " [5] httr_1.4.2                  GenomeInfoDb_1.26.7        \n",
       " [7] repr_1.1.3                  tools_4.0.5                \n",
       " [9] backports_1.4.1             utf8_1.2.2                 \n",
       "[11] R6_2.5.1                    DBI_1.1.2                  \n",
       "[13] BiocGenerics_0.36.1         colorspace_2.0-2           \n",
       "[15] withr_2.4.3                 tidyselect_1.1.1           \n",
       "[17] DESeq2_1.30.1               bit_4.0.4                  \n",
       "[19] compiler_4.0.5              Biobase_2.50.0             \n",
       "[21] Cairo_1.5-14                DelayedArray_0.16.3        \n",
       "[23] labeling_0.4.2              scales_1.1.1               \n",
       "[25] genefilter_1.72.1           pbdZMQ_0.3-6               \n",
       "[27] stringr_1.4.0               digest_0.6.29              \n",
       "[29] XVector_0.30.0              base64enc_0.1-3            \n",
       "[31] pkgconfig_2.0.3             htmltools_0.5.2            \n",
       "[33] MatrixGenerics_1.2.1        fastmap_1.1.0              \n",
       "[35] htmlwidgets_1.5.4           rlang_0.4.12               \n",
       "[37] RSQLite_2.2.9               generics_0.1.1             \n",
       "[39] farver_2.1.0                jsonlite_1.7.2             \n",
       "[41] BiocParallel_1.24.1         dplyr_1.0.7                \n",
       "[43] car_3.0-12                  RCurl_1.98-1.5             \n",
       "[45] magrittr_2.0.1              GenomeInfoDbData_1.2.4     \n",
       "[47] Matrix_1.4-0                Rcpp_1.0.7                 \n",
       "[49] IRkernel_1.3.1              munsell_0.5.0              \n",
       "[51] S4Vectors_0.28.1            fansi_0.5.0                \n",
       "[53] abind_1.4-5                 lifecycle_1.0.1            \n",
       "[55] stringi_1.7.3               carData_3.0-4              \n",
       "[57] SummarizedExperiment_1.20.0 zlibbioc_1.36.0            \n",
       "[59] plyr_1.8.6                  blob_1.2.2                 \n",
       "[61] parallel_4.0.5              crayon_1.4.2               \n",
       "[63] lattice_0.20-45             splines_4.0.5              \n",
       "[65] annotate_1.68.0             locfit_1.5-9.4             \n",
       "[67] pillar_1.6.4                GenomicRanges_1.42.0       \n",
       "[69] uuid_1.0-3                  ggsignif_0.6.3             \n",
       "[71] geneplotter_1.68.0          stats4_4.0.5               \n",
       "[73] XML_3.99-0.8                glue_1.6.0                 \n",
       "[75] evaluate_0.14               vctrs_0.3.8                \n",
       "[77] gtable_0.3.0                purrr_0.3.4                \n",
       "[79] tidyr_1.1.4                 assertthat_0.2.1           \n",
       "[81] cachem_1.0.6                xtable_1.8-4               \n",
       "[83] broom_0.7.10                rstatix_0.7.0              \n",
       "[85] survival_3.2-13             tibble_3.1.6               \n",
       "[87] AnnotationDbi_1.52.0        memoise_2.0.1              \n",
       "[89] IRanges_2.24.1              ellipsis_0.3.2             "
      ]
     },
     "metadata": {},
     "output_type": "display_data"
    }
   ],
   "source": [
    "Sys.time()\n",
    "sessionInfo()"
   ]
  },
  {
   "cell_type": "markdown",
   "metadata": {},
   "source": [
    "[Table of Contents](#Table-of-Contents)\n",
    "\n",
    "Copyright (c) 2018 UC San Diego Center for Computational Biology & Bioinformatics under the MIT License\n",
    "\n",
    "Notebook template by Amanda Birmingham"
   ]
  }
 ],
 "metadata": {
  "anaconda-cloud": {},
  "kernelspec": {
   "display_name": "R",
   "language": "R",
   "name": "ir"
  },
  "language_info": {
   "codemirror_mode": "r",
   "file_extension": ".r",
   "mimetype": "text/x-r-source",
   "name": "R",
   "pygments_lexer": "r",
   "version": "4.0.5"
  },
  "toc": {
   "base_numbering": 1,
   "nav_menu": {},
   "number_sections": true,
   "sideBar": true,
   "skip_h1_title": false,
   "title_cell": "Table of Contents",
   "title_sidebar": "Contents",
   "toc_cell": false,
   "toc_position": {},
   "toc_section_display": true,
   "toc_window_display": false
  }
 },
 "nbformat": 4,
 "nbformat_minor": 1
}
