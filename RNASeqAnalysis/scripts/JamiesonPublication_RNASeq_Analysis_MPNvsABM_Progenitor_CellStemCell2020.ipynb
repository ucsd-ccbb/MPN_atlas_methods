{
 "cells": [
  {
   "cell_type": "markdown",
   "metadata": {},
   "source": [
    "## Jiang, et al - Gene Analysis of Progenitor Cell RNASeq Data\n",
    "### Normal Control (Aged and Young) vs. Myeloproliferative Neoplasms (MPN) \n",
    "\n",
    "* Aged bone marrow: 'X368_ACAGTG_S0', 'X380_ACAGTG_S0', 'X401_ACAGTG_S0', 'X402_ACAGTG_S0', 'X410_ACAGTG_S0', 'X415_ACAGTG_S0', 'X416_ACAGTG_S0', 'X426_ACAGTG_S0' \n",
    "* Young bone marrow: 'X4279.BM.Prog', 'X4259.BM.Prog', 'X4215.BM.Prog', 'X4188.BM.Prog', 'X4066.BM.Prog', 'X4018.BM.Prog', 'X4040.BM.Prog', 'X4218.BM.Prog'\n",
    "* PV: 'X598.PB.Prog_S0', 'X575A.PB.Prog_S0', 'X562.PB.Prog_S0', 'X662.BM.Prog_S4', 'X690.BM.Prog_S5', 'X689.BM.Prog_S11'\n",
    "* Essential Thrombocythemia (ET): 'X431.PB.Prog', 'X638.BM.Prog' \n",
    "* Myelofibrosis (MF): 'X724.PB.Prog_S3', 'X668.PB.Prog_S2', 'X736.BM.Prog_S0', 'X600.PB.Prog', 'X732.PB.Prog', 'X580.BM.Prog', 'X664.BM.Prog', 'X428.PB.Prog', 'X725.PB.Prog', 'X566.PB.Prog', 'X600.BM.Prog', 'X407.PB.Prog', 'X569.PB.Prog', 'X581.PB.Prog', 'X599.PB.Prog', 'X621.PB.Prog', 'X767.BM.Prog', 'X744.PB.Prog', 'X560.PB.Prog', 'X576.PB.Prog', 'X573.BM.Prog', 'X670A.PB.Prog', 'X670B.PB.Prog', 'X666.PB.Prog'\n",
    "* Chronic Myeloid Leukemia (CML): 'X608.BM.Prog', 'X616.BM.Prog', 'X571.BM.Prog', 'X727.PB.Prog', 'X703.PB.Prog'\n",
    "* Secondary Acute Myeloid Leukemia (sAML): '591.PB.Prog', '672A.PB.Prog', '672B.PB.Prog', '735.PB.Prog',  '48_MDStoAML', '36', '42', '87', '89', '102', '107'\n",
    "* de novo Acute Myeloid Leukemia (dnAML): '19_MDStoAML', '20_MDStoAML'"
   ]
  },
  {
   "cell_type": "markdown",
   "metadata": {},
   "source": [
    "RNAseq Differential Expression Analysis, QC, functional enrichment analysis\n",
    "Authors: Art Nasamran, M.S. Cnasamran@ucsd.edu and Kathleen Fisch, Ph.D. Kfisch@ucsd.edu\n",
    "February 2018\n",
    "The analysis notebook below that is adapted from the Bioconductor RNASeq123 workflow. It has been edited by Kathleen Fisch (CCBB). https://www.bioconductor.org/help/workflows/RNAseq123/\n",
    "\n",
    "Primary Analysis Pipeline\n",
    "QC - FASTQC Alignment -- STARv2.5.3a Quantification -- RSEM-1.3.0 Human genome -- hg19 Annotation -- Gencode v19"
   ]
  },
  {
   "cell_type": "code",
   "execution_count": 11,
   "metadata": {},
   "outputs": [
    {
     "name": "stderr",
     "output_type": "stream",
     "text": [
      "Installing package into ‘/home/tomw/R/x86_64-pc-linux-gnu-library/3.4’\n",
      "(as ‘lib’ is unspecified)\n"
     ]
    }
   ],
   "source": [
    "#install.packages(\"R.utils\", destdir=\"/mnt/data1/tomw/R/R-3.4.3/\")\n",
    "#install.packages(\"gplots\", destdir=\"/mnt/data1/tomw/R/R-3.4.3/\")\n",
    "\n",
    "#source(\"http://bioconductor.org/biocLite.R\")\n",
    "#biocLite(\"BiocUpgrade\")\n",
    "#update.packages(instlib=\"/mnt/data1/tomw/R/R-3.4.3/\")\n",
    "#biocLite(\"pathview\", instlib=\"/mnt/data1/tomw/R/R-3.4.3/\")\n",
    "#biocLite(\"limma\", instlib=\"/mnt/data1/tomw/R/R-3.4.3/\")\n",
    "#biocLite(\"edgeR\", instlib=\"/mnt/data1/tomw/R/R-3.4.3/\")\n",
    "#biocLite(\"Glimma\", instlib=\"/mnt/data1/tomw/R/R-3.4.3/\")\n",
    "#biocLite(\"Mus.musculus\")\n",
    "#biocLite(\"Homo.sapiens\", instlib=\"/mnt/data1/tomw/R/R-3.4.3/\",)\n",
    "#install.packages(\"splitstackshape\", destdir=\"/mnt/data1/tomw/R/R-3.4.3/\")\n",
    "#install.packages(\"PoiClaClu\", destdir=\"/mnt/data1/tomw/R/R-3.4.3/\")\n",
    "#install.packages(\"statmod\", destdir=\"/mnt/data1/tomw/R/R-3.4.3/\")\n",
    "#install.packages(\"plyr\", destdir=\"/mnt/data1/tomw/R/R-3.4.3/\")\n",
    "install.packages(\"dplyr\", destdir=\"/mnt/data1/tomw/R/R-3.4.3/\")\n",
    "#install.packages(\"gdata\", destdir=\"/mnt/data1/tomw/R/R-3.4.3/\")"
   ]
  },
  {
   "cell_type": "code",
   "execution_count": 1,
   "metadata": {},
   "outputs": [
    {
     "name": "stderr",
     "output_type": "stream",
     "text": [
      "Warning message:\n",
      "“package ‘IRdisplay’ was built under R version 3.4.4”Loading required package: AnnotationDbi\n",
      "Loading required package: stats4\n",
      "Loading required package: BiocGenerics\n",
      "Loading required package: parallel\n",
      "\n",
      "Attaching package: ‘BiocGenerics’\n",
      "\n",
      "The following objects are masked from ‘package:parallel’:\n",
      "\n",
      "    clusterApply, clusterApplyLB, clusterCall, clusterEvalQ,\n",
      "    clusterExport, clusterMap, parApply, parCapply, parLapply,\n",
      "    parLapplyLB, parRapply, parSapply, parSapplyLB\n",
      "\n",
      "The following object is masked from ‘package:limma’:\n",
      "\n",
      "    plotMA\n",
      "\n",
      "The following objects are masked from ‘package:stats’:\n",
      "\n",
      "    IQR, mad, sd, var, xtabs\n",
      "\n",
      "The following objects are masked from ‘package:base’:\n",
      "\n",
      "    anyDuplicated, append, as.data.frame, cbind, colMeans, colnames,\n",
      "    colSums, do.call, duplicated, eval, evalq, Filter, Find, get, grep,\n",
      "    grepl, intersect, is.unsorted, lapply, lengths, Map, mapply, match,\n",
      "    mget, order, paste, pmax, pmax.int, pmin, pmin.int, Position, rank,\n",
      "    rbind, Reduce, rowMeans, rownames, rowSums, sapply, setdiff, sort,\n",
      "    table, tapply, union, unique, unsplit, which, which.max, which.min\n",
      "\n",
      "Loading required package: Biobase\n",
      "Welcome to Bioconductor\n",
      "\n",
      "    Vignettes contain introductory material; view with\n",
      "    'browseVignettes()'. To cite Bioconductor, see\n",
      "    'citation(\"Biobase\")', and for packages 'citation(\"pkgname\")'.\n",
      "\n",
      "Loading required package: IRanges\n",
      "Loading required package: S4Vectors\n",
      "\n",
      "Attaching package: ‘S4Vectors’\n",
      "\n",
      "The following object is masked from ‘package:base’:\n",
      "\n",
      "    expand.grid\n",
      "\n",
      "Loading required package: OrganismDbi\n",
      "Loading required package: GenomicFeatures\n",
      "Loading required package: GenomeInfoDb\n",
      "Loading required package: GenomicRanges\n",
      "Loading required package: GO.db\n",
      "\n",
      "Loading required package: org.Hs.eg.db\n",
      "\n",
      "Loading required package: TxDb.Hsapiens.UCSC.hg19.knownGene\n",
      "Loading required package: data.table\n",
      "\n",
      "Attaching package: ‘data.table’\n",
      "\n",
      "The following object is masked from ‘package:GenomicRanges’:\n",
      "\n",
      "    shift\n",
      "\n",
      "The following object is masked from ‘package:IRanges’:\n",
      "\n",
      "    shift\n",
      "\n",
      "The following objects are masked from ‘package:S4Vectors’:\n",
      "\n",
      "    first, second\n",
      "\n",
      "\n",
      "Attaching package: ‘plyr’\n",
      "\n",
      "The following object is masked from ‘package:IRanges’:\n",
      "\n",
      "    desc\n",
      "\n",
      "The following object is masked from ‘package:S4Vectors’:\n",
      "\n",
      "    rename\n",
      "\n",
      "\n",
      "Attaching package: ‘dplyr’\n",
      "\n",
      "The following objects are masked from ‘package:plyr’:\n",
      "\n",
      "    arrange, count, desc, failwith, id, mutate, rename, summarise,\n",
      "    summarize\n",
      "\n",
      "The following objects are masked from ‘package:data.table’:\n",
      "\n",
      "    between, first, last\n",
      "\n",
      "The following object is masked from ‘package:OrganismDbi’:\n",
      "\n",
      "    select\n",
      "\n",
      "The following objects are masked from ‘package:GenomicRanges’:\n",
      "\n",
      "    intersect, setdiff, union\n",
      "\n",
      "The following object is masked from ‘package:GenomeInfoDb’:\n",
      "\n",
      "    intersect\n",
      "\n",
      "The following object is masked from ‘package:AnnotationDbi’:\n",
      "\n",
      "    select\n",
      "\n",
      "The following objects are masked from ‘package:IRanges’:\n",
      "\n",
      "    collapse, desc, intersect, setdiff, slice, union\n",
      "\n",
      "The following objects are masked from ‘package:S4Vectors’:\n",
      "\n",
      "    first, intersect, rename, setdiff, setequal, union\n",
      "\n",
      "The following object is masked from ‘package:Biobase’:\n",
      "\n",
      "    combine\n",
      "\n",
      "The following objects are masked from ‘package:BiocGenerics’:\n",
      "\n",
      "    combine, intersect, setdiff, union\n",
      "\n",
      "The following objects are masked from ‘package:stats’:\n",
      "\n",
      "    filter, lag\n",
      "\n",
      "The following objects are masked from ‘package:base’:\n",
      "\n",
      "    intersect, setdiff, setequal, union\n",
      "\n",
      "gdata: read.xls support for 'XLS' (Excel 97-2004) files ENABLED.\n",
      "\n",
      "gdata: read.xls support for 'XLSX' (Excel 2007+) files ENABLED.\n",
      "\n",
      "Attaching package: ‘gdata’\n",
      "\n",
      "The following objects are masked from ‘package:dplyr’:\n",
      "\n",
      "    combine, first, last\n",
      "\n",
      "The following objects are masked from ‘package:data.table’:\n",
      "\n",
      "    first, last\n",
      "\n",
      "The following object is masked from ‘package:GenomicRanges’:\n",
      "\n",
      "    trim\n",
      "\n",
      "The following object is masked from ‘package:IRanges’:\n",
      "\n",
      "    trim\n",
      "\n",
      "The following objects are masked from ‘package:S4Vectors’:\n",
      "\n",
      "    first, first<-\n",
      "\n",
      "The following object is masked from ‘package:Biobase’:\n",
      "\n",
      "    combine\n",
      "\n",
      "The following object is masked from ‘package:BiocGenerics’:\n",
      "\n",
      "    combine\n",
      "\n",
      "The following object is masked from ‘package:stats4’:\n",
      "\n",
      "    nobs\n",
      "\n",
      "The following object is masked from ‘package:stats’:\n",
      "\n",
      "    nobs\n",
      "\n",
      "The following object is masked from ‘package:utils’:\n",
      "\n",
      "    object.size\n",
      "\n",
      "The following object is masked from ‘package:base’:\n",
      "\n",
      "    startsWith\n",
      "\n",
      "\n",
      "Attaching package: ‘gplots’\n",
      "\n",
      "The following object is masked from ‘package:IRanges’:\n",
      "\n",
      "    space\n",
      "\n",
      "The following object is masked from ‘package:S4Vectors’:\n",
      "\n",
      "    space\n",
      "\n",
      "The following object is masked from ‘package:stats’:\n",
      "\n",
      "    lowess\n",
      "\n"
     ]
    }
   ],
   "source": [
    "library(IRdisplay)\n",
    "library(limma)\n",
    "library(edgeR)\n",
    "library(Glimma)\n",
    "#library(Mus.musculus)\n",
    "library(Homo.sapiens)\n",
    "library(splitstackshape)\n",
    "library(PoiClaClu)\n",
    "library(statmod)\n",
    "library(plyr)\n",
    "library(dplyr)\n",
    "library(gdata)\n",
    "library(org.Hs.eg.db)\n",
    "library(gplots)\n",
    "EG2SYM <- toTable(org.Hs.egSYMBOL)\n"
   ]
  },
  {
   "cell_type": "code",
   "execution_count": 2,
   "metadata": {},
   "outputs": [
    {
     "data": {
      "text/plain": [
       "R version 3.4.3 (2017-11-30)\n",
       "Platform: x86_64-pc-linux-gnu (64-bit)\n",
       "Running under: Ubuntu 18.04.3 LTS\n",
       "\n",
       "Matrix products: default\n",
       "BLAS: /mnt/data1/tomw/anaconda2/lib/R/lib/libRblas.so\n",
       "LAPACK: /mnt/data1/tomw/anaconda2/lib/R/lib/libRlapack.so\n",
       "\n",
       "locale:\n",
       " [1] LC_CTYPE=en_US.UTF-8       LC_NUMERIC=C              \n",
       " [3] LC_TIME=en_US.UTF-8        LC_COLLATE=en_US.UTF-8    \n",
       " [5] LC_MONETARY=en_US.UTF-8    LC_MESSAGES=en_US.UTF-8   \n",
       " [7] LC_PAPER=en_US.UTF-8       LC_NAME=C                 \n",
       " [9] LC_ADDRESS=C               LC_TELEPHONE=C            \n",
       "[11] LC_MEASUREMENT=en_US.UTF-8 LC_IDENTIFICATION=C       \n",
       "\n",
       "attached base packages:\n",
       "[1] parallel  stats4    stats     graphics  grDevices utils     datasets \n",
       "[8] methods   base     \n",
       "\n",
       "other attached packages:\n",
       " [1] gplots_3.0.1.1                         \n",
       " [2] gdata_2.18.0                           \n",
       " [3] dplyr_0.7.7                            \n",
       " [4] plyr_1.8.4                             \n",
       " [5] statmod_1.4.30                         \n",
       " [6] PoiClaClu_1.0.2                        \n",
       " [7] splitstackshape_1.4.2                  \n",
       " [8] data.table_1.10.4-3                    \n",
       " [9] Homo.sapiens_1.3.1                     \n",
       "[10] TxDb.Hsapiens.UCSC.hg19.knownGene_3.2.2\n",
       "[11] org.Hs.eg.db_3.5.0                     \n",
       "[12] GO.db_3.5.0                            \n",
       "[13] OrganismDbi_1.20.0                     \n",
       "[14] GenomicFeatures_1.30.3                 \n",
       "[15] GenomicRanges_1.30.3                   \n",
       "[16] GenomeInfoDb_1.14.0                    \n",
       "[17] AnnotationDbi_1.40.0                   \n",
       "[18] IRanges_2.12.0                         \n",
       "[19] S4Vectors_0.16.0                       \n",
       "[20] Biobase_2.38.0                         \n",
       "[21] BiocGenerics_0.24.0                    \n",
       "[22] Glimma_1.6.0                           \n",
       "[23] edgeR_3.20.9                           \n",
       "[24] limma_3.34.9                           \n",
       "[25] IRdisplay_0.7.0                        \n",
       "[26] RevoUtils_10.0.8                       \n",
       "[27] RevoUtilsMath_10.0.1                   \n",
       "\n",
       "loaded via a namespace (and not attached):\n",
       " [1] httr_1.4.0                 RMySQL_0.10.17            \n",
       " [3] bit64_0.9-7                jsonlite_1.6              \n",
       " [5] gtools_3.8.1               assertthat_0.2.1          \n",
       " [7] RBGL_1.54.0                blob_1.1.1                \n",
       " [9] GenomeInfoDbData_1.0.0     Rsamtools_1.30.0          \n",
       "[11] progress_1.2.2             pillar_1.4.1              \n",
       "[13] RSQLite_2.1.1              lattice_0.20-38           \n",
       "[15] glue_1.3.1                 uuid_0.1-2                \n",
       "[17] digest_0.6.19              XVector_0.18.0            \n",
       "[19] htmltools_0.3.6            Matrix_1.2-17             \n",
       "[21] XML_3.98-1.20              pkgconfig_2.0.2           \n",
       "[23] biomaRt_2.34.2             zlibbioc_1.24.0           \n",
       "[25] purrr_0.3.2                BiocParallel_1.12.0       \n",
       "[27] tibble_2.1.3               SummarizedExperiment_1.8.1\n",
       "[29] repr_1.0.1                 magrittr_1.5              \n",
       "[31] crayon_1.3.4               memoise_1.1.0             \n",
       "[33] evaluate_0.14              graph_1.56.0              \n",
       "[35] BiocInstaller_1.28.0       tools_3.4.3               \n",
       "[37] prettyunits_1.0.2          hms_0.4.2                 \n",
       "[39] matrixStats_0.54.0         stringr_1.4.0             \n",
       "[41] locfit_1.5-9.1             DelayedArray_0.4.1        \n",
       "[43] bindrcpp_0.2.2             Biostrings_2.46.0         \n",
       "[45] compiler_3.4.3             caTools_1.17.1.2          \n",
       "[47] rlang_0.3.1                grid_3.4.3                \n",
       "[49] RCurl_1.95-4.12            pbdZMQ_0.3-3              \n",
       "[51] IRkernel_1.0.1             bitops_1.0-6              \n",
       "[53] base64enc_0.1-3            DBI_1.0.0                 \n",
       "[55] R6_2.4.0                   GenomicAlignments_1.14.2  \n",
       "[57] rtracklayer_1.38.3         bit_1.1-14                \n",
       "[59] bindr_0.1.1                KernSmooth_2.23-15        \n",
       "[61] stringi_1.4.3              Rcpp_1.0.1                \n",
       "[63] tidyselect_0.2.5          "
      ]
     },
     "metadata": {},
     "output_type": "display_data"
    }
   ],
   "source": [
    "sessionInfo()"
   ]
  },
  {
   "cell_type": "markdown",
   "metadata": {},
   "source": [
    "### Preprocess RNASeq Count Data and metadata"
   ]
  },
  {
   "cell_type": "code",
   "execution_count": 3,
   "metadata": {},
   "outputs": [
    {
     "data": {
      "text/html": [
       "<ol class=list-inline>\n",
       "\t<li>57820</li>\n",
       "\t<li>734</li>\n",
       "</ol>\n"
      ],
      "text/latex": [
       "\\begin{enumerate*}\n",
       "\\item 57820\n",
       "\\item 734\n",
       "\\end{enumerate*}\n"
      ],
      "text/markdown": [
       "1. 57820\n",
       "2. 734\n",
       "\n",
       "\n"
      ],
      "text/plain": [
       "[1] 57820   734"
      ]
     },
     "metadata": {},
     "output_type": "display_data"
    },
    {
     "data": {
      "text/html": [
       "<table>\n",
       "<caption>A data.frame: 6 × 146</caption>\n",
       "<thead>\n",
       "\t<tr><th></th><th scope=col>X4259_GTGAAA_S0</th><th scope=col>X87</th><th scope=col>X97</th><th scope=col>X4727sp1</th><th scope=col>X22_15</th><th scope=col>X4215_GTGAAA_S0</th><th scope=col>X26_2</th><th scope=col>X4066_GTGAAA_S0</th><th scope=col>X91</th><th scope=col>X426_ACAGTG_S0</th><th scope=col>⋯</th><th scope=col>X670A.PB.Prog_S3</th><th scope=col>X664.Stroma_S6</th><th scope=col>X767_Stroma_S0</th><th scope=col>X600.PB.Prog_S0</th><th scope=col>X689.BM.Prog_S11</th><th scope=col>X666.PB.Stem_S3</th><th scope=col>X571.Stroma_S0</th><th scope=col>X672A.PB.Prog_S3</th><th scope=col>X591.BM.Stem_S0</th><th scope=col>X767.BM.Prog_S0</th></tr>\n",
       "\t<tr><th></th><th scope=col>&lt;dbl&gt;</th><th scope=col>&lt;dbl&gt;</th><th scope=col>&lt;dbl&gt;</th><th scope=col>&lt;dbl&gt;</th><th scope=col>&lt;dbl&gt;</th><th scope=col>&lt;dbl&gt;</th><th scope=col>&lt;dbl&gt;</th><th scope=col>&lt;dbl&gt;</th><th scope=col>&lt;dbl&gt;</th><th scope=col>&lt;dbl&gt;</th><th scope=col>⋯</th><th scope=col>&lt;dbl&gt;</th><th scope=col>&lt;dbl&gt;</th><th scope=col>&lt;dbl&gt;</th><th scope=col>&lt;dbl&gt;</th><th scope=col>&lt;dbl&gt;</th><th scope=col>&lt;dbl&gt;</th><th scope=col>&lt;dbl&gt;</th><th scope=col>&lt;dbl&gt;</th><th scope=col>&lt;dbl&gt;</th><th scope=col>&lt;dbl&gt;</th></tr>\n",
       "</thead>\n",
       "<tbody>\n",
       "\t<tr><th scope=row>ENSG00000000003.10</th><td>  65.00</td><td>  38.00</td><td>   0.00</td><td>377.00</td><td>228</td><td> 151.00</td><td>221.00</td><td>  60.00</td><td> 13.00</td><td>  51.0</td><td>⋯</td><td>   9.00</td><td> 762.00</td><td>  420.00</td><td> 217.00</td><td>  63.00</td><td> 64.00</td><td>   13.00</td><td>   4.00</td><td>  19.00</td><td> 219.00</td></tr>\n",
       "\t<tr><th scope=row>ENSG00000000005.5</th><td>   0.00</td><td>   1.00</td><td>   0.00</td><td> 50.00</td><td>  0</td><td>   0.00</td><td>  0.00</td><td>   0.00</td><td>  0.00</td><td>   0.0</td><td>⋯</td><td>   0.00</td><td>   0.00</td><td>    0.00</td><td>   0.00</td><td>   0.00</td><td>  0.00</td><td>    0.00</td><td>   0.00</td><td>   0.00</td><td>   0.00</td></tr>\n",
       "\t<tr><th scope=row>ENSG00000000419.8</th><td>1216.00</td><td> 684.00</td><td>1442.00</td><td>451.00</td><td>373</td><td>1501.00</td><td>571.00</td><td>1695.00</td><td>715.00</td><td>1170.0</td><td>⋯</td><td>1787.00</td><td>1130.00</td><td> 2541.00</td><td>1287.00</td><td>2163.00</td><td>892.00</td><td>  888.00</td><td>3708.00</td><td>2472.00</td><td>1451.00</td></tr>\n",
       "\t<tr><th scope=row>ENSG00000000457.9</th><td>1066.71</td><td> 907.39</td><td>1244.89</td><td>322.88</td><td>229</td><td> 877.56</td><td>819.19</td><td> 697.84</td><td>414.76</td><td> 918.1</td><td>⋯</td><td> 746.18</td><td> 302.92</td><td>  187.13</td><td> 525.52</td><td> 684.85</td><td>924.19</td><td>  254.78</td><td> 470.46</td><td> 266.73</td><td>1044.81</td></tr>\n",
       "\t<tr><th scope=row>ENSG00000000460.12</th><td>2372.29</td><td>1066.61</td><td>1404.11</td><td>128.12</td><td> 44</td><td>2212.44</td><td>297.81</td><td>1339.16</td><td>391.24</td><td>1744.9</td><td>⋯</td><td> 543.82</td><td> 129.08</td><td>  112.87</td><td> 295.48</td><td>1453.15</td><td>346.81</td><td>  208.22</td><td> 354.54</td><td>  29.27</td><td>1254.19</td></tr>\n",
       "\t<tr><th scope=row>ENSG00000000938.8</th><td> 137.00</td><td> 103.00</td><td>  71.00</td><td>107.00</td><td>  8</td><td>   9.00</td><td> 92.00</td><td> 173.00</td><td>335.00</td><td>  38.0</td><td>⋯</td><td> 152.00</td><td>3153.00</td><td>15773.00</td><td> 234.00</td><td> 203.00</td><td>343.00</td><td>13697.00</td><td> 737.00</td><td>  49.00</td><td> 416.00</td></tr>\n",
       "</tbody>\n",
       "</table>\n"
      ],
      "text/latex": [
       "A data.frame: 6 × 146\n",
       "\\begin{tabular}{r|llllllllllllllllllllllllllllllllllllllllllllllllllllllllllllllllllllllllllllllllllllllllllllllllllllllllllllllllllllllllllllllllllllllllllllllllll}\n",
       "  & X4259\\_GTGAAA\\_S0 & X87 & X97 & X4727sp1 & X22\\_15 & X4215\\_GTGAAA\\_S0 & X26\\_2 & X4066\\_GTGAAA\\_S0 & X91 & X426\\_ACAGTG\\_S0 & X26\\_1 & X27\\_8 & X42 & X26\\_7 & X19\\_MDStoAML & X586sp1 & X416\\_ACAGTG\\_S0 & X89 & X410\\_ACAGTG\\_S0 & X4218\\_GTGAAA\\_S0 & X22\\_6 & X36 & X380 & X22\\_10 & X22\\_16 & X48\\_MDStoAML & X586sp0 & X94 & X439sp1 & X26\\_4 & X22\\_13 & X4066 & X26\\_6 & X415\\_ACAGTG\\_S0 & X20\\_MDStoAML & X4018\\_GTGAAA\\_S0 & X65\\_MDStoAML & X22\\_14 & X401\\_ACAGTG\\_S0 & X4188\\_GTGAAA\\_S0 & X107 & X4040\\_GTGAAA\\_S0 & X402\\_ACAGTG\\_S0 & X4279\\_GTGAAA\\_S0 & X368\\_ACAGTG\\_S0 & X380\\_ACAGTG\\_S0 & X26\\_5 & X26\\_3 & X96 & X4689sp1 & X102 & X600.BM.Stem\\_S0 & X599.PB.Stem\\_S0 & X735.PB.Prog\\_S8 & X573.BM.Prog\\_S0 & X616.BM.Prog\\_S0 & X744.PB.Prog\\_S0 & X571.BM.Stem\\_S0 & X638.BM.Prog\\_S1 & X566.PB.Prog\\_S0 & X728.Stroma\\_S6 & X736.BM.Stem\\_S0 & X724.PB.Prog\\_S3 & X689\\_Stroma\\_S0 & X422.PB.Stem\\_S0 & X569.PB.Prog\\_S0 & X576.PB.Stem\\_S0 & X621.PB.Stem\\_S3 & X608.BM.Stem\\_S0 & X638.Stroma\\_S5 & X573.Stroma\\_S3 & X736.BM.Prog\\_S0 & X724.PB.Stem\\_S4 & X560.PB.Stem\\_S0 & X727.PB.Stem\\_S5 & X672A.PB.Stem\\_S5 & X727.PB.Prog\\_S4 & X569.PB.Stem\\_S0 & X690.BM.Prog\\_S5 & X616.BM.Stem\\_S0 & X668.PB.Prog\\_S2 & X575A.PB.Prog\\_S0 & X562.PB.Stem\\_S0 & X591.Stroma\\_S1 & X725.PB.Prog\\_S7 & X566.PB.Stem\\_S0 & X662.Stroma\\_S1 & X662.BM.Prog\\_S4 & X721.PB.34plus\\_S0 & X575.Stroma\\_S1 & X581.PB.Stem\\_S1 & X576.PB.Prog\\_S0 & X580.BM.Stem\\_S0 & X690.Stroma\\_S3 & X600.PB.Stem\\_S5 & X598.PB.Stem\\_S12 & X703.PB.Stem\\_S0 & X407.PB.Stem\\_S0 & X581.PB.Prog\\_S2 & X621.PB.Prog\\_S2 & X431.PB.Prog\\_S0 & X664.BM.Stem\\_S5 & X598.PB.Prog\\_S0 & X744.PB.Stem\\_S0 & X599.PB.Prog\\_S0 & X562.PB.Prog\\_S0 & X730.Stroma\\_S5 & X580.BM.Prog\\_S0 & X407.PB.Prog\\_S0 & X672B.PB.Stem\\_S8 & X670A.PB.Stem\\_S4 & X608.BM.Prog\\_S3 & X558.Stroma\\_S0 & X732.PB.Prog\\_S5 & X672B.PB.Prog\\_S0 & X591.BM.Prog\\_S0 & X431.PB.Stem\\_S0 & X767.BM.Stem\\_S0 & X428.PB.Stem\\_S0 & X638.BM.Stem\\_S1 & X664.BM.Prog\\_S4 & X735.PB.Stem\\_S7 & X668.PB.Stem\\_S4 & X567.PB.Stem\\_S0 & X670B.PB.Stem\\_S5 & X573.BM.Stem\\_S0 & X571.BM.Prog\\_S0 & X591.PB.Stem\\_S0 & X641.Stroma\\_S0 & X666.PB.Prog\\_S2 & X560.PB.Prog\\_S0 & X670B.PB.Prog\\_S2 & X703.PB.Prog\\_S13 & X428.PB.Prog\\_S0 & X600.BM.Prog\\_S0 & X689.BM.Stem\\_S0 & X670A.PB.Prog\\_S3 & X664.Stroma\\_S6 & X767\\_Stroma\\_S0 & X600.PB.Prog\\_S0 & X689.BM.Prog\\_S11 & X666.PB.Stem\\_S3 & X571.Stroma\\_S0 & X672A.PB.Prog\\_S3 & X591.BM.Stem\\_S0 & X767.BM.Prog\\_S0\\\\\n",
       "  & <dbl> & <dbl> & <dbl> & <dbl> & <dbl> & <dbl> & <dbl> & <dbl> & <dbl> & <dbl> & <dbl> & <dbl> & <dbl> & <dbl> & <dbl> & <dbl> & <dbl> & <dbl> & <dbl> & <dbl> & <dbl> & <dbl> & <dbl> & <dbl> & <dbl> & <dbl> & <dbl> & <dbl> & <dbl> & <dbl> & <dbl> & <dbl> & <dbl> & <dbl> & <dbl> & <dbl> & <dbl> & <dbl> & <dbl> & <dbl> & <dbl> & <dbl> & <dbl> & <dbl> & <dbl> & <dbl> & <dbl> & <dbl> & <dbl> & <dbl> & <dbl> & <dbl> & <dbl> & <dbl> & <dbl> & <dbl> & <dbl> & <dbl> & <dbl> & <dbl> & <dbl> & <dbl> & <dbl> & <dbl> & <dbl> & <dbl> & <dbl> & <dbl> & <dbl> & <dbl> & <dbl> & <dbl> & <dbl> & <dbl> & <dbl> & <dbl> & <dbl> & <dbl> & <dbl> & <dbl> & <dbl> & <dbl> & <dbl> & <dbl> & <dbl> & <dbl> & <dbl> & <dbl> & <dbl> & <dbl> & <dbl> & <dbl> & <dbl> & <dbl> & <dbl> & <dbl> & <dbl> & <dbl> & <dbl> & <dbl> & <dbl> & <dbl> & <dbl> & <dbl> & <dbl> & <dbl> & <dbl> & <dbl> & <dbl> & <dbl> & <dbl> & <dbl> & <dbl> & <dbl> & <dbl> & <dbl> & <dbl> & <dbl> & <dbl> & <dbl> & <dbl> & <dbl> & <dbl> & <dbl> & <dbl> & <dbl> & <dbl> & <dbl> & <dbl> & <dbl> & <dbl> & <dbl> & <dbl> & <dbl> & <dbl> & <dbl> & <dbl> & <dbl> & <dbl> & <dbl> & <dbl> & <dbl> & <dbl> & <dbl> & <dbl> & <dbl>\\\\\n",
       "\\hline\n",
       "\tENSG00000000003.10 &   65.00 &   38.00 &    0.00 & 377.00 & 228 &  151.00 & 221.00 &   60.00 &  13.00 &   51.0 & 265 & 116.00 &    0.0 &  318.00 &    0.00 & 429.00 &  72.00 &    8.00 &   72.00 &   27.00 & 205.00 &    0.00 &  33.00 & 333.00 & 209.00 &    9.00 & 509.00 &   11.00 & 769.0 &   23.00 & 338.00 & 0 &   85.00 &   58.00 &    1.0 &   18.00 &   50.00 & 464.00 &    8.00 &   55.00 &   3.00 &   14.00 &   64.00 &   98.00 &   71.00 &   47.00 &  148.00 & 135.00 &  17.00 & 466.00 &   11.00 &  369.00 &   87.00 &   77.00 &   23.00 &    8.00 &   68.00 &   15.00 &   37.00 &    1 & 1793.00 &  124.00 &   58.00 &  827.00 &   58.00 &   20.00 &  242.00 &  69.00 &   11.00 &    99.00 &  126.00 &   44.0 &  117.00 &  432.00 &   64.00 &   26.00 &   37.00 &   0.00 &    0.00 &  101.0 &   79.00 &  138.00 &   31.00 & 1528.00 &   0 &   14.00 &   47 &   17.00 &   35 &  107.00 &  147.00 &   55.00 &  74 &   66.00 &  555.00 &  142.00 &  108.00 & 136.00 &   34.00 &  123.00 &  158.00 &   24 &  35.00 &  261.00 &   19.00 &  117.00 & 1393.00 &  107.00 &   39.00 &    3.00 &   49.00 &    1.00 &  314.00 &   13.00 &    1.00 &   0 &  844.00 & 421.00 &   81.00 &   72 &   17.00 &    0.0 &  170.00 &  228.00 &   51.0 & 131 &    3.00 &  110.00 &  141.00 &   30.00 &   54.00 &    3.00 &    2.00 &    3.00 &  388.00 &   61.00 &    9.00 &  762.00 &   420.00 &  217.00 &   63.00 &  64.00 &    13.00 &    4.00 &   19.00 &  219.00\\\\\n",
       "\tENSG00000000005.5 &    0.00 &    1.00 &    0.00 &  50.00 &   0 &    0.00 &   0.00 &    0.00 &   0.00 &    0.0 &   0 &   0.00 &    0.0 &    0.00 &    0.00 &   0.00 &   0.00 &    0.00 &    0.00 &    0.00 &   0.00 &    0.00 &   0.00 &   0.00 &   0.00 &    0.00 &   0.00 &    0.00 &  21.0 &    0.00 &  43.00 & 0 &    0.00 &    0.00 &    0.0 &    0.00 &    0.00 &   0.00 &    0.00 &    0.00 &   0.00 &    0.00 &    0.00 &    0.00 &    0.00 &    0.00 &    0.00 &   0.00 &   0.00 &   0.00 &    0.00 &    0.00 &    0.00 &    0.00 &    0.00 &    0.00 &    0.00 &    0.00 &    0.00 &    0 &    0.00 &    0.00 &    0.00 &    0.00 &    0.00 &    0.00 &    0.00 &   0.00 &    0.00 &     0.00 &    0.00 &    0.0 &    0.00 &    0.00 &    0.00 &    0.00 &    0.00 &   0.00 &    0.00 &    0.0 &    0.00 &    0.00 &    0.00 &    0.00 &   0 &    0.00 &    0 &    0.00 &    0 &    0.00 &    0.00 &    0.00 &   0 &    0.00 &    0.00 &    0.00 &    0.00 &   0.00 &    0.00 &    0.00 &    0.00 &    0 &   0.00 &    0.00 &    0.00 &    0.00 &    0.00 &    0.00 &    0.00 &    0.00 &    0.00 &    0.00 &    0.00 &    0.00 &    0.00 &   0 &    0.00 &   0.00 &    0.00 &    0 &    0.00 &    0.0 &    0.00 &    0.00 &    0.0 &   0 &    0.00 &    0.00 &    0.00 &    0.00 &    0.00 &    0.00 &    0.00 &    0.00 &    0.00 &    0.00 &    0.00 &    0.00 &     0.00 &    0.00 &    0.00 &   0.00 &     0.00 &    0.00 &    0.00 &    0.00\\\\\n",
       "\tENSG00000000419.8 & 1216.00 &  684.00 & 1442.00 & 451.00 & 373 & 1501.00 & 571.00 & 1695.00 & 715.00 & 1170.0 & 424 & 777.00 & 1019.0 & 1441.00 & 2292.00 & 379.00 & 860.00 & 1177.00 & 1458.00 & 1951.00 & 254.00 & 1893.00 & 369.00 & 581.00 & 197.00 & 2868.00 & 918.00 & 1583.00 & 702.0 & 1209.00 & 317.00 & 0 & 1062.00 & 1549.00 & 1033.0 &  925.00 & 1552.00 & 897.00 & 1415.00 & 1251.00 & 442.00 & 1381.00 &  977.00 & 1380.00 & 1541.00 &  649.00 & 1687.00 & 869.00 & 863.00 & 910.00 & 1256.00 &  981.00 & 1049.00 &  799.00 & 2257.00 & 2273.00 & 1221.00 & 2651.00 & 2712.00 & 1186 & 1410.00 & 1085.00 & 2827.00 & 2019.00 & 1067.00 & 1404.00 & 1010.00 & 959.00 & 1272.00 &   904.00 &  878.00 & 1323.0 & 1373.00 & 1229.00 & 1687.00 & 3041.00 & 1868.00 & 282.00 & 1777.00 & 1663.0 & 1675.00 & 1319.00 & 1048.00 & 2595.00 & 389 & 1407.00 &  907 & 2148.00 & 1186 & 1042.00 & 3352.00 & 1047.00 & 743 &  893.00 & 1538.00 & 1062.00 & 1126.00 & 602.00 & 2179.00 & 1340.00 & 2586.00 & 1355 & 913.00 & 1399.00 & 1728.00 & 1322.00 & 2107.00 & 2609.00 & 1870.00 & 1768.00 & 1857.00 & 1854.00 &  865.00 & 1543.00 & 1522.00 & 441 & 1087.00 & 961.00 & 1434.00 & 2610 & 1761.00 & 1300.0 & 1077.00 & 1229.00 & 1213.0 & 614 & 2889.00 & 2394.00 & 1049.00 & 1553.00 & 1010.00 & 1737.00 & 1842.00 & 1379.00 & 1053.00 & 1518.00 & 1787.00 & 1130.00 &  2541.00 & 1287.00 & 2163.00 & 892.00 &   888.00 & 3708.00 & 2472.00 & 1451.00\\\\\n",
       "\tENSG00000000457.9 & 1066.71 &  907.39 & 1244.89 & 322.88 & 229 &  877.56 & 819.19 &  697.84 & 414.76 &  918.1 &   0 & 736.71 &  360.2 & 1069.73 &  621.91 & 236.39 & 123.71 &  597.08 &  207.29 &  920.35 & 233.64 &  778.26 & 578.15 & 159.42 &  97.85 &  674.93 & 251.03 &  817.44 & 251.5 & 1032.48 & 164.71 & 0 &  481.65 &  268.35 &  718.5 &  897.04 &  374.51 & 179.15 & 1072.24 &  537.45 & 242.45 &  660.44 &  916.07 &  812.75 & 1233.37 &  965.63 & 1226.58 & 722.84 & 631.45 & 286.28 &  483.11 & 1402.01 &  719.22 &  304.73 &  260.93 &  589.98 & 1137.71 &  572.05 &  447.72 &   65 &  408.71 &  755.86 &  522.23 &  181.43 & 1148.07 &  552.32 &  561.72 & 780.91 &  999.81 &   205.79 &  350.67 &  609.8 &  783.18 &  728.39 &  931.61 &  368.77 &  628.29 & 244.71 &  464.33 &  704.1 &  688.43 &  430.26 & 1129.63 &  281.84 & 338 &  602.21 &  361 & 1036.98 &  173 &  306.36 & 1520.31 &  331.32 &  37 &  261.35 &  863.78 &  745.39 &  456.66 & 802.54 &  459.45 &  456.12 & 1515.72 & 1203 & 977.61 & 1688.05 &  434.41 &  255.33 &  594.73 &  307.66 &  926.02 &  817.63 &  653.74 & 1035.86 &  269.28 &  332.74 &  459.77 &   0 & 1268.09 & 304.74 & 1801.44 &  404 &  595.83 &  548.8 &  897.65 &  291.71 &  758.9 & 146 &  503.42 &  705.81 &  285.55 &  420.63 &  392.29 &  768.67 &  486.84 & 1200.63 & 1115.49 & 1339.49 &  746.18 &  302.92 &   187.13 &  525.52 &  684.85 & 924.19 &   254.78 &  470.46 &  266.73 & 1044.81\\\\\n",
       "\tENSG00000000460.12 & 2372.29 & 1066.61 & 1404.11 & 128.12 &  44 & 2212.44 & 297.81 & 1339.16 & 391.24 & 1744.9 & 130 & 513.29 &  360.8 &  906.27 & 1362.09 &  89.61 & 576.29 &  899.92 & 1285.71 & 2736.65 &  41.36 & 2387.74 & 894.85 &  48.58 &   9.15 &  826.07 &  57.97 & 1975.56 & 117.5 &  589.52 &  39.29 & 0 &  481.35 & 1092.65 & 1533.5 & 1494.96 &  692.49 &  53.85 & 2633.76 & 1589.55 & 282.55 & 1691.56 & 1853.93 & 2266.25 & 3037.63 & 1496.37 &  674.42 & 701.16 & 565.55 &  77.72 &  910.89 &  514.99 &  365.78 &  290.27 & 1216.07 & 1626.02 &  873.29 &  190.95 &  747.28 &  194 &  115.29 &  123.14 &  854.77 &   71.57 &  531.93 &  443.68 &  488.28 & 719.09 &  478.19 &   228.21 &  237.33 &  746.2 &  394.82 &  268.61 &  813.39 &  375.23 & 1049.71 &  11.29 &  313.67 &  500.9 &  548.57 &  654.74 &  254.37 &  529.16 &  49 &  335.79 &  355 &  820.02 &   27 &  241.64 &  868.69 &  464.68 &   0 &  223.65 &  383.22 &  227.61 &  163.34 & 130.46 &  694.55 &  404.88 &  701.28 &  414 & 330.39 &  770.95 &  839.59 &  615.67 &  300.27 &  466.34 &  759.98 &  566.37 &  376.26 &  767.14 &  228.72 &  190.26 &  581.23 &   0 &  328.91 & 302.26 & 1394.56 &  154 & 1052.17 &  889.2 &  231.35 &  116.29 &  523.1 &   0 &  703.58 &  657.19 &  230.45 &  475.37 &  426.71 &  604.33 &  995.16 & 1375.37 &  557.51 &  311.51 &  543.82 &  129.08 &   112.87 &  295.48 & 1453.15 & 346.81 &   208.22 &  354.54 &   29.27 & 1254.19\\\\\n",
       "\tENSG00000000938.8 &  137.00 &  103.00 &   71.00 & 107.00 &   8 &    9.00 &  92.00 &  173.00 & 335.00 &   38.0 &   0 & 101.00 &   42.0 &  144.00 &  173.00 &  23.00 & 119.00 &  514.00 &   30.00 &   36.00 &   0.00 &  361.00 &  14.00 &  27.00 &   0.00 &  181.00 & 126.00 &   94.00 &  47.0 &  170.00 &  15.00 & 0 &  142.00 &   80.00 &   83.0 &   99.00 &   50.00 &   0.00 &   34.00 &   23.00 & 492.00 &  210.00 &   56.00 &   55.00 &   32.00 &   27.00 &  188.00 &  64.00 & 273.00 &   0.00 &  388.00 &  268.00 &  236.00 & 1444.00 &  198.00 &   63.00 &  455.00 &   67.00 &  539.00 &   57 &  721.00 &  108.00 &  203.00 & 2304.00 &  556.00 &  131.00 &  113.00 & 125.00 &  686.00 & 14525.00 & 9006.00 &  102.0 &  164.00 &  255.00 &  588.00 &  166.00 &  275.00 &  26.00 &  111.00 &  149.0 &  128.00 &  107.00 &  310.00 &  223.00 & 205 &  476.00 & 8706 &  125.00 & 4223 & 9374.00 &  477.00 &  109.00 &   0 & 8196.00 &  166.00 &   81.00 &  367.00 & 234.00 &  210.00 &  170.00 &  357.00 &   43 & 113.00 &  234.00 &  248.00 &  187.00 & 4383.00 &  164.00 &  315.00 &  312.00 &  132.00 &  715.00 & 5411.00 &    8.00 &  732.00 &  61 &  297.00 &   0.00 &  375.00 &  541 &  251.00 & 1041.0 &  100.00 &  298.00 &  369.0 &   0 &   35.00 &  214.00 & 9292.00 &  194.00 &   95.00 &  219.00 &  152.00 &  474.00 &  474.00 &  190.00 &  152.00 & 3153.00 & 15773.00 &  234.00 &  203.00 & 343.00 & 13697.00 &  737.00 &   49.00 &  416.00\\\\\n",
       "\\end{tabular}\n"
      ],
      "text/markdown": [
       "\n",
       "A data.frame: 6 × 146\n",
       "\n",
       "| <!--/--> | X4259_GTGAAA_S0 &lt;dbl&gt; | X87 &lt;dbl&gt; | X97 &lt;dbl&gt; | X4727sp1 &lt;dbl&gt; | X22_15 &lt;dbl&gt; | X4215_GTGAAA_S0 &lt;dbl&gt; | X26_2 &lt;dbl&gt; | X4066_GTGAAA_S0 &lt;dbl&gt; | X91 &lt;dbl&gt; | X426_ACAGTG_S0 &lt;dbl&gt; | ⋯ ⋯ | X670A.PB.Prog_S3 &lt;dbl&gt; | X664.Stroma_S6 &lt;dbl&gt; | X767_Stroma_S0 &lt;dbl&gt; | X600.PB.Prog_S0 &lt;dbl&gt; | X689.BM.Prog_S11 &lt;dbl&gt; | X666.PB.Stem_S3 &lt;dbl&gt; | X571.Stroma_S0 &lt;dbl&gt; | X672A.PB.Prog_S3 &lt;dbl&gt; | X591.BM.Stem_S0 &lt;dbl&gt; | X767.BM.Prog_S0 &lt;dbl&gt; |\n",
       "|---|---|---|---|---|---|---|---|---|---|---|---|---|---|---|---|---|---|---|---|---|---|\n",
       "| ENSG00000000003.10 |   65.00 |   38.00 |    0.00 | 377.00 | 228 |  151.00 | 221.00 |   60.00 |  13.00 |   51.0 | ⋯ |    9.00 |  762.00 |   420.00 |  217.00 |   63.00 |  64.00 |    13.00 |    4.00 |   19.00 |  219.00 |\n",
       "| ENSG00000000005.5 |    0.00 |    1.00 |    0.00 |  50.00 |   0 |    0.00 |   0.00 |    0.00 |   0.00 |    0.0 | ⋯ |    0.00 |    0.00 |     0.00 |    0.00 |    0.00 |   0.00 |     0.00 |    0.00 |    0.00 |    0.00 |\n",
       "| ENSG00000000419.8 | 1216.00 |  684.00 | 1442.00 | 451.00 | 373 | 1501.00 | 571.00 | 1695.00 | 715.00 | 1170.0 | ⋯ | 1787.00 | 1130.00 |  2541.00 | 1287.00 | 2163.00 | 892.00 |   888.00 | 3708.00 | 2472.00 | 1451.00 |\n",
       "| ENSG00000000457.9 | 1066.71 |  907.39 | 1244.89 | 322.88 | 229 |  877.56 | 819.19 |  697.84 | 414.76 |  918.1 | ⋯ |  746.18 |  302.92 |   187.13 |  525.52 |  684.85 | 924.19 |   254.78 |  470.46 |  266.73 | 1044.81 |\n",
       "| ENSG00000000460.12 | 2372.29 | 1066.61 | 1404.11 | 128.12 |  44 | 2212.44 | 297.81 | 1339.16 | 391.24 | 1744.9 | ⋯ |  543.82 |  129.08 |   112.87 |  295.48 | 1453.15 | 346.81 |   208.22 |  354.54 |   29.27 | 1254.19 |\n",
       "| ENSG00000000938.8 |  137.00 |  103.00 |   71.00 | 107.00 |   8 |    9.00 |  92.00 |  173.00 | 335.00 |   38.0 | ⋯ |  152.00 | 3153.00 | 15773.00 |  234.00 |  203.00 | 343.00 | 13697.00 |  737.00 |   49.00 |  416.00 |\n",
       "\n"
      ],
      "text/plain": [
       "                   X4259_GTGAAA_S0 X87     X97     X4727sp1 X22_15\n",
       "ENSG00000000003.10   65.00           38.00    0.00 377.00   228   \n",
       "ENSG00000000005.5     0.00            1.00    0.00  50.00     0   \n",
       "ENSG00000000419.8  1216.00          684.00 1442.00 451.00   373   \n",
       "ENSG00000000457.9  1066.71          907.39 1244.89 322.88   229   \n",
       "ENSG00000000460.12 2372.29         1066.61 1404.11 128.12    44   \n",
       "ENSG00000000938.8   137.00          103.00   71.00 107.00     8   \n",
       "                   X4215_GTGAAA_S0 X26_2  X4066_GTGAAA_S0 X91    X426_ACAGTG_S0\n",
       "ENSG00000000003.10  151.00         221.00   60.00          13.00   51.0        \n",
       "ENSG00000000005.5     0.00           0.00    0.00           0.00    0.0        \n",
       "ENSG00000000419.8  1501.00         571.00 1695.00         715.00 1170.0        \n",
       "ENSG00000000457.9   877.56         819.19  697.84         414.76  918.1        \n",
       "ENSG00000000460.12 2212.44         297.81 1339.16         391.24 1744.9        \n",
       "ENSG00000000938.8     9.00          92.00  173.00         335.00   38.0        \n",
       "                   ⋯ X670A.PB.Prog_S3 X664.Stroma_S6 X767_Stroma_S0\n",
       "ENSG00000000003.10 ⋯    9.00           762.00          420.00      \n",
       "ENSG00000000005.5  ⋯    0.00             0.00            0.00      \n",
       "ENSG00000000419.8  ⋯ 1787.00          1130.00         2541.00      \n",
       "ENSG00000000457.9  ⋯  746.18           302.92          187.13      \n",
       "ENSG00000000460.12 ⋯  543.82           129.08          112.87      \n",
       "ENSG00000000938.8  ⋯  152.00          3153.00        15773.00      \n",
       "                   X600.PB.Prog_S0 X689.BM.Prog_S11 X666.PB.Stem_S3\n",
       "ENSG00000000003.10  217.00           63.00           64.00         \n",
       "ENSG00000000005.5     0.00            0.00            0.00         \n",
       "ENSG00000000419.8  1287.00         2163.00          892.00         \n",
       "ENSG00000000457.9   525.52          684.85          924.19         \n",
       "ENSG00000000460.12  295.48         1453.15          346.81         \n",
       "ENSG00000000938.8   234.00          203.00          343.00         \n",
       "                   X571.Stroma_S0 X672A.PB.Prog_S3 X591.BM.Stem_S0\n",
       "ENSG00000000003.10    13.00          4.00            19.00        \n",
       "ENSG00000000005.5      0.00          0.00             0.00        \n",
       "ENSG00000000419.8    888.00       3708.00          2472.00        \n",
       "ENSG00000000457.9    254.78        470.46           266.73        \n",
       "ENSG00000000460.12   208.22        354.54            29.27        \n",
       "ENSG00000000938.8  13697.00        737.00            49.00        \n",
       "                   X767.BM.Prog_S0\n",
       "ENSG00000000003.10  219.00        \n",
       "ENSG00000000005.5     0.00        \n",
       "ENSG00000000419.8  1451.00        \n",
       "ENSG00000000457.9  1044.81        \n",
       "ENSG00000000460.12 1254.19        \n",
       "ENSG00000000938.8   416.00        "
      ]
     },
     "metadata": {},
     "output_type": "display_data"
    }
   ],
   "source": [
    "name <- \"comp2\"\n",
    "name2 <- \"20180216\"\n",
    "genes_rsem_new <- read.csv(\"all_genes_results.txt\", sep=\"\\t\", stringsAsFactors=FALSE)\n",
    "dim(genes_rsem_new)\n",
    "gene_counts_new <- genes_rsem_new[,sapply(colnames(genes_rsem_new), function(x) any(grepl(\".results_expected_count\",x)))]\n",
    "colnames(gene_counts_new) <- gsub(\".genes.results_expected_count\",\"\", colnames(gene_counts_new))\n",
    "row.names(gene_counts_new) <- genes_rsem_new$gene_id\n",
    "head(gene_counts_new)"
   ]
  },
  {
   "cell_type": "code",
   "execution_count": 4,
   "metadata": {},
   "outputs": [
    {
     "data": {
      "text/html": [
       "<table>\n",
       "<caption>A data.frame: 6 × 4</caption>\n",
       "<thead>\n",
       "\t<tr><th scope=col>gene_id</th><th scope=col>ens_id.gene_id</th><th scope=col>ens_id.ensembl_id</th><th scope=col>SYM</th></tr>\n",
       "\t<tr><th scope=col>&lt;fct&gt;</th><th scope=col>&lt;chr&gt;</th><th scope=col>&lt;chr&gt;</th><th scope=col>&lt;fct&gt;</th></tr>\n",
       "</thead>\n",
       "<tbody>\n",
       "\t<tr><td>1 </td><td>1 </td><td>ENSG00000121410</td><td>A1BG    </td></tr>\n",
       "\t<tr><td>2 </td><td>2 </td><td>ENSG00000175899</td><td>A2M     </td></tr>\n",
       "\t<tr><td>3 </td><td>3 </td><td>ENSG00000256069</td><td>A2MP1   </td></tr>\n",
       "\t<tr><td>9 </td><td>9 </td><td>ENSG00000171428</td><td>NAT1    </td></tr>\n",
       "\t<tr><td>10</td><td>10</td><td>ENSG00000156006</td><td>NAT2    </td></tr>\n",
       "\t<tr><td>12</td><td>12</td><td>ENSG00000196136</td><td>SERPINA3</td></tr>\n",
       "</tbody>\n",
       "</table>\n"
      ],
      "text/latex": [
       "A data.frame: 6 × 4\n",
       "\\begin{tabular}{r|llll}\n",
       " gene\\_id & ens\\_id.gene\\_id & ens\\_id.ensembl\\_id & SYM\\\\\n",
       " <fct> & <chr> & <chr> & <fct>\\\\\n",
       "\\hline\n",
       "\t 1  & 1  & ENSG00000121410 & A1BG    \\\\\n",
       "\t 2  & 2  & ENSG00000175899 & A2M     \\\\\n",
       "\t 3  & 3  & ENSG00000256069 & A2MP1   \\\\\n",
       "\t 9  & 9  & ENSG00000171428 & NAT1    \\\\\n",
       "\t 10 & 10 & ENSG00000156006 & NAT2    \\\\\n",
       "\t 12 & 12 & ENSG00000196136 & SERPINA3\\\\\n",
       "\\end{tabular}\n"
      ],
      "text/markdown": [
       "\n",
       "A data.frame: 6 × 4\n",
       "\n",
       "| gene_id &lt;fct&gt; | ens_id.gene_id &lt;chr&gt; | ens_id.ensembl_id &lt;chr&gt; | SYM &lt;fct&gt; |\n",
       "|---|---|---|---|\n",
       "| 1  | 1  | ENSG00000121410 | A1BG     |\n",
       "| 2  | 2  | ENSG00000175899 | A2M      |\n",
       "| 3  | 3  | ENSG00000256069 | A2MP1    |\n",
       "| 9  | 9  | ENSG00000171428 | NAT1     |\n",
       "| 10 | 10 | ENSG00000156006 | NAT2     |\n",
       "| 12 | 12 | ENSG00000196136 | SERPINA3 |\n",
       "\n"
      ],
      "text/plain": [
       "  gene_id ens_id.gene_id ens_id.ensembl_id SYM     \n",
       "1 1       1              ENSG00000121410   A1BG    \n",
       "2 2       2              ENSG00000175899   A2M     \n",
       "3 3       3              ENSG00000256069   A2MP1   \n",
       "4 9       9              ENSG00000171428   NAT1    \n",
       "5 10      10             ENSG00000156006   NAT2    \n",
       "6 12      12             ENSG00000196136   SERPINA3"
      ]
     },
     "metadata": {},
     "output_type": "display_data"
    }
   ],
   "source": [
    "ENS2EG <- toTable(org.Hs.egENSEMBL2EG)\n",
    "EG2SYM <- toTable(org.Hs.egSYMBOL2EG)\n",
    "ENS2EG2SYM <- data.frame(gene_id=ENS2EG$gene_id, ens_id=ENS2EG, \n",
    "                         SYM=EG2SYM[match(ENS2EG$gene_id,EG2SYM$gene_id),\"symbol\"])\n",
    "head(ENS2EG2SYM)"
   ]
  },
  {
   "cell_type": "code",
   "execution_count": 7,
   "metadata": {},
   "outputs": [
    {
     "data": {
      "text/html": [
       "<table>\n",
       "<caption>A data.frame: 13 × 14</caption>\n",
       "<thead>\n",
       "\t<tr><th></th><th scope=col>File_ID</th><th scope=col>Sample</th><th scope=col>ID</th><th scope=col>Sample.type</th><th scope=col>Age</th><th scope=col>Condition</th><th scope=col>Cell.type</th><th scope=col>Patient_ID</th><th scope=col>Mutation</th><th scope=col>CellType</th><th scope=col>Sample.type4</th><th scope=col>Phenotype</th><th scope=col>Sample.type3</th><th scope=col>Sample.type2</th></tr>\n",
       "\t<tr><th></th><th scope=col>&lt;chr&gt;</th><th scope=col>&lt;chr&gt;</th><th scope=col>&lt;chr&gt;</th><th scope=col>&lt;chr&gt;</th><th scope=col>&lt;chr&gt;</th><th scope=col>&lt;chr&gt;</th><th scope=col>&lt;chr&gt;</th><th scope=col>&lt;chr&gt;</th><th scope=col>&lt;chr&gt;</th><th scope=col>&lt;chr&gt;</th><th scope=col>&lt;chr&gt;</th><th scope=col>&lt;fct&gt;</th><th scope=col>&lt;fct&gt;</th><th scope=col>&lt;chr&gt;</th></tr>\n",
       "</thead>\n",
       "<tbody>\n",
       "\t<tr><th scope=row>18</th><td>X591.BM.Prog </td><td>X591.BM.Prog_S0 </td><td>591.BM.Prog        </td><td>AML </td><td>Aged</td><td>AML          </td><td>Progenitor        </td><td>591  </td><td>JAK2 V617F-</td><td>BM</td><td>sAML_Tx</td><td>AML</td><td>sAML </td><td>sAML </td></tr>\n",
       "\t<tr><th scope=row>22</th><td>X672A.PB.Prog</td><td>X672A.PB.Prog_S3</td><td>672A.PB.Prog       </td><td>AML </td><td>Aged</td><td>AML (post-MF)</td><td>Progenitor        </td><td>672A </td><td>NA         </td><td>PB</td><td>sAML_Tx</td><td>AML</td><td>sAML </td><td>sAML </td></tr>\n",
       "\t<tr><th scope=row>24</th><td>X672B.PB.Prog</td><td>X672B.PB.Prog_S0</td><td>672B.PB.Prog       </td><td>AML </td><td>Aged</td><td>AML (post-MF)</td><td>Progenitor        </td><td>672B </td><td>NA         </td><td>PB</td><td>sAML_Tx</td><td>AML</td><td>sAML </td><td>sAML </td></tr>\n",
       "\t<tr><th scope=row>26</th><td>X735.PB.Prog </td><td>X735.PB.Prog_S8 </td><td>735.PB.Prog        </td><td>AML </td><td>Aged</td><td>AML          </td><td>Progenitor        </td><td>735  </td><td>NA         </td><td>PB</td><td>sAML_Tx</td><td>AML</td><td>sAML </td><td>sAML </td></tr>\n",
       "\t<tr><th scope=row>39</th><td>20_MDStoAML  </td><td>X20_MDStoAML    </td><td>RO50113            </td><td>sAML</td><td>NA  </td><td>de novo AML  </td><td>Sorted progenitors</td><td>50113</td><td>NA         </td><td>NA</td><td>sAML_Tx</td><td>NA </td><td>dnAML</td><td>dnAML</td></tr>\n",
       "\t<tr><th scope=row>40</th><td>19_MDStoAML  </td><td>X19_MDStoAML    </td><td>RO50120            </td><td>sAML</td><td>NA  </td><td>de novo AML  </td><td>Sorted progenitors</td><td>50120</td><td>NA         </td><td>NA</td><td>sAML_Tx</td><td>NA </td><td>dnAML</td><td>dnAML</td></tr>\n",
       "\t<tr><th scope=row>119</th><td>102          </td><td>X102            </td><td>010408 JG          </td><td>sAML</td><td>NA  </td><td>sAML         </td><td>Sorted progenitors</td><td>10408</td><td>none       </td><td>NA</td><td>sAML_Tx</td><td>NA </td><td>sAML </td><td>sAML </td></tr>\n",
       "\t<tr><th scope=row>120</th><td>89           </td><td>X89             </td><td>1690-61            </td><td>sAML</td><td>NA  </td><td>sAML         </td><td>Sorted progenitors</td><td>1690 </td><td>none       </td><td>NA</td><td>sAML_Tx</td><td>NA </td><td>sAML </td><td>sAML </td></tr>\n",
       "\t<tr><th scope=row>121</th><td>87           </td><td>X87             </td><td>RO10008 (Bleakley?)</td><td>sAML</td><td>NA  </td><td>sAML         </td><td>Sorted progenitors</td><td>10008</td><td>none       </td><td>NA</td><td>sAML_Tx</td><td>NA </td><td>sAML </td><td>sAML </td></tr>\n",
       "\t<tr><th scope=row>122</th><td>36           </td><td>X36             </td><td>RO50124            </td><td>sAML</td><td>NA  </td><td>sAML         </td><td>Sorted progenitors</td><td>50124</td><td>none       </td><td>NA</td><td>sAML_Tx</td><td>NA </td><td>sAML </td><td>sAML </td></tr>\n",
       "\t<tr><th scope=row>123</th><td>42           </td><td>X42             </td><td>RO50200            </td><td>sAML</td><td>NA  </td><td>sAML         </td><td>Sorted progenitors</td><td>50200</td><td>none       </td><td>NA</td><td>sAML_Tx</td><td>NA </td><td>sAML </td><td>sAML </td></tr>\n",
       "\t<tr><th scope=row>124</th><td>107          </td><td>X107            </td><td>RO50240            </td><td>sAML</td><td>NA  </td><td>sAML         </td><td>Sorted progenitors</td><td>50240</td><td>none       </td><td>NA</td><td>sAML_Tx</td><td>NA </td><td>sAML </td><td>sAML </td></tr>\n",
       "\t<tr><th scope=row>125</th><td>48_MDStoAML  </td><td>X48_MDStoAML    </td><td>RO50261            </td><td>sAML</td><td>NA  </td><td>sAML         </td><td>Sorted progenitors</td><td>50261</td><td>none       </td><td>NA</td><td>sAML_Tx</td><td>NA </td><td>sAML </td><td>sAML </td></tr>\n",
       "</tbody>\n",
       "</table>\n"
      ],
      "text/latex": [
       "A data.frame: 13 × 14\n",
       "\\begin{tabular}{r|llllllllllllll}\n",
       "  & File\\_ID & Sample & ID & Sample.type & Age & Condition & Cell.type & Patient\\_ID & Mutation & CellType & Sample.type4 & Phenotype & Sample.type3 & Sample.type2\\\\\n",
       "  & <chr> & <chr> & <chr> & <chr> & <chr> & <chr> & <chr> & <chr> & <chr> & <chr> & <chr> & <fct> & <fct> & <chr>\\\\\n",
       "\\hline\n",
       "\t18 & X591.BM.Prog  & X591.BM.Prog\\_S0  & 591.BM.Prog         & AML  & Aged & AML           & Progenitor         & 591   & JAK2 V617F- & BM & sAML\\_Tx & AML & sAML  & sAML \\\\\n",
       "\t22 & X672A.PB.Prog & X672A.PB.Prog\\_S3 & 672A.PB.Prog        & AML  & Aged & AML (post-MF) & Progenitor         & 672A  & NA          & PB & sAML\\_Tx & AML & sAML  & sAML \\\\\n",
       "\t24 & X672B.PB.Prog & X672B.PB.Prog\\_S0 & 672B.PB.Prog        & AML  & Aged & AML (post-MF) & Progenitor         & 672B  & NA          & PB & sAML\\_Tx & AML & sAML  & sAML \\\\\n",
       "\t26 & X735.PB.Prog  & X735.PB.Prog\\_S8  & 735.PB.Prog         & AML  & Aged & AML           & Progenitor         & 735   & NA          & PB & sAML\\_Tx & AML & sAML  & sAML \\\\\n",
       "\t39 & 20\\_MDStoAML   & X20\\_MDStoAML     & RO50113             & sAML & NA   & de novo AML   & Sorted progenitors & 50113 & NA          & NA & sAML\\_Tx & NA  & dnAML & dnAML\\\\\n",
       "\t40 & 19\\_MDStoAML   & X19\\_MDStoAML     & RO50120             & sAML & NA   & de novo AML   & Sorted progenitors & 50120 & NA          & NA & sAML\\_Tx & NA  & dnAML & dnAML\\\\\n",
       "\t119 & 102           & X102             & 010408 JG           & sAML & NA   & sAML          & Sorted progenitors & 10408 & none        & NA & sAML\\_Tx & NA  & sAML  & sAML \\\\\n",
       "\t120 & 89            & X89              & 1690-61             & sAML & NA   & sAML          & Sorted progenitors & 1690  & none        & NA & sAML\\_Tx & NA  & sAML  & sAML \\\\\n",
       "\t121 & 87            & X87              & RO10008 (Bleakley?) & sAML & NA   & sAML          & Sorted progenitors & 10008 & none        & NA & sAML\\_Tx & NA  & sAML  & sAML \\\\\n",
       "\t122 & 36            & X36              & RO50124             & sAML & NA   & sAML          & Sorted progenitors & 50124 & none        & NA & sAML\\_Tx & NA  & sAML  & sAML \\\\\n",
       "\t123 & 42            & X42              & RO50200             & sAML & NA   & sAML          & Sorted progenitors & 50200 & none        & NA & sAML\\_Tx & NA  & sAML  & sAML \\\\\n",
       "\t124 & 107           & X107             & RO50240             & sAML & NA   & sAML          & Sorted progenitors & 50240 & none        & NA & sAML\\_Tx & NA  & sAML  & sAML \\\\\n",
       "\t125 & 48\\_MDStoAML   & X48\\_MDStoAML     & RO50261             & sAML & NA   & sAML          & Sorted progenitors & 50261 & none        & NA & sAML\\_Tx & NA  & sAML  & sAML \\\\\n",
       "\\end{tabular}\n"
      ],
      "text/markdown": [
       "\n",
       "A data.frame: 13 × 14\n",
       "\n",
       "| <!--/--> | File_ID &lt;chr&gt; | Sample &lt;chr&gt; | ID &lt;chr&gt; | Sample.type &lt;chr&gt; | Age &lt;chr&gt; | Condition &lt;chr&gt; | Cell.type &lt;chr&gt; | Patient_ID &lt;chr&gt; | Mutation &lt;chr&gt; | CellType &lt;chr&gt; | Sample.type4 &lt;chr&gt; | Phenotype &lt;fct&gt; | Sample.type3 &lt;fct&gt; | Sample.type2 &lt;chr&gt; |\n",
       "|---|---|---|---|---|---|---|---|---|---|---|---|---|---|---|\n",
       "| 18 | X591.BM.Prog  | X591.BM.Prog_S0  | 591.BM.Prog         | AML  | Aged | AML           | Progenitor         | 591   | JAK2 V617F- | BM | sAML_Tx | AML | sAML  | sAML  |\n",
       "| 22 | X672A.PB.Prog | X672A.PB.Prog_S3 | 672A.PB.Prog        | AML  | Aged | AML (post-MF) | Progenitor         | 672A  | NA          | PB | sAML_Tx | AML | sAML  | sAML  |\n",
       "| 24 | X672B.PB.Prog | X672B.PB.Prog_S0 | 672B.PB.Prog        | AML  | Aged | AML (post-MF) | Progenitor         | 672B  | NA          | PB | sAML_Tx | AML | sAML  | sAML  |\n",
       "| 26 | X735.PB.Prog  | X735.PB.Prog_S8  | 735.PB.Prog         | AML  | Aged | AML           | Progenitor         | 735   | NA          | PB | sAML_Tx | AML | sAML  | sAML  |\n",
       "| 39 | 20_MDStoAML   | X20_MDStoAML     | RO50113             | sAML | NA   | de novo AML   | Sorted progenitors | 50113 | NA          | NA | sAML_Tx | NA  | dnAML | dnAML |\n",
       "| 40 | 19_MDStoAML   | X19_MDStoAML     | RO50120             | sAML | NA   | de novo AML   | Sorted progenitors | 50120 | NA          | NA | sAML_Tx | NA  | dnAML | dnAML |\n",
       "| 119 | 102           | X102             | 010408 JG           | sAML | NA   | sAML          | Sorted progenitors | 10408 | none        | NA | sAML_Tx | NA  | sAML  | sAML  |\n",
       "| 120 | 89            | X89              | 1690-61             | sAML | NA   | sAML          | Sorted progenitors | 1690  | none        | NA | sAML_Tx | NA  | sAML  | sAML  |\n",
       "| 121 | 87            | X87              | RO10008 (Bleakley?) | sAML | NA   | sAML          | Sorted progenitors | 10008 | none        | NA | sAML_Tx | NA  | sAML  | sAML  |\n",
       "| 122 | 36            | X36              | RO50124             | sAML | NA   | sAML          | Sorted progenitors | 50124 | none        | NA | sAML_Tx | NA  | sAML  | sAML  |\n",
       "| 123 | 42            | X42              | RO50200             | sAML | NA   | sAML          | Sorted progenitors | 50200 | none        | NA | sAML_Tx | NA  | sAML  | sAML  |\n",
       "| 124 | 107           | X107             | RO50240             | sAML | NA   | sAML          | Sorted progenitors | 50240 | none        | NA | sAML_Tx | NA  | sAML  | sAML  |\n",
       "| 125 | 48_MDStoAML   | X48_MDStoAML     | RO50261             | sAML | NA   | sAML          | Sorted progenitors | 50261 | none        | NA | sAML_Tx | NA  | sAML  | sAML  |\n",
       "\n"
      ],
      "text/plain": [
       "    File_ID       Sample           ID                  Sample.type Age \n",
       "18  X591.BM.Prog  X591.BM.Prog_S0  591.BM.Prog         AML         Aged\n",
       "22  X672A.PB.Prog X672A.PB.Prog_S3 672A.PB.Prog        AML         Aged\n",
       "24  X672B.PB.Prog X672B.PB.Prog_S0 672B.PB.Prog        AML         Aged\n",
       "26  X735.PB.Prog  X735.PB.Prog_S8  735.PB.Prog         AML         Aged\n",
       "39  20_MDStoAML   X20_MDStoAML     RO50113             sAML        NA  \n",
       "40  19_MDStoAML   X19_MDStoAML     RO50120             sAML        NA  \n",
       "119 102           X102             010408 JG           sAML        NA  \n",
       "120 89            X89              1690-61             sAML        NA  \n",
       "121 87            X87              RO10008 (Bleakley?) sAML        NA  \n",
       "122 36            X36              RO50124             sAML        NA  \n",
       "123 42            X42              RO50200             sAML        NA  \n",
       "124 107           X107             RO50240             sAML        NA  \n",
       "125 48_MDStoAML   X48_MDStoAML     RO50261             sAML        NA  \n",
       "    Condition     Cell.type          Patient_ID Mutation    CellType\n",
       "18  AML           Progenitor         591        JAK2 V617F- BM      \n",
       "22  AML (post-MF) Progenitor         672A       NA          PB      \n",
       "24  AML (post-MF) Progenitor         672B       NA          PB      \n",
       "26  AML           Progenitor         735        NA          PB      \n",
       "39  de novo AML   Sorted progenitors 50113      NA          NA      \n",
       "40  de novo AML   Sorted progenitors 50120      NA          NA      \n",
       "119 sAML          Sorted progenitors 10408      none        NA      \n",
       "120 sAML          Sorted progenitors 1690       none        NA      \n",
       "121 sAML          Sorted progenitors 10008      none        NA      \n",
       "122 sAML          Sorted progenitors 50124      none        NA      \n",
       "123 sAML          Sorted progenitors 50200      none        NA      \n",
       "124 sAML          Sorted progenitors 50240      none        NA      \n",
       "125 sAML          Sorted progenitors 50261      none        NA      \n",
       "    Sample.type4 Phenotype Sample.type3 Sample.type2\n",
       "18  sAML_Tx      AML       sAML         sAML        \n",
       "22  sAML_Tx      AML       sAML         sAML        \n",
       "24  sAML_Tx      AML       sAML         sAML        \n",
       "26  sAML_Tx      AML       sAML         sAML        \n",
       "39  sAML_Tx      NA        dnAML        dnAML       \n",
       "40  sAML_Tx      NA        dnAML        dnAML       \n",
       "119 sAML_Tx      NA        sAML         sAML        \n",
       "120 sAML_Tx      NA        sAML         sAML        \n",
       "121 sAML_Tx      NA        sAML         sAML        \n",
       "122 sAML_Tx      NA        sAML         sAML        \n",
       "123 sAML_Tx      NA        sAML         sAML        \n",
       "124 sAML_Tx      NA        sAML         sAML        \n",
       "125 sAML_Tx      NA        sAML         sAML        "
      ]
     },
     "metadata": {},
     "output_type": "display_data"
    },
    {
     "name": "stderr",
     "output_type": "stream",
     "text": [
      "'select()' returned 1:many mapping between keys and columns\n",
      "'select()' returned 1:many mapping between keys and columns\n"
     ]
    }
   ],
   "source": [
    "meta <- read.csv(\"combined_meta2.csv\", stringsAsFactors=FALSE)\n",
    "meta$CellType <- rep(\"BM\", nrow(meta))\n",
    "types <- unlist(lapply(meta$ID, function(x) strsplit(x, split=\"\\\\.\")[[1]][2]))\n",
    "meta$CellType[which(!meta$Sample.type %in% c(\"Aged normal bone marrow\",\"Young normal bone marrow\"))] <- types[which(!meta$Sample.type %in% c(\"Aged normal bone marrow\",\"Young normal bone marrow\"))]\n",
    "meta$Sample.type2 <- meta$Sample.type3 <- meta$Phenotype <- meta$Sample.type4 <- recode(meta$Sample.type, \n",
    "                                            `Aged normal bone marrow`=\"ABM\", `Young normal bone marrow`=\"YBM\")\n",
    "meta$Sample.type2[which(meta$Sample.type %in% c(\"Aged normal bone marrow\",\"Young normal bone marrow\"))] <- \"NBM\"\n",
    "meta$Sample.type2 <- gsub(\"sAML\", \"AML\", meta$Sample.type2)\n",
    "meta$Sample.type3 <- gsub(\"sAML\", \"AML\", meta$Sample.type3)\n",
    "meta$Sample.type4 <- recode(meta$Sample.type3, sAML=\"sAML_UnTx\", `de novo AML`=\"sAML_UnTx\", AML=\"sAML_Tx\")                       \n",
    "meta$Sample.type2 <- gsub(\"^AML$\", \"sAML\", meta$Sample.type2)\n",
    "meta$Sample.type3 <- gsub(\"^AML$\", \"sAML\", meta$Sample.type3)\n",
    "meta$Sample.type2[which(meta$Condition == \"de novo AML\")] <- \"dnAML\"\n",
    "meta$Sample.type3[which(meta$Condition == \"de novo AML\")] <- \"dnAML\"\n",
    "meta2.Prog.filt <- meta[meta$Sample.type3 %in% c(\"ABM\", \"YBM\", \"CML\", \"sAML\", \"ET\", \"PV\", \"MF\", \"dnAML\") & \n",
    "                         meta$Cell.type %in% c(\"Progenitor\", \"Sorted progenitors\"),]\n",
    "meta2.Prog.filt$Phenotype <- factor(as.character(meta2.Prog.filt$Phenotype), \n",
    "                                           levels=c(\"ABM\", \"YBM\", \"ET\", \"PV\", \"MF\", \"CML\", \"AML\"))\n",
    "meta2.Prog.filt$Sample.type3 <- factor(as.character(meta2.Prog.filt$Sample.type3),\n",
    "                                      levels=c(\"ABM\", \"YBM\", \"ET\", \"PV\", \"MF\", \"CML\", \"sAML\", \"dnAML\"))\n",
    "\n",
    "meta2.Prog.filt[meta2.Prog.filt$Sample.type3 %in% c(\"AML\", \"sAML\", \"dnAML\"),]\n",
    "\n",
    "genes <- AnnotationDbi::select(Homo.sapiens, keys=gsub(\"[.].*$\",\"\", rownames(gene_counts_new)), columns=c(\"SYMBOL\", \"ENSEMBL\", \"ENTREZID\"), \n",
    "                keytype=\"ENSEMBL\")\n",
    "genes <- genes[!duplicated(genes$ENSEMBL),]\n",
    "genes2 <- plyr::ddply(AnnotationDbi::select(Homo.sapiens,\n",
    "                        keys=gsub(\"[.].*$\",\"\", rownames(gene_counts_new)),\n",
    "                        columns = c(\"SYMBOL\", \"ENSEMBL\", \"ENTREZID\"),\n",
    "                        keytype=\"ENSEMBL\"), \"ENSEMBL\", function(X){X[1,]})\n",
    "gene_table_anno <- cbind(gene_counts_new, genes[match(gsub(\"[.].*$\",\"\", \n",
    "                                                           rownames(gene_counts_new)), genes$ENSEMBL),2:3])\n",
    "\n",
    "meta2 <- read.csv(\"fheditsHolm_Jamieson_RNAseq_with_controls_meta_20200303.csv\", header=TRUE, stringsAsFactors = FALSE)\n",
    "\n",
    "meta$Sex <- meta2[match(gsub(\"_S[0-9]+$\",\"\",meta$Sample), \n",
    "                        gsub(\"_S[0-9]+$\",\"\",meta2$Sample)), \"Sex\"] \n",
    "\n",
    "meta2$Phenotype <- meta2$Condition_code2\n",
    "meta2$Phenotype[which(meta2$Condition_code2 %in% c(\"Aged_Normal\",\"Young_Normal\"))] <- \"Normal\"\n",
    "meta2$Phenotype2 <- recode(meta2$Condition_code2, Aged_Normal=\"ABM\", Young_Normal=\"YBM\")\n",
    "meta2$Condition_code3 <- meta2$Condition_code\n",
    "meta2$Condition_code <- gsub(\"_risk_myelofibrosis$\", \"\", \n",
    "                             gsub(\"_postPV$\", \"\", gsub(\"_postET$\", \"\", \n",
    "                                  gsub(\"_fromMDS$\", \"\", gsub(\"^int2\", \"intermediate_risk\", \n",
    "                                       gsub(\"syProgic_mastocytosis_\",\"\",\n",
    "                                            meta2$Condition_code))))))\n",
    "meta2$Condition_code[meta2$Condition_code %in% \"myelofibrosis\"] <- \"low\"\n",
    "meta2$Phenotype <- gsub(\"^AML\", \"sAML\", meta2$Phenotype)\n",
    "meta2_filt <- subset(meta2, Phenotype %in% c(\"Normal\", \"MF\", \"PV\", \"ET\", \"CML\", \"sAML\", \"denovoAML\")) \n",
    "\n",
    "meta2.Prog.filt$Phenotype2 <- factor(as.character(meta2_filt[match(gsub(\"_S[0-9]+$\",\"\",meta2.Prog.filt$Sample), \n",
    "                              gsub(\"_S[0-9]+$\",\"\",meta2_filt$Sample)),\"Phenotype2\"]), \n",
    "                              levels=c(\"ABM\", \"YBM\", \"ET\", \"PV\", \"MF\", \"CML\", \"AML\", \"sAML\", \"denovoAML\"))\n",
    "meta2.Prog.filt$Phenotype4 <- factor(as.character(meta2.Prog.filt$Sample.type3),\n",
    "                                     levels=c(\"ABM\", \"YBM\", \"ET\", \"PV\", \"MF\", \"CML\", \"sAML\", \"dnAML\"))\n",
    "\n",
    "meta2_filt$Phenotype3 <- meta2_filt$Phenotype2\n",
    "meta2_filt$JAK2 <- meta2_filt$Mutation\n",
    "meta2_filt$JAK2[meta2_filt$JAK2 %in% c(\"JAK2V617F+\",\"JAK2 V617F+\")] <- \"V617F+\"\n",
    "meta2_filt$JAK2[meta2_filt$JAK2 %in% c(\"JAK2 V617F-\")] <- \"V617F-\"\n",
    "meta2_filt$JAK2[!meta2_filt$JAK2 %in% c(\"V617F-\", \"V617F+\")] <- NA\n",
    "meta2_filt$Tissue <- meta2_filt$Tissue.Type\n"
   ]
  },
  {
   "cell_type": "markdown",
   "metadata": {},
   "source": [
    "### Prepare count data and metadata for 2 group comparisons"
   ]
  },
  {
   "cell_type": "code",
   "execution_count": 8,
   "metadata": {},
   "outputs": [],
   "source": [
    "group.ABM.ET.PB <- c('X368_ACAGTG_S0', 'X380_ACAGTG_S0', 'X401_ACAGTG_S0', 'X402_ACAGTG_S0', \n",
    "                     'X410_ACAGTG_S0', 'X415_ACAGTG_S0', 'X416_ACAGTG_S0', 'X426_ACAGTG_S0',\n",
    "                     'X431.PB.Prog_S0', 'X638.BM.Prog_S1')\n",
    "\n",
    "geneCountCrop.ABM.ET.PB <- gene_counts_new[, group.ABM.ET.PB]\n",
    "\n",
    "geneCount_names_order <- c(colnames(geneCountCrop.ABM.ET.PB)[1:8], \n",
    "                           gsub(\"_S[0-9]$\", \"\", colnames(geneCountCrop.ABM.ET.PB)[9:10]))\n",
    "metaCrop.ABM.ET.PB <- meta[which(meta$Sample %in% geneCount_names_order), ]\n",
    "geneCount.ABM.ET.PB <- geneCountCrop.ABM.ET.PB\n",
    "\n",
    "metaCrop.ABM.ET.PB$Sample <- reorder.factor(metaCrop.ABM.ET.PB$Sample, new.order=geneCount_names_order)\n",
    "metaCrop.ABM.ET.PB <- metaCrop.ABM.ET.PB[order(metaCrop.ABM.ET.PB$Sample),] #%>% arrange(Sample)"
   ]
  },
  {
   "cell_type": "code",
   "execution_count": 9,
   "metadata": {},
   "outputs": [],
   "source": [
    "group.ABM.PV.PB <- c('X368_ACAGTG_S0', 'X380_ACAGTG_S0', 'X401_ACAGTG_S0', 'X402_ACAGTG_S0', \n",
    "                        'X410_ACAGTG_S0', 'X415_ACAGTG_S0', 'X416_ACAGTG_S0', 'X426_ACAGTG_S0',\n",
    "                        'X598.PB.Prog_S0', 'X575A.PB.Prog_S0', \n",
    "                        'X562.PB.Prog_S0', 'X662.BM.Prog_S4', 'X690.BM.Prog_S5', \n",
    "                        'X689.BM.Prog_S11')\n",
    "geneCountCrop.ABM.PV.PB <- gene_counts_new[, group.ABM.PV.PB]\n",
    "\n",
    "geneCount_names_order <- c(colnames(geneCountCrop.ABM.PV.PB)[1:14])\n",
    "metaCrop.ABM.PV.PB <- meta[which(meta$Sample %in% geneCount_names_order), ]\n",
    "geneCount.ABM.PV.PB <- geneCountCrop.ABM.PV.PB\n",
    "\n",
    "metaCrop.ABM.PV.PB$Sample <- reorder.factor(metaCrop.ABM.PV.PB$Sample, new.order=geneCount_names_order)\n",
    "metaCrop.ABM.PV.PB <- metaCrop.ABM.PV.PB[order(metaCrop.ABM.PV.PB$Sample),] #%>% arrange(Sample)"
   ]
  },
  {
   "cell_type": "code",
   "execution_count": 10,
   "metadata": {},
   "outputs": [
    {
     "data": {
      "text/html": [
       "<ol class=list-inline>\n",
       "\t<li>'X724.PB.Prog_S3'</li>\n",
       "\t<li>'X668.PB.Prog_S2'</li>\n",
       "\t<li>'X736.BM.Prog_S0'</li>\n",
       "\t<li>'X600.PB.Prog_S0'</li>\n",
       "\t<li>'X732.PB.Prog_S5'</li>\n",
       "\t<li>'X580.BM.Prog_S0'</li>\n",
       "\t<li>'X664.BM.Prog_S4'</li>\n",
       "\t<li>'X428.PB.Prog_S0'</li>\n",
       "\t<li>'X725.PB.Prog_S7'</li>\n",
       "\t<li>'X566.PB.Prog_S0'</li>\n",
       "\t<li>'X600.BM.Prog_S0'</li>\n",
       "\t<li>'X407.PB.Prog_S0'</li>\n",
       "\t<li>'X569.PB.Prog_S0'</li>\n",
       "\t<li>'X581.PB.Prog_S2'</li>\n",
       "\t<li>'X599.PB.Prog_S0'</li>\n",
       "\t<li>'X621.PB.Prog_S2'</li>\n",
       "\t<li>'X767.BM.Prog_S0'</li>\n",
       "\t<li>'X744.PB.Prog_S0'</li>\n",
       "\t<li>'X560.PB.Prog_S0'</li>\n",
       "\t<li>'X576.PB.Prog_S0'</li>\n",
       "\t<li>'X573.BM.Prog_S0'</li>\n",
       "\t<li>'X670A.PB.Prog_S3'</li>\n",
       "\t<li>'X670B.PB.Prog_S2'</li>\n",
       "\t<li>'X666.PB.Prog_S2'</li>\n",
       "</ol>\n"
      ],
      "text/latex": [
       "\\begin{enumerate*}\n",
       "\\item 'X724.PB.Prog\\_S3'\n",
       "\\item 'X668.PB.Prog\\_S2'\n",
       "\\item 'X736.BM.Prog\\_S0'\n",
       "\\item 'X600.PB.Prog\\_S0'\n",
       "\\item 'X732.PB.Prog\\_S5'\n",
       "\\item 'X580.BM.Prog\\_S0'\n",
       "\\item 'X664.BM.Prog\\_S4'\n",
       "\\item 'X428.PB.Prog\\_S0'\n",
       "\\item 'X725.PB.Prog\\_S7'\n",
       "\\item 'X566.PB.Prog\\_S0'\n",
       "\\item 'X600.BM.Prog\\_S0'\n",
       "\\item 'X407.PB.Prog\\_S0'\n",
       "\\item 'X569.PB.Prog\\_S0'\n",
       "\\item 'X581.PB.Prog\\_S2'\n",
       "\\item 'X599.PB.Prog\\_S0'\n",
       "\\item 'X621.PB.Prog\\_S2'\n",
       "\\item 'X767.BM.Prog\\_S0'\n",
       "\\item 'X744.PB.Prog\\_S0'\n",
       "\\item 'X560.PB.Prog\\_S0'\n",
       "\\item 'X576.PB.Prog\\_S0'\n",
       "\\item 'X573.BM.Prog\\_S0'\n",
       "\\item 'X670A.PB.Prog\\_S3'\n",
       "\\item 'X670B.PB.Prog\\_S2'\n",
       "\\item 'X666.PB.Prog\\_S2'\n",
       "\\end{enumerate*}\n"
      ],
      "text/markdown": [
       "1. 'X724.PB.Prog_S3'\n",
       "2. 'X668.PB.Prog_S2'\n",
       "3. 'X736.BM.Prog_S0'\n",
       "4. 'X600.PB.Prog_S0'\n",
       "5. 'X732.PB.Prog_S5'\n",
       "6. 'X580.BM.Prog_S0'\n",
       "7. 'X664.BM.Prog_S4'\n",
       "8. 'X428.PB.Prog_S0'\n",
       "9. 'X725.PB.Prog_S7'\n",
       "10. 'X566.PB.Prog_S0'\n",
       "11. 'X600.BM.Prog_S0'\n",
       "12. 'X407.PB.Prog_S0'\n",
       "13. 'X569.PB.Prog_S0'\n",
       "14. 'X581.PB.Prog_S2'\n",
       "15. 'X599.PB.Prog_S0'\n",
       "16. 'X621.PB.Prog_S2'\n",
       "17. 'X767.BM.Prog_S0'\n",
       "18. 'X744.PB.Prog_S0'\n",
       "19. 'X560.PB.Prog_S0'\n",
       "20. 'X576.PB.Prog_S0'\n",
       "21. 'X573.BM.Prog_S0'\n",
       "22. 'X670A.PB.Prog_S3'\n",
       "23. 'X670B.PB.Prog_S2'\n",
       "24. 'X666.PB.Prog_S2'\n",
       "\n",
       "\n"
      ],
      "text/plain": [
       " [1] \"X724.PB.Prog_S3\"  \"X668.PB.Prog_S2\"  \"X736.BM.Prog_S0\"  \"X600.PB.Prog_S0\" \n",
       " [5] \"X732.PB.Prog_S5\"  \"X580.BM.Prog_S0\"  \"X664.BM.Prog_S4\"  \"X428.PB.Prog_S0\" \n",
       " [9] \"X725.PB.Prog_S7\"  \"X566.PB.Prog_S0\"  \"X600.BM.Prog_S0\"  \"X407.PB.Prog_S0\" \n",
       "[13] \"X569.PB.Prog_S0\"  \"X581.PB.Prog_S2\"  \"X599.PB.Prog_S0\"  \"X621.PB.Prog_S2\" \n",
       "[17] \"X767.BM.Prog_S0\"  \"X744.PB.Prog_S0\"  \"X560.PB.Prog_S0\"  \"X576.PB.Prog_S0\" \n",
       "[21] \"X573.BM.Prog_S0\"  \"X670A.PB.Prog_S3\" \"X670B.PB.Prog_S2\" \"X666.PB.Prog_S2\" "
      ]
     },
     "metadata": {},
     "output_type": "display_data"
    }
   ],
   "source": [
    "colnames(gene_counts_new)[sapply(c('X724.PB.Prog_S3', 'X668.PB.Prog_S2',  'X736.BM.Prog_S0', \n",
    "                       'X600.PB.Prog_S0', 'X732.PB.Prog_S5', \n",
    "                       'X580.BM.Prog_S0', 'X664.BM.Prog_S4', 'X428.PB.Prog_S0', \n",
    "                       'X725.PB.Prog_S7', \n",
    "                        'X566.PB.Prog', 'X600.BM.Prog', 'X407.PB.Prog', 'X569.PB.Prog', 'X581.PB.Prog',\n",
    "                        'X599.PB.Prog', 'X621.PB.Prog', 'X767.BM.Prog', 'X744.PB.Prog', 'X560.PB.Prog',\n",
    "                        'X576.PB.Prog', 'X573.BM.Prog', 'X670A.PB.Prog', 'X670B.PB.Prog', 'X666.PB.Prog'), \n",
    "                                 function(x) grep(x, colnames(gene_counts_new)))]\n",
    "                                  \n",
    "group.ABM.MF.PB <- c('X368_ACAGTG_S0', 'X380_ACAGTG_S0', 'X401_ACAGTG_S0', 'X402_ACAGTG_S0', \n",
    "                        'X410_ACAGTG_S0', 'X415_ACAGTG_S0', 'X416_ACAGTG_S0', 'X426_ACAGTG_S0',\n",
    "                         'X724.PB.Prog_S3', 'X668.PB.Prog_S2',  'X736.BM.Prog_S0', \n",
    "                       'X600.PB.Prog_S0', 'X732.PB.Prog_S5', \n",
    "                       'X580.BM.Prog_S0', 'X664.BM.Prog_S4', 'X428.PB.Prog_S0', \n",
    "                       'X725.PB.Prog_S7', \n",
    "                        'X566.PB.Prog_S0', 'X600.BM.Prog_S0', 'X407.PB.Prog_S0', 'X569.PB.Prog_S0', 'X581.PB.Prog_S2',\n",
    "                        'X599.PB.Prog_S0', 'X621.PB.Prog_S2', 'X767.BM.Prog_S0', 'X744.PB.Prog_S0', 'X560.PB.Prog_S0',\n",
    "                        'X576.PB.Prog_S0', 'X573.BM.Prog_S0', 'X670A.PB.Prog_S3', 'X670B.PB.Prog_S2', 'X666.PB.Prog_S2')\n",
    "geneCountCrop.ABM.MF.PB <- gene_counts_new[, group.ABM.MF.PB]\n",
    "\n",
    "geneCount_names_order <- c(colnames(geneCountCrop.ABM.MF.PB)[1:11], \n",
    "                           gsub(\"_S[0-9]$\", \"\", colnames(geneCountCrop.ABM.MF.PB)[12:32]))\n",
    "metaCrop.ABM.MF.PB <- meta[which(meta$Sample %in% geneCount_names_order), ]\n",
    "geneCount.ABM.MF.PB <- geneCountCrop.ABM.MF.PB\n",
    "\n",
    "metaCrop.ABM.MF.PB$Sample <- reorder.factor(metaCrop.ABM.MF.PB$Sample, new.order=geneCount_names_order)\n",
    "metaCrop.ABM.MF.PB <- metaCrop.ABM.MF.PB[order(metaCrop.ABM.MF.PB$Sample),] #%>% arrange(Sample)"
   ]
  },
  {
   "cell_type": "code",
   "execution_count": 11,
   "metadata": {},
   "outputs": [
    {
     "data": {
      "text/html": [
       "<ol class=list-inline>\n",
       "\t<li>'X368_ACAGTG_S0'</li>\n",
       "\t<li>'X380_ACAGTG_S0'</li>\n",
       "\t<li>'X401_ACAGTG_S0'</li>\n",
       "\t<li>'X402_ACAGTG_S0'</li>\n",
       "\t<li>'X410_ACAGTG_S0'</li>\n",
       "\t<li>'X415_ACAGTG_S0'</li>\n",
       "\t<li>'X416_ACAGTG_S0'</li>\n",
       "\t<li>'X426_ACAGTG_S0'</li>\n",
       "\t<li>'X608.BM.Prog_S3'</li>\n",
       "\t<li>'X616.BM.Prog_S0'</li>\n",
       "\t<li>'X571.BM.Prog_S0'</li>\n",
       "\t<li>'X727.PB.Prog_S4'</li>\n",
       "\t<li>'X703.PB.Prog_S13'</li>\n",
       "</ol>\n"
      ],
      "text/latex": [
       "\\begin{enumerate*}\n",
       "\\item 'X368\\_ACAGTG\\_S0'\n",
       "\\item 'X380\\_ACAGTG\\_S0'\n",
       "\\item 'X401\\_ACAGTG\\_S0'\n",
       "\\item 'X402\\_ACAGTG\\_S0'\n",
       "\\item 'X410\\_ACAGTG\\_S0'\n",
       "\\item 'X415\\_ACAGTG\\_S0'\n",
       "\\item 'X416\\_ACAGTG\\_S0'\n",
       "\\item 'X426\\_ACAGTG\\_S0'\n",
       "\\item 'X608.BM.Prog\\_S3'\n",
       "\\item 'X616.BM.Prog\\_S0'\n",
       "\\item 'X571.BM.Prog\\_S0'\n",
       "\\item 'X727.PB.Prog\\_S4'\n",
       "\\item 'X703.PB.Prog\\_S13'\n",
       "\\end{enumerate*}\n"
      ],
      "text/markdown": [
       "1. 'X368_ACAGTG_S0'\n",
       "2. 'X380_ACAGTG_S0'\n",
       "3. 'X401_ACAGTG_S0'\n",
       "4. 'X402_ACAGTG_S0'\n",
       "5. 'X410_ACAGTG_S0'\n",
       "6. 'X415_ACAGTG_S0'\n",
       "7. 'X416_ACAGTG_S0'\n",
       "8. 'X426_ACAGTG_S0'\n",
       "9. 'X608.BM.Prog_S3'\n",
       "10. 'X616.BM.Prog_S0'\n",
       "11. 'X571.BM.Prog_S0'\n",
       "12. 'X727.PB.Prog_S4'\n",
       "13. 'X703.PB.Prog_S13'\n",
       "\n",
       "\n"
      ],
      "text/plain": [
       " [1] \"X368_ACAGTG_S0\"   \"X380_ACAGTG_S0\"   \"X401_ACAGTG_S0\"   \"X402_ACAGTG_S0\"  \n",
       " [5] \"X410_ACAGTG_S0\"   \"X415_ACAGTG_S0\"   \"X416_ACAGTG_S0\"   \"X426_ACAGTG_S0\"  \n",
       " [9] \"X608.BM.Prog_S3\"  \"X616.BM.Prog_S0\"  \"X571.BM.Prog_S0\"  \"X727.PB.Prog_S4\" \n",
       "[13] \"X703.PB.Prog_S13\""
      ]
     },
     "metadata": {},
     "output_type": "display_data"
    }
   ],
   "source": [
    "colnames(gene_counts_new)[sapply(c('X368_ACAGTG_S0', 'X380_ACAGTG_S0', 'X401_ACAGTG_S0', 'X402_ACAGTG_S0', \n",
    "                        'X410_ACAGTG_S0', 'X415_ACAGTG_S0', 'X416_ACAGTG_S0', 'X426_ACAGTG_S0',\n",
    "                         'X608.BM.Prog_S3', 'X616.BM.Prog_S0', 'X571.BM.Prog_S0', 'X727.PB.Prog_S4', 'X703.PB.Prog_S13'), \n",
    "                                function(x) grep(x, colnames(gene_counts_new)))]\n",
    "                                     \n",
    "group.ABM.CML.PB <- c('X368_ACAGTG_S0', 'X380_ACAGTG_S0', 'X401_ACAGTG_S0', 'X402_ACAGTG_S0', \n",
    "                        'X410_ACAGTG_S0', 'X415_ACAGTG_S0', 'X416_ACAGTG_S0', 'X426_ACAGTG_S0',\n",
    "                         'X608.BM.Prog_S3', 'X616.BM.Prog_S0', 'X571.BM.Prog_S0', 'X727.PB.Prog_S4', 'X703.PB.Prog_S13')\n",
    "geneCountCrop.ABM.CML.PB <- gene_counts_new[, group.ABM.CML.PB]\n",
    "\n",
    "geneCount_names_order <- c(colnames(geneCountCrop.ABM.CML.PB)[1:8], \n",
    "                           gsub(\"_S[0-9]+$\", \"\", colnames(geneCountCrop.ABM.CML.PB)[9:13]))\n",
    "metaCrop.ABM.CML.PB <- meta[which(meta$Sample %in% geneCount_names_order), ]\n",
    "geneCount.ABM.CML.PB <- geneCountCrop.ABM.CML.PB\n",
    "\n",
    "metaCrop.ABM.CML.PB$Sample <- reorder.factor(metaCrop.ABM.CML.PB$Sample, new.order=geneCount_names_order)\n",
    "metaCrop.ABM.CML.PB <- metaCrop.ABM.CML.PB[order(metaCrop.ABM.CML.PB$Sample),] #%>% arrange(Sample)"
   ]
  },
  {
   "cell_type": "code",
   "execution_count": 13,
   "metadata": {},
   "outputs": [
    {
     "data": {
      "text/html": [
       "<ol class=list-inline>\n",
       "\t<li>'X19_MDStoAML'</li>\n",
       "\t<li>'X20_MDStoAML'</li>\n",
       "\t<li>'X48_MDStoAML'</li>\n",
       "\t<li>'X36'</li>\n",
       "\t<li>'X42'</li>\n",
       "\t<li>'X87'</li>\n",
       "\t<li>'X89'</li>\n",
       "\t<li>'X102'</li>\n",
       "\t<li>'X107'</li>\n",
       "</ol>\n"
      ],
      "text/latex": [
       "\\begin{enumerate*}\n",
       "\\item 'X19\\_MDStoAML'\n",
       "\\item 'X20\\_MDStoAML'\n",
       "\\item 'X48\\_MDStoAML'\n",
       "\\item 'X36'\n",
       "\\item 'X42'\n",
       "\\item 'X87'\n",
       "\\item 'X89'\n",
       "\\item 'X102'\n",
       "\\item 'X107'\n",
       "\\end{enumerate*}\n"
      ],
      "text/markdown": [
       "1. 'X19_MDStoAML'\n",
       "2. 'X20_MDStoAML'\n",
       "3. 'X48_MDStoAML'\n",
       "4. 'X36'\n",
       "5. 'X42'\n",
       "6. 'X87'\n",
       "7. 'X89'\n",
       "8. 'X102'\n",
       "9. 'X107'\n",
       "\n",
       "\n"
      ],
      "text/plain": [
       "[1] \"X19_MDStoAML\" \"X20_MDStoAML\" \"X48_MDStoAML\" \"X36\"          \"X42\"         \n",
       "[6] \"X87\"          \"X89\"          \"X102\"         \"X107\"        "
      ]
     },
     "metadata": {},
     "output_type": "display_data"
    }
   ],
   "source": [
    "colnames(gene_counts_new)[sapply(c('X19_MDStoAML', 'X20_MDStoAML', 'X48_MDStoAML', 'X36$', 'X42$', 'X87$', 'X89$', 'X102$', 'X107$'), \n",
    "                                function(x) grep(x, colnames(gene_counts_new)))]\n",
    "                                     \n",
    "group.ABM.sAML.PB <- c('X368_ACAGTG_S0', 'X380_ACAGTG_S0', 'X401_ACAGTG_S0', 'X402_ACAGTG_S0', \n",
    "                      'X410_ACAGTG_S0', 'X415_ACAGTG_S0', 'X416_ACAGTG_S0', 'X426_ACAGTG_S0',\n",
    "                      'X19_MDStoAML', 'X20_MDStoAML', 'X48_MDStoAML', 'X36', 'X42', 'X87', 'X89', 'X102', 'X107')\n",
    "\n",
    "geneCountCrop.ABM.sAML.PB <- gene_counts_new[, group.ABM.sAML.PB]\n",
    "\n",
    "geneCount_names_order <- c(colnames(geneCountCrop.ABM.sAML.PB)[1:17])\n",
    "metaCrop.ABM.sAML.PB <- meta[which(meta$Sample %in% geneCount_names_order), ]\n",
    "geneCount.ABM.sAML.PB <- geneCountCrop.ABM.sAML.PB\n",
    "\n",
    "metaCrop.ABM.sAML.PB$Sample <- reorder.factor(metaCrop.ABM.sAML.PB$Sample, new.order=geneCount_names_order)\n",
    "metaCrop.ABM.sAML.PB <- metaCrop.ABM.sAML.PB[order(metaCrop.ABM.sAML.PB$Sample),] #%>% arrange(Sample)"
   ]
  },
  {
   "cell_type": "code",
   "execution_count": 15,
   "metadata": {},
   "outputs": [
    {
     "data": {
      "text/html": [
       "<ol class=list-inline>\n",
       "\t<li>'X735.PB.Prog_S8'</li>\n",
       "\t<li>'X591.BM.Prog_S0'</li>\n",
       "\t<li>'X672A.PB.Prog_S3'</li>\n",
       "\t<li>'X672B.PB.Prog_S0'</li>\n",
       "\t<li>'X724.PB.Prog_S3'</li>\n",
       "\t<li>'X668.PB.Prog_S2'</li>\n",
       "\t<li>'X736.BM.Prog_S0'</li>\n",
       "\t<li>'X600.PB.Prog_S0'</li>\n",
       "\t<li>'X732.PB.Prog_S5'</li>\n",
       "\t<li>'X580.BM.Prog_S0'</li>\n",
       "\t<li>'X664.BM.Prog_S4'</li>\n",
       "\t<li>'X428.PB.Prog_S0'</li>\n",
       "\t<li>'X725.PB.Prog_S7'</li>\n",
       "\t<li>'X566.PB.Prog_S0'</li>\n",
       "\t<li>'X600.BM.Prog_S0'</li>\n",
       "\t<li>'X407.PB.Prog_S0'</li>\n",
       "\t<li>'X569.PB.Prog_S0'</li>\n",
       "\t<li>'X581.PB.Prog_S2'</li>\n",
       "\t<li>'X599.PB.Prog_S0'</li>\n",
       "\t<li>'X621.PB.Prog_S2'</li>\n",
       "\t<li>'X767.BM.Prog_S0'</li>\n",
       "\t<li>'X744.PB.Prog_S0'</li>\n",
       "\t<li>'X560.PB.Prog_S0'</li>\n",
       "\t<li>'X576.PB.Prog_S0'</li>\n",
       "\t<li>'X573.BM.Prog_S0'</li>\n",
       "\t<li>'X670A.PB.Prog_S3'</li>\n",
       "\t<li>'X670B.PB.Prog_S2'</li>\n",
       "\t<li>'X666.PB.Prog_S2'</li>\n",
       "</ol>\n"
      ],
      "text/latex": [
       "\\begin{enumerate*}\n",
       "\\item 'X735.PB.Prog\\_S8'\n",
       "\\item 'X591.BM.Prog\\_S0'\n",
       "\\item 'X672A.PB.Prog\\_S3'\n",
       "\\item 'X672B.PB.Prog\\_S0'\n",
       "\\item 'X724.PB.Prog\\_S3'\n",
       "\\item 'X668.PB.Prog\\_S2'\n",
       "\\item 'X736.BM.Prog\\_S0'\n",
       "\\item 'X600.PB.Prog\\_S0'\n",
       "\\item 'X732.PB.Prog\\_S5'\n",
       "\\item 'X580.BM.Prog\\_S0'\n",
       "\\item 'X664.BM.Prog\\_S4'\n",
       "\\item 'X428.PB.Prog\\_S0'\n",
       "\\item 'X725.PB.Prog\\_S7'\n",
       "\\item 'X566.PB.Prog\\_S0'\n",
       "\\item 'X600.BM.Prog\\_S0'\n",
       "\\item 'X407.PB.Prog\\_S0'\n",
       "\\item 'X569.PB.Prog\\_S0'\n",
       "\\item 'X581.PB.Prog\\_S2'\n",
       "\\item 'X599.PB.Prog\\_S0'\n",
       "\\item 'X621.PB.Prog\\_S2'\n",
       "\\item 'X767.BM.Prog\\_S0'\n",
       "\\item 'X744.PB.Prog\\_S0'\n",
       "\\item 'X560.PB.Prog\\_S0'\n",
       "\\item 'X576.PB.Prog\\_S0'\n",
       "\\item 'X573.BM.Prog\\_S0'\n",
       "\\item 'X670A.PB.Prog\\_S3'\n",
       "\\item 'X670B.PB.Prog\\_S2'\n",
       "\\item 'X666.PB.Prog\\_S2'\n",
       "\\end{enumerate*}\n"
      ],
      "text/markdown": [
       "1. 'X735.PB.Prog_S8'\n",
       "2. 'X591.BM.Prog_S0'\n",
       "3. 'X672A.PB.Prog_S3'\n",
       "4. 'X672B.PB.Prog_S0'\n",
       "5. 'X724.PB.Prog_S3'\n",
       "6. 'X668.PB.Prog_S2'\n",
       "7. 'X736.BM.Prog_S0'\n",
       "8. 'X600.PB.Prog_S0'\n",
       "9. 'X732.PB.Prog_S5'\n",
       "10. 'X580.BM.Prog_S0'\n",
       "11. 'X664.BM.Prog_S4'\n",
       "12. 'X428.PB.Prog_S0'\n",
       "13. 'X725.PB.Prog_S7'\n",
       "14. 'X566.PB.Prog_S0'\n",
       "15. 'X600.BM.Prog_S0'\n",
       "16. 'X407.PB.Prog_S0'\n",
       "17. 'X569.PB.Prog_S0'\n",
       "18. 'X581.PB.Prog_S2'\n",
       "19. 'X599.PB.Prog_S0'\n",
       "20. 'X621.PB.Prog_S2'\n",
       "21. 'X767.BM.Prog_S0'\n",
       "22. 'X744.PB.Prog_S0'\n",
       "23. 'X560.PB.Prog_S0'\n",
       "24. 'X576.PB.Prog_S0'\n",
       "25. 'X573.BM.Prog_S0'\n",
       "26. 'X670A.PB.Prog_S3'\n",
       "27. 'X670B.PB.Prog_S2'\n",
       "28. 'X666.PB.Prog_S2'\n",
       "\n",
       "\n"
      ],
      "text/plain": [
       " [1] \"X735.PB.Prog_S8\"  \"X591.BM.Prog_S0\"  \"X672A.PB.Prog_S3\" \"X672B.PB.Prog_S0\"\n",
       " [5] \"X724.PB.Prog_S3\"  \"X668.PB.Prog_S2\"  \"X736.BM.Prog_S0\"  \"X600.PB.Prog_S0\" \n",
       " [9] \"X732.PB.Prog_S5\"  \"X580.BM.Prog_S0\"  \"X664.BM.Prog_S4\"  \"X428.PB.Prog_S0\" \n",
       "[13] \"X725.PB.Prog_S7\"  \"X566.PB.Prog_S0\"  \"X600.BM.Prog_S0\"  \"X407.PB.Prog_S0\" \n",
       "[17] \"X569.PB.Prog_S0\"  \"X581.PB.Prog_S2\"  \"X599.PB.Prog_S0\"  \"X621.PB.Prog_S2\" \n",
       "[21] \"X767.BM.Prog_S0\"  \"X744.PB.Prog_S0\"  \"X560.PB.Prog_S0\"  \"X576.PB.Prog_S0\" \n",
       "[25] \"X573.BM.Prog_S0\"  \"X670A.PB.Prog_S3\" \"X670B.PB.Prog_S2\" \"X666.PB.Prog_S2\" "
      ]
     },
     "metadata": {},
     "output_type": "display_data"
    }
   ],
   "source": [
    "colnames(gene_counts_new)[sapply(c('X735.PB.Prog_S8', 'X591.BM.Prog_S0', 'X672A.PB.Prog_S3', 'X672B.PB.Prog_S0',\n",
    "                                   'X724.PB.Prog_S3', 'X668.PB.Prog_S2',  'X736.BM.Prog_S0', \n",
    "                       'X600.PB.Prog_S0', 'X732.PB.Prog_S5', \n",
    "                       'X580.BM.Prog_S0', 'X664.BM.Prog_S4', 'X428.PB.Prog_S0', \n",
    "                       'X725.PB.Prog_S7', \n",
    "                    'X566.PB.Prog_S0', 'X600.BM.Prog_S0', 'X407.PB.Prog_S0', 'X569.PB.Prog_S0', 'X581.PB.Prog_S2',\n",
    "                        'X599.PB.Prog_S0', 'X621.PB.Prog_S2', 'X767.BM.Prog_S0', 'X744.PB.Prog_S0', 'X560.PB.Prog_S0',\n",
    "                        'X576.PB.Prog_S0', 'X573.BM.Prog_S0', 'X670A.PB.Prog_S3', 'X670B.PB.Prog_S2', 'X666.PB.Prog_S2'), \n",
    "                                function(x) grep(x, colnames(gene_counts_new)))]\n",
    "group.AML.MF.PB <- c('X735.PB.Prog_S8', 'X591.BM.Prog_S0', 'X672A.PB.Prog_S3', 'X672B.PB.Prog_S0', \n",
    "                       'X724.PB.Prog_S3', 'X668.PB.Prog_S2',  'X736.BM.Prog_S0', \n",
    "                       'X600.PB.Prog_S0', #'X732.PB.Prog_S5', \n",
    "                       'X580.BM.Prog_S0', 'X664.BM.Prog_S4', 'X428.PB.Prog_S0', \n",
    "                       #'X725.PB.Prog_S7', \n",
    "                    'X566.PB.Prog_S0', 'X600.BM.Prog_S0', 'X407.PB.Prog_S0', 'X569.PB.Prog_S0', 'X581.PB.Prog_S2',\n",
    "                        'X599.PB.Prog_S0', 'X621.PB.Prog_S2', 'X767.BM.Prog_S0', 'X744.PB.Prog_S0', 'X560.PB.Prog_S0',\n",
    "                        'X576.PB.Prog_S0', 'X573.BM.Prog_S0', 'X670A.PB.Prog_S3', 'X670B.PB.Prog_S2', 'X666.PB.Prog_S2')\n",
    "\n",
    "geneCountCrop.AML.MF.PB <- gene_counts_new[, group.AML.MF.PB]\n",
    "\n",
    "geneCount_names_order <- c(colnames(geneCountCrop.AML.MF.PB)[1:7], \n",
    "                           gsub(\"_S[0-9]+$\", \"\", colnames(geneCountCrop.AML.MF.PB)[8:28]))\n",
    "\n",
    "metaCrop.AML.MF.PB <- meta[which(meta$Sample %in% geneCount_names_order), ]\n",
    "geneCount.AML.MF.PB <- geneCountCrop.AML.MF.PB\n",
    "\n",
    "metaCrop.AML.MF.PB$Sample <- reorder.factor(metaCrop.AML.MF.PB$Sample, new.order=geneCount_names_order)\n",
    "metaCrop.AML.MF.PB <- metaCrop.AML.MF.PB[order(metaCrop.AML.MF.PB$Sample),] #%>% arrange(Sample)\n"
   ]
  },
  {
   "cell_type": "code",
   "execution_count": 16,
   "metadata": {},
   "outputs": [
    {
     "data": {
      "text/html": [
       "<table>\n",
       "<caption>A data.frame: 6 × 3</caption>\n",
       "<thead>\n",
       "\t<tr><th scope=col>ENSEMBL</th><th scope=col>ENTREZID</th><th scope=col>SYMBOL</th></tr>\n",
       "\t<tr><th scope=col>&lt;chr&gt;</th><th scope=col>&lt;chr&gt;</th><th scope=col>&lt;chr&gt;</th></tr>\n",
       "</thead>\n",
       "<tbody>\n",
       "\t<tr><td>ENSG00000000003</td><td>7105 </td><td>TSPAN6  </td></tr>\n",
       "\t<tr><td>ENSG00000000005</td><td>64102</td><td>TNMD    </td></tr>\n",
       "\t<tr><td>ENSG00000000419</td><td>8813 </td><td>DPM1    </td></tr>\n",
       "\t<tr><td>ENSG00000000457</td><td>57147</td><td>SCYL3   </td></tr>\n",
       "\t<tr><td>ENSG00000000460</td><td>55732</td><td>C1orf112</td></tr>\n",
       "\t<tr><td>ENSG00000000938</td><td>2268 </td><td>FGR     </td></tr>\n",
       "</tbody>\n",
       "</table>\n"
      ],
      "text/latex": [
       "A data.frame: 6 × 3\n",
       "\\begin{tabular}{r|lll}\n",
       " ENSEMBL & ENTREZID & SYMBOL\\\\\n",
       " <chr> & <chr> & <chr>\\\\\n",
       "\\hline\n",
       "\t ENSG00000000003 & 7105  & TSPAN6  \\\\\n",
       "\t ENSG00000000005 & 64102 & TNMD    \\\\\n",
       "\t ENSG00000000419 & 8813  & DPM1    \\\\\n",
       "\t ENSG00000000457 & 57147 & SCYL3   \\\\\n",
       "\t ENSG00000000460 & 55732 & C1orf112\\\\\n",
       "\t ENSG00000000938 & 2268  & FGR     \\\\\n",
       "\\end{tabular}\n"
      ],
      "text/markdown": [
       "\n",
       "A data.frame: 6 × 3\n",
       "\n",
       "| ENSEMBL &lt;chr&gt; | ENTREZID &lt;chr&gt; | SYMBOL &lt;chr&gt; |\n",
       "|---|---|---|\n",
       "| ENSG00000000003 | 7105  | TSPAN6   |\n",
       "| ENSG00000000005 | 64102 | TNMD     |\n",
       "| ENSG00000000419 | 8813  | DPM1     |\n",
       "| ENSG00000000457 | 57147 | SCYL3    |\n",
       "| ENSG00000000460 | 55732 | C1orf112 |\n",
       "| ENSG00000000938 | 2268  | FGR      |\n",
       "\n"
      ],
      "text/plain": [
       "  ENSEMBL         ENTREZID SYMBOL  \n",
       "1 ENSG00000000003 7105     TSPAN6  \n",
       "2 ENSG00000000005 64102    TNMD    \n",
       "3 ENSG00000000419 8813     DPM1    \n",
       "4 ENSG00000000457 57147    SCYL3   \n",
       "5 ENSG00000000460 55732    C1orf112\n",
       "6 ENSG00000000938 2268     FGR     "
      ]
     },
     "metadata": {},
     "output_type": "display_data"
    }
   ],
   "source": [
    "library(RColorBrewer)\n",
    "load(\"gencodev19_ANNOT.RData\")\n",
    "ANNOT_protein_coding <- subset(ANNOT, gene_type == \"protein_coding\")\n",
    "ANNOT_ncRNA <- subset(ANNOT, gene_type %in% c(\"lincRNA\", \"antisense\", \"processed_transcript\",\"sense_overlapping\", \"sense_intronic\") )\n",
    "\n",
    "#make list of IDs to query\n",
    "protein_coding_ids <- ANNOT_protein_coding$gene_id\n",
    "ncRNA_ids <- ANNOT_ncRNA$gene_id\n",
    "\n",
    "pcgenes <- genes[genes$ENSEMBL %in% gsub(\"[.].*$\",\"\", protein_coding_ids),]\n",
    "ncgenes <- genes[genes$ENSEMBL %in% gsub(\"[.].*$\",\"\", ncRNA_ids),]\n",
    "head(pcgenes)"
   ]
  },
  {
   "cell_type": "markdown",
   "metadata": {},
   "source": [
    "### Prepare DGEList and generate MDS plots"
   ]
  },
  {
   "cell_type": "code",
   "execution_count": 17,
   "metadata": {},
   "outputs": [
    {
     "data": {
      "text/plain": [
       "\n",
       "TRUE \n",
       "  66 "
      ]
     },
     "metadata": {},
     "output_type": "display_data"
    },
    {
     "data": {
      "text/html": [
       "<ol class=list-inline>\n",
       "\t<li>20345</li>\n",
       "\t<li>66</li>\n",
       "</ol>\n"
      ],
      "text/latex": [
       "\\begin{enumerate*}\n",
       "\\item 20345\n",
       "\\item 66\n",
       "\\end{enumerate*}\n"
      ],
      "text/markdown": [
       "1. 20345\n",
       "2. 66\n",
       "\n",
       "\n"
      ],
      "text/plain": [
       "[1] 20345    66"
      ]
     },
     "metadata": {},
     "output_type": "display_data"
    },
    {
     "data": {
      "text/html": [
       "<ol class=list-inline>\n",
       "\t<li>13338</li>\n",
       "\t<li>66</li>\n",
       "</ol>\n"
      ],
      "text/latex": [
       "\\begin{enumerate*}\n",
       "\\item 13338\n",
       "\\item 66\n",
       "\\end{enumerate*}\n"
      ],
      "text/markdown": [
       "1. 13338\n",
       "2. 66\n",
       "\n",
       "\n"
      ],
      "text/plain": [
       "[1] 13338    66"
      ]
     },
     "metadata": {},
     "output_type": "display_data"
    }
   ],
   "source": [
    "table(gsub(\"_S[0-9]+$\", \"\", meta2.Prog.filt$Sample) %in% gsub(\"_S[0-9]+$\", \"\", colnames(gene_counts_new)))\n",
    "gene_counts_new_order <- gene_counts_new[,match(gsub(\"_S[0-9]+$\", \"\", meta2.Prog.filt$Sample), \n",
    "                                                gsub(\"_S[0-9]+$\", \"\", colnames(gene_counts_new)))]\n",
    "colnames(gene_counts_new_order) <- gsub(\"_S[0-9]+$\", \"\", colnames(gene_counts_new_order))\n",
    "meta2.Prog.filt$Sample2 <- gsub(\"_S[0-9]+$\", \"\", meta2.Prog.filt$Sample)\n",
    "\n",
    "geneCount_coding.all <- subset(gene_counts_new_order, row.names(gene_counts_new_order) %in% protein_coding_ids)\n",
    "\n",
    "id_list <- gsub(\"[.].*$\",\"\", rownames(geneCount_coding.all))\n",
    "rownames(geneCount_coding.all) <- id_list\n",
    "x.all.orig <- x.all <- DGEList(counts = geneCount_coding.all, lib.size = colSums(geneCount_coding.all),\n",
    "norm.factors = rep(1,ncol(geneCount_coding.all)), samples = meta2.Prog.filt,\n",
    "group = meta2.Prog.filt$Treatment, genes = id_list, remove.zeros = FALSE) \n",
    "x.all.orig$genes[,2:3] <- ENS2EG2SYM[match(x.all.orig$genes$genes, ENS2EG2SYM$ens_id.ensembl_id),c(\"gene_id\", \"SYM\")]\n",
    "dim(geneCount_coding.all)\n",
    "x.all$genes[,2:3] <- pcgenes[match(pcgenes$ENSEMBL,id_list),c(\"ENTREZID\",\"SYMBOL\")]\n",
    "\n",
    "cpm.all <- cpm(x.all)\n",
    "lcpm.all <- cpm(x.all, log=TRUE)\n",
    "keep.exprs <- rowSums(cpm.all>1)>=10\n",
    "x.all <- x.all[keep.exprs,, keep.lib.sizes=FALSE]\n",
    "dim(x.all)\n",
    "x.all <- calcNormFactors(x.all, method = \"TMM\")\n",
    "x.all.orig <- calcNormFactors(x.all.orig)\n",
    "lcpm2.all <- cpm(x.all, log=TRUE)\n",
    "lcpm2.all.orig <- cpm(x.all.orig, log=TRUE)\n",
    "col.samp.all <- samp.type.all <- as.factor(x.all$samples$Sample.type3)\n",
    "levels(col.samp.all) <-  brewer.pal(nlevels(col.samp.all), \"Paired\") #if more than 2 conditions\n",
    "col.samp.all <- as.character(col.samp.all)"
   ]
  },
  {
   "cell_type": "code",
   "execution_count": 18,
   "metadata": {
    "scrolled": true
   },
   "outputs": [
    {
     "data": {
      "text/html": [
       "<table>\n",
       "<caption>A data.frame: 66 × 20</caption>\n",
       "<thead>\n",
       "\t<tr><th></th><th scope=col>group</th><th scope=col>lib.size</th><th scope=col>norm.factors</th><th scope=col>File_ID</th><th scope=col>Sample</th><th scope=col>ID</th><th scope=col>Sample.type</th><th scope=col>Age</th><th scope=col>Condition</th><th scope=col>Cell.type</th><th scope=col>Patient_ID</th><th scope=col>Mutation</th><th scope=col>CellType</th><th scope=col>Sample.type4</th><th scope=col>Phenotype</th><th scope=col>Sample.type3</th><th scope=col>Sample.type2</th><th scope=col>Phenotype2</th><th scope=col>Phenotype4</th><th scope=col>Sample2</th></tr>\n",
       "\t<tr><th></th><th scope=col>&lt;fct&gt;</th><th scope=col>&lt;dbl&gt;</th><th scope=col>&lt;dbl&gt;</th><th scope=col>&lt;chr&gt;</th><th scope=col>&lt;chr&gt;</th><th scope=col>&lt;chr&gt;</th><th scope=col>&lt;chr&gt;</th><th scope=col>&lt;chr&gt;</th><th scope=col>&lt;chr&gt;</th><th scope=col>&lt;chr&gt;</th><th scope=col>&lt;chr&gt;</th><th scope=col>&lt;chr&gt;</th><th scope=col>&lt;chr&gt;</th><th scope=col>&lt;chr&gt;</th><th scope=col>&lt;fct&gt;</th><th scope=col>&lt;fct&gt;</th><th scope=col>&lt;chr&gt;</th><th scope=col>&lt;fct&gt;</th><th scope=col>&lt;fct&gt;</th><th scope=col>&lt;chr&gt;</th></tr>\n",
       "</thead>\n",
       "<tbody>\n",
       "\t<tr><th scope=row>X368_ACAGTG</th><td>1</td><td>29346645</td><td>0.8336302</td><td>368_ACAGTG_S0</td><td>X368_ACAGTG_S0  </td><td>pt368       </td><td>Aged normal bone marrow</td><td>Aged </td><td>Normal                             </td><td>Sorted progenitors</td><td>368  </td><td>Normal     </td><td>BM</td><td>ABM    </td><td>ABM</td><td>ABM  </td><td>NBM  </td><td>ABM      </td><td>ABM  </td><td>X368_ACAGTG  </td></tr>\n",
       "\t<tr><th scope=row>X380_ACAGTG</th><td>1</td><td>18235187</td><td>0.8926607</td><td>380_ACAGTG_S0</td><td>X380_ACAGTG_S0  </td><td>pt380       </td><td>Aged normal bone marrow</td><td>Aged </td><td>Normal                             </td><td>Sorted progenitors</td><td>380  </td><td>Normal     </td><td>BM</td><td>ABM    </td><td>ABM</td><td>ABM  </td><td>NBM  </td><td>ABM      </td><td>ABM  </td><td>X380_ACAGTG  </td></tr>\n",
       "\t<tr><th scope=row>X401_ACAGTG</th><td>1</td><td>31006479</td><td>0.8458898</td><td>401_ACAGTG_S0</td><td>X401_ACAGTG_S0  </td><td>pt401       </td><td>Aged normal bone marrow</td><td>Aged </td><td>Normal                             </td><td>Sorted progenitors</td><td>401  </td><td>Normal     </td><td>BM</td><td>ABM    </td><td>ABM</td><td>ABM  </td><td>NBM  </td><td>ABM      </td><td>ABM  </td><td>X401_ACAGTG  </td></tr>\n",
       "\t<tr><th scope=row>X402_ACAGTG</th><td>1</td><td>19795015</td><td>0.8816494</td><td>402_ACAGTG_S0</td><td>X402_ACAGTG_S0  </td><td>pt402       </td><td>Aged normal bone marrow</td><td>Aged </td><td>Normal                             </td><td>Sorted progenitors</td><td>402  </td><td>Normal     </td><td>BM</td><td>ABM    </td><td>ABM</td><td>ABM  </td><td>NBM  </td><td>ABM      </td><td>ABM  </td><td>X402_ACAGTG  </td></tr>\n",
       "\t<tr><th scope=row>X410_ACAGTG</th><td>1</td><td>28260339</td><td>0.7034326</td><td>410_ACAGTG_S0</td><td>X410_ACAGTG_S0  </td><td>pt410       </td><td>Aged normal bone marrow</td><td>Aged </td><td>Normal                             </td><td>Sorted progenitors</td><td>410  </td><td>Normal     </td><td>BM</td><td>ABM    </td><td>ABM</td><td>ABM  </td><td>NBM  </td><td>ABM      </td><td>ABM  </td><td>X410_ACAGTG  </td></tr>\n",
       "\t<tr><th scope=row>X415_ACAGTG</th><td>1</td><td>29522791</td><td>0.7050293</td><td>415_ACAGTG_S0</td><td>X415_ACAGTG_S0  </td><td>pt415       </td><td>Aged normal bone marrow</td><td>Aged </td><td>Normal                             </td><td>Sorted progenitors</td><td>415  </td><td>Normal     </td><td>BM</td><td>ABM    </td><td>ABM</td><td>ABM  </td><td>NBM  </td><td>ABM      </td><td>ABM  </td><td>X415_ACAGTG  </td></tr>\n",
       "\t<tr><th scope=row>X416_ACAGTG</th><td>1</td><td>16345892</td><td>0.7755507</td><td>416_ACAGTG_S0</td><td>X416_ACAGTG_S0  </td><td>pt416       </td><td>Aged normal bone marrow</td><td>Aged </td><td>Normal                             </td><td>Sorted progenitors</td><td>416  </td><td>Normal     </td><td>BM</td><td>ABM    </td><td>ABM</td><td>ABM  </td><td>NBM  </td><td>ABM      </td><td>ABM  </td><td>X416_ACAGTG  </td></tr>\n",
       "\t<tr><th scope=row>X426_ACAGTG</th><td>1</td><td>22895826</td><td>0.8525113</td><td>426_ACAGTG_S0</td><td>X426_ACAGTG_S0  </td><td>pt426       </td><td>Aged normal bone marrow</td><td>Aged </td><td>Normal                             </td><td>Sorted progenitors</td><td>426  </td><td>Normal     </td><td>BM</td><td>ABM    </td><td>ABM</td><td>ABM  </td><td>NBM  </td><td>ABM      </td><td>ABM  </td><td>X426_ACAGTG  </td></tr>\n",
       "\t<tr><th scope=row>X591.BM.Prog</th><td>1</td><td>14255819</td><td>1.0042445</td><td>X591.BM.Prog </td><td>X591.BM.Prog_S0 </td><td>591.BM.Prog </td><td>AML                    </td><td>Aged </td><td>AML                                </td><td>Progenitor        </td><td>591  </td><td>JAK2 V617F-</td><td>BM</td><td>sAML_Tx</td><td>AML</td><td>sAML </td><td>sAML </td><td>sAML     </td><td>sAML </td><td>X591.BM.Prog </td></tr>\n",
       "\t<tr><th scope=row>X672A.PB.Prog</th><td>1</td><td>50774009</td><td>0.8726136</td><td>X672A.PB.Prog</td><td>X672A.PB.Prog_S3</td><td>672A.PB.Prog</td><td>AML                    </td><td>Aged </td><td>AML (post-MF)                      </td><td>Progenitor        </td><td>672A </td><td>NA         </td><td>PB</td><td>sAML_Tx</td><td>AML</td><td>sAML </td><td>sAML </td><td>sAML     </td><td>sAML </td><td>X672A.PB.Prog</td></tr>\n",
       "\t<tr><th scope=row>X672B.PB.Prog</th><td>1</td><td>28675689</td><td>1.0913295</td><td>X672B.PB.Prog</td><td>X672B.PB.Prog_S0</td><td>672B.PB.Prog</td><td>AML                    </td><td>Aged </td><td>AML (post-MF)                      </td><td>Progenitor        </td><td>672B </td><td>NA         </td><td>PB</td><td>sAML_Tx</td><td>AML</td><td>sAML </td><td>sAML </td><td>sAML     </td><td>sAML </td><td>X672B.PB.Prog</td></tr>\n",
       "\t<tr><th scope=row>X735.PB.Prog</th><td>1</td><td>16598088</td><td>1.0978449</td><td>X735.PB.Prog </td><td>X735.PB.Prog_S8 </td><td>735.PB.Prog </td><td>AML                    </td><td>Aged </td><td>AML                                </td><td>Progenitor        </td><td>735  </td><td>NA         </td><td>PB</td><td>sAML_Tx</td><td>AML</td><td>sAML </td><td>sAML </td><td>sAML     </td><td>sAML </td><td>X735.PB.Prog </td></tr>\n",
       "\t<tr><th scope=row>X571.BM.Prog</th><td>1</td><td>31241543</td><td>1.0501018</td><td>X571.BM.Prog </td><td>X571.BM.Prog    </td><td>571.BM.Prog </td><td>CML                    </td><td>Young</td><td>CP-CML                             </td><td>Progenitor        </td><td>571  </td><td>BCR-ABL+   </td><td>BM</td><td>CML    </td><td>CML</td><td>CML  </td><td>CML  </td><td>CML      </td><td>CML  </td><td>X571.BM.Prog </td></tr>\n",
       "\t<tr><th scope=row>X608.BM.Prog</th><td>1</td><td>35570015</td><td>1.2154725</td><td>X608.BM.Prog </td><td>X608.BM.Prog    </td><td>608.BM.Prog </td><td>CML                    </td><td>Young</td><td>BC-CML                             </td><td>Progenitor        </td><td>608  </td><td>BCR-ABL+   </td><td>BM</td><td>CML    </td><td>CML</td><td>CML  </td><td>CML  </td><td>CML      </td><td>CML  </td><td>X608.BM.Prog </td></tr>\n",
       "\t<tr><th scope=row>X616.BM.Prog</th><td>1</td><td>28111087</td><td>1.2347164</td><td>X616.BM.Prog </td><td>X616.BM.Prog    </td><td>616.BM.Prog </td><td>CML                    </td><td>Young</td><td>CP CML                             </td><td>Progenitor        </td><td>616  </td><td>NA         </td><td>BM</td><td>CML    </td><td>CML</td><td>CML  </td><td>CML  </td><td>CML      </td><td>CML  </td><td>X616.BM.Prog </td></tr>\n",
       "\t<tr><th scope=row>X703.PB.Prog</th><td>1</td><td>28361424</td><td>1.2128433</td><td>X703.PB.Prog </td><td>X703.PB.Prog    </td><td>703.PB.Prog </td><td>CML                    </td><td>Young</td><td>CML                                </td><td>Progenitor        </td><td>703  </td><td>BCR-ABL+   </td><td>PB</td><td>CML    </td><td>CML</td><td>CML  </td><td>CML  </td><td>CML      </td><td>CML  </td><td>X703.PB.Prog </td></tr>\n",
       "\t<tr><th scope=row>X727.PB.Prog</th><td>1</td><td>27275719</td><td>1.2833845</td><td>X727.PB.Prog </td><td>X727.PB.Prog    </td><td>727.PB.Prog </td><td>CML                    </td><td>Young</td><td>AP CML                             </td><td>Progenitor        </td><td>727  </td><td>BCR-ABL+   </td><td>PB</td><td>CML    </td><td>CML</td><td>CML  </td><td>CML  </td><td>CML      </td><td>CML  </td><td>X727.PB.Prog </td></tr>\n",
       "\t<tr><th scope=row>X20_MDStoAML</th><td>1</td><td>23968759</td><td>0.7084031</td><td>20_MDStoAML  </td><td>X20_MDStoAML    </td><td>RO50113     </td><td>sAML                   </td><td>NA   </td><td>de novo AML                        </td><td>Sorted progenitors</td><td>50113</td><td>NA         </td><td>NA</td><td>sAML_Tx</td><td>NA </td><td>dnAML</td><td>dnAML</td><td>denovoAML</td><td>dnAML</td><td>X20_MDStoAML </td></tr>\n",
       "\t<tr><th scope=row>X19_MDStoAML</th><td>1</td><td>32770222</td><td>0.6891528</td><td>19_MDStoAML  </td><td>X19_MDStoAML    </td><td>RO50120     </td><td>sAML                   </td><td>NA   </td><td>de novo AML                        </td><td>Sorted progenitors</td><td>50120</td><td>NA         </td><td>NA</td><td>sAML_Tx</td><td>NA </td><td>dnAML</td><td>dnAML</td><td>denovoAML</td><td>dnAML</td><td>X19_MDStoAML </td></tr>\n",
       "\t<tr><th scope=row>X431.PB.Prog</th><td>1</td><td>36163109</td><td>1.2236435</td><td>X431.PB.Prog </td><td>X431.PB.Prog    </td><td>431.PB.Prog </td><td>ET                     </td><td>Mid  </td><td>ET                                 </td><td>Progenitor        </td><td>431  </td><td>JAK2 V617F+</td><td>PB</td><td>ET     </td><td>ET </td><td>ET   </td><td>ET   </td><td>ET       </td><td>ET   </td><td>X431.PB.Prog </td></tr>\n",
       "\t<tr><th scope=row>X638.BM.Prog</th><td>1</td><td>36998948</td><td>0.9837001</td><td>X638.BM.Prog </td><td>X638.BM.Prog    </td><td>638.BM.Prog </td><td>ET                     </td><td>Young</td><td>ET                                 </td><td>Progenitor        </td><td>638  </td><td>JAK2 V617F+</td><td>BM</td><td>ET     </td><td>ET </td><td>ET   </td><td>ET   </td><td>ET       </td><td>ET   </td><td>X638.BM.Prog </td></tr>\n",
       "\t<tr><th scope=row>X407.PB.Prog</th><td>1</td><td>39439971</td><td>1.2181627</td><td>X407.PB.Prog </td><td>X407.PB.Prog    </td><td>407.PB.Prog </td><td>MF                     </td><td>Mid  </td><td>myelofibrosis                      </td><td>Progenitor        </td><td>407  </td><td>JAK2 V617F-</td><td>PB</td><td>MF     </td><td>MF </td><td>MF   </td><td>MF   </td><td>MF       </td><td>MF   </td><td>X407.PB.Prog </td></tr>\n",
       "\t<tr><th scope=row>X428.PB.Prog</th><td>1</td><td>30297263</td><td>1.2322401</td><td>X428.PB.Prog </td><td>X428.PB.Prog    </td><td>428.PB.Prog </td><td>MF                     </td><td>Mid  </td><td>myelofibrosis_postET               </td><td>Progenitor        </td><td>428  </td><td>JAK2 V617F-</td><td>PB</td><td>MF     </td><td>MF </td><td>MF   </td><td>MF   </td><td>MF       </td><td>MF   </td><td>X428.PB.Prog </td></tr>\n",
       "\t<tr><th scope=row>X560.PB.Prog</th><td>1</td><td>29153199</td><td>1.0287934</td><td>X560.PB.Prog </td><td>X560.PB.Prog    </td><td>560.PB.Prog </td><td>MF                     </td><td>Aged </td><td>myelofibrosis                      </td><td>Progenitor        </td><td>560  </td><td>JAK2 V617F+</td><td>PB</td><td>MF     </td><td>MF </td><td>MF   </td><td>MF   </td><td>MF       </td><td>MF   </td><td>X560.PB.Prog </td></tr>\n",
       "\t<tr><th scope=row>X566.PB.Prog</th><td>1</td><td>18280352</td><td>0.9067016</td><td>X566.PB.Prog </td><td>X566.PB.Prog    </td><td>566.PB.Prog </td><td>MF                     </td><td>Aged </td><td>myelofibrosis                      </td><td>Progenitor        </td><td>566  </td><td>JAK2 V617F-</td><td>PB</td><td>MF     </td><td>MF </td><td>MF   </td><td>MF   </td><td>MF       </td><td>MF   </td><td>X566.PB.Prog </td></tr>\n",
       "\t<tr><th scope=row>X569.PB.Prog</th><td>1</td><td>30240105</td><td>1.1740646</td><td>X569.PB.Prog </td><td>X569.PB.Prog    </td><td>569.PB.Prog </td><td>MF                     </td><td>Mid  </td><td>myelofibrosis                      </td><td>Progenitor        </td><td>569  </td><td>JAK2 V617F+</td><td>PB</td><td>MF     </td><td>MF </td><td>MF   </td><td>MF   </td><td>MF       </td><td>MF   </td><td>X569.PB.Prog </td></tr>\n",
       "\t<tr><th scope=row>X573.BM.Prog</th><td>1</td><td>33846003</td><td>1.0377696</td><td>X573.BM.Prog </td><td>X573.BM.Prog    </td><td>573.BM.Prog </td><td>MF                     </td><td>Aged </td><td>systemic_mastocytosis_myelofibrosis</td><td>Progenitor        </td><td>573  </td><td>JAK2 V617F-</td><td>BM</td><td>MF     </td><td>MF </td><td>MF   </td><td>MF   </td><td>MF       </td><td>MF   </td><td>X573.BM.Prog </td></tr>\n",
       "\t<tr><th scope=row>X576.PB.Prog</th><td>1</td><td>27107332</td><td>1.0359194</td><td>X576.PB.Prog </td><td>X576.PB.Prog    </td><td>576.PB.Prog </td><td>MF                     </td><td>Mid  </td><td>high_risk_myelofibrosis            </td><td>Progenitor        </td><td>576  </td><td>JAK2 V617F+</td><td>PB</td><td>MF     </td><td>MF </td><td>MF   </td><td>MF   </td><td>MF       </td><td>MF   </td><td>X576.PB.Prog </td></tr>\n",
       "\t<tr><th scope=row>X580.BM.Prog</th><td>1</td><td>31944969</td><td>0.9459367</td><td>X580.BM.Prog </td><td>X580.BM.Prog    </td><td>580.BM.Prog </td><td>MF                     </td><td>Aged </td><td>int2_myelofibrosis_postET          </td><td>Progenitor        </td><td>580  </td><td>JAK2 V617F+</td><td>BM</td><td>MF     </td><td>MF </td><td>MF   </td><td>MF   </td><td>MF       </td><td>MF   </td><td>X580.BM.Prog </td></tr>\n",
       "\t<tr><th scope=row>X581.PB.Prog</th><td>1</td><td>32303675</td><td>1.1418393</td><td>X581.PB.Prog </td><td>X581.PB.Prog    </td><td>581.PB.Prog </td><td>MF                     </td><td>Aged </td><td>myelofibrosis                      </td><td>Progenitor        </td><td>581  </td><td>JAK2 V617F+</td><td>PB</td><td>MF     </td><td>MF </td><td>MF   </td><td>MF   </td><td>MF       </td><td>MF   </td><td>X581.PB.Prog </td></tr>\n",
       "\t<tr><th scope=row>⋮</th><td>⋮</td><td>⋮</td><td>⋮</td><td>⋮</td><td>⋮</td><td>⋮</td><td>⋮</td><td>⋮</td><td>⋮</td><td>⋮</td><td>⋮</td><td>⋮</td><td>⋮</td><td>⋮</td><td>⋮</td><td>⋮</td><td>⋮</td><td>⋮</td><td>⋮</td><td>⋮</td></tr>\n",
       "\t<tr><th scope=row>X668.PB.Prog</th><td>1</td><td>37351892</td><td>1.1197987</td><td>X668.PB.Prog  </td><td>X668.PB.Prog_S2 </td><td>668.PB.Prog        </td><td>MF                      </td><td>Young</td><td>myelofibrosis_postPV     </td><td>Progenitor        </td><td>668  </td><td>JAK2 V617F+</td><td>PB</td><td>MF     </td><td>MF </td><td>MF  </td><td>MF  </td><td>MF  </td><td>MF  </td><td>X668.PB.Prog </td></tr>\n",
       "\t<tr><th scope=row>X670A.PB.Prog</th><td>1</td><td>37148906</td><td>1.1825631</td><td>X670A.PB.Prog </td><td>X670A.PB.Prog   </td><td>670A.PB.Prog       </td><td>MF                      </td><td>Aged </td><td>int2_myelofibrosis       </td><td>Progenitor        </td><td>670A </td><td>JAK2 V617F+</td><td>PB</td><td>MF     </td><td>MF </td><td>MF  </td><td>MF  </td><td>MF  </td><td>MF  </td><td>X670A.PB.Prog</td></tr>\n",
       "\t<tr><th scope=row>X670B.PB.Prog</th><td>1</td><td>32527781</td><td>1.2282977</td><td>X670B.PB.Prog </td><td>X670B.PB.Prog   </td><td>670B.PB.Prog       </td><td>MF                      </td><td>Aged </td><td>int2_myelofibrosis       </td><td>Progenitor        </td><td>670B </td><td>JAK2 V617F+</td><td>PB</td><td>MF     </td><td>MF </td><td>MF  </td><td>MF  </td><td>MF  </td><td>MF  </td><td>X670B.PB.Prog</td></tr>\n",
       "\t<tr><th scope=row>X724.PB.Prog</th><td>1</td><td>44906523</td><td>1.1205440</td><td>X724.PB.Prog  </td><td>X724.PB.Prog_S3 </td><td>724.PB.Prog        </td><td>MF                      </td><td>Aged </td><td>int2_myelofibrosis_postPV</td><td>Progenitor        </td><td>724  </td><td>JAK2 V617F+</td><td>PB</td><td>MF     </td><td>MF </td><td>MF  </td><td>MF  </td><td>MF  </td><td>MF  </td><td>X724.PB.Prog </td></tr>\n",
       "\t<tr><th scope=row>X725.PB.Prog</th><td>1</td><td>20304967</td><td>1.1875157</td><td>X725.PB.Prog  </td><td>X725.PB.Prog    </td><td>725.PB.Prog        </td><td>MF                      </td><td>Young</td><td>int2_myelofibrosis_postET</td><td>Progenitor        </td><td>725  </td><td>JAK2 V617F+</td><td>PB</td><td>MF     </td><td>MF </td><td>MF  </td><td>MF  </td><td>MF  </td><td>MF  </td><td>X725.PB.Prog </td></tr>\n",
       "\t<tr><th scope=row>X732.PB.Prog</th><td>1</td><td>17007400</td><td>0.9837861</td><td>X732.PB.Prog  </td><td>X732.PB.Prog    </td><td>732.PB.Prog        </td><td>MF                      </td><td>Mid  </td><td>myelofibrosis_postET     </td><td>Progenitor        </td><td>732  </td><td>JAK2 V617F+</td><td>PB</td><td>MF     </td><td>MF </td><td>MF  </td><td>MF  </td><td>MF  </td><td>MF  </td><td>X732.PB.Prog </td></tr>\n",
       "\t<tr><th scope=row>X736.BM.Prog</th><td>1</td><td>27896033</td><td>1.2466574</td><td>X736.BM.Prog  </td><td>X736.BM.Prog_S0 </td><td>736.BM.Prog        </td><td>MF                      </td><td>Young</td><td>int2_myelofibrosis_postPV</td><td>Progenitor        </td><td>736  </td><td>JAK2 V617F+</td><td>BM</td><td>MF     </td><td>MF </td><td>MF  </td><td>MF  </td><td>MF  </td><td>MF  </td><td>X736.BM.Prog </td></tr>\n",
       "\t<tr><th scope=row>X744.PB.Prog</th><td>1</td><td>26120381</td><td>1.1535338</td><td>X744.PB.Prog  </td><td>X744.PB.Prog    </td><td>744.PB.Prog        </td><td>MF                      </td><td>Aged </td><td>high_risk_myelofibrosis  </td><td>Progenitor        </td><td>744  </td><td>JAK2 V617F+</td><td>PB</td><td>MF     </td><td>MF </td><td>MF  </td><td>MF  </td><td>MF  </td><td>MF  </td><td>X744.PB.Prog </td></tr>\n",
       "\t<tr><th scope=row>X767.BM.Prog</th><td>1</td><td>26448448</td><td>1.2812320</td><td>X767.BM.Prog  </td><td>X767.BM.Prog    </td><td>767.BM.Prog        </td><td>MF                      </td><td>Aged </td><td>int2_myelofibrosis       </td><td>Progenitor        </td><td>767  </td><td>JAK2 V617F+</td><td>BM</td><td>MF     </td><td>MF </td><td>MF  </td><td>MF  </td><td>MF  </td><td>MF  </td><td>X767.BM.Prog </td></tr>\n",
       "\t<tr><th scope=row>X562.PB.Prog</th><td>1</td><td>24726149</td><td>1.0413692</td><td>X562.PB.Prog  </td><td>X562.PB.Prog_S0 </td><td>562.PB.Prog        </td><td>PV                      </td><td>Young</td><td>PV                       </td><td>Progenitor        </td><td>562  </td><td>JAK2 V617F+</td><td>PB</td><td>PV     </td><td>PV </td><td>PV  </td><td>PV  </td><td>PV  </td><td>PV  </td><td>X562.PB.Prog </td></tr>\n",
       "\t<tr><th scope=row>X575A.PB.Prog</th><td>1</td><td>27789567</td><td>1.0593358</td><td>X575A.PB.Prog </td><td>X575A.PB.Prog_S0</td><td>575A.PB.Prog       </td><td>PV                      </td><td>Young</td><td>polycythemia vera        </td><td>Progenitor        </td><td>575A </td><td>JAK2 V617F+</td><td>PB</td><td>PV     </td><td>PV </td><td>PV  </td><td>PV  </td><td>PV  </td><td>PV  </td><td>X575A.PB.Prog</td></tr>\n",
       "\t<tr><th scope=row>X598.PB.Prog</th><td>1</td><td>27221981</td><td>1.2307804</td><td>X598.PB.Prog  </td><td>X598.PB.Prog_S0 </td><td>598.PB.Prog        </td><td>PV                      </td><td>Young</td><td>polycythemia vera        </td><td>Progenitor        </td><td>598  </td><td>JAK2 V617F+</td><td>PB</td><td>PV     </td><td>PV </td><td>PV  </td><td>PV  </td><td>PV  </td><td>PV  </td><td>X598.PB.Prog </td></tr>\n",
       "\t<tr><th scope=row>X662.BM.Prog</th><td>1</td><td>32071414</td><td>1.1823562</td><td>X662.BM.Prog  </td><td>X662.BM.Prog_S4 </td><td>662.BM.Prog        </td><td>PV                      </td><td>Aged </td><td>polycythemia vera        </td><td>Progenitor        </td><td>662  </td><td>JAK2 V617F-</td><td>BM</td><td>PV     </td><td>PV </td><td>PV  </td><td>PV  </td><td>PV  </td><td>PV  </td><td>X662.BM.Prog </td></tr>\n",
       "\t<tr><th scope=row>X689.BM.Prog</th><td>1</td><td>31550720</td><td>1.2778901</td><td>X689.BM.Prog  </td><td>X689.BM.Prog_S11</td><td>689.BM.Prog        </td><td>PV                      </td><td>Mid  </td><td>polycythemia vera        </td><td>Progenitor        </td><td>689  </td><td>JAK2 V617F+</td><td>BM</td><td>PV     </td><td>PV </td><td>PV  </td><td>PV  </td><td>PV  </td><td>PV  </td><td>X689.BM.Prog </td></tr>\n",
       "\t<tr><th scope=row>X690.BM.Prog</th><td>1</td><td>23829540</td><td>1.1641464</td><td>X690.BM.Prog  </td><td>X690.BM.Prog_S5 </td><td>690.BM.Prog        </td><td>PV                      </td><td>Mid  </td><td>polycythemia vera        </td><td>Progenitor        </td><td>690  </td><td>JAK2 V617F-</td><td>BM</td><td>PV     </td><td>PV </td><td>PV  </td><td>PV  </td><td>PV  </td><td>PV  </td><td>X690.BM.Prog </td></tr>\n",
       "\t<tr><th scope=row>X102</th><td>1</td><td>26771420</td><td>0.8630362</td><td>102           </td><td>X102            </td><td>010408 JG          </td><td>sAML                    </td><td>NA   </td><td>sAML                     </td><td>Sorted progenitors</td><td>10408</td><td>none       </td><td>NA</td><td>sAML_Tx</td><td>NA </td><td>sAML</td><td>sAML</td><td>sAML</td><td>sAML</td><td>X102         </td></tr>\n",
       "\t<tr><th scope=row>X89</th><td>1</td><td>22682461</td><td>1.0636630</td><td>89            </td><td>X89             </td><td>1690-61            </td><td>sAML                    </td><td>NA   </td><td>sAML                     </td><td>Sorted progenitors</td><td>1690 </td><td>none       </td><td>NA</td><td>sAML_Tx</td><td>NA </td><td>sAML</td><td>sAML</td><td>sAML</td><td>sAML</td><td>X89          </td></tr>\n",
       "\t<tr><th scope=row>X87</th><td>1</td><td>19446280</td><td>1.1077248</td><td>87            </td><td>X87             </td><td>RO10008 (Bleakley?)</td><td>sAML                    </td><td>NA   </td><td>sAML                     </td><td>Sorted progenitors</td><td>10008</td><td>none       </td><td>NA</td><td>sAML_Tx</td><td>NA </td><td>sAML</td><td>sAML</td><td>sAML</td><td>sAML</td><td>X87          </td></tr>\n",
       "\t<tr><th scope=row>X36</th><td>1</td><td>30389307</td><td>0.8793394</td><td>36            </td><td>X36             </td><td>RO50124            </td><td>sAML                    </td><td>NA   </td><td>sAML                     </td><td>Sorted progenitors</td><td>50124</td><td>none       </td><td>NA</td><td>sAML_Tx</td><td>NA </td><td>sAML</td><td>sAML</td><td>sAML</td><td>sAML</td><td>X36          </td></tr>\n",
       "\t<tr><th scope=row>X42</th><td>1</td><td>21630854</td><td>0.6689091</td><td>42            </td><td>X42             </td><td>RO50200            </td><td>sAML                    </td><td>NA   </td><td>sAML                     </td><td>Sorted progenitors</td><td>50200</td><td>none       </td><td>NA</td><td>sAML_Tx</td><td>NA </td><td>sAML</td><td>sAML</td><td>sAML</td><td>sAML</td><td>X42          </td></tr>\n",
       "\t<tr><th scope=row>X107</th><td>1</td><td>14296964</td><td>0.7443593</td><td>107           </td><td>X107            </td><td>RO50240            </td><td>sAML                    </td><td>NA   </td><td>sAML                     </td><td>Sorted progenitors</td><td>50240</td><td>none       </td><td>NA</td><td>sAML_Tx</td><td>NA </td><td>sAML</td><td>sAML</td><td>sAML</td><td>sAML</td><td>X107         </td></tr>\n",
       "\t<tr><th scope=row>X48_MDStoAML</th><td>1</td><td>27118459</td><td>0.8286065</td><td>48_MDStoAML   </td><td>X48_MDStoAML    </td><td>RO50261            </td><td>sAML                    </td><td>NA   </td><td>sAML                     </td><td>Sorted progenitors</td><td>50261</td><td>none       </td><td>NA</td><td>sAML_Tx</td><td>NA </td><td>sAML</td><td>sAML</td><td>sAML</td><td>sAML</td><td>X48_MDStoAML </td></tr>\n",
       "\t<tr><th scope=row>X4018_GTGAAA</th><td>1</td><td>22161750</td><td>0.9164989</td><td>4018_GTGAAA_S0</td><td>X4018_GTGAAA_S0 </td><td>pt4018             </td><td>Young normal bone marrow</td><td>Young</td><td>Normal                   </td><td>Sorted progenitors</td><td>4018 </td><td>Normal     </td><td>BM</td><td>YBM    </td><td>YBM</td><td>YBM </td><td>NBM </td><td>YBM </td><td>YBM </td><td>X4018_GTGAAA </td></tr>\n",
       "\t<tr><th scope=row>X4040_GTGAAA</th><td>1</td><td>26484117</td><td>0.8646944</td><td>4040_GTGAAA_S0</td><td>X4040_GTGAAA_S0 </td><td>pt4040             </td><td>Young normal bone marrow</td><td>Young</td><td>Normal                   </td><td>Sorted progenitors</td><td>4040 </td><td>Normal     </td><td>BM</td><td>YBM    </td><td>YBM</td><td>YBM </td><td>NBM </td><td>YBM </td><td>YBM </td><td>X4040_GTGAAA </td></tr>\n",
       "\t<tr><th scope=row>X4066_GTGAAA</th><td>1</td><td>22706610</td><td>0.8196927</td><td>4066_GTGAAA_S0</td><td>X4066_GTGAAA_S0 </td><td>pt4066             </td><td>Young normal bone marrow</td><td>Young</td><td>Normal                   </td><td>Sorted progenitors</td><td>4066 </td><td>Normal     </td><td>BM</td><td>YBM    </td><td>YBM</td><td>YBM </td><td>NBM </td><td>YBM </td><td>YBM </td><td>X4066_GTGAAA </td></tr>\n",
       "\t<tr><th scope=row>X4188_GTGAAA</th><td>1</td><td>19304985</td><td>0.8344602</td><td>4188_GTGAAA_S0</td><td>X4188_GTGAAA_S0 </td><td>pt4188             </td><td>Young normal bone marrow</td><td>Young</td><td>Normal                   </td><td>Sorted progenitors</td><td>4188 </td><td>Normal     </td><td>BM</td><td>YBM    </td><td>YBM</td><td>YBM </td><td>NBM </td><td>YBM </td><td>YBM </td><td>X4188_GTGAAA </td></tr>\n",
       "\t<tr><th scope=row>X4215_GTGAAA</th><td>1</td><td>25007273</td><td>0.8462581</td><td>4215_GTGAAA_S0</td><td>X4215_GTGAAA_S0 </td><td>pt4215             </td><td>Young normal bone marrow</td><td>Young</td><td>Normal                   </td><td>Sorted progenitors</td><td>4215 </td><td>Normal     </td><td>BM</td><td>YBM    </td><td>YBM</td><td>YBM </td><td>NBM </td><td>YBM </td><td>YBM </td><td>X4215_GTGAAA </td></tr>\n",
       "\t<tr><th scope=row>X4218_GTGAAA</th><td>1</td><td>31111641</td><td>0.8269981</td><td>4218_GTGAAA_S0</td><td>X4218_GTGAAA_S0 </td><td>pt4218             </td><td>Young normal bone marrow</td><td>Young</td><td>Normal                   </td><td>Sorted progenitors</td><td>4218 </td><td>Normal     </td><td>BM</td><td>YBM    </td><td>YBM</td><td>YBM </td><td>NBM </td><td>YBM </td><td>YBM </td><td>X4218_GTGAAA </td></tr>\n",
       "\t<tr><th scope=row>X4259_GTGAAA</th><td>1</td><td>23836130</td><td>0.9139230</td><td>4259_GTGAAA_S0</td><td>X4259_GTGAAA_S0 </td><td>pt4259             </td><td>Young normal bone marrow</td><td>Young</td><td>Normal                   </td><td>Sorted progenitors</td><td>4259 </td><td>Normal     </td><td>BM</td><td>YBM    </td><td>YBM</td><td>YBM </td><td>NBM </td><td>YBM </td><td>YBM </td><td>X4259_GTGAAA </td></tr>\n",
       "\t<tr><th scope=row>X4279_GTGAAA</th><td>1</td><td>28062777</td><td>0.8462223</td><td>4279_GTGAAA_S0</td><td>X4279_GTGAAA_S0 </td><td>pt4279             </td><td>Young normal bone marrow</td><td>Young</td><td>Normal                   </td><td>Sorted progenitors</td><td>4279 </td><td>Normal     </td><td>BM</td><td>YBM    </td><td>YBM</td><td>YBM </td><td>NBM </td><td>YBM </td><td>YBM </td><td>X4279_GTGAAA </td></tr>\n",
       "</tbody>\n",
       "</table>\n"
      ],
      "text/latex": [
       "A data.frame: 66 × 20\n",
       "\\begin{tabular}{r|llllllllllllllllllll}\n",
       "  & group & lib.size & norm.factors & File\\_ID & Sample & ID & Sample.type & Age & Condition & Cell.type & Patient\\_ID & Mutation & CellType & Sample.type4 & Phenotype & Sample.type3 & Sample.type2 & Phenotype2 & Phenotype4 & Sample2\\\\\n",
       "  & <fct> & <dbl> & <dbl> & <chr> & <chr> & <chr> & <chr> & <chr> & <chr> & <chr> & <chr> & <chr> & <chr> & <chr> & <fct> & <fct> & <chr> & <fct> & <fct> & <chr>\\\\\n",
       "\\hline\n",
       "\tX368\\_ACAGTG & 1 & 29346645 & 0.8336302 & 368\\_ACAGTG\\_S0 & X368\\_ACAGTG\\_S0   & pt368        & Aged normal bone marrow & Aged  & Normal                              & Sorted progenitors & 368   & Normal      & BM & ABM     & ABM & ABM   & NBM   & ABM       & ABM   & X368\\_ACAGTG  \\\\\n",
       "\tX380\\_ACAGTG & 1 & 18235187 & 0.8926607 & 380\\_ACAGTG\\_S0 & X380\\_ACAGTG\\_S0   & pt380        & Aged normal bone marrow & Aged  & Normal                              & Sorted progenitors & 380   & Normal      & BM & ABM     & ABM & ABM   & NBM   & ABM       & ABM   & X380\\_ACAGTG  \\\\\n",
       "\tX401\\_ACAGTG & 1 & 31006479 & 0.8458898 & 401\\_ACAGTG\\_S0 & X401\\_ACAGTG\\_S0   & pt401        & Aged normal bone marrow & Aged  & Normal                              & Sorted progenitors & 401   & Normal      & BM & ABM     & ABM & ABM   & NBM   & ABM       & ABM   & X401\\_ACAGTG  \\\\\n",
       "\tX402\\_ACAGTG & 1 & 19795015 & 0.8816494 & 402\\_ACAGTG\\_S0 & X402\\_ACAGTG\\_S0   & pt402        & Aged normal bone marrow & Aged  & Normal                              & Sorted progenitors & 402   & Normal      & BM & ABM     & ABM & ABM   & NBM   & ABM       & ABM   & X402\\_ACAGTG  \\\\\n",
       "\tX410\\_ACAGTG & 1 & 28260339 & 0.7034326 & 410\\_ACAGTG\\_S0 & X410\\_ACAGTG\\_S0   & pt410        & Aged normal bone marrow & Aged  & Normal                              & Sorted progenitors & 410   & Normal      & BM & ABM     & ABM & ABM   & NBM   & ABM       & ABM   & X410\\_ACAGTG  \\\\\n",
       "\tX415\\_ACAGTG & 1 & 29522791 & 0.7050293 & 415\\_ACAGTG\\_S0 & X415\\_ACAGTG\\_S0   & pt415        & Aged normal bone marrow & Aged  & Normal                              & Sorted progenitors & 415   & Normal      & BM & ABM     & ABM & ABM   & NBM   & ABM       & ABM   & X415\\_ACAGTG  \\\\\n",
       "\tX416\\_ACAGTG & 1 & 16345892 & 0.7755507 & 416\\_ACAGTG\\_S0 & X416\\_ACAGTG\\_S0   & pt416        & Aged normal bone marrow & Aged  & Normal                              & Sorted progenitors & 416   & Normal      & BM & ABM     & ABM & ABM   & NBM   & ABM       & ABM   & X416\\_ACAGTG  \\\\\n",
       "\tX426\\_ACAGTG & 1 & 22895826 & 0.8525113 & 426\\_ACAGTG\\_S0 & X426\\_ACAGTG\\_S0   & pt426        & Aged normal bone marrow & Aged  & Normal                              & Sorted progenitors & 426   & Normal      & BM & ABM     & ABM & ABM   & NBM   & ABM       & ABM   & X426\\_ACAGTG  \\\\\n",
       "\tX591.BM.Prog & 1 & 14255819 & 1.0042445 & X591.BM.Prog  & X591.BM.Prog\\_S0  & 591.BM.Prog  & AML                     & Aged  & AML                                 & Progenitor         & 591   & JAK2 V617F- & BM & sAML\\_Tx & AML & sAML  & sAML  & sAML      & sAML  & X591.BM.Prog \\\\\n",
       "\tX672A.PB.Prog & 1 & 50774009 & 0.8726136 & X672A.PB.Prog & X672A.PB.Prog\\_S3 & 672A.PB.Prog & AML                     & Aged  & AML (post-MF)                       & Progenitor         & 672A  & NA          & PB & sAML\\_Tx & AML & sAML  & sAML  & sAML      & sAML  & X672A.PB.Prog\\\\\n",
       "\tX672B.PB.Prog & 1 & 28675689 & 1.0913295 & X672B.PB.Prog & X672B.PB.Prog\\_S0 & 672B.PB.Prog & AML                     & Aged  & AML (post-MF)                       & Progenitor         & 672B  & NA          & PB & sAML\\_Tx & AML & sAML  & sAML  & sAML      & sAML  & X672B.PB.Prog\\\\\n",
       "\tX735.PB.Prog & 1 & 16598088 & 1.0978449 & X735.PB.Prog  & X735.PB.Prog\\_S8  & 735.PB.Prog  & AML                     & Aged  & AML                                 & Progenitor         & 735   & NA          & PB & sAML\\_Tx & AML & sAML  & sAML  & sAML      & sAML  & X735.PB.Prog \\\\\n",
       "\tX571.BM.Prog & 1 & 31241543 & 1.0501018 & X571.BM.Prog  & X571.BM.Prog     & 571.BM.Prog  & CML                     & Young & CP-CML                              & Progenitor         & 571   & BCR-ABL+    & BM & CML     & CML & CML   & CML   & CML       & CML   & X571.BM.Prog \\\\\n",
       "\tX608.BM.Prog & 1 & 35570015 & 1.2154725 & X608.BM.Prog  & X608.BM.Prog     & 608.BM.Prog  & CML                     & Young & BC-CML                              & Progenitor         & 608   & BCR-ABL+    & BM & CML     & CML & CML   & CML   & CML       & CML   & X608.BM.Prog \\\\\n",
       "\tX616.BM.Prog & 1 & 28111087 & 1.2347164 & X616.BM.Prog  & X616.BM.Prog     & 616.BM.Prog  & CML                     & Young & CP CML                              & Progenitor         & 616   & NA          & BM & CML     & CML & CML   & CML   & CML       & CML   & X616.BM.Prog \\\\\n",
       "\tX703.PB.Prog & 1 & 28361424 & 1.2128433 & X703.PB.Prog  & X703.PB.Prog     & 703.PB.Prog  & CML                     & Young & CML                                 & Progenitor         & 703   & BCR-ABL+    & PB & CML     & CML & CML   & CML   & CML       & CML   & X703.PB.Prog \\\\\n",
       "\tX727.PB.Prog & 1 & 27275719 & 1.2833845 & X727.PB.Prog  & X727.PB.Prog     & 727.PB.Prog  & CML                     & Young & AP CML                              & Progenitor         & 727   & BCR-ABL+    & PB & CML     & CML & CML   & CML   & CML       & CML   & X727.PB.Prog \\\\\n",
       "\tX20\\_MDStoAML & 1 & 23968759 & 0.7084031 & 20\\_MDStoAML   & X20\\_MDStoAML     & RO50113      & sAML                    & NA    & de novo AML                         & Sorted progenitors & 50113 & NA          & NA & sAML\\_Tx & NA  & dnAML & dnAML & denovoAML & dnAML & X20\\_MDStoAML \\\\\n",
       "\tX19\\_MDStoAML & 1 & 32770222 & 0.6891528 & 19\\_MDStoAML   & X19\\_MDStoAML     & RO50120      & sAML                    & NA    & de novo AML                         & Sorted progenitors & 50120 & NA          & NA & sAML\\_Tx & NA  & dnAML & dnAML & denovoAML & dnAML & X19\\_MDStoAML \\\\\n",
       "\tX431.PB.Prog & 1 & 36163109 & 1.2236435 & X431.PB.Prog  & X431.PB.Prog     & 431.PB.Prog  & ET                      & Mid   & ET                                  & Progenitor         & 431   & JAK2 V617F+ & PB & ET      & ET  & ET    & ET    & ET        & ET    & X431.PB.Prog \\\\\n",
       "\tX638.BM.Prog & 1 & 36998948 & 0.9837001 & X638.BM.Prog  & X638.BM.Prog     & 638.BM.Prog  & ET                      & Young & ET                                  & Progenitor         & 638   & JAK2 V617F+ & BM & ET      & ET  & ET    & ET    & ET        & ET    & X638.BM.Prog \\\\\n",
       "\tX407.PB.Prog & 1 & 39439971 & 1.2181627 & X407.PB.Prog  & X407.PB.Prog     & 407.PB.Prog  & MF                      & Mid   & myelofibrosis                       & Progenitor         & 407   & JAK2 V617F- & PB & MF      & MF  & MF    & MF    & MF        & MF    & X407.PB.Prog \\\\\n",
       "\tX428.PB.Prog & 1 & 30297263 & 1.2322401 & X428.PB.Prog  & X428.PB.Prog     & 428.PB.Prog  & MF                      & Mid   & myelofibrosis\\_postET                & Progenitor         & 428   & JAK2 V617F- & PB & MF      & MF  & MF    & MF    & MF        & MF    & X428.PB.Prog \\\\\n",
       "\tX560.PB.Prog & 1 & 29153199 & 1.0287934 & X560.PB.Prog  & X560.PB.Prog     & 560.PB.Prog  & MF                      & Aged  & myelofibrosis                       & Progenitor         & 560   & JAK2 V617F+ & PB & MF      & MF  & MF    & MF    & MF        & MF    & X560.PB.Prog \\\\\n",
       "\tX566.PB.Prog & 1 & 18280352 & 0.9067016 & X566.PB.Prog  & X566.PB.Prog     & 566.PB.Prog  & MF                      & Aged  & myelofibrosis                       & Progenitor         & 566   & JAK2 V617F- & PB & MF      & MF  & MF    & MF    & MF        & MF    & X566.PB.Prog \\\\\n",
       "\tX569.PB.Prog & 1 & 30240105 & 1.1740646 & X569.PB.Prog  & X569.PB.Prog     & 569.PB.Prog  & MF                      & Mid   & myelofibrosis                       & Progenitor         & 569   & JAK2 V617F+ & PB & MF      & MF  & MF    & MF    & MF        & MF    & X569.PB.Prog \\\\\n",
       "\tX573.BM.Prog & 1 & 33846003 & 1.0377696 & X573.BM.Prog  & X573.BM.Prog     & 573.BM.Prog  & MF                      & Aged  & systemic\\_mastocytosis\\_myelofibrosis & Progenitor         & 573   & JAK2 V617F- & BM & MF      & MF  & MF    & MF    & MF        & MF    & X573.BM.Prog \\\\\n",
       "\tX576.PB.Prog & 1 & 27107332 & 1.0359194 & X576.PB.Prog  & X576.PB.Prog     & 576.PB.Prog  & MF                      & Mid   & high\\_risk\\_myelofibrosis             & Progenitor         & 576   & JAK2 V617F+ & PB & MF      & MF  & MF    & MF    & MF        & MF    & X576.PB.Prog \\\\\n",
       "\tX580.BM.Prog & 1 & 31944969 & 0.9459367 & X580.BM.Prog  & X580.BM.Prog     & 580.BM.Prog  & MF                      & Aged  & int2\\_myelofibrosis\\_postET           & Progenitor         & 580   & JAK2 V617F+ & BM & MF      & MF  & MF    & MF    & MF        & MF    & X580.BM.Prog \\\\\n",
       "\tX581.PB.Prog & 1 & 32303675 & 1.1418393 & X581.PB.Prog  & X581.PB.Prog     & 581.PB.Prog  & MF                      & Aged  & myelofibrosis                       & Progenitor         & 581   & JAK2 V617F+ & PB & MF      & MF  & MF    & MF    & MF        & MF    & X581.PB.Prog \\\\\n",
       "\t⋮ & ⋮ & ⋮ & ⋮ & ⋮ & ⋮ & ⋮ & ⋮ & ⋮ & ⋮ & ⋮ & ⋮ & ⋮ & ⋮ & ⋮ & ⋮ & ⋮ & ⋮ & ⋮ & ⋮ & ⋮\\\\\n",
       "\tX668.PB.Prog & 1 & 37351892 & 1.1197987 & X668.PB.Prog   & X668.PB.Prog\\_S2  & 668.PB.Prog         & MF                       & Young & myelofibrosis\\_postPV      & Progenitor         & 668   & JAK2 V617F+ & PB & MF      & MF  & MF   & MF   & MF   & MF   & X668.PB.Prog \\\\\n",
       "\tX670A.PB.Prog & 1 & 37148906 & 1.1825631 & X670A.PB.Prog  & X670A.PB.Prog    & 670A.PB.Prog        & MF                       & Aged  & int2\\_myelofibrosis        & Progenitor         & 670A  & JAK2 V617F+ & PB & MF      & MF  & MF   & MF   & MF   & MF   & X670A.PB.Prog\\\\\n",
       "\tX670B.PB.Prog & 1 & 32527781 & 1.2282977 & X670B.PB.Prog  & X670B.PB.Prog    & 670B.PB.Prog        & MF                       & Aged  & int2\\_myelofibrosis        & Progenitor         & 670B  & JAK2 V617F+ & PB & MF      & MF  & MF   & MF   & MF   & MF   & X670B.PB.Prog\\\\\n",
       "\tX724.PB.Prog & 1 & 44906523 & 1.1205440 & X724.PB.Prog   & X724.PB.Prog\\_S3  & 724.PB.Prog         & MF                       & Aged  & int2\\_myelofibrosis\\_postPV & Progenitor         & 724   & JAK2 V617F+ & PB & MF      & MF  & MF   & MF   & MF   & MF   & X724.PB.Prog \\\\\n",
       "\tX725.PB.Prog & 1 & 20304967 & 1.1875157 & X725.PB.Prog   & X725.PB.Prog     & 725.PB.Prog         & MF                       & Young & int2\\_myelofibrosis\\_postET & Progenitor         & 725   & JAK2 V617F+ & PB & MF      & MF  & MF   & MF   & MF   & MF   & X725.PB.Prog \\\\\n",
       "\tX732.PB.Prog & 1 & 17007400 & 0.9837861 & X732.PB.Prog   & X732.PB.Prog     & 732.PB.Prog         & MF                       & Mid   & myelofibrosis\\_postET      & Progenitor         & 732   & JAK2 V617F+ & PB & MF      & MF  & MF   & MF   & MF   & MF   & X732.PB.Prog \\\\\n",
       "\tX736.BM.Prog & 1 & 27896033 & 1.2466574 & X736.BM.Prog   & X736.BM.Prog\\_S0  & 736.BM.Prog         & MF                       & Young & int2\\_myelofibrosis\\_postPV & Progenitor         & 736   & JAK2 V617F+ & BM & MF      & MF  & MF   & MF   & MF   & MF   & X736.BM.Prog \\\\\n",
       "\tX744.PB.Prog & 1 & 26120381 & 1.1535338 & X744.PB.Prog   & X744.PB.Prog     & 744.PB.Prog         & MF                       & Aged  & high\\_risk\\_myelofibrosis   & Progenitor         & 744   & JAK2 V617F+ & PB & MF      & MF  & MF   & MF   & MF   & MF   & X744.PB.Prog \\\\\n",
       "\tX767.BM.Prog & 1 & 26448448 & 1.2812320 & X767.BM.Prog   & X767.BM.Prog     & 767.BM.Prog         & MF                       & Aged  & int2\\_myelofibrosis        & Progenitor         & 767   & JAK2 V617F+ & BM & MF      & MF  & MF   & MF   & MF   & MF   & X767.BM.Prog \\\\\n",
       "\tX562.PB.Prog & 1 & 24726149 & 1.0413692 & X562.PB.Prog   & X562.PB.Prog\\_S0  & 562.PB.Prog         & PV                       & Young & PV                        & Progenitor         & 562   & JAK2 V617F+ & PB & PV      & PV  & PV   & PV   & PV   & PV   & X562.PB.Prog \\\\\n",
       "\tX575A.PB.Prog & 1 & 27789567 & 1.0593358 & X575A.PB.Prog  & X575A.PB.Prog\\_S0 & 575A.PB.Prog        & PV                       & Young & polycythemia vera         & Progenitor         & 575A  & JAK2 V617F+ & PB & PV      & PV  & PV   & PV   & PV   & PV   & X575A.PB.Prog\\\\\n",
       "\tX598.PB.Prog & 1 & 27221981 & 1.2307804 & X598.PB.Prog   & X598.PB.Prog\\_S0  & 598.PB.Prog         & PV                       & Young & polycythemia vera         & Progenitor         & 598   & JAK2 V617F+ & PB & PV      & PV  & PV   & PV   & PV   & PV   & X598.PB.Prog \\\\\n",
       "\tX662.BM.Prog & 1 & 32071414 & 1.1823562 & X662.BM.Prog   & X662.BM.Prog\\_S4  & 662.BM.Prog         & PV                       & Aged  & polycythemia vera         & Progenitor         & 662   & JAK2 V617F- & BM & PV      & PV  & PV   & PV   & PV   & PV   & X662.BM.Prog \\\\\n",
       "\tX689.BM.Prog & 1 & 31550720 & 1.2778901 & X689.BM.Prog   & X689.BM.Prog\\_S11 & 689.BM.Prog         & PV                       & Mid   & polycythemia vera         & Progenitor         & 689   & JAK2 V617F+ & BM & PV      & PV  & PV   & PV   & PV   & PV   & X689.BM.Prog \\\\\n",
       "\tX690.BM.Prog & 1 & 23829540 & 1.1641464 & X690.BM.Prog   & X690.BM.Prog\\_S5  & 690.BM.Prog         & PV                       & Mid   & polycythemia vera         & Progenitor         & 690   & JAK2 V617F- & BM & PV      & PV  & PV   & PV   & PV   & PV   & X690.BM.Prog \\\\\n",
       "\tX102 & 1 & 26771420 & 0.8630362 & 102            & X102             & 010408 JG           & sAML                     & NA    & sAML                      & Sorted progenitors & 10408 & none        & NA & sAML\\_Tx & NA  & sAML & sAML & sAML & sAML & X102         \\\\\n",
       "\tX89 & 1 & 22682461 & 1.0636630 & 89             & X89              & 1690-61             & sAML                     & NA    & sAML                      & Sorted progenitors & 1690  & none        & NA & sAML\\_Tx & NA  & sAML & sAML & sAML & sAML & X89          \\\\\n",
       "\tX87 & 1 & 19446280 & 1.1077248 & 87             & X87              & RO10008 (Bleakley?) & sAML                     & NA    & sAML                      & Sorted progenitors & 10008 & none        & NA & sAML\\_Tx & NA  & sAML & sAML & sAML & sAML & X87          \\\\\n",
       "\tX36 & 1 & 30389307 & 0.8793394 & 36             & X36              & RO50124             & sAML                     & NA    & sAML                      & Sorted progenitors & 50124 & none        & NA & sAML\\_Tx & NA  & sAML & sAML & sAML & sAML & X36          \\\\\n",
       "\tX42 & 1 & 21630854 & 0.6689091 & 42             & X42              & RO50200             & sAML                     & NA    & sAML                      & Sorted progenitors & 50200 & none        & NA & sAML\\_Tx & NA  & sAML & sAML & sAML & sAML & X42          \\\\\n",
       "\tX107 & 1 & 14296964 & 0.7443593 & 107            & X107             & RO50240             & sAML                     & NA    & sAML                      & Sorted progenitors & 50240 & none        & NA & sAML\\_Tx & NA  & sAML & sAML & sAML & sAML & X107         \\\\\n",
       "\tX48\\_MDStoAML & 1 & 27118459 & 0.8286065 & 48\\_MDStoAML    & X48\\_MDStoAML     & RO50261             & sAML                     & NA    & sAML                      & Sorted progenitors & 50261 & none        & NA & sAML\\_Tx & NA  & sAML & sAML & sAML & sAML & X48\\_MDStoAML \\\\\n",
       "\tX4018\\_GTGAAA & 1 & 22161750 & 0.9164989 & 4018\\_GTGAAA\\_S0 & X4018\\_GTGAAA\\_S0  & pt4018              & Young normal bone marrow & Young & Normal                    & Sorted progenitors & 4018  & Normal      & BM & YBM     & YBM & YBM  & NBM  & YBM  & YBM  & X4018\\_GTGAAA \\\\\n",
       "\tX4040\\_GTGAAA & 1 & 26484117 & 0.8646944 & 4040\\_GTGAAA\\_S0 & X4040\\_GTGAAA\\_S0  & pt4040              & Young normal bone marrow & Young & Normal                    & Sorted progenitors & 4040  & Normal      & BM & YBM     & YBM & YBM  & NBM  & YBM  & YBM  & X4040\\_GTGAAA \\\\\n",
       "\tX4066\\_GTGAAA & 1 & 22706610 & 0.8196927 & 4066\\_GTGAAA\\_S0 & X4066\\_GTGAAA\\_S0  & pt4066              & Young normal bone marrow & Young & Normal                    & Sorted progenitors & 4066  & Normal      & BM & YBM     & YBM & YBM  & NBM  & YBM  & YBM  & X4066\\_GTGAAA \\\\\n",
       "\tX4188\\_GTGAAA & 1 & 19304985 & 0.8344602 & 4188\\_GTGAAA\\_S0 & X4188\\_GTGAAA\\_S0  & pt4188              & Young normal bone marrow & Young & Normal                    & Sorted progenitors & 4188  & Normal      & BM & YBM     & YBM & YBM  & NBM  & YBM  & YBM  & X4188\\_GTGAAA \\\\\n",
       "\tX4215\\_GTGAAA & 1 & 25007273 & 0.8462581 & 4215\\_GTGAAA\\_S0 & X4215\\_GTGAAA\\_S0  & pt4215              & Young normal bone marrow & Young & Normal                    & Sorted progenitors & 4215  & Normal      & BM & YBM     & YBM & YBM  & NBM  & YBM  & YBM  & X4215\\_GTGAAA \\\\\n",
       "\tX4218\\_GTGAAA & 1 & 31111641 & 0.8269981 & 4218\\_GTGAAA\\_S0 & X4218\\_GTGAAA\\_S0  & pt4218              & Young normal bone marrow & Young & Normal                    & Sorted progenitors & 4218  & Normal      & BM & YBM     & YBM & YBM  & NBM  & YBM  & YBM  & X4218\\_GTGAAA \\\\\n",
       "\tX4259\\_GTGAAA & 1 & 23836130 & 0.9139230 & 4259\\_GTGAAA\\_S0 & X4259\\_GTGAAA\\_S0  & pt4259              & Young normal bone marrow & Young & Normal                    & Sorted progenitors & 4259  & Normal      & BM & YBM     & YBM & YBM  & NBM  & YBM  & YBM  & X4259\\_GTGAAA \\\\\n",
       "\tX4279\\_GTGAAA & 1 & 28062777 & 0.8462223 & 4279\\_GTGAAA\\_S0 & X4279\\_GTGAAA\\_S0  & pt4279              & Young normal bone marrow & Young & Normal                    & Sorted progenitors & 4279  & Normal      & BM & YBM     & YBM & YBM  & NBM  & YBM  & YBM  & X4279\\_GTGAAA \\\\\n",
       "\\end{tabular}\n"
      ],
      "text/markdown": [
       "\n",
       "A data.frame: 66 × 20\n",
       "\n",
       "| <!--/--> | group &lt;fct&gt; | lib.size &lt;dbl&gt; | norm.factors &lt;dbl&gt; | File_ID &lt;chr&gt; | Sample &lt;chr&gt; | ID &lt;chr&gt; | Sample.type &lt;chr&gt; | Age &lt;chr&gt; | Condition &lt;chr&gt; | Cell.type &lt;chr&gt; | Patient_ID &lt;chr&gt; | Mutation &lt;chr&gt; | CellType &lt;chr&gt; | Sample.type4 &lt;chr&gt; | Phenotype &lt;fct&gt; | Sample.type3 &lt;fct&gt; | Sample.type2 &lt;chr&gt; | Phenotype2 &lt;fct&gt; | Phenotype4 &lt;fct&gt; | Sample2 &lt;chr&gt; |\n",
       "|---|---|---|---|---|---|---|---|---|---|---|---|---|---|---|---|---|---|---|---|---|\n",
       "| X368_ACAGTG | 1 | 29346645 | 0.8336302 | 368_ACAGTG_S0 | X368_ACAGTG_S0   | pt368        | Aged normal bone marrow | Aged  | Normal                              | Sorted progenitors | 368   | Normal      | BM | ABM     | ABM | ABM   | NBM   | ABM       | ABM   | X368_ACAGTG   |\n",
       "| X380_ACAGTG | 1 | 18235187 | 0.8926607 | 380_ACAGTG_S0 | X380_ACAGTG_S0   | pt380        | Aged normal bone marrow | Aged  | Normal                              | Sorted progenitors | 380   | Normal      | BM | ABM     | ABM | ABM   | NBM   | ABM       | ABM   | X380_ACAGTG   |\n",
       "| X401_ACAGTG | 1 | 31006479 | 0.8458898 | 401_ACAGTG_S0 | X401_ACAGTG_S0   | pt401        | Aged normal bone marrow | Aged  | Normal                              | Sorted progenitors | 401   | Normal      | BM | ABM     | ABM | ABM   | NBM   | ABM       | ABM   | X401_ACAGTG   |\n",
       "| X402_ACAGTG | 1 | 19795015 | 0.8816494 | 402_ACAGTG_S0 | X402_ACAGTG_S0   | pt402        | Aged normal bone marrow | Aged  | Normal                              | Sorted progenitors | 402   | Normal      | BM | ABM     | ABM | ABM   | NBM   | ABM       | ABM   | X402_ACAGTG   |\n",
       "| X410_ACAGTG | 1 | 28260339 | 0.7034326 | 410_ACAGTG_S0 | X410_ACAGTG_S0   | pt410        | Aged normal bone marrow | Aged  | Normal                              | Sorted progenitors | 410   | Normal      | BM | ABM     | ABM | ABM   | NBM   | ABM       | ABM   | X410_ACAGTG   |\n",
       "| X415_ACAGTG | 1 | 29522791 | 0.7050293 | 415_ACAGTG_S0 | X415_ACAGTG_S0   | pt415        | Aged normal bone marrow | Aged  | Normal                              | Sorted progenitors | 415   | Normal      | BM | ABM     | ABM | ABM   | NBM   | ABM       | ABM   | X415_ACAGTG   |\n",
       "| X416_ACAGTG | 1 | 16345892 | 0.7755507 | 416_ACAGTG_S0 | X416_ACAGTG_S0   | pt416        | Aged normal bone marrow | Aged  | Normal                              | Sorted progenitors | 416   | Normal      | BM | ABM     | ABM | ABM   | NBM   | ABM       | ABM   | X416_ACAGTG   |\n",
       "| X426_ACAGTG | 1 | 22895826 | 0.8525113 | 426_ACAGTG_S0 | X426_ACAGTG_S0   | pt426        | Aged normal bone marrow | Aged  | Normal                              | Sorted progenitors | 426   | Normal      | BM | ABM     | ABM | ABM   | NBM   | ABM       | ABM   | X426_ACAGTG   |\n",
       "| X591.BM.Prog | 1 | 14255819 | 1.0042445 | X591.BM.Prog  | X591.BM.Prog_S0  | 591.BM.Prog  | AML                     | Aged  | AML                                 | Progenitor         | 591   | JAK2 V617F- | BM | sAML_Tx | AML | sAML  | sAML  | sAML      | sAML  | X591.BM.Prog  |\n",
       "| X672A.PB.Prog | 1 | 50774009 | 0.8726136 | X672A.PB.Prog | X672A.PB.Prog_S3 | 672A.PB.Prog | AML                     | Aged  | AML (post-MF)                       | Progenitor         | 672A  | NA          | PB | sAML_Tx | AML | sAML  | sAML  | sAML      | sAML  | X672A.PB.Prog |\n",
       "| X672B.PB.Prog | 1 | 28675689 | 1.0913295 | X672B.PB.Prog | X672B.PB.Prog_S0 | 672B.PB.Prog | AML                     | Aged  | AML (post-MF)                       | Progenitor         | 672B  | NA          | PB | sAML_Tx | AML | sAML  | sAML  | sAML      | sAML  | X672B.PB.Prog |\n",
       "| X735.PB.Prog | 1 | 16598088 | 1.0978449 | X735.PB.Prog  | X735.PB.Prog_S8  | 735.PB.Prog  | AML                     | Aged  | AML                                 | Progenitor         | 735   | NA          | PB | sAML_Tx | AML | sAML  | sAML  | sAML      | sAML  | X735.PB.Prog  |\n",
       "| X571.BM.Prog | 1 | 31241543 | 1.0501018 | X571.BM.Prog  | X571.BM.Prog     | 571.BM.Prog  | CML                     | Young | CP-CML                              | Progenitor         | 571   | BCR-ABL+    | BM | CML     | CML | CML   | CML   | CML       | CML   | X571.BM.Prog  |\n",
       "| X608.BM.Prog | 1 | 35570015 | 1.2154725 | X608.BM.Prog  | X608.BM.Prog     | 608.BM.Prog  | CML                     | Young | BC-CML                              | Progenitor         | 608   | BCR-ABL+    | BM | CML     | CML | CML   | CML   | CML       | CML   | X608.BM.Prog  |\n",
       "| X616.BM.Prog | 1 | 28111087 | 1.2347164 | X616.BM.Prog  | X616.BM.Prog     | 616.BM.Prog  | CML                     | Young | CP CML                              | Progenitor         | 616   | NA          | BM | CML     | CML | CML   | CML   | CML       | CML   | X616.BM.Prog  |\n",
       "| X703.PB.Prog | 1 | 28361424 | 1.2128433 | X703.PB.Prog  | X703.PB.Prog     | 703.PB.Prog  | CML                     | Young | CML                                 | Progenitor         | 703   | BCR-ABL+    | PB | CML     | CML | CML   | CML   | CML       | CML   | X703.PB.Prog  |\n",
       "| X727.PB.Prog | 1 | 27275719 | 1.2833845 | X727.PB.Prog  | X727.PB.Prog     | 727.PB.Prog  | CML                     | Young | AP CML                              | Progenitor         | 727   | BCR-ABL+    | PB | CML     | CML | CML   | CML   | CML       | CML   | X727.PB.Prog  |\n",
       "| X20_MDStoAML | 1 | 23968759 | 0.7084031 | 20_MDStoAML   | X20_MDStoAML     | RO50113      | sAML                    | NA    | de novo AML                         | Sorted progenitors | 50113 | NA          | NA | sAML_Tx | NA  | dnAML | dnAML | denovoAML | dnAML | X20_MDStoAML  |\n",
       "| X19_MDStoAML | 1 | 32770222 | 0.6891528 | 19_MDStoAML   | X19_MDStoAML     | RO50120      | sAML                    | NA    | de novo AML                         | Sorted progenitors | 50120 | NA          | NA | sAML_Tx | NA  | dnAML | dnAML | denovoAML | dnAML | X19_MDStoAML  |\n",
       "| X431.PB.Prog | 1 | 36163109 | 1.2236435 | X431.PB.Prog  | X431.PB.Prog     | 431.PB.Prog  | ET                      | Mid   | ET                                  | Progenitor         | 431   | JAK2 V617F+ | PB | ET      | ET  | ET    | ET    | ET        | ET    | X431.PB.Prog  |\n",
       "| X638.BM.Prog | 1 | 36998948 | 0.9837001 | X638.BM.Prog  | X638.BM.Prog     | 638.BM.Prog  | ET                      | Young | ET                                  | Progenitor         | 638   | JAK2 V617F+ | BM | ET      | ET  | ET    | ET    | ET        | ET    | X638.BM.Prog  |\n",
       "| X407.PB.Prog | 1 | 39439971 | 1.2181627 | X407.PB.Prog  | X407.PB.Prog     | 407.PB.Prog  | MF                      | Mid   | myelofibrosis                       | Progenitor         | 407   | JAK2 V617F- | PB | MF      | MF  | MF    | MF    | MF        | MF    | X407.PB.Prog  |\n",
       "| X428.PB.Prog | 1 | 30297263 | 1.2322401 | X428.PB.Prog  | X428.PB.Prog     | 428.PB.Prog  | MF                      | Mid   | myelofibrosis_postET                | Progenitor         | 428   | JAK2 V617F- | PB | MF      | MF  | MF    | MF    | MF        | MF    | X428.PB.Prog  |\n",
       "| X560.PB.Prog | 1 | 29153199 | 1.0287934 | X560.PB.Prog  | X560.PB.Prog     | 560.PB.Prog  | MF                      | Aged  | myelofibrosis                       | Progenitor         | 560   | JAK2 V617F+ | PB | MF      | MF  | MF    | MF    | MF        | MF    | X560.PB.Prog  |\n",
       "| X566.PB.Prog | 1 | 18280352 | 0.9067016 | X566.PB.Prog  | X566.PB.Prog     | 566.PB.Prog  | MF                      | Aged  | myelofibrosis                       | Progenitor         | 566   | JAK2 V617F- | PB | MF      | MF  | MF    | MF    | MF        | MF    | X566.PB.Prog  |\n",
       "| X569.PB.Prog | 1 | 30240105 | 1.1740646 | X569.PB.Prog  | X569.PB.Prog     | 569.PB.Prog  | MF                      | Mid   | myelofibrosis                       | Progenitor         | 569   | JAK2 V617F+ | PB | MF      | MF  | MF    | MF    | MF        | MF    | X569.PB.Prog  |\n",
       "| X573.BM.Prog | 1 | 33846003 | 1.0377696 | X573.BM.Prog  | X573.BM.Prog     | 573.BM.Prog  | MF                      | Aged  | systemic_mastocytosis_myelofibrosis | Progenitor         | 573   | JAK2 V617F- | BM | MF      | MF  | MF    | MF    | MF        | MF    | X573.BM.Prog  |\n",
       "| X576.PB.Prog | 1 | 27107332 | 1.0359194 | X576.PB.Prog  | X576.PB.Prog     | 576.PB.Prog  | MF                      | Mid   | high_risk_myelofibrosis             | Progenitor         | 576   | JAK2 V617F+ | PB | MF      | MF  | MF    | MF    | MF        | MF    | X576.PB.Prog  |\n",
       "| X580.BM.Prog | 1 | 31944969 | 0.9459367 | X580.BM.Prog  | X580.BM.Prog     | 580.BM.Prog  | MF                      | Aged  | int2_myelofibrosis_postET           | Progenitor         | 580   | JAK2 V617F+ | BM | MF      | MF  | MF    | MF    | MF        | MF    | X580.BM.Prog  |\n",
       "| X581.PB.Prog | 1 | 32303675 | 1.1418393 | X581.PB.Prog  | X581.PB.Prog     | 581.PB.Prog  | MF                      | Aged  | myelofibrosis                       | Progenitor         | 581   | JAK2 V617F+ | PB | MF      | MF  | MF    | MF    | MF        | MF    | X581.PB.Prog  |\n",
       "| ⋮ | ⋮ | ⋮ | ⋮ | ⋮ | ⋮ | ⋮ | ⋮ | ⋮ | ⋮ | ⋮ | ⋮ | ⋮ | ⋮ | ⋮ | ⋮ | ⋮ | ⋮ | ⋮ | ⋮ | ⋮ |\n",
       "| X668.PB.Prog | 1 | 37351892 | 1.1197987 | X668.PB.Prog   | X668.PB.Prog_S2  | 668.PB.Prog         | MF                       | Young | myelofibrosis_postPV      | Progenitor         | 668   | JAK2 V617F+ | PB | MF      | MF  | MF   | MF   | MF   | MF   | X668.PB.Prog  |\n",
       "| X670A.PB.Prog | 1 | 37148906 | 1.1825631 | X670A.PB.Prog  | X670A.PB.Prog    | 670A.PB.Prog        | MF                       | Aged  | int2_myelofibrosis        | Progenitor         | 670A  | JAK2 V617F+ | PB | MF      | MF  | MF   | MF   | MF   | MF   | X670A.PB.Prog |\n",
       "| X670B.PB.Prog | 1 | 32527781 | 1.2282977 | X670B.PB.Prog  | X670B.PB.Prog    | 670B.PB.Prog        | MF                       | Aged  | int2_myelofibrosis        | Progenitor         | 670B  | JAK2 V617F+ | PB | MF      | MF  | MF   | MF   | MF   | MF   | X670B.PB.Prog |\n",
       "| X724.PB.Prog | 1 | 44906523 | 1.1205440 | X724.PB.Prog   | X724.PB.Prog_S3  | 724.PB.Prog         | MF                       | Aged  | int2_myelofibrosis_postPV | Progenitor         | 724   | JAK2 V617F+ | PB | MF      | MF  | MF   | MF   | MF   | MF   | X724.PB.Prog  |\n",
       "| X725.PB.Prog | 1 | 20304967 | 1.1875157 | X725.PB.Prog   | X725.PB.Prog     | 725.PB.Prog         | MF                       | Young | int2_myelofibrosis_postET | Progenitor         | 725   | JAK2 V617F+ | PB | MF      | MF  | MF   | MF   | MF   | MF   | X725.PB.Prog  |\n",
       "| X732.PB.Prog | 1 | 17007400 | 0.9837861 | X732.PB.Prog   | X732.PB.Prog     | 732.PB.Prog         | MF                       | Mid   | myelofibrosis_postET      | Progenitor         | 732   | JAK2 V617F+ | PB | MF      | MF  | MF   | MF   | MF   | MF   | X732.PB.Prog  |\n",
       "| X736.BM.Prog | 1 | 27896033 | 1.2466574 | X736.BM.Prog   | X736.BM.Prog_S0  | 736.BM.Prog         | MF                       | Young | int2_myelofibrosis_postPV | Progenitor         | 736   | JAK2 V617F+ | BM | MF      | MF  | MF   | MF   | MF   | MF   | X736.BM.Prog  |\n",
       "| X744.PB.Prog | 1 | 26120381 | 1.1535338 | X744.PB.Prog   | X744.PB.Prog     | 744.PB.Prog         | MF                       | Aged  | high_risk_myelofibrosis   | Progenitor         | 744   | JAK2 V617F+ | PB | MF      | MF  | MF   | MF   | MF   | MF   | X744.PB.Prog  |\n",
       "| X767.BM.Prog | 1 | 26448448 | 1.2812320 | X767.BM.Prog   | X767.BM.Prog     | 767.BM.Prog         | MF                       | Aged  | int2_myelofibrosis        | Progenitor         | 767   | JAK2 V617F+ | BM | MF      | MF  | MF   | MF   | MF   | MF   | X767.BM.Prog  |\n",
       "| X562.PB.Prog | 1 | 24726149 | 1.0413692 | X562.PB.Prog   | X562.PB.Prog_S0  | 562.PB.Prog         | PV                       | Young | PV                        | Progenitor         | 562   | JAK2 V617F+ | PB | PV      | PV  | PV   | PV   | PV   | PV   | X562.PB.Prog  |\n",
       "| X575A.PB.Prog | 1 | 27789567 | 1.0593358 | X575A.PB.Prog  | X575A.PB.Prog_S0 | 575A.PB.Prog        | PV                       | Young | polycythemia vera         | Progenitor         | 575A  | JAK2 V617F+ | PB | PV      | PV  | PV   | PV   | PV   | PV   | X575A.PB.Prog |\n",
       "| X598.PB.Prog | 1 | 27221981 | 1.2307804 | X598.PB.Prog   | X598.PB.Prog_S0  | 598.PB.Prog         | PV                       | Young | polycythemia vera         | Progenitor         | 598   | JAK2 V617F+ | PB | PV      | PV  | PV   | PV   | PV   | PV   | X598.PB.Prog  |\n",
       "| X662.BM.Prog | 1 | 32071414 | 1.1823562 | X662.BM.Prog   | X662.BM.Prog_S4  | 662.BM.Prog         | PV                       | Aged  | polycythemia vera         | Progenitor         | 662   | JAK2 V617F- | BM | PV      | PV  | PV   | PV   | PV   | PV   | X662.BM.Prog  |\n",
       "| X689.BM.Prog | 1 | 31550720 | 1.2778901 | X689.BM.Prog   | X689.BM.Prog_S11 | 689.BM.Prog         | PV                       | Mid   | polycythemia vera         | Progenitor         | 689   | JAK2 V617F+ | BM | PV      | PV  | PV   | PV   | PV   | PV   | X689.BM.Prog  |\n",
       "| X690.BM.Prog | 1 | 23829540 | 1.1641464 | X690.BM.Prog   | X690.BM.Prog_S5  | 690.BM.Prog         | PV                       | Mid   | polycythemia vera         | Progenitor         | 690   | JAK2 V617F- | BM | PV      | PV  | PV   | PV   | PV   | PV   | X690.BM.Prog  |\n",
       "| X102 | 1 | 26771420 | 0.8630362 | 102            | X102             | 010408 JG           | sAML                     | NA    | sAML                      | Sorted progenitors | 10408 | none        | NA | sAML_Tx | NA  | sAML | sAML | sAML | sAML | X102          |\n",
       "| X89 | 1 | 22682461 | 1.0636630 | 89             | X89              | 1690-61             | sAML                     | NA    | sAML                      | Sorted progenitors | 1690  | none        | NA | sAML_Tx | NA  | sAML | sAML | sAML | sAML | X89           |\n",
       "| X87 | 1 | 19446280 | 1.1077248 | 87             | X87              | RO10008 (Bleakley?) | sAML                     | NA    | sAML                      | Sorted progenitors | 10008 | none        | NA | sAML_Tx | NA  | sAML | sAML | sAML | sAML | X87           |\n",
       "| X36 | 1 | 30389307 | 0.8793394 | 36             | X36              | RO50124             | sAML                     | NA    | sAML                      | Sorted progenitors | 50124 | none        | NA | sAML_Tx | NA  | sAML | sAML | sAML | sAML | X36           |\n",
       "| X42 | 1 | 21630854 | 0.6689091 | 42             | X42              | RO50200             | sAML                     | NA    | sAML                      | Sorted progenitors | 50200 | none        | NA | sAML_Tx | NA  | sAML | sAML | sAML | sAML | X42           |\n",
       "| X107 | 1 | 14296964 | 0.7443593 | 107            | X107             | RO50240             | sAML                     | NA    | sAML                      | Sorted progenitors | 50240 | none        | NA | sAML_Tx | NA  | sAML | sAML | sAML | sAML | X107          |\n",
       "| X48_MDStoAML | 1 | 27118459 | 0.8286065 | 48_MDStoAML    | X48_MDStoAML     | RO50261             | sAML                     | NA    | sAML                      | Sorted progenitors | 50261 | none        | NA | sAML_Tx | NA  | sAML | sAML | sAML | sAML | X48_MDStoAML  |\n",
       "| X4018_GTGAAA | 1 | 22161750 | 0.9164989 | 4018_GTGAAA_S0 | X4018_GTGAAA_S0  | pt4018              | Young normal bone marrow | Young | Normal                    | Sorted progenitors | 4018  | Normal      | BM | YBM     | YBM | YBM  | NBM  | YBM  | YBM  | X4018_GTGAAA  |\n",
       "| X4040_GTGAAA | 1 | 26484117 | 0.8646944 | 4040_GTGAAA_S0 | X4040_GTGAAA_S0  | pt4040              | Young normal bone marrow | Young | Normal                    | Sorted progenitors | 4040  | Normal      | BM | YBM     | YBM | YBM  | NBM  | YBM  | YBM  | X4040_GTGAAA  |\n",
       "| X4066_GTGAAA | 1 | 22706610 | 0.8196927 | 4066_GTGAAA_S0 | X4066_GTGAAA_S0  | pt4066              | Young normal bone marrow | Young | Normal                    | Sorted progenitors | 4066  | Normal      | BM | YBM     | YBM | YBM  | NBM  | YBM  | YBM  | X4066_GTGAAA  |\n",
       "| X4188_GTGAAA | 1 | 19304985 | 0.8344602 | 4188_GTGAAA_S0 | X4188_GTGAAA_S0  | pt4188              | Young normal bone marrow | Young | Normal                    | Sorted progenitors | 4188  | Normal      | BM | YBM     | YBM | YBM  | NBM  | YBM  | YBM  | X4188_GTGAAA  |\n",
       "| X4215_GTGAAA | 1 | 25007273 | 0.8462581 | 4215_GTGAAA_S0 | X4215_GTGAAA_S0  | pt4215              | Young normal bone marrow | Young | Normal                    | Sorted progenitors | 4215  | Normal      | BM | YBM     | YBM | YBM  | NBM  | YBM  | YBM  | X4215_GTGAAA  |\n",
       "| X4218_GTGAAA | 1 | 31111641 | 0.8269981 | 4218_GTGAAA_S0 | X4218_GTGAAA_S0  | pt4218              | Young normal bone marrow | Young | Normal                    | Sorted progenitors | 4218  | Normal      | BM | YBM     | YBM | YBM  | NBM  | YBM  | YBM  | X4218_GTGAAA  |\n",
       "| X4259_GTGAAA | 1 | 23836130 | 0.9139230 | 4259_GTGAAA_S0 | X4259_GTGAAA_S0  | pt4259              | Young normal bone marrow | Young | Normal                    | Sorted progenitors | 4259  | Normal      | BM | YBM     | YBM | YBM  | NBM  | YBM  | YBM  | X4259_GTGAAA  |\n",
       "| X4279_GTGAAA | 1 | 28062777 | 0.8462223 | 4279_GTGAAA_S0 | X4279_GTGAAA_S0  | pt4279              | Young normal bone marrow | Young | Normal                    | Sorted progenitors | 4279  | Normal      | BM | YBM     | YBM | YBM  | NBM  | YBM  | YBM  | X4279_GTGAAA  |\n",
       "\n"
      ],
      "text/plain": [
       "              group lib.size norm.factors File_ID        Sample          \n",
       "X368_ACAGTG   1     29346645 0.8336302    368_ACAGTG_S0  X368_ACAGTG_S0  \n",
       "X380_ACAGTG   1     18235187 0.8926607    380_ACAGTG_S0  X380_ACAGTG_S0  \n",
       "X401_ACAGTG   1     31006479 0.8458898    401_ACAGTG_S0  X401_ACAGTG_S0  \n",
       "X402_ACAGTG   1     19795015 0.8816494    402_ACAGTG_S0  X402_ACAGTG_S0  \n",
       "X410_ACAGTG   1     28260339 0.7034326    410_ACAGTG_S0  X410_ACAGTG_S0  \n",
       "X415_ACAGTG   1     29522791 0.7050293    415_ACAGTG_S0  X415_ACAGTG_S0  \n",
       "X416_ACAGTG   1     16345892 0.7755507    416_ACAGTG_S0  X416_ACAGTG_S0  \n",
       "X426_ACAGTG   1     22895826 0.8525113    426_ACAGTG_S0  X426_ACAGTG_S0  \n",
       "X591.BM.Prog  1     14255819 1.0042445    X591.BM.Prog   X591.BM.Prog_S0 \n",
       "X672A.PB.Prog 1     50774009 0.8726136    X672A.PB.Prog  X672A.PB.Prog_S3\n",
       "X672B.PB.Prog 1     28675689 1.0913295    X672B.PB.Prog  X672B.PB.Prog_S0\n",
       "X735.PB.Prog  1     16598088 1.0978449    X735.PB.Prog   X735.PB.Prog_S8 \n",
       "X571.BM.Prog  1     31241543 1.0501018    X571.BM.Prog   X571.BM.Prog    \n",
       "X608.BM.Prog  1     35570015 1.2154725    X608.BM.Prog   X608.BM.Prog    \n",
       "X616.BM.Prog  1     28111087 1.2347164    X616.BM.Prog   X616.BM.Prog    \n",
       "X703.PB.Prog  1     28361424 1.2128433    X703.PB.Prog   X703.PB.Prog    \n",
       "X727.PB.Prog  1     27275719 1.2833845    X727.PB.Prog   X727.PB.Prog    \n",
       "X20_MDStoAML  1     23968759 0.7084031    20_MDStoAML    X20_MDStoAML    \n",
       "X19_MDStoAML  1     32770222 0.6891528    19_MDStoAML    X19_MDStoAML    \n",
       "X431.PB.Prog  1     36163109 1.2236435    X431.PB.Prog   X431.PB.Prog    \n",
       "X638.BM.Prog  1     36998948 0.9837001    X638.BM.Prog   X638.BM.Prog    \n",
       "X407.PB.Prog  1     39439971 1.2181627    X407.PB.Prog   X407.PB.Prog    \n",
       "X428.PB.Prog  1     30297263 1.2322401    X428.PB.Prog   X428.PB.Prog    \n",
       "X560.PB.Prog  1     29153199 1.0287934    X560.PB.Prog   X560.PB.Prog    \n",
       "X566.PB.Prog  1     18280352 0.9067016    X566.PB.Prog   X566.PB.Prog    \n",
       "X569.PB.Prog  1     30240105 1.1740646    X569.PB.Prog   X569.PB.Prog    \n",
       "X573.BM.Prog  1     33846003 1.0377696    X573.BM.Prog   X573.BM.Prog    \n",
       "X576.PB.Prog  1     27107332 1.0359194    X576.PB.Prog   X576.PB.Prog    \n",
       "X580.BM.Prog  1     31944969 0.9459367    X580.BM.Prog   X580.BM.Prog    \n",
       "X581.PB.Prog  1     32303675 1.1418393    X581.PB.Prog   X581.PB.Prog    \n",
       "⋮             ⋮     ⋮        ⋮            ⋮              ⋮               \n",
       "X668.PB.Prog  1     37351892 1.1197987    X668.PB.Prog   X668.PB.Prog_S2 \n",
       "X670A.PB.Prog 1     37148906 1.1825631    X670A.PB.Prog  X670A.PB.Prog   \n",
       "X670B.PB.Prog 1     32527781 1.2282977    X670B.PB.Prog  X670B.PB.Prog   \n",
       "X724.PB.Prog  1     44906523 1.1205440    X724.PB.Prog   X724.PB.Prog_S3 \n",
       "X725.PB.Prog  1     20304967 1.1875157    X725.PB.Prog   X725.PB.Prog    \n",
       "X732.PB.Prog  1     17007400 0.9837861    X732.PB.Prog   X732.PB.Prog    \n",
       "X736.BM.Prog  1     27896033 1.2466574    X736.BM.Prog   X736.BM.Prog_S0 \n",
       "X744.PB.Prog  1     26120381 1.1535338    X744.PB.Prog   X744.PB.Prog    \n",
       "X767.BM.Prog  1     26448448 1.2812320    X767.BM.Prog   X767.BM.Prog    \n",
       "X562.PB.Prog  1     24726149 1.0413692    X562.PB.Prog   X562.PB.Prog_S0 \n",
       "X575A.PB.Prog 1     27789567 1.0593358    X575A.PB.Prog  X575A.PB.Prog_S0\n",
       "X598.PB.Prog  1     27221981 1.2307804    X598.PB.Prog   X598.PB.Prog_S0 \n",
       "X662.BM.Prog  1     32071414 1.1823562    X662.BM.Prog   X662.BM.Prog_S4 \n",
       "X689.BM.Prog  1     31550720 1.2778901    X689.BM.Prog   X689.BM.Prog_S11\n",
       "X690.BM.Prog  1     23829540 1.1641464    X690.BM.Prog   X690.BM.Prog_S5 \n",
       "X102          1     26771420 0.8630362    102            X102            \n",
       "X89           1     22682461 1.0636630    89             X89             \n",
       "X87           1     19446280 1.1077248    87             X87             \n",
       "X36           1     30389307 0.8793394    36             X36             \n",
       "X42           1     21630854 0.6689091    42             X42             \n",
       "X107          1     14296964 0.7443593    107            X107            \n",
       "X48_MDStoAML  1     27118459 0.8286065    48_MDStoAML    X48_MDStoAML    \n",
       "X4018_GTGAAA  1     22161750 0.9164989    4018_GTGAAA_S0 X4018_GTGAAA_S0 \n",
       "X4040_GTGAAA  1     26484117 0.8646944    4040_GTGAAA_S0 X4040_GTGAAA_S0 \n",
       "X4066_GTGAAA  1     22706610 0.8196927    4066_GTGAAA_S0 X4066_GTGAAA_S0 \n",
       "X4188_GTGAAA  1     19304985 0.8344602    4188_GTGAAA_S0 X4188_GTGAAA_S0 \n",
       "X4215_GTGAAA  1     25007273 0.8462581    4215_GTGAAA_S0 X4215_GTGAAA_S0 \n",
       "X4218_GTGAAA  1     31111641 0.8269981    4218_GTGAAA_S0 X4218_GTGAAA_S0 \n",
       "X4259_GTGAAA  1     23836130 0.9139230    4259_GTGAAA_S0 X4259_GTGAAA_S0 \n",
       "X4279_GTGAAA  1     28062777 0.8462223    4279_GTGAAA_S0 X4279_GTGAAA_S0 \n",
       "              ID                  Sample.type              Age  \n",
       "X368_ACAGTG   pt368               Aged normal bone marrow  Aged \n",
       "X380_ACAGTG   pt380               Aged normal bone marrow  Aged \n",
       "X401_ACAGTG   pt401               Aged normal bone marrow  Aged \n",
       "X402_ACAGTG   pt402               Aged normal bone marrow  Aged \n",
       "X410_ACAGTG   pt410               Aged normal bone marrow  Aged \n",
       "X415_ACAGTG   pt415               Aged normal bone marrow  Aged \n",
       "X416_ACAGTG   pt416               Aged normal bone marrow  Aged \n",
       "X426_ACAGTG   pt426               Aged normal bone marrow  Aged \n",
       "X591.BM.Prog  591.BM.Prog         AML                      Aged \n",
       "X672A.PB.Prog 672A.PB.Prog        AML                      Aged \n",
       "X672B.PB.Prog 672B.PB.Prog        AML                      Aged \n",
       "X735.PB.Prog  735.PB.Prog         AML                      Aged \n",
       "X571.BM.Prog  571.BM.Prog         CML                      Young\n",
       "X608.BM.Prog  608.BM.Prog         CML                      Young\n",
       "X616.BM.Prog  616.BM.Prog         CML                      Young\n",
       "X703.PB.Prog  703.PB.Prog         CML                      Young\n",
       "X727.PB.Prog  727.PB.Prog         CML                      Young\n",
       "X20_MDStoAML  RO50113             sAML                     NA   \n",
       "X19_MDStoAML  RO50120             sAML                     NA   \n",
       "X431.PB.Prog  431.PB.Prog         ET                       Mid  \n",
       "X638.BM.Prog  638.BM.Prog         ET                       Young\n",
       "X407.PB.Prog  407.PB.Prog         MF                       Mid  \n",
       "X428.PB.Prog  428.PB.Prog         MF                       Mid  \n",
       "X560.PB.Prog  560.PB.Prog         MF                       Aged \n",
       "X566.PB.Prog  566.PB.Prog         MF                       Aged \n",
       "X569.PB.Prog  569.PB.Prog         MF                       Mid  \n",
       "X573.BM.Prog  573.BM.Prog         MF                       Aged \n",
       "X576.PB.Prog  576.PB.Prog         MF                       Mid  \n",
       "X580.BM.Prog  580.BM.Prog         MF                       Aged \n",
       "X581.PB.Prog  581.PB.Prog         MF                       Aged \n",
       "⋮             ⋮                   ⋮                        ⋮    \n",
       "X668.PB.Prog  668.PB.Prog         MF                       Young\n",
       "X670A.PB.Prog 670A.PB.Prog        MF                       Aged \n",
       "X670B.PB.Prog 670B.PB.Prog        MF                       Aged \n",
       "X724.PB.Prog  724.PB.Prog         MF                       Aged \n",
       "X725.PB.Prog  725.PB.Prog         MF                       Young\n",
       "X732.PB.Prog  732.PB.Prog         MF                       Mid  \n",
       "X736.BM.Prog  736.BM.Prog         MF                       Young\n",
       "X744.PB.Prog  744.PB.Prog         MF                       Aged \n",
       "X767.BM.Prog  767.BM.Prog         MF                       Aged \n",
       "X562.PB.Prog  562.PB.Prog         PV                       Young\n",
       "X575A.PB.Prog 575A.PB.Prog        PV                       Young\n",
       "X598.PB.Prog  598.PB.Prog         PV                       Young\n",
       "X662.BM.Prog  662.BM.Prog         PV                       Aged \n",
       "X689.BM.Prog  689.BM.Prog         PV                       Mid  \n",
       "X690.BM.Prog  690.BM.Prog         PV                       Mid  \n",
       "X102          010408 JG           sAML                     NA   \n",
       "X89           1690-61             sAML                     NA   \n",
       "X87           RO10008 (Bleakley?) sAML                     NA   \n",
       "X36           RO50124             sAML                     NA   \n",
       "X42           RO50200             sAML                     NA   \n",
       "X107          RO50240             sAML                     NA   \n",
       "X48_MDStoAML  RO50261             sAML                     NA   \n",
       "X4018_GTGAAA  pt4018              Young normal bone marrow Young\n",
       "X4040_GTGAAA  pt4040              Young normal bone marrow Young\n",
       "X4066_GTGAAA  pt4066              Young normal bone marrow Young\n",
       "X4188_GTGAAA  pt4188              Young normal bone marrow Young\n",
       "X4215_GTGAAA  pt4215              Young normal bone marrow Young\n",
       "X4218_GTGAAA  pt4218              Young normal bone marrow Young\n",
       "X4259_GTGAAA  pt4259              Young normal bone marrow Young\n",
       "X4279_GTGAAA  pt4279              Young normal bone marrow Young\n",
       "              Condition                           Cell.type          Patient_ID\n",
       "X368_ACAGTG   Normal                              Sorted progenitors 368       \n",
       "X380_ACAGTG   Normal                              Sorted progenitors 380       \n",
       "X401_ACAGTG   Normal                              Sorted progenitors 401       \n",
       "X402_ACAGTG   Normal                              Sorted progenitors 402       \n",
       "X410_ACAGTG   Normal                              Sorted progenitors 410       \n",
       "X415_ACAGTG   Normal                              Sorted progenitors 415       \n",
       "X416_ACAGTG   Normal                              Sorted progenitors 416       \n",
       "X426_ACAGTG   Normal                              Sorted progenitors 426       \n",
       "X591.BM.Prog  AML                                 Progenitor         591       \n",
       "X672A.PB.Prog AML (post-MF)                       Progenitor         672A      \n",
       "X672B.PB.Prog AML (post-MF)                       Progenitor         672B      \n",
       "X735.PB.Prog  AML                                 Progenitor         735       \n",
       "X571.BM.Prog  CP-CML                              Progenitor         571       \n",
       "X608.BM.Prog  BC-CML                              Progenitor         608       \n",
       "X616.BM.Prog  CP CML                              Progenitor         616       \n",
       "X703.PB.Prog  CML                                 Progenitor         703       \n",
       "X727.PB.Prog  AP CML                              Progenitor         727       \n",
       "X20_MDStoAML  de novo AML                         Sorted progenitors 50113     \n",
       "X19_MDStoAML  de novo AML                         Sorted progenitors 50120     \n",
       "X431.PB.Prog  ET                                  Progenitor         431       \n",
       "X638.BM.Prog  ET                                  Progenitor         638       \n",
       "X407.PB.Prog  myelofibrosis                       Progenitor         407       \n",
       "X428.PB.Prog  myelofibrosis_postET                Progenitor         428       \n",
       "X560.PB.Prog  myelofibrosis                       Progenitor         560       \n",
       "X566.PB.Prog  myelofibrosis                       Progenitor         566       \n",
       "X569.PB.Prog  myelofibrosis                       Progenitor         569       \n",
       "X573.BM.Prog  systemic_mastocytosis_myelofibrosis Progenitor         573       \n",
       "X576.PB.Prog  high_risk_myelofibrosis             Progenitor         576       \n",
       "X580.BM.Prog  int2_myelofibrosis_postET           Progenitor         580       \n",
       "X581.PB.Prog  myelofibrosis                       Progenitor         581       \n",
       "⋮             ⋮                                   ⋮                  ⋮         \n",
       "X668.PB.Prog  myelofibrosis_postPV                Progenitor         668       \n",
       "X670A.PB.Prog int2_myelofibrosis                  Progenitor         670A      \n",
       "X670B.PB.Prog int2_myelofibrosis                  Progenitor         670B      \n",
       "X724.PB.Prog  int2_myelofibrosis_postPV           Progenitor         724       \n",
       "X725.PB.Prog  int2_myelofibrosis_postET           Progenitor         725       \n",
       "X732.PB.Prog  myelofibrosis_postET                Progenitor         732       \n",
       "X736.BM.Prog  int2_myelofibrosis_postPV           Progenitor         736       \n",
       "X744.PB.Prog  high_risk_myelofibrosis             Progenitor         744       \n",
       "X767.BM.Prog  int2_myelofibrosis                  Progenitor         767       \n",
       "X562.PB.Prog  PV                                  Progenitor         562       \n",
       "X575A.PB.Prog polycythemia vera                   Progenitor         575A      \n",
       "X598.PB.Prog  polycythemia vera                   Progenitor         598       \n",
       "X662.BM.Prog  polycythemia vera                   Progenitor         662       \n",
       "X689.BM.Prog  polycythemia vera                   Progenitor         689       \n",
       "X690.BM.Prog  polycythemia vera                   Progenitor         690       \n",
       "X102          sAML                                Sorted progenitors 10408     \n",
       "X89           sAML                                Sorted progenitors 1690      \n",
       "X87           sAML                                Sorted progenitors 10008     \n",
       "X36           sAML                                Sorted progenitors 50124     \n",
       "X42           sAML                                Sorted progenitors 50200     \n",
       "X107          sAML                                Sorted progenitors 50240     \n",
       "X48_MDStoAML  sAML                                Sorted progenitors 50261     \n",
       "X4018_GTGAAA  Normal                              Sorted progenitors 4018      \n",
       "X4040_GTGAAA  Normal                              Sorted progenitors 4040      \n",
       "X4066_GTGAAA  Normal                              Sorted progenitors 4066      \n",
       "X4188_GTGAAA  Normal                              Sorted progenitors 4188      \n",
       "X4215_GTGAAA  Normal                              Sorted progenitors 4215      \n",
       "X4218_GTGAAA  Normal                              Sorted progenitors 4218      \n",
       "X4259_GTGAAA  Normal                              Sorted progenitors 4259      \n",
       "X4279_GTGAAA  Normal                              Sorted progenitors 4279      \n",
       "              Mutation    CellType Sample.type4 Phenotype Sample.type3\n",
       "X368_ACAGTG   Normal      BM       ABM          ABM       ABM         \n",
       "X380_ACAGTG   Normal      BM       ABM          ABM       ABM         \n",
       "X401_ACAGTG   Normal      BM       ABM          ABM       ABM         \n",
       "X402_ACAGTG   Normal      BM       ABM          ABM       ABM         \n",
       "X410_ACAGTG   Normal      BM       ABM          ABM       ABM         \n",
       "X415_ACAGTG   Normal      BM       ABM          ABM       ABM         \n",
       "X416_ACAGTG   Normal      BM       ABM          ABM       ABM         \n",
       "X426_ACAGTG   Normal      BM       ABM          ABM       ABM         \n",
       "X591.BM.Prog  JAK2 V617F- BM       sAML_Tx      AML       sAML        \n",
       "X672A.PB.Prog NA          PB       sAML_Tx      AML       sAML        \n",
       "X672B.PB.Prog NA          PB       sAML_Tx      AML       sAML        \n",
       "X735.PB.Prog  NA          PB       sAML_Tx      AML       sAML        \n",
       "X571.BM.Prog  BCR-ABL+    BM       CML          CML       CML         \n",
       "X608.BM.Prog  BCR-ABL+    BM       CML          CML       CML         \n",
       "X616.BM.Prog  NA          BM       CML          CML       CML         \n",
       "X703.PB.Prog  BCR-ABL+    PB       CML          CML       CML         \n",
       "X727.PB.Prog  BCR-ABL+    PB       CML          CML       CML         \n",
       "X20_MDStoAML  NA          NA       sAML_Tx      NA        dnAML       \n",
       "X19_MDStoAML  NA          NA       sAML_Tx      NA        dnAML       \n",
       "X431.PB.Prog  JAK2 V617F+ PB       ET           ET        ET          \n",
       "X638.BM.Prog  JAK2 V617F+ BM       ET           ET        ET          \n",
       "X407.PB.Prog  JAK2 V617F- PB       MF           MF        MF          \n",
       "X428.PB.Prog  JAK2 V617F- PB       MF           MF        MF          \n",
       "X560.PB.Prog  JAK2 V617F+ PB       MF           MF        MF          \n",
       "X566.PB.Prog  JAK2 V617F- PB       MF           MF        MF          \n",
       "X569.PB.Prog  JAK2 V617F+ PB       MF           MF        MF          \n",
       "X573.BM.Prog  JAK2 V617F- BM       MF           MF        MF          \n",
       "X576.PB.Prog  JAK2 V617F+ PB       MF           MF        MF          \n",
       "X580.BM.Prog  JAK2 V617F+ BM       MF           MF        MF          \n",
       "X581.PB.Prog  JAK2 V617F+ PB       MF           MF        MF          \n",
       "⋮             ⋮           ⋮        ⋮            ⋮         ⋮           \n",
       "X668.PB.Prog  JAK2 V617F+ PB       MF           MF        MF          \n",
       "X670A.PB.Prog JAK2 V617F+ PB       MF           MF        MF          \n",
       "X670B.PB.Prog JAK2 V617F+ PB       MF           MF        MF          \n",
       "X724.PB.Prog  JAK2 V617F+ PB       MF           MF        MF          \n",
       "X725.PB.Prog  JAK2 V617F+ PB       MF           MF        MF          \n",
       "X732.PB.Prog  JAK2 V617F+ PB       MF           MF        MF          \n",
       "X736.BM.Prog  JAK2 V617F+ BM       MF           MF        MF          \n",
       "X744.PB.Prog  JAK2 V617F+ PB       MF           MF        MF          \n",
       "X767.BM.Prog  JAK2 V617F+ BM       MF           MF        MF          \n",
       "X562.PB.Prog  JAK2 V617F+ PB       PV           PV        PV          \n",
       "X575A.PB.Prog JAK2 V617F+ PB       PV           PV        PV          \n",
       "X598.PB.Prog  JAK2 V617F+ PB       PV           PV        PV          \n",
       "X662.BM.Prog  JAK2 V617F- BM       PV           PV        PV          \n",
       "X689.BM.Prog  JAK2 V617F+ BM       PV           PV        PV          \n",
       "X690.BM.Prog  JAK2 V617F- BM       PV           PV        PV          \n",
       "X102          none        NA       sAML_Tx      NA        sAML        \n",
       "X89           none        NA       sAML_Tx      NA        sAML        \n",
       "X87           none        NA       sAML_Tx      NA        sAML        \n",
       "X36           none        NA       sAML_Tx      NA        sAML        \n",
       "X42           none        NA       sAML_Tx      NA        sAML        \n",
       "X107          none        NA       sAML_Tx      NA        sAML        \n",
       "X48_MDStoAML  none        NA       sAML_Tx      NA        sAML        \n",
       "X4018_GTGAAA  Normal      BM       YBM          YBM       YBM         \n",
       "X4040_GTGAAA  Normal      BM       YBM          YBM       YBM         \n",
       "X4066_GTGAAA  Normal      BM       YBM          YBM       YBM         \n",
       "X4188_GTGAAA  Normal      BM       YBM          YBM       YBM         \n",
       "X4215_GTGAAA  Normal      BM       YBM          YBM       YBM         \n",
       "X4218_GTGAAA  Normal      BM       YBM          YBM       YBM         \n",
       "X4259_GTGAAA  Normal      BM       YBM          YBM       YBM         \n",
       "X4279_GTGAAA  Normal      BM       YBM          YBM       YBM         \n",
       "              Sample.type2 Phenotype2 Phenotype4 Sample2      \n",
       "X368_ACAGTG   NBM          ABM        ABM        X368_ACAGTG  \n",
       "X380_ACAGTG   NBM          ABM        ABM        X380_ACAGTG  \n",
       "X401_ACAGTG   NBM          ABM        ABM        X401_ACAGTG  \n",
       "X402_ACAGTG   NBM          ABM        ABM        X402_ACAGTG  \n",
       "X410_ACAGTG   NBM          ABM        ABM        X410_ACAGTG  \n",
       "X415_ACAGTG   NBM          ABM        ABM        X415_ACAGTG  \n",
       "X416_ACAGTG   NBM          ABM        ABM        X416_ACAGTG  \n",
       "X426_ACAGTG   NBM          ABM        ABM        X426_ACAGTG  \n",
       "X591.BM.Prog  sAML         sAML       sAML       X591.BM.Prog \n",
       "X672A.PB.Prog sAML         sAML       sAML       X672A.PB.Prog\n",
       "X672B.PB.Prog sAML         sAML       sAML       X672B.PB.Prog\n",
       "X735.PB.Prog  sAML         sAML       sAML       X735.PB.Prog \n",
       "X571.BM.Prog  CML          CML        CML        X571.BM.Prog \n",
       "X608.BM.Prog  CML          CML        CML        X608.BM.Prog \n",
       "X616.BM.Prog  CML          CML        CML        X616.BM.Prog \n",
       "X703.PB.Prog  CML          CML        CML        X703.PB.Prog \n",
       "X727.PB.Prog  CML          CML        CML        X727.PB.Prog \n",
       "X20_MDStoAML  dnAML        denovoAML  dnAML      X20_MDStoAML \n",
       "X19_MDStoAML  dnAML        denovoAML  dnAML      X19_MDStoAML \n",
       "X431.PB.Prog  ET           ET         ET         X431.PB.Prog \n",
       "X638.BM.Prog  ET           ET         ET         X638.BM.Prog \n",
       "X407.PB.Prog  MF           MF         MF         X407.PB.Prog \n",
       "X428.PB.Prog  MF           MF         MF         X428.PB.Prog \n",
       "X560.PB.Prog  MF           MF         MF         X560.PB.Prog \n",
       "X566.PB.Prog  MF           MF         MF         X566.PB.Prog \n",
       "X569.PB.Prog  MF           MF         MF         X569.PB.Prog \n",
       "X573.BM.Prog  MF           MF         MF         X573.BM.Prog \n",
       "X576.PB.Prog  MF           MF         MF         X576.PB.Prog \n",
       "X580.BM.Prog  MF           MF         MF         X580.BM.Prog \n",
       "X581.PB.Prog  MF           MF         MF         X581.PB.Prog \n",
       "⋮             ⋮            ⋮          ⋮          ⋮            \n",
       "X668.PB.Prog  MF           MF         MF         X668.PB.Prog \n",
       "X670A.PB.Prog MF           MF         MF         X670A.PB.Prog\n",
       "X670B.PB.Prog MF           MF         MF         X670B.PB.Prog\n",
       "X724.PB.Prog  MF           MF         MF         X724.PB.Prog \n",
       "X725.PB.Prog  MF           MF         MF         X725.PB.Prog \n",
       "X732.PB.Prog  MF           MF         MF         X732.PB.Prog \n",
       "X736.BM.Prog  MF           MF         MF         X736.BM.Prog \n",
       "X744.PB.Prog  MF           MF         MF         X744.PB.Prog \n",
       "X767.BM.Prog  MF           MF         MF         X767.BM.Prog \n",
       "X562.PB.Prog  PV           PV         PV         X562.PB.Prog \n",
       "X575A.PB.Prog PV           PV         PV         X575A.PB.Prog\n",
       "X598.PB.Prog  PV           PV         PV         X598.PB.Prog \n",
       "X662.BM.Prog  PV           PV         PV         X662.BM.Prog \n",
       "X689.BM.Prog  PV           PV         PV         X689.BM.Prog \n",
       "X690.BM.Prog  PV           PV         PV         X690.BM.Prog \n",
       "X102          sAML         sAML       sAML       X102         \n",
       "X89           sAML         sAML       sAML       X89          \n",
       "X87           sAML         sAML       sAML       X87          \n",
       "X36           sAML         sAML       sAML       X36          \n",
       "X42           sAML         sAML       sAML       X42          \n",
       "X107          sAML         sAML       sAML       X107         \n",
       "X48_MDStoAML  sAML         sAML       sAML       X48_MDStoAML \n",
       "X4018_GTGAAA  NBM          YBM        YBM        X4018_GTGAAA \n",
       "X4040_GTGAAA  NBM          YBM        YBM        X4040_GTGAAA \n",
       "X4066_GTGAAA  NBM          YBM        YBM        X4066_GTGAAA \n",
       "X4188_GTGAAA  NBM          YBM        YBM        X4188_GTGAAA \n",
       "X4215_GTGAAA  NBM          YBM        YBM        X4215_GTGAAA \n",
       "X4218_GTGAAA  NBM          YBM        YBM        X4218_GTGAAA \n",
       "X4259_GTGAAA  NBM          YBM        YBM        X4259_GTGAAA \n",
       "X4279_GTGAAA  NBM          YBM        YBM        X4279_GTGAAA "
      ]
     },
     "metadata": {},
     "output_type": "display_data"
    },
    {
     "data": {
      "text/plain": [
       "\n",
       "  ABM   YBM    ET    PV    MF   CML  sAML dnAML \n",
       "    8     8     2     6    24     5    11     2 "
      ]
     },
     "metadata": {},
     "output_type": "display_data"
    },
    {
     "data": {
      "image/png": "[encoded data removed]",
      "text/plain": [
       "plot without title"
      ]
     },
     "metadata": {},
     "output_type": "display_data"
    }
   ],
   "source": [
    "library(ggplot2)\n",
    "x.all$samples\n",
    "table(x.all$samples$Sample.type3)\n",
    "x.all$samples$Sample.type3 <- factor(as.character(x.all$samples$Sample.type3),\n",
    "                                    levels=c(\"ABM\", \"YBM\", \"PV\", \"ET\", \"MF\", \"CML\", \"sAML\", \"dnAML\"))\n",
    "ggplot(x.all$samples, aes(x=Sample.type3, y=lib.size, fill=Sample.type3)) + geom_boxplot() + theme_bw()"
   ]
  },
  {
   "cell_type": "markdown",
   "metadata": {},
   "source": [
    "## Analyses"
   ]
  },
  {
   "cell_type": "code",
   "execution_count": 20,
   "metadata": {
    "scrolled": false
   },
   "outputs": [
    {
     "data": {
      "text/html": [
       "<ol class=list-inline>\n",
       "\t<li>20345</li>\n",
       "\t<li>10</li>\n",
       "</ol>\n"
      ],
      "text/latex": [
       "\\begin{enumerate*}\n",
       "\\item 20345\n",
       "\\item 10\n",
       "\\end{enumerate*}\n"
      ],
      "text/markdown": [
       "1. 20345\n",
       "2. 10\n",
       "\n",
       "\n"
      ],
      "text/plain": [
       "[1] 20345    10"
      ]
     },
     "metadata": {},
     "output_type": "display_data"
    },
    {
     "data": {
      "text/html": [
       "<ol class=list-inline>\n",
       "\t<li>9324</li>\n",
       "\t<li>10</li>\n",
       "</ol>\n"
      ],
      "text/latex": [
       "\\begin{enumerate*}\n",
       "\\item 9324\n",
       "\\item 10\n",
       "\\end{enumerate*}\n"
      ],
      "text/markdown": [
       "1. 9324\n",
       "2. 10\n",
       "\n",
       "\n"
      ],
      "text/plain": [
       "[1] 9324   10"
      ]
     },
     "metadata": {},
     "output_type": "display_data"
    },
    {
     "name": "stderr",
     "output_type": "stream",
     "text": [
      "Warning message in brewer.pal(nlevels(col.samp.ABM.ET.PB), \"Paired\"):\n",
      "“minimal value for n is 3, returning requested palette with 3 different levels\n",
      "”"
     ]
    },
    {
     "data": {
      "image/png": "[encoded data removed]",
      "text/plain": [
       "Plot with title “Sample Type”"
      ]
     },
     "metadata": {},
     "output_type": "display_data"
    },
    {
     "data": {
      "image/png": "[encoded data removed]",
      "text/plain": [
       "Plot with title “Sample Type”"
      ]
     },
     "metadata": {},
     "output_type": "display_data"
    }
   ],
   "source": [
    "geneCount_coding.ABM.ET.PB <- subset(geneCount.ABM.ET.PB, row.names(geneCount.ABM.ET.PB) %in% protein_coding_ids)\n",
    "\n",
    "id_list <- gsub(\"[.].*$\",\"\", rownames(geneCount_coding.ABM.ET.PB))\n",
    "rownames(geneCount_coding.ABM.ET.PB) <- id_list\n",
    "x.ABM.ET.PB <- DGEList(counts = geneCount_coding.ABM.ET.PB, lib.size = colSums(geneCount_coding.ABM.ET.PB),\n",
    "norm.factors = rep(1,ncol(geneCount_coding.ABM.ET.PB)), samples = metaCrop.ABM.ET.PB,\n",
    "group = metaCrop.ABM.ET.PB$Treatment, genes = id_list, remove.zeros = FALSE) \n",
    "dim(geneCount_coding.ABM.ET.PB)\n",
    "x.ABM.ET.PB$genes[,2:3] <- pcgenes[match(pcgenes$ENSEMBL,id_list),c(\"ENTREZID\",\"SYMBOL\")]\n",
    "\n",
    "cpm <- cpm(x.ABM.ET.PB)\n",
    "lcpm <- cpm(x.ABM.ET.PB, log=TRUE)\n",
    "keep.exprs <- rowSums(cpm>1)>=10\n",
    "x.ABM.ET.PB <- x.ABM.ET.PB[keep.exprs,, keep.lib.sizes=FALSE]\n",
    "dim(x.ABM.ET.PB)\n",
    "x.ABM.ET.PB <- calcNormFactors(x.ABM.ET.PB, method = \"TMM\")\n",
    "col.samp.ABM.ET.PB <- samp.type.ABM.ET.PB <- as.factor(x.ABM.ET.PB$samples$Sample.type)\n",
    "levels(col.samp.ABM.ET.PB) <-  brewer.pal(nlevels(col.samp.ABM.ET.PB), \"Paired\") #if more than 2 conditions\n",
    "col.samp.ABM.ET.PB <- as.character(col.samp.ABM.ET.PB)\n",
    "\n",
    "par(mfrow=c(1,1))\n",
    "plotMDS(lcpm, labels=samp.type.ABM.ET.PB, col=col.samp.ABM.ET.PB, cex=.5)\n",
    "title(main=\"Sample Type\")\n",
    "plotMDS(lcpm, labels=x.ABM.ET.PB$samples$group, col=col.samp.ABM.ET.PB, cex=.5)\n",
    "title(main=\"Sample Type\")"
   ]
  },
  {
   "cell_type": "code",
   "execution_count": 21,
   "metadata": {
    "scrolled": false
   },
   "outputs": [
    {
     "data": {
      "text/html": [
       "<ol class=list-inline>\n",
       "\t<li>20345</li>\n",
       "\t<li>14</li>\n",
       "</ol>\n"
      ],
      "text/latex": [
       "\\begin{enumerate*}\n",
       "\\item 20345\n",
       "\\item 14\n",
       "\\end{enumerate*}\n"
      ],
      "text/markdown": [
       "1. 20345\n",
       "2. 14\n",
       "\n",
       "\n"
      ],
      "text/plain": [
       "[1] 20345    14"
      ]
     },
     "metadata": {},
     "output_type": "display_data"
    },
    {
     "data": {
      "text/html": [
       "<ol class=list-inline>\n",
       "\t<li>8650</li>\n",
       "\t<li>14</li>\n",
       "</ol>\n"
      ],
      "text/latex": [
       "\\begin{enumerate*}\n",
       "\\item 8650\n",
       "\\item 14\n",
       "\\end{enumerate*}\n"
      ],
      "text/markdown": [
       "1. 8650\n",
       "2. 14\n",
       "\n",
       "\n"
      ],
      "text/plain": [
       "[1] 8650   14"
      ]
     },
     "metadata": {},
     "output_type": "display_data"
    },
    {
     "name": "stderr",
     "output_type": "stream",
     "text": [
      "Warning message in brewer.pal(nlevels(col.samp.ABM.PV.PB), \"Paired\"):\n",
      "“minimal value for n is 3, returning requested palette with 3 different levels\n",
      "”"
     ]
    },
    {
     "data": {
      "image/png": "[encoded data removed]",
      "text/plain": [
       "Plot with title “Sample Type”"
      ]
     },
     "metadata": {},
     "output_type": "display_data"
    },
    {
     "data": {
      "image/png": "[encoded data removed]",
      "text/plain": [
       "Plot with title “Sample Type”"
      ]
     },
     "metadata": {},
     "output_type": "display_data"
    }
   ],
   "source": [
    "geneCount_coding.ABM.PV.PB <- subset(geneCount.ABM.PV.PB, row.names(geneCount.ABM.PV.PB) %in% protein_coding_ids)\n",
    "\n",
    "id_list <- gsub(\"[.].*$\",\"\", rownames(geneCount_coding.ABM.PV.PB))\n",
    "rownames(geneCount_coding.ABM.PV.PB) <- id_list\n",
    "x.ABM.PV.PB <- DGEList(counts = geneCount_coding.ABM.PV.PB, lib.size = colSums(geneCount_coding.ABM.PV.PB),\n",
    "norm.factors = rep(1,ncol(geneCount_coding.ABM.PV.PB)), samples = metaCrop.ABM.PV.PB,\n",
    "group = metaCrop.ABM.PV.PB$Treatment, genes = id_list, remove.zeros = FALSE) \n",
    "dim(geneCount_coding.ABM.PV.PB)\n",
    "x.ABM.PV.PB$genes[,2:3] <- pcgenes[match(pcgenes$ENSEMBL,id_list),c(\"ENTREZID\",\"SYMBOL\")]\n",
    "\n",
    "cpm <- cpm(x.ABM.PV.PB)\n",
    "lcpm <- cpm(x.ABM.PV.PB, log=TRUE)\n",
    "keep.exprs <- rowSums(cpm>1)>=14\n",
    "x.ABM.PV.PB <- x.ABM.PV.PB[keep.exprs,, keep.lib.sizes=FALSE]\n",
    "dim(x.ABM.PV.PB)\n",
    "x.ABM.PV.PB <- calcNormFactors(x.ABM.PV.PB, method = \"TMM\")\n",
    "col.samp.ABM.PV.PB <- samp.type.ABM.PV.PB <- as.factor(x.ABM.PV.PB$samples$Sample.type)\n",
    "levels(col.samp.ABM.PV.PB) <-  brewer.pal(nlevels(col.samp.ABM.PV.PB), \"Paired\") #if more than 2 conditions\n",
    "col.samp.ABM.PV.PB <- as.character(col.samp.ABM.PV.PB)\n",
    "\n",
    "par(mfrow=c(1,1))\n",
    "plotMDS(lcpm, labels=samp.type.ABM.PV.PB, col=col.samp.ABM.PV.PB, cex=.5)\n",
    "title(main=\"Sample Type\")\n",
    "plotMDS(lcpm, labels=x.ABM.PV.PB$samples$group, col=col.samp.ABM.PV.PB, cex=.5)\n",
    "title(main=\"Sample Type\")"
   ]
  },
  {
   "cell_type": "code",
   "execution_count": 22,
   "metadata": {
    "scrolled": false
   },
   "outputs": [
    {
     "data": {
      "text/html": [
       "<ol class=list-inline>\n",
       "\t<li>20345</li>\n",
       "\t<li>32</li>\n",
       "</ol>\n"
      ],
      "text/latex": [
       "\\begin{enumerate*}\n",
       "\\item 20345\n",
       "\\item 32\n",
       "\\end{enumerate*}\n"
      ],
      "text/markdown": [
       "1. 20345\n",
       "2. 32\n",
       "\n",
       "\n"
      ],
      "text/plain": [
       "[1] 20345    32"
      ]
     },
     "metadata": {},
     "output_type": "display_data"
    },
    {
     "data": {
      "text/html": [
       "<ol class=list-inline>\n",
       "\t<li>12055</li>\n",
       "\t<li>32</li>\n",
       "</ol>\n"
      ],
      "text/latex": [
       "\\begin{enumerate*}\n",
       "\\item 12055\n",
       "\\item 32\n",
       "\\end{enumerate*}\n"
      ],
      "text/markdown": [
       "1. 12055\n",
       "2. 32\n",
       "\n",
       "\n"
      ],
      "text/plain": [
       "[1] 12055    32"
      ]
     },
     "metadata": {},
     "output_type": "display_data"
    },
    {
     "name": "stderr",
     "output_type": "stream",
     "text": [
      "Warning message in brewer.pal(nlevels(col.samp.ABM.MF.PB), \"Paired\"):\n",
      "“minimal value for n is 3, returning requested palette with 3 different levels\n",
      "”"
     ]
    },
    {
     "data": {
      "image/png": "[encoded data removed]",
      "text/plain": [
       "Plot with title “Sample Type”"
      ]
     },
     "metadata": {},
     "output_type": "display_data"
    },
    {
     "data": {
      "image/png": "[encoded data removed]",
      "text/plain": [
       "Plot with title “Sample Type”"
      ]
     },
     "metadata": {},
     "output_type": "display_data"
    }
   ],
   "source": [
    "geneCount_coding.ABM.MF.PB <- subset(geneCount.ABM.MF.PB, row.names(geneCount.ABM.MF.PB) %in% protein_coding_ids)\n",
    "\n",
    "id_list <- gsub(\"[.].*$\",\"\", rownames(geneCount_coding.ABM.MF.PB))\n",
    "rownames(geneCount_coding.ABM.MF.PB) <- id_list\n",
    "x.ABM.MF.PB <- DGEList(counts = geneCount_coding.ABM.MF.PB, lib.size = colSums(geneCount_coding.ABM.MF.PB),\n",
    "norm.factors = rep(1,ncol(geneCount_coding.ABM.MF.PB)), samples = metaCrop.ABM.MF.PB,\n",
    "group = metaCrop.ABM.MF.PB$Treatment, genes = id_list, remove.zeros = FALSE) \n",
    "dim(geneCount_coding.ABM.MF.PB)\n",
    "x.ABM.MF.PB$genes[,2:3] <- pcgenes[match(pcgenes$ENSEMBL,id_list),c(\"ENTREZID\",\"SYMBOL\")]\n",
    "\n",
    "cpm <- cpm(x.ABM.MF.PB)\n",
    "lcpm <- cpm(x.ABM.MF.PB, log=TRUE)\n",
    "keep.exprs <- rowSums(cpm>1)>=16\n",
    "x.ABM.MF.PB <- x.ABM.MF.PB[keep.exprs,, keep.lib.sizes=FALSE]\n",
    "dim(x.ABM.MF.PB)\n",
    "x.ABM.MF.PB <- calcNormFactors(x.ABM.MF.PB, method = \"TMM\")\n",
    "col.samp.ABM.MF.PB <- samp.type.ABM.MF.PB <- as.factor(x.ABM.MF.PB$samples$Sample.type)\n",
    "levels(col.samp.ABM.MF.PB) <-  brewer.pal(nlevels(col.samp.ABM.MF.PB), \"Paired\") #if more than 2 conditions\n",
    "col.samp.ABM.MF.PB <- as.character(col.samp.ABM.MF.PB)\n",
    "\n",
    "par(mfrow=c(1,1))\n",
    "plotMDS(lcpm, labels=samp.type.ABM.MF.PB, col=col.samp.ABM.MF.PB, cex=.5)\n",
    "title(main=\"Sample Type\")\n",
    "plotMDS(lcpm, labels=x.ABM.MF.PB$samples$Age, col=col.samp.ABM.MF.PB, cex=.5)\n",
    "title(main=\"Sample Type\")"
   ]
  },
  {
   "cell_type": "code",
   "execution_count": 23,
   "metadata": {
    "scrolled": false
   },
   "outputs": [
    {
     "data": {
      "text/html": [
       "<ol class=list-inline>\n",
       "\t<li>20345</li>\n",
       "\t<li>13</li>\n",
       "</ol>\n"
      ],
      "text/latex": [
       "\\begin{enumerate*}\n",
       "\\item 20345\n",
       "\\item 13\n",
       "\\end{enumerate*}\n"
      ],
      "text/markdown": [
       "1. 20345\n",
       "2. 13\n",
       "\n",
       "\n"
      ],
      "text/plain": [
       "[1] 20345    13"
      ]
     },
     "metadata": {},
     "output_type": "display_data"
    },
    {
     "data": {
      "text/html": [
       "<ol class=list-inline>\n",
       "\t<li>9087</li>\n",
       "\t<li>13</li>\n",
       "</ol>\n"
      ],
      "text/latex": [
       "\\begin{enumerate*}\n",
       "\\item 9087\n",
       "\\item 13\n",
       "\\end{enumerate*}\n"
      ],
      "text/markdown": [
       "1. 9087\n",
       "2. 13\n",
       "\n",
       "\n"
      ],
      "text/plain": [
       "[1] 9087   13"
      ]
     },
     "metadata": {},
     "output_type": "display_data"
    },
    {
     "name": "stderr",
     "output_type": "stream",
     "text": [
      "Warning message in brewer.pal(nlevels(col.samp.ABM.CML.PB), \"Paired\"):\n",
      "“minimal value for n is 3, returning requested palette with 3 different levels\n",
      "”"
     ]
    },
    {
     "data": {
      "image/png": "[encoded data removed]",
      "text/plain": [
       "Plot with title “Sample Type”"
      ]
     },
     "metadata": {},
     "output_type": "display_data"
    },
    {
     "data": {
      "image/png": "[encoded data removed]",
      "text/plain": [
       "Plot with title “Sample Type”"
      ]
     },
     "metadata": {},
     "output_type": "display_data"
    }
   ],
   "source": [
    "geneCount_coding.ABM.CML.PB <- subset(geneCount.ABM.CML.PB, row.names(geneCount.ABM.CML.PB) %in% protein_coding_ids)\n",
    "\n",
    "id_list <- gsub(\"[.].*$\",\"\", rownames(geneCount_coding.ABM.CML.PB))\n",
    "rownames(geneCount_coding.ABM.CML.PB) <- id_list\n",
    "x.ABM.CML.PB <- DGEList(counts = geneCount_coding.ABM.CML.PB, lib.size = colSums(geneCount_coding.ABM.CML.PB),\n",
    "norm.factors = rep(1,ncol(geneCount_coding.ABM.CML.PB)), samples = metaCrop.ABM.CML.PB,\n",
    "group = metaCrop.ABM.CML.PB$Treatment, genes = id_list, remove.zeros = FALSE) \n",
    "dim(geneCount_coding.ABM.CML.PB)\n",
    "x.ABM.CML.PB$genes[,2:3] <- pcgenes[match(pcgenes$ENSEMBL,id_list),c(\"ENTREZID\",\"SYMBOL\")]\n",
    "\n",
    "cpm <- cpm(x.ABM.CML.PB)\n",
    "lcpm <- cpm(x.ABM.CML.PB, log=TRUE)\n",
    "keep.exprs <- rowSums(cpm>1)>=13\n",
    "x.ABM.CML.PB <- x.ABM.CML.PB[keep.exprs,, keep.lib.sizes=FALSE]\n",
    "dim(x.ABM.CML.PB)\n",
    "x.ABM.CML.PB <- calcNormFactors(x.ABM.CML.PB, method = \"TMM\")\n",
    "col.samp.ABM.CML.PB <- samp.type.ABM.CML.PB <- as.factor(x.ABM.CML.PB$samples$Sample.type)\n",
    "levels(col.samp.ABM.CML.PB) <-  brewer.pal(nlevels(col.samp.ABM.CML.PB), \"Paired\") #if more than 2 conditions\n",
    "col.samp.ABM.CML.PB <- as.character(col.samp.ABM.CML.PB)\n",
    "\n",
    "par(mfrow=c(1,1))\n",
    "plotMDS(lcpm, labels=samp.type.ABM.CML.PB, col=col.samp.ABM.CML.PB, cex=.5)\n",
    "title(main=\"Sample Type\")\n",
    "plotMDS(lcpm, labels=x.ABM.CML.PB$samples$group, col=col.samp.ABM.CML.PB, cex=.5)\n",
    "title(main=\"Sample Type\")"
   ]
  },
  {
   "cell_type": "code",
   "execution_count": 25,
   "metadata": {},
   "outputs": [
    {
     "data": {
      "text/html": [
       "<ol class=list-inline>\n",
       "\t<li>'X368_ACAGTG_S0'</li>\n",
       "\t<li>'X380_ACAGTG_S0'</li>\n",
       "\t<li>'X401_ACAGTG_S0'</li>\n",
       "\t<li>'X402_ACAGTG_S0'</li>\n",
       "\t<li>'X410_ACAGTG_S0'</li>\n",
       "\t<li>'X415_ACAGTG_S0'</li>\n",
       "\t<li>'X416_ACAGTG_S0'</li>\n",
       "\t<li>'X426_ACAGTG_S0'</li>\n",
       "\t<li>'X19_MDStoAML'</li>\n",
       "\t<li>'X20_MDStoAML'</li>\n",
       "\t<li>'X48_MDStoAML'</li>\n",
       "\t<li>'X36'</li>\n",
       "\t<li>'X42'</li>\n",
       "\t<li>'X87'</li>\n",
       "\t<li>'X89'</li>\n",
       "\t<li>'X102'</li>\n",
       "\t<li>'X107'</li>\n",
       "</ol>\n"
      ],
      "text/latex": [
       "\\begin{enumerate*}\n",
       "\\item 'X368\\_ACAGTG\\_S0'\n",
       "\\item 'X380\\_ACAGTG\\_S0'\n",
       "\\item 'X401\\_ACAGTG\\_S0'\n",
       "\\item 'X402\\_ACAGTG\\_S0'\n",
       "\\item 'X410\\_ACAGTG\\_S0'\n",
       "\\item 'X415\\_ACAGTG\\_S0'\n",
       "\\item 'X416\\_ACAGTG\\_S0'\n",
       "\\item 'X426\\_ACAGTG\\_S0'\n",
       "\\item 'X19\\_MDStoAML'\n",
       "\\item 'X20\\_MDStoAML'\n",
       "\\item 'X48\\_MDStoAML'\n",
       "\\item 'X36'\n",
       "\\item 'X42'\n",
       "\\item 'X87'\n",
       "\\item 'X89'\n",
       "\\item 'X102'\n",
       "\\item 'X107'\n",
       "\\end{enumerate*}\n"
      ],
      "text/markdown": [
       "1. 'X368_ACAGTG_S0'\n",
       "2. 'X380_ACAGTG_S0'\n",
       "3. 'X401_ACAGTG_S0'\n",
       "4. 'X402_ACAGTG_S0'\n",
       "5. 'X410_ACAGTG_S0'\n",
       "6. 'X415_ACAGTG_S0'\n",
       "7. 'X416_ACAGTG_S0'\n",
       "8. 'X426_ACAGTG_S0'\n",
       "9. 'X19_MDStoAML'\n",
       "10. 'X20_MDStoAML'\n",
       "11. 'X48_MDStoAML'\n",
       "12. 'X36'\n",
       "13. 'X42'\n",
       "14. 'X87'\n",
       "15. 'X89'\n",
       "16. 'X102'\n",
       "17. 'X107'\n",
       "\n",
       "\n"
      ],
      "text/plain": [
       " [1] \"X368_ACAGTG_S0\" \"X380_ACAGTG_S0\" \"X401_ACAGTG_S0\" \"X402_ACAGTG_S0\"\n",
       " [5] \"X410_ACAGTG_S0\" \"X415_ACAGTG_S0\" \"X416_ACAGTG_S0\" \"X426_ACAGTG_S0\"\n",
       " [9] \"X19_MDStoAML\"   \"X20_MDStoAML\"   \"X48_MDStoAML\"   \"X36\"           \n",
       "[13] \"X42\"            \"X87\"            \"X89\"            \"X102\"          \n",
       "[17] \"X107\"          "
      ]
     },
     "metadata": {},
     "output_type": "display_data"
    },
    {
     "data": {
      "text/html": [
       "<ol class=list-inline>\n",
       "\t<li>17</li>\n",
       "\t<li>15</li>\n",
       "</ol>\n"
      ],
      "text/latex": [
       "\\begin{enumerate*}\n",
       "\\item 17\n",
       "\\item 15\n",
       "\\end{enumerate*}\n"
      ],
      "text/markdown": [
       "1. 17\n",
       "2. 15\n",
       "\n",
       "\n"
      ],
      "text/plain": [
       "[1] 17 15"
      ]
     },
     "metadata": {},
     "output_type": "display_data"
    },
    {
     "data": {
      "text/html": [
       "<ol class=list-inline>\n",
       "\t<li>20345</li>\n",
       "\t<li>17</li>\n",
       "</ol>\n"
      ],
      "text/latex": [
       "\\begin{enumerate*}\n",
       "\\item 20345\n",
       "\\item 17\n",
       "\\end{enumerate*}\n"
      ],
      "text/markdown": [
       "1. 20345\n",
       "2. 17\n",
       "\n",
       "\n"
      ],
      "text/plain": [
       "[1] 20345    17"
      ]
     },
     "metadata": {},
     "output_type": "display_data"
    },
    {
     "data": {
      "text/html": [
       "<ol class=list-inline>\n",
       "\t<li>10231</li>\n",
       "\t<li>17</li>\n",
       "</ol>\n"
      ],
      "text/latex": [
       "\\begin{enumerate*}\n",
       "\\item 10231\n",
       "\\item 17\n",
       "\\end{enumerate*}\n"
      ],
      "text/markdown": [
       "1. 10231\n",
       "2. 17\n",
       "\n",
       "\n"
      ],
      "text/plain": [
       "[1] 10231    17"
      ]
     },
     "metadata": {},
     "output_type": "display_data"
    },
    {
     "data": {
      "image/png": "[encoded data removed]",
      "text/plain": [
       "Plot with title “Sample Type”"
      ]
     },
     "metadata": {},
     "output_type": "display_data"
    },
    {
     "data": {
      "image/png": "[encoded data removed]",
      "text/plain": [
       "Plot with title “Sample Type”"
      ]
     },
     "metadata": {},
     "output_type": "display_data"
    },
    {
     "data": {
      "image/png": "[encoded data removed]",
      "text/plain": [
       "Plot with title “Age”"
      ]
     },
     "metadata": {},
     "output_type": "display_data"
    }
   ],
   "source": [
    "geneCount_coding.ABM.sAML.PB <- subset(geneCount.ABM.sAML.PB, row.names(geneCount.ABM.sAML.PB) %in% protein_coding_ids)\n",
    "colnames(geneCount_coding.ABM.sAML.PB)\n",
    "dim(metaCrop.ABM.sAML.PB)\n",
    "id_list <- gsub(\"[.].*$\",\"\", rownames(geneCount_coding.ABM.sAML.PB))\n",
    "rownames(geneCount_coding.ABM.sAML.PB) <- id_list\n",
    "x.ABM.sAML.PB <- DGEList(counts = geneCount_coding.ABM.sAML.PB, lib.size = colSums(geneCount_coding.ABM.sAML.PB),\n",
    "norm.factors = rep(1,ncol(geneCount_coding.ABM.sAML.PB)), samples = metaCrop.ABM.sAML.PB,\n",
    "group = metaCrop.ABM.sAML.PB$Treatment, genes = id_list, remove.zeros = FALSE) \n",
    "dim(geneCount_coding.ABM.sAML.PB)\n",
    "x.ABM.sAML.PB$genes[,2:3] <- pcgenes[match(pcgenes$ENSEMBL,id_list),c(\"ENTREZID\",\"SYMBOL\")]\n",
    "\n",
    "cpm <- cpm(x.ABM.sAML.PB)\n",
    "lcpm <- cpm(x.ABM.sAML.PB, log=TRUE)\n",
    "keep.exprs <- rowSums(cpm>1)>=12\n",
    "x.ABM.sAML.PB <- x.ABM.sAML.PB[keep.exprs,, keep.lib.sizes=FALSE]\n",
    "dim(x.ABM.sAML.PB)\n",
    "x.ABM.sAML.PB <- calcNormFactors(x.ABM.sAML.PB, method = \"TMM\")\n",
    "col.samp.ABM.sAML.PB <- samp.type.ABM.sAML.PB <- as.factor(x.ABM.sAML.PB$samples$Sample.type3)\n",
    "levels(col.samp.ABM.sAML.PB) <-  brewer.pal(nlevels(col.samp.ABM.sAML.PB), \"Paired\") #if more than 2 conditions\n",
    "col.samp.ABM.sAML.PB <- as.character(col.samp.ABM.sAML.PB)\n",
    "\n",
    "par(mfrow=c(1,1))\n",
    "plotMDS(lcpm, labels=samp.type.ABM.sAML.PB, col=col.samp.ABM.sAML.PB, cex=.5)\n",
    "title(main=\"Sample Type\")\n",
    "plotMDS(lcpm, labels=x.ABM.sAML.PB$samples$Condition, col=col.samp.ABM.sAML.PB, cex=.5)\n",
    "title(main=\"Sample Type\")\n",
    "plotMDS(lcpm, labels=x.ABM.sAML.PB$samples$Age, col=col.samp.ABM.sAML.PB, cex=.5)\n",
    "title(main=\"Age\")"
   ]
  },
  {
   "cell_type": "code",
   "execution_count": 27,
   "metadata": {
    "scrolled": false
   },
   "outputs": [
    {
     "data": {
      "text/html": [
       "<ol class=list-inline>\n",
       "\t<li>20345</li>\n",
       "\t<li>26</li>\n",
       "</ol>\n"
      ],
      "text/latex": [
       "\\begin{enumerate*}\n",
       "\\item 20345\n",
       "\\item 26\n",
       "\\end{enumerate*}\n"
      ],
      "text/markdown": [
       "1. 20345\n",
       "2. 26\n",
       "\n",
       "\n"
      ],
      "text/plain": [
       "[1] 20345    26"
      ]
     },
     "metadata": {},
     "output_type": "display_data"
    },
    {
     "data": {
      "text/html": [
       "<ol class=list-inline>\n",
       "\t<li>6680</li>\n",
       "\t<li>26</li>\n",
       "</ol>\n"
      ],
      "text/latex": [
       "\\begin{enumerate*}\n",
       "\\item 6680\n",
       "\\item 26\n",
       "\\end{enumerate*}\n"
      ],
      "text/markdown": [
       "1. 6680\n",
       "2. 26\n",
       "\n",
       "\n"
      ],
      "text/plain": [
       "[1] 6680   26"
      ]
     },
     "metadata": {},
     "output_type": "display_data"
    },
    {
     "data": {
      "text/html": [
       "<ol class=list-inline>\n",
       "\t<li>0.9384762434434</li>\n",
       "\t<li>0.866901414962303</li>\n",
       "\t<li>0.842418012982092</li>\n",
       "\t<li>0.989099747120509</li>\n",
       "\t<li>1.0339388908331</li>\n",
       "\t<li>1.02835838209937</li>\n",
       "\t<li>1.10309429148659</li>\n",
       "\t<li>0.920832231748127</li>\n",
       "\t<li>0.883460737929951</li>\n",
       "\t<li>1.0501896859344</li>\n",
       "\t<li>1.10114658304298</li>\n",
       "\t<li>0.825407678190896</li>\n",
       "\t<li>1.0718294516821</li>\n",
       "\t<li>1.10110262563988</li>\n",
       "\t<li>1.06728120128791</li>\n",
       "\t<li>1.05360896097844</li>\n",
       "\t<li>1.0626020174642</li>\n",
       "\t<li>0.949255660145641</li>\n",
       "\t<li>1.09617873591392</li>\n",
       "\t<li>1.04130661725287</li>\n",
       "\t<li>0.974413937700122</li>\n",
       "\t<li>0.975187187837349</li>\n",
       "\t<li>0.957841243102273</li>\n",
       "\t<li>1.05740319305204</li>\n",
       "\t<li>1.10122072041954</li>\n",
       "\t<li>1.00016690849716</li>\n",
       "</ol>\n"
      ],
      "text/latex": [
       "\\begin{enumerate*}\n",
       "\\item 0.9384762434434\n",
       "\\item 0.866901414962303\n",
       "\\item 0.842418012982092\n",
       "\\item 0.989099747120509\n",
       "\\item 1.0339388908331\n",
       "\\item 1.02835838209937\n",
       "\\item 1.10309429148659\n",
       "\\item 0.920832231748127\n",
       "\\item 0.883460737929951\n",
       "\\item 1.0501896859344\n",
       "\\item 1.10114658304298\n",
       "\\item 0.825407678190896\n",
       "\\item 1.0718294516821\n",
       "\\item 1.10110262563988\n",
       "\\item 1.06728120128791\n",
       "\\item 1.05360896097844\n",
       "\\item 1.0626020174642\n",
       "\\item 0.949255660145641\n",
       "\\item 1.09617873591392\n",
       "\\item 1.04130661725287\n",
       "\\item 0.974413937700122\n",
       "\\item 0.975187187837349\n",
       "\\item 0.957841243102273\n",
       "\\item 1.05740319305204\n",
       "\\item 1.10122072041954\n",
       "\\item 1.00016690849716\n",
       "\\end{enumerate*}\n"
      ],
      "text/markdown": [
       "1. 0.9384762434434\n",
       "2. 0.866901414962303\n",
       "3. 0.842418012982092\n",
       "4. 0.989099747120509\n",
       "5. 1.0339388908331\n",
       "6. 1.02835838209937\n",
       "7. 1.10309429148659\n",
       "8. 0.920832231748127\n",
       "9. 0.883460737929951\n",
       "10. 1.0501896859344\n",
       "11. 1.10114658304298\n",
       "12. 0.825407678190896\n",
       "13. 1.0718294516821\n",
       "14. 1.10110262563988\n",
       "15. 1.06728120128791\n",
       "16. 1.05360896097844\n",
       "17. 1.0626020174642\n",
       "18. 0.949255660145641\n",
       "19. 1.09617873591392\n",
       "20. 1.04130661725287\n",
       "21. 0.974413937700122\n",
       "22. 0.975187187837349\n",
       "23. 0.957841243102273\n",
       "24. 1.05740319305204\n",
       "25. 1.10122072041954\n",
       "26. 1.00016690849716\n",
       "\n",
       "\n"
      ],
      "text/plain": [
       " [1] 0.9384762 0.8669014 0.8424180 0.9890997 1.0339389 1.0283584 1.1030943\n",
       " [8] 0.9208322 0.8834607 1.0501897 1.1011466 0.8254077 1.0718295 1.1011026\n",
       "[15] 1.0672812 1.0536090 1.0626020 0.9492557 1.0961787 1.0413066 0.9744139\n",
       "[22] 0.9751872 0.9578412 1.0574032 1.1012207 1.0001669"
      ]
     },
     "metadata": {},
     "output_type": "display_data"
    },
    {
     "name": "stderr",
     "output_type": "stream",
     "text": [
      "Warning message in brewer.pal(nlevels(col.samp.AML.MF.PB), \"Paired\"):\n",
      "“minimal value for n is 3, returning requested palette with 3 different levels\n",
      "”"
     ]
    },
    {
     "data": {
      "image/png": "[encoded data removed]",
      "text/plain": [
       "Plot with title “Sample Type”"
      ]
     },
     "metadata": {},
     "output_type": "display_data"
    },
    {
     "data": {
      "image/png": "[encoded data removed]",
      "text/plain": [
       "Plot with title “Sample Type”"
      ]
     },
     "metadata": {},
     "output_type": "display_data"
    }
   ],
   "source": [
    "geneCount_coding.AML.MF.PB <- subset(geneCount.AML.MF.PB, row.names(geneCount.AML.MF.PB) %in% protein_coding_ids)\n",
    "\n",
    "id_list <- gsub(\"[.].*$\",\"\", rownames(geneCount_coding.AML.MF.PB))\n",
    "rownames(geneCount_coding.AML.MF.PB) <- id_list\n",
    "x.AML.MF.PB <- DGEList(counts = geneCount_coding.AML.MF.PB, lib.size = colSums(geneCount_coding.AML.MF.PB),\n",
    "norm.factors = rep(1,ncol(geneCount_coding.AML.MF.PB)), samples = metaCrop.AML.MF.PB,\n",
    "group = metaCrop.AML.MF.PB$Treatment, genes = id_list, remove.zeros = FALSE) \n",
    "dim(geneCount_coding.AML.MF.PB)\n",
    "x.AML.MF.PB$genes[,2:3] <- pcgenes[match(pcgenes$ENSEMBL,id_list),c(\"ENTREZID\",\"SYMBOL\")]\n",
    "\n",
    "cpm <- cpm(x.AML.MF.PB)\n",
    "lcpm <- cpm(x.AML.MF.PB, log=TRUE)\n",
    "keep.exprs <- rowSums(cpm>1)>=26\n",
    "x.AML.MF.PB <- x.AML.MF.PB[keep.exprs,, keep.lib.sizes=FALSE]\n",
    "dim(x.AML.MF.PB)\n",
    "x.AML.MF.PB <- calcNormFactors(x.AML.MF.PB, method = \"TMM\")\n",
    "x.AML.MF.PB$samples$norm.factors\n",
    "col.samp.AML.MF.PB <- samp.type.AML.MF.PB <- as.factor(x.AML.MF.PB$samples$Sample.type3)\n",
    "levels(col.samp.AML.MF.PB) <-  brewer.pal(nlevels(col.samp.AML.MF.PB), \"Paired\") #if more than 2 conditions\n",
    "col.samp.AML.MF.PB <- as.character(col.samp.AML.MF.PB)\n",
    "\n",
    "par(mfrow=c(1,1))\n",
    "plotMDS(lcpm, labels=samp.type.AML.MF.PB, col=col.samp.AML.MF.PB, cex=.5)\n",
    "title(main=\"Sample Type\")\n",
    "plotMDS(lcpm, labels=x.AML.MF.PB$samples$group, col=col.samp.AML.MF.PB, cex=.5)\n",
    "title(main=\"Sample Type\")\n",
    "#plotMDS(lcpm, labels=x.AML.MF.PB$samples$Age, col=col.samp.ABM.AML.PB, cex=.5)\n",
    "#title(main=\"Age\")\n",
    "#plotMDS(lcpm, labels=x.AML.MF.PB$samples$Sex, col=col.samp.ABM.AML.PB, cex=.5)\n",
    "#title(main=\"Sex\")"
   ]
  },
  {
   "cell_type": "markdown",
   "metadata": {},
   "source": [
    "### Limma Analysis to identify Differentially Expressed Genes"
   ]
  },
  {
   "cell_type": "code",
   "execution_count": 28,
   "metadata": {},
   "outputs": [
    {
     "data": {
      "text/plain": [
       "samples.tmp\n",
       "  ABM   YBM    PV    ET    MF   CML  sAML dnAML \n",
       "    8     8     6     2    24     5    11     2 "
      ]
     },
     "metadata": {},
     "output_type": "display_data"
    },
    {
     "data": {
      "text/html": [
       "<ol class=list-inline>\n",
       "\t<li>'ABM'</li>\n",
       "\t<li>'YBM'</li>\n",
       "\t<li>'ET'</li>\n",
       "\t<li>'PV'</li>\n",
       "\t<li>'MF'</li>\n",
       "\t<li>'CML'</li>\n",
       "\t<li>'sAML'</li>\n",
       "\t<li>'dnAML'</li>\n",
       "</ol>\n"
      ],
      "text/latex": [
       "\\begin{enumerate*}\n",
       "\\item 'ABM'\n",
       "\\item 'YBM'\n",
       "\\item 'ET'\n",
       "\\item 'PV'\n",
       "\\item 'MF'\n",
       "\\item 'CML'\n",
       "\\item 'sAML'\n",
       "\\item 'dnAML'\n",
       "\\end{enumerate*}\n"
      ],
      "text/markdown": [
       "1. 'ABM'\n",
       "2. 'YBM'\n",
       "3. 'ET'\n",
       "4. 'PV'\n",
       "5. 'MF'\n",
       "6. 'CML'\n",
       "7. 'sAML'\n",
       "8. 'dnAML'\n",
       "\n",
       "\n"
      ],
      "text/plain": [
       "[1] \"ABM\"   \"YBM\"   \"ET\"    \"PV\"    \"MF\"    \"CML\"   \"sAML\"  \"dnAML\""
      ]
     },
     "metadata": {},
     "output_type": "display_data"
    },
    {
     "data": {
      "text/html": [
       "<table>\n",
       "<caption>A data.frame: 10 × 9</caption>\n",
       "<thead>\n",
       "\t<tr><th></th><th scope=col>genes</th><th scope=col>ENTREZID</th><th scope=col>SYMBOL</th><th scope=col>logFC</th><th scope=col>AveExpr</th><th scope=col>t</th><th scope=col>P.Value</th><th scope=col>adj.P.Val</th><th scope=col>B</th></tr>\n",
       "\t<tr><th></th><th scope=col>&lt;chr&gt;</th><th scope=col>&lt;chr&gt;</th><th scope=col>&lt;chr&gt;</th><th scope=col>&lt;dbl&gt;</th><th scope=col>&lt;dbl&gt;</th><th scope=col>&lt;dbl&gt;</th><th scope=col>&lt;dbl&gt;</th><th scope=col>&lt;dbl&gt;</th><th scope=col>&lt;dbl&gt;</th></tr>\n",
       "</thead>\n",
       "<tbody>\n",
       "\t<tr><th scope=row>ENSG00000112308</th><td>ENSG00000112308</td><td>81688 </td><td>C6orf62 </td><td>4.439336</td><td>9.088589</td><td>16.59210</td><td>6.999484e-25</td><td>4.746415e-21</td><td>46.32838</td></tr>\n",
       "\t<tr><th scope=row>ENSG00000171862</th><td>ENSG00000171862</td><td>5728  </td><td>PTEN    </td><td>3.382819</td><td>8.472251</td><td>16.54379</td><td>8.148597e-25</td><td>4.746415e-21</td><td>46.16930</td></tr>\n",
       "\t<tr><th scope=row>ENSG00000107951</th><td>ENSG00000107951</td><td>55149 </td><td>MTPAP   </td><td>4.214555</td><td>6.889898</td><td>16.45817</td><td>1.067570e-24</td><td>4.746415e-21</td><td>45.83786</td></tr>\n",
       "\t<tr><th scope=row>ENSG00000124193</th><td>ENSG00000124193</td><td>6431  </td><td>SRSF6   </td><td>4.328057</td><td>9.498925</td><td>15.89713</td><td>6.405618e-24</td><td>2.135953e-20</td><td>44.13810</td></tr>\n",
       "\t<tr><th scope=row>ENSG00000162408</th><td>ENSG00000162408</td><td>79707 </td><td>NOL9    </td><td>2.480109</td><td>5.828263</td><td>15.67784</td><td>1.303905e-23</td><td>3.478298e-20</td><td>43.29028</td></tr>\n",
       "\t<tr><th scope=row>ENSG00000102580</th><td>ENSG00000102580</td><td>5611  </td><td>DNAJC3  </td><td>3.299824</td><td>6.869693</td><td>15.58451</td><td>1.767713e-23</td><td>3.929626e-20</td><td>43.07956</td></tr>\n",
       "\t<tr><th scope=row>ENSG00000187446</th><td>ENSG00000187446</td><td>11261 </td><td>CHP1    </td><td>4.177966</td><td>7.491332</td><td>14.60425</td><td>4.613338e-22</td><td>7.791706e-19</td><td>39.89237</td></tr>\n",
       "\t<tr><th scope=row>ENSG00000162695</th><td>ENSG00000162695</td><td>148867</td><td>SLC30A7 </td><td>3.296333</td><td>6.289748</td><td>14.59196</td><td>4.809618e-22</td><td>7.791706e-19</td><td>39.79395</td></tr>\n",
       "\t<tr><th scope=row>ENSG00000088205</th><td>ENSG00000088205</td><td>8886  </td><td>DDX18   </td><td>1.678763</td><td>6.852420</td><td>14.56571</td><td>5.257561e-22</td><td>7.791706e-19</td><td>39.74419</td></tr>\n",
       "\t<tr><th scope=row>ENSG00000169905</th><td>ENSG00000169905</td><td>163590</td><td>TOR1AIP2</td><td>3.766185</td><td>6.519729</td><td>14.29086</td><td>1.342817e-21</td><td>1.628227e-18</td><td>38.80781</td></tr>\n",
       "</tbody>\n",
       "</table>\n"
      ],
      "text/latex": [
       "A data.frame: 10 × 9\n",
       "\\begin{tabular}{r|lllllllll}\n",
       "  & genes & ENTREZID & SYMBOL & logFC & AveExpr & t & P.Value & adj.P.Val & B\\\\\n",
       "  & <chr> & <chr> & <chr> & <dbl> & <dbl> & <dbl> & <dbl> & <dbl> & <dbl>\\\\\n",
       "\\hline\n",
       "\tENSG00000112308 & ENSG00000112308 & 81688  & C6orf62  & 4.439336 & 9.088589 & 16.59210 & 6.999484e-25 & 4.746415e-21 & 46.32838\\\\\n",
       "\tENSG00000171862 & ENSG00000171862 & 5728   & PTEN     & 3.382819 & 8.472251 & 16.54379 & 8.148597e-25 & 4.746415e-21 & 46.16930\\\\\n",
       "\tENSG00000107951 & ENSG00000107951 & 55149  & MTPAP    & 4.214555 & 6.889898 & 16.45817 & 1.067570e-24 & 4.746415e-21 & 45.83786\\\\\n",
       "\tENSG00000124193 & ENSG00000124193 & 6431   & SRSF6    & 4.328057 & 9.498925 & 15.89713 & 6.405618e-24 & 2.135953e-20 & 44.13810\\\\\n",
       "\tENSG00000162408 & ENSG00000162408 & 79707  & NOL9     & 2.480109 & 5.828263 & 15.67784 & 1.303905e-23 & 3.478298e-20 & 43.29028\\\\\n",
       "\tENSG00000102580 & ENSG00000102580 & 5611   & DNAJC3   & 3.299824 & 6.869693 & 15.58451 & 1.767713e-23 & 3.929626e-20 & 43.07956\\\\\n",
       "\tENSG00000187446 & ENSG00000187446 & 11261  & CHP1     & 4.177966 & 7.491332 & 14.60425 & 4.613338e-22 & 7.791706e-19 & 39.89237\\\\\n",
       "\tENSG00000162695 & ENSG00000162695 & 148867 & SLC30A7  & 3.296333 & 6.289748 & 14.59196 & 4.809618e-22 & 7.791706e-19 & 39.79395\\\\\n",
       "\tENSG00000088205 & ENSG00000088205 & 8886   & DDX18    & 1.678763 & 6.852420 & 14.56571 & 5.257561e-22 & 7.791706e-19 & 39.74419\\\\\n",
       "\tENSG00000169905 & ENSG00000169905 & 163590 & TOR1AIP2 & 3.766185 & 6.519729 & 14.29086 & 1.342817e-21 & 1.628227e-18 & 38.80781\\\\\n",
       "\\end{tabular}\n"
      ],
      "text/markdown": [
       "\n",
       "A data.frame: 10 × 9\n",
       "\n",
       "| <!--/--> | genes &lt;chr&gt; | ENTREZID &lt;chr&gt; | SYMBOL &lt;chr&gt; | logFC &lt;dbl&gt; | AveExpr &lt;dbl&gt; | t &lt;dbl&gt; | P.Value &lt;dbl&gt; | adj.P.Val &lt;dbl&gt; | B &lt;dbl&gt; |\n",
       "|---|---|---|---|---|---|---|---|---|---|\n",
       "| ENSG00000112308 | ENSG00000112308 | 81688  | C6orf62  | 4.439336 | 9.088589 | 16.59210 | 6.999484e-25 | 4.746415e-21 | 46.32838 |\n",
       "| ENSG00000171862 | ENSG00000171862 | 5728   | PTEN     | 3.382819 | 8.472251 | 16.54379 | 8.148597e-25 | 4.746415e-21 | 46.16930 |\n",
       "| ENSG00000107951 | ENSG00000107951 | 55149  | MTPAP    | 4.214555 | 6.889898 | 16.45817 | 1.067570e-24 | 4.746415e-21 | 45.83786 |\n",
       "| ENSG00000124193 | ENSG00000124193 | 6431   | SRSF6    | 4.328057 | 9.498925 | 15.89713 | 6.405618e-24 | 2.135953e-20 | 44.13810 |\n",
       "| ENSG00000162408 | ENSG00000162408 | 79707  | NOL9     | 2.480109 | 5.828263 | 15.67784 | 1.303905e-23 | 3.478298e-20 | 43.29028 |\n",
       "| ENSG00000102580 | ENSG00000102580 | 5611   | DNAJC3   | 3.299824 | 6.869693 | 15.58451 | 1.767713e-23 | 3.929626e-20 | 43.07956 |\n",
       "| ENSG00000187446 | ENSG00000187446 | 11261  | CHP1     | 4.177966 | 7.491332 | 14.60425 | 4.613338e-22 | 7.791706e-19 | 39.89237 |\n",
       "| ENSG00000162695 | ENSG00000162695 | 148867 | SLC30A7  | 3.296333 | 6.289748 | 14.59196 | 4.809618e-22 | 7.791706e-19 | 39.79395 |\n",
       "| ENSG00000088205 | ENSG00000088205 | 8886   | DDX18    | 1.678763 | 6.852420 | 14.56571 | 5.257561e-22 | 7.791706e-19 | 39.74419 |\n",
       "| ENSG00000169905 | ENSG00000169905 | 163590 | TOR1AIP2 | 3.766185 | 6.519729 | 14.29086 | 1.342817e-21 | 1.628227e-18 | 38.80781 |\n",
       "\n"
      ],
      "text/plain": [
       "                genes           ENTREZID SYMBOL   logFC    AveExpr  t       \n",
       "ENSG00000112308 ENSG00000112308 81688    C6orf62  4.439336 9.088589 16.59210\n",
       "ENSG00000171862 ENSG00000171862 5728     PTEN     3.382819 8.472251 16.54379\n",
       "ENSG00000107951 ENSG00000107951 55149    MTPAP    4.214555 6.889898 16.45817\n",
       "ENSG00000124193 ENSG00000124193 6431     SRSF6    4.328057 9.498925 15.89713\n",
       "ENSG00000162408 ENSG00000162408 79707    NOL9     2.480109 5.828263 15.67784\n",
       "ENSG00000102580 ENSG00000102580 5611     DNAJC3   3.299824 6.869693 15.58451\n",
       "ENSG00000187446 ENSG00000187446 11261    CHP1     4.177966 7.491332 14.60425\n",
       "ENSG00000162695 ENSG00000162695 148867   SLC30A7  3.296333 6.289748 14.59196\n",
       "ENSG00000088205 ENSG00000088205 8886     DDX18    1.678763 6.852420 14.56571\n",
       "ENSG00000169905 ENSG00000169905 163590   TOR1AIP2 3.766185 6.519729 14.29086\n",
       "                P.Value      adj.P.Val    B       \n",
       "ENSG00000112308 6.999484e-25 4.746415e-21 46.32838\n",
       "ENSG00000171862 8.148597e-25 4.746415e-21 46.16930\n",
       "ENSG00000107951 1.067570e-24 4.746415e-21 45.83786\n",
       "ENSG00000124193 6.405618e-24 2.135953e-20 44.13810\n",
       "ENSG00000162408 1.303905e-23 3.478298e-20 43.29028\n",
       "ENSG00000102580 1.767713e-23 3.929626e-20 43.07956\n",
       "ENSG00000187446 4.613338e-22 7.791706e-19 39.89237\n",
       "ENSG00000162695 4.809618e-22 7.791706e-19 39.79395\n",
       "ENSG00000088205 5.257561e-22 7.791706e-19 39.74419\n",
       "ENSG00000169905 1.342817e-21 1.628227e-18 38.80781"
      ]
     },
     "metadata": {},
     "output_type": "display_data"
    },
    {
     "data": {
      "text/plain": [
       "       ABM - YBM ABM - ET ABM - PV ABM - MF ABM - sAML ABM - CML\n",
       "Down           0     3735     4022     4682       2461      4134\n",
       "NotSig     13338     7840     5756     4253       7778      6164\n",
       "Up             0     1763     3560     4403       3099      3040"
      ]
     },
     "metadata": {},
     "output_type": "display_data"
    },
    {
     "data": {
      "text/html": [
       "34899"
      ],
      "text/latex": [
       "34899"
      ],
      "text/markdown": [
       "34899"
      ],
      "text/plain": [
       "[1] 34899"
      ]
     },
     "metadata": {},
     "output_type": "display_data"
    }
   ],
   "source": [
    "samples.tmp <- x.all$sample$Sample.type3\n",
    "table(samples.tmp)\n",
    "samples.all <- factor(as.character(samples.tmp), \n",
    "                      levels=c(\"ABM\", \"YBM\", \"ET\", \"PV\", \"MF\", \"CML\", \"sAML\", \"dnAML\"))\n",
    "levels(samples.all)\n",
    "design.all <- model.matrix(~0 + samples.all)\n",
    "colnames(design.all) <- c(\"ABM\", \"YBM\", \"ET\", \"PV\", \"MF\", \"CML\", \"sAML\", \"dnAML\")\n",
    "celltypes.all <- as.factor(as.character(x.all$sample$CellType))\n",
    "cm.all <- makeContrasts(ABM-YBM, ABM-ET, ABM-PV, ABM-MF,\n",
    "                        ABM-sAML,ABM-CML, levels=design.all)\n",
    "v.all <- voom(x.all, design.all, plot=FALSE)\n",
    "vfit.all <- lmFit(v.all,design.all)\n",
    "vfit.all <- contrasts.fit(vfit.all, contrasts=cm.all)\n",
    "efit.all <- eBayes(vfit.all)\n",
    "topTable(efit.all, coef=4)\n",
    "dt.all <- decideTests(efit.all)\n",
    "summary(dt.all)\n",
    "length(which(dt.all!=0))\n",
    "topTable.all <- topTreat(efit.all, coef=1, n=Inf, sort.by=\"p\")\n",
    "topTable.all.ABM.YBM <- topTreat(efit.all, coef=1, n=Inf, sort.by=\"p\")\n",
    "topTable.all.ABM.ET <- topTreat(efit.all, coef=2, n=Inf, sort.by=\"p\")\n",
    "topTable.all.ABM.PV <- topTreat(efit.all, coef=3, n=Inf, sort.by=\"p\")\n",
    "topTable.all.ABM.MF <- topTreat(efit.all, coef=4, n=Inf, sort.by=\"p\")\n",
    "topTable.all.ABM.sAML <- topTreat(efit.all, coef=5, n=Inf, sort.by=\"p\")\n",
    "topTable.all.ABM.CML <- topTreat(efit.all, coef=6, n=Inf, sort.by=\"p\")\n"
   ]
  },
  {
   "cell_type": "code",
   "execution_count": 31,
   "metadata": {},
   "outputs": [
    {
     "data": {
      "text/plain": [
       "samples.tmp\n",
       "Aged normal bone marrow                      ET \n",
       "                      8                       2 "
      ]
     },
     "metadata": {},
     "output_type": "display_data"
    },
    {
     "data": {
      "text/html": [
       "<table>\n",
       "<caption>A data.frame: 10 × 9</caption>\n",
       "<thead>\n",
       "\t<tr><th></th><th scope=col>genes</th><th scope=col>ENTREZID</th><th scope=col>SYMBOL</th><th scope=col>logFC</th><th scope=col>AveExpr</th><th scope=col>t</th><th scope=col>P.Value</th><th scope=col>adj.P.Val</th><th scope=col>B</th></tr>\n",
       "\t<tr><th></th><th scope=col>&lt;chr&gt;</th><th scope=col>&lt;chr&gt;</th><th scope=col>&lt;chr&gt;</th><th scope=col>&lt;dbl&gt;</th><th scope=col>&lt;dbl&gt;</th><th scope=col>&lt;dbl&gt;</th><th scope=col>&lt;dbl&gt;</th><th scope=col>&lt;dbl&gt;</th><th scope=col>&lt;dbl&gt;</th></tr>\n",
       "</thead>\n",
       "<tbody>\n",
       "\t<tr><th scope=row>ENSG00000105063</th><td>ENSG00000105063</td><td>22870</td><td>PPP6R1  </td><td>7.018382</td><td>2.957764</td><td>32.87218</td><td>3.001035e-13</td><td>2.798165e-09</td><td>19.62511</td></tr>\n",
       "\t<tr><th scope=row>ENSG00000104852</th><td>ENSG00000104852</td><td>6625 </td><td>SNRNP70 </td><td>6.757671</td><td>2.648825</td><td>28.51591</td><td>1.655354e-12</td><td>7.717262e-09</td><td>18.33284</td></tr>\n",
       "\t<tr><th scope=row>ENSG00000180448</th><td>ENSG00000180448</td><td>23526</td><td>ARHGAP45</td><td>6.615214</td><td>2.657778</td><td>25.95630</td><td>5.104640e-12</td><td>1.098943e-08</td><td>17.45111</td></tr>\n",
       "\t<tr><th scope=row>ENSG00000141959</th><td>ENSG00000141959</td><td>5211 </td><td>PFKL    </td><td>5.732041</td><td>3.795635</td><td>24.93782</td><td>8.235349e-12</td><td>1.098943e-08</td><td>17.14976</td></tr>\n",
       "\t<tr><th scope=row>ENSG00000112787</th><td>ENSG00000112787</td><td>57666</td><td>FBRSL1  </td><td>6.021483</td><td>2.020909</td><td>25.27599</td><td>7.011622e-12</td><td>1.098943e-08</td><td>17.10455</td></tr>\n",
       "\t<tr><th scope=row>ENSG00000076928</th><td>ENSG00000076928</td><td>9138 </td><td>ARHGEF1 </td><td>6.732325</td><td>2.517258</td><td>24.85691</td><td>8.561151e-12</td><td>1.098943e-08</td><td>17.02425</td></tr>\n",
       "\t<tr><th scope=row>ENSG00000136490</th><td>ENSG00000136490</td><td>80774</td><td>LIMD2   </td><td>6.911630</td><td>3.516574</td><td>24.59753</td><td>9.703121e-12</td><td>1.098943e-08</td><td>17.00411</td></tr>\n",
       "\t<tr><th scope=row>ENSG00000188486</th><td>ENSG00000188486</td><td>3014 </td><td>H2AFX   </td><td>5.708328</td><td>2.141790</td><td>24.56615</td><td>9.852087e-12</td><td>1.098943e-08</td><td>16.82461</td></tr>\n",
       "\t<tr><th scope=row>ENSG00000088882</th><td>ENSG00000088882</td><td>56265</td><td>CPXM1   </td><td>5.364768</td><td>3.981579</td><td>24.04247</td><td>1.273973e-11</td><td>1.114764e-08</td><td>16.79452</td></tr>\n",
       "\t<tr><th scope=row>ENSG00000157350</th><td>ENSG00000157350</td><td>6483 </td><td>ST3GAL2 </td><td>5.683146</td><td>1.902514</td><td>24.41451</td><td>1.060756e-11</td><td>1.098943e-08</td><td>16.72620</td></tr>\n",
       "</tbody>\n",
       "</table>\n"
      ],
      "text/latex": [
       "A data.frame: 10 × 9\n",
       "\\begin{tabular}{r|lllllllll}\n",
       "  & genes & ENTREZID & SYMBOL & logFC & AveExpr & t & P.Value & adj.P.Val & B\\\\\n",
       "  & <chr> & <chr> & <chr> & <dbl> & <dbl> & <dbl> & <dbl> & <dbl> & <dbl>\\\\\n",
       "\\hline\n",
       "\tENSG00000105063 & ENSG00000105063 & 22870 & PPP6R1   & 7.018382 & 2.957764 & 32.87218 & 3.001035e-13 & 2.798165e-09 & 19.62511\\\\\n",
       "\tENSG00000104852 & ENSG00000104852 & 6625  & SNRNP70  & 6.757671 & 2.648825 & 28.51591 & 1.655354e-12 & 7.717262e-09 & 18.33284\\\\\n",
       "\tENSG00000180448 & ENSG00000180448 & 23526 & ARHGAP45 & 6.615214 & 2.657778 & 25.95630 & 5.104640e-12 & 1.098943e-08 & 17.45111\\\\\n",
       "\tENSG00000141959 & ENSG00000141959 & 5211  & PFKL     & 5.732041 & 3.795635 & 24.93782 & 8.235349e-12 & 1.098943e-08 & 17.14976\\\\\n",
       "\tENSG00000112787 & ENSG00000112787 & 57666 & FBRSL1   & 6.021483 & 2.020909 & 25.27599 & 7.011622e-12 & 1.098943e-08 & 17.10455\\\\\n",
       "\tENSG00000076928 & ENSG00000076928 & 9138  & ARHGEF1  & 6.732325 & 2.517258 & 24.85691 & 8.561151e-12 & 1.098943e-08 & 17.02425\\\\\n",
       "\tENSG00000136490 & ENSG00000136490 & 80774 & LIMD2    & 6.911630 & 3.516574 & 24.59753 & 9.703121e-12 & 1.098943e-08 & 17.00411\\\\\n",
       "\tENSG00000188486 & ENSG00000188486 & 3014  & H2AFX    & 5.708328 & 2.141790 & 24.56615 & 9.852087e-12 & 1.098943e-08 & 16.82461\\\\\n",
       "\tENSG00000088882 & ENSG00000088882 & 56265 & CPXM1    & 5.364768 & 3.981579 & 24.04247 & 1.273973e-11 & 1.114764e-08 & 16.79452\\\\\n",
       "\tENSG00000157350 & ENSG00000157350 & 6483  & ST3GAL2  & 5.683146 & 1.902514 & 24.41451 & 1.060756e-11 & 1.098943e-08 & 16.72620\\\\\n",
       "\\end{tabular}\n"
      ],
      "text/markdown": [
       "\n",
       "A data.frame: 10 × 9\n",
       "\n",
       "| <!--/--> | genes &lt;chr&gt; | ENTREZID &lt;chr&gt; | SYMBOL &lt;chr&gt; | logFC &lt;dbl&gt; | AveExpr &lt;dbl&gt; | t &lt;dbl&gt; | P.Value &lt;dbl&gt; | adj.P.Val &lt;dbl&gt; | B &lt;dbl&gt; |\n",
       "|---|---|---|---|---|---|---|---|---|---|\n",
       "| ENSG00000105063 | ENSG00000105063 | 22870 | PPP6R1   | 7.018382 | 2.957764 | 32.87218 | 3.001035e-13 | 2.798165e-09 | 19.62511 |\n",
       "| ENSG00000104852 | ENSG00000104852 | 6625  | SNRNP70  | 6.757671 | 2.648825 | 28.51591 | 1.655354e-12 | 7.717262e-09 | 18.33284 |\n",
       "| ENSG00000180448 | ENSG00000180448 | 23526 | ARHGAP45 | 6.615214 | 2.657778 | 25.95630 | 5.104640e-12 | 1.098943e-08 | 17.45111 |\n",
       "| ENSG00000141959 | ENSG00000141959 | 5211  | PFKL     | 5.732041 | 3.795635 | 24.93782 | 8.235349e-12 | 1.098943e-08 | 17.14976 |\n",
       "| ENSG00000112787 | ENSG00000112787 | 57666 | FBRSL1   | 6.021483 | 2.020909 | 25.27599 | 7.011622e-12 | 1.098943e-08 | 17.10455 |\n",
       "| ENSG00000076928 | ENSG00000076928 | 9138  | ARHGEF1  | 6.732325 | 2.517258 | 24.85691 | 8.561151e-12 | 1.098943e-08 | 17.02425 |\n",
       "| ENSG00000136490 | ENSG00000136490 | 80774 | LIMD2    | 6.911630 | 3.516574 | 24.59753 | 9.703121e-12 | 1.098943e-08 | 17.00411 |\n",
       "| ENSG00000188486 | ENSG00000188486 | 3014  | H2AFX    | 5.708328 | 2.141790 | 24.56615 | 9.852087e-12 | 1.098943e-08 | 16.82461 |\n",
       "| ENSG00000088882 | ENSG00000088882 | 56265 | CPXM1    | 5.364768 | 3.981579 | 24.04247 | 1.273973e-11 | 1.114764e-08 | 16.79452 |\n",
       "| ENSG00000157350 | ENSG00000157350 | 6483  | ST3GAL2  | 5.683146 | 1.902514 | 24.41451 | 1.060756e-11 | 1.098943e-08 | 16.72620 |\n",
       "\n"
      ],
      "text/plain": [
       "                genes           ENTREZID SYMBOL   logFC    AveExpr  t       \n",
       "ENSG00000105063 ENSG00000105063 22870    PPP6R1   7.018382 2.957764 32.87218\n",
       "ENSG00000104852 ENSG00000104852 6625     SNRNP70  6.757671 2.648825 28.51591\n",
       "ENSG00000180448 ENSG00000180448 23526    ARHGAP45 6.615214 2.657778 25.95630\n",
       "ENSG00000141959 ENSG00000141959 5211     PFKL     5.732041 3.795635 24.93782\n",
       "ENSG00000112787 ENSG00000112787 57666    FBRSL1   6.021483 2.020909 25.27599\n",
       "ENSG00000076928 ENSG00000076928 9138     ARHGEF1  6.732325 2.517258 24.85691\n",
       "ENSG00000136490 ENSG00000136490 80774    LIMD2    6.911630 3.516574 24.59753\n",
       "ENSG00000188486 ENSG00000188486 3014     H2AFX    5.708328 2.141790 24.56615\n",
       "ENSG00000088882 ENSG00000088882 56265    CPXM1    5.364768 3.981579 24.04247\n",
       "ENSG00000157350 ENSG00000157350 6483     ST3GAL2  5.683146 1.902514 24.41451\n",
       "                P.Value      adj.P.Val    B       \n",
       "ENSG00000105063 3.001035e-13 2.798165e-09 19.62511\n",
       "ENSG00000104852 1.655354e-12 7.717262e-09 18.33284\n",
       "ENSG00000180448 5.104640e-12 1.098943e-08 17.45111\n",
       "ENSG00000141959 8.235349e-12 1.098943e-08 17.14976\n",
       "ENSG00000112787 7.011622e-12 1.098943e-08 17.10455\n",
       "ENSG00000076928 8.561151e-12 1.098943e-08 17.02425\n",
       "ENSG00000136490 9.703121e-12 1.098943e-08 17.00411\n",
       "ENSG00000188486 9.852087e-12 1.098943e-08 16.82461\n",
       "ENSG00000088882 1.273973e-11 1.114764e-08 16.79452\n",
       "ENSG00000157350 1.060756e-11 1.098943e-08 16.72620"
      ]
     },
     "metadata": {},
     "output_type": "display_data"
    },
    {
     "data": {
      "text/plain": [
       "       ET - AgedBoneMarrowCtrl\n",
       "Down                      2302\n",
       "NotSig                    4016\n",
       "Up                        3006"
      ]
     },
     "metadata": {},
     "output_type": "display_data"
    },
    {
     "data": {
      "text/html": [
       "5308"
      ],
      "text/latex": [
       "5308"
      ],
      "text/markdown": [
       "5308"
      ],
      "text/plain": [
       "[1] 5308"
      ]
     },
     "metadata": {},
     "output_type": "display_data"
    }
   ],
   "source": [
    "samples.tmp <- x.ABM.ET.PB$sample$Sample.type\n",
    "table(samples.tmp)\n",
    "samples.ABM.ET.PB <- as.factor(samples.tmp)\n",
    "design.ABM.ET.PB <- model.matrix(~0 + samples.ABM.ET.PB)\n",
    "colnames(design.ABM.ET.PB) <- c(\"AgedBoneMarrowCtrl\", \"ET\")\n",
    "celltypes.ABM.ET.PB <- as.factor(as.character(x.ABM.ET.PB$sample$CellType))\n",
    "cm.ABM.ET.PB <- makeContrasts(ET-AgedBoneMarrowCtrl, levels=design.ABM.ET.PB)\n",
    "v.ABM.ET.PB <- voom(x.ABM.ET.PB, design.ABM.ET.PB, plot=FALSE)\n",
    "vfit.ABM.ET.PB <- lmFit(v.ABM.ET.PB,design.ABM.ET.PB)\n",
    "vfit.ABM.ET.PB <- contrasts.fit(vfit.ABM.ET.PB, contrasts=cm.ABM.ET.PB)\n",
    "efit.ABM.ET.PB <- eBayes(vfit.ABM.ET.PB)\n",
    "topTable(efit.ABM.ET.PB, coef=1)\n",
    "dt.ABM.ET.PB <- decideTests(efit.ABM.ET.PB)\n",
    "summary(dt.ABM.ET.PB)\n",
    "length(which(dt.ABM.ET.PB!=0))\n",
    "\n",
    "topTable.ABM.ET.PB <- topTreat(efit.ABM.ET.PB, coef=1, n=Inf, sort.by=\"p\")\n",
    "#write.csv(topTable.ABM.ET.PB, file=\"LImma_DE_AgedBMvsET_Prog_Holm_Jamieson_RNASeq_TCW.csv\")"
   ]
  },
  {
   "cell_type": "code",
   "execution_count": 32,
   "metadata": {},
   "outputs": [
    {
     "data": {
      "text/plain": [
       "samples.tmp\n",
       "Aged normal bone marrow                      PV \n",
       "                      8                       6 "
      ]
     },
     "metadata": {},
     "output_type": "display_data"
    },
    {
     "data": {
      "text/html": [
       "<table>\n",
       "<caption>A data.frame: 10 × 9</caption>\n",
       "<thead>\n",
       "\t<tr><th></th><th scope=col>genes</th><th scope=col>ENTREZID</th><th scope=col>SYMBOL</th><th scope=col>logFC</th><th scope=col>AveExpr</th><th scope=col>t</th><th scope=col>P.Value</th><th scope=col>adj.P.Val</th><th scope=col>B</th></tr>\n",
       "\t<tr><th></th><th scope=col>&lt;chr&gt;</th><th scope=col>&lt;chr&gt;</th><th scope=col>&lt;chr&gt;</th><th scope=col>&lt;dbl&gt;</th><th scope=col>&lt;dbl&gt;</th><th scope=col>&lt;dbl&gt;</th><th scope=col>&lt;dbl&gt;</th><th scope=col>&lt;dbl&gt;</th><th scope=col>&lt;dbl&gt;</th></tr>\n",
       "</thead>\n",
       "<tbody>\n",
       "\t<tr><th scope=row>ENSG00000105063</th><td>ENSG00000105063</td><td>22870 </td><td>PPP6R1  </td><td> 6.892333</td><td> 4.621933</td><td> 29.22520</td><td>1.817628e-16</td><td>9.116792e-13</td><td>26.88701</td></tr>\n",
       "\t<tr><th scope=row>ENSG00000089820</th><td>ENSG00000089820</td><td>393   </td><td>ARHGAP4 </td><td> 6.293189</td><td> 4.818832</td><td> 28.77712</td><td>2.378661e-16</td><td>9.116792e-13</td><td>26.78856</td></tr>\n",
       "\t<tr><th scope=row>ENSG00000173020</th><td>ENSG00000173020</td><td>156   </td><td>GRK2    </td><td> 6.985151</td><td> 5.637392</td><td> 28.31019</td><td>3.161893e-16</td><td>9.116792e-13</td><td>26.69692</td></tr>\n",
       "\t<tr><th scope=row>ENSG00000185198</th><td>ENSG00000185198</td><td>400668</td><td>PRSS57  </td><td> 6.328459</td><td> 6.093612</td><td> 26.28802</td><td>1.145152e-15</td><td>1.650928e-12</td><td>25.72690</td></tr>\n",
       "\t<tr><th scope=row>ENSG00000157637</th><td>ENSG00000157637</td><td>124565</td><td>SLC38A10</td><td> 6.646930</td><td> 3.916490</td><td> 27.07928</td><td>6.845821e-16</td><td>1.480409e-12</td><td>25.66610</td></tr>\n",
       "\t<tr><th scope=row>ENSG00000149091</th><td>ENSG00000149091</td><td>8525  </td><td>DGKZ    </td><td> 6.154899</td><td> 4.224680</td><td> 26.61201</td><td>9.259999e-16</td><td>1.601980e-12</td><td>25.51904</td></tr>\n",
       "\t<tr><th scope=row>ENSG00000141959</th><td>ENSG00000141959</td><td>5211  </td><td>PFKL    </td><td> 5.924473</td><td> 5.304696</td><td> 25.91685</td><td>1.465182e-15</td><td>1.810546e-12</td><td>25.39029</td></tr>\n",
       "\t<tr><th scope=row>ENSG00000124193</th><td>ENSG00000124193</td><td>6431  </td><td>SRSF6   </td><td>-4.064409</td><td>10.578631</td><td>-25.11154</td><td>2.530524e-15</td><td>2.379061e-12</td><td>25.36946</td></tr>\n",
       "\t<tr><th scope=row>ENSG00000104852</th><td>ENSG00000104852</td><td>6625  </td><td>SNRNP70 </td><td> 7.039541</td><td> 4.425795</td><td> 25.05130</td><td>2.637848e-15</td><td>2.379061e-12</td><td>24.62016</td></tr>\n",
       "\t<tr><th scope=row>ENSG00000180448</th><td>ENSG00000180448</td><td>23526 </td><td>ARHGAP45</td><td> 6.870806</td><td> 4.390032</td><td> 24.99087</td><td>2.750359e-15</td><td>2.379061e-12</td><td>24.58937</td></tr>\n",
       "</tbody>\n",
       "</table>\n"
      ],
      "text/latex": [
       "A data.frame: 10 × 9\n",
       "\\begin{tabular}{r|lllllllll}\n",
       "  & genes & ENTREZID & SYMBOL & logFC & AveExpr & t & P.Value & adj.P.Val & B\\\\\n",
       "  & <chr> & <chr> & <chr> & <dbl> & <dbl> & <dbl> & <dbl> & <dbl> & <dbl>\\\\\n",
       "\\hline\n",
       "\tENSG00000105063 & ENSG00000105063 & 22870  & PPP6R1   &  6.892333 &  4.621933 &  29.22520 & 1.817628e-16 & 9.116792e-13 & 26.88701\\\\\n",
       "\tENSG00000089820 & ENSG00000089820 & 393    & ARHGAP4  &  6.293189 &  4.818832 &  28.77712 & 2.378661e-16 & 9.116792e-13 & 26.78856\\\\\n",
       "\tENSG00000173020 & ENSG00000173020 & 156    & GRK2     &  6.985151 &  5.637392 &  28.31019 & 3.161893e-16 & 9.116792e-13 & 26.69692\\\\\n",
       "\tENSG00000185198 & ENSG00000185198 & 400668 & PRSS57   &  6.328459 &  6.093612 &  26.28802 & 1.145152e-15 & 1.650928e-12 & 25.72690\\\\\n",
       "\tENSG00000157637 & ENSG00000157637 & 124565 & SLC38A10 &  6.646930 &  3.916490 &  27.07928 & 6.845821e-16 & 1.480409e-12 & 25.66610\\\\\n",
       "\tENSG00000149091 & ENSG00000149091 & 8525   & DGKZ     &  6.154899 &  4.224680 &  26.61201 & 9.259999e-16 & 1.601980e-12 & 25.51904\\\\\n",
       "\tENSG00000141959 & ENSG00000141959 & 5211   & PFKL     &  5.924473 &  5.304696 &  25.91685 & 1.465182e-15 & 1.810546e-12 & 25.39029\\\\\n",
       "\tENSG00000124193 & ENSG00000124193 & 6431   & SRSF6    & -4.064409 & 10.578631 & -25.11154 & 2.530524e-15 & 2.379061e-12 & 25.36946\\\\\n",
       "\tENSG00000104852 & ENSG00000104852 & 6625   & SNRNP70  &  7.039541 &  4.425795 &  25.05130 & 2.637848e-15 & 2.379061e-12 & 24.62016\\\\\n",
       "\tENSG00000180448 & ENSG00000180448 & 23526  & ARHGAP45 &  6.870806 &  4.390032 &  24.99087 & 2.750359e-15 & 2.379061e-12 & 24.58937\\\\\n",
       "\\end{tabular}\n"
      ],
      "text/markdown": [
       "\n",
       "A data.frame: 10 × 9\n",
       "\n",
       "| <!--/--> | genes &lt;chr&gt; | ENTREZID &lt;chr&gt; | SYMBOL &lt;chr&gt; | logFC &lt;dbl&gt; | AveExpr &lt;dbl&gt; | t &lt;dbl&gt; | P.Value &lt;dbl&gt; | adj.P.Val &lt;dbl&gt; | B &lt;dbl&gt; |\n",
       "|---|---|---|---|---|---|---|---|---|---|\n",
       "| ENSG00000105063 | ENSG00000105063 | 22870  | PPP6R1   |  6.892333 |  4.621933 |  29.22520 | 1.817628e-16 | 9.116792e-13 | 26.88701 |\n",
       "| ENSG00000089820 | ENSG00000089820 | 393    | ARHGAP4  |  6.293189 |  4.818832 |  28.77712 | 2.378661e-16 | 9.116792e-13 | 26.78856 |\n",
       "| ENSG00000173020 | ENSG00000173020 | 156    | GRK2     |  6.985151 |  5.637392 |  28.31019 | 3.161893e-16 | 9.116792e-13 | 26.69692 |\n",
       "| ENSG00000185198 | ENSG00000185198 | 400668 | PRSS57   |  6.328459 |  6.093612 |  26.28802 | 1.145152e-15 | 1.650928e-12 | 25.72690 |\n",
       "| ENSG00000157637 | ENSG00000157637 | 124565 | SLC38A10 |  6.646930 |  3.916490 |  27.07928 | 6.845821e-16 | 1.480409e-12 | 25.66610 |\n",
       "| ENSG00000149091 | ENSG00000149091 | 8525   | DGKZ     |  6.154899 |  4.224680 |  26.61201 | 9.259999e-16 | 1.601980e-12 | 25.51904 |\n",
       "| ENSG00000141959 | ENSG00000141959 | 5211   | PFKL     |  5.924473 |  5.304696 |  25.91685 | 1.465182e-15 | 1.810546e-12 | 25.39029 |\n",
       "| ENSG00000124193 | ENSG00000124193 | 6431   | SRSF6    | -4.064409 | 10.578631 | -25.11154 | 2.530524e-15 | 2.379061e-12 | 25.36946 |\n",
       "| ENSG00000104852 | ENSG00000104852 | 6625   | SNRNP70  |  7.039541 |  4.425795 |  25.05130 | 2.637848e-15 | 2.379061e-12 | 24.62016 |\n",
       "| ENSG00000180448 | ENSG00000180448 | 23526  | ARHGAP45 |  6.870806 |  4.390032 |  24.99087 | 2.750359e-15 | 2.379061e-12 | 24.58937 |\n",
       "\n"
      ],
      "text/plain": [
       "                genes           ENTREZID SYMBOL   logFC     AveExpr   t        \n",
       "ENSG00000105063 ENSG00000105063 22870    PPP6R1    6.892333  4.621933  29.22520\n",
       "ENSG00000089820 ENSG00000089820 393      ARHGAP4   6.293189  4.818832  28.77712\n",
       "ENSG00000173020 ENSG00000173020 156      GRK2      6.985151  5.637392  28.31019\n",
       "ENSG00000185198 ENSG00000185198 400668   PRSS57    6.328459  6.093612  26.28802\n",
       "ENSG00000157637 ENSG00000157637 124565   SLC38A10  6.646930  3.916490  27.07928\n",
       "ENSG00000149091 ENSG00000149091 8525     DGKZ      6.154899  4.224680  26.61201\n",
       "ENSG00000141959 ENSG00000141959 5211     PFKL      5.924473  5.304696  25.91685\n",
       "ENSG00000124193 ENSG00000124193 6431     SRSF6    -4.064409 10.578631 -25.11154\n",
       "ENSG00000104852 ENSG00000104852 6625     SNRNP70   7.039541  4.425795  25.05130\n",
       "ENSG00000180448 ENSG00000180448 23526    ARHGAP45  6.870806  4.390032  24.99087\n",
       "                P.Value      adj.P.Val    B       \n",
       "ENSG00000105063 1.817628e-16 9.116792e-13 26.88701\n",
       "ENSG00000089820 2.378661e-16 9.116792e-13 26.78856\n",
       "ENSG00000173020 3.161893e-16 9.116792e-13 26.69692\n",
       "ENSG00000185198 1.145152e-15 1.650928e-12 25.72690\n",
       "ENSG00000157637 6.845821e-16 1.480409e-12 25.66610\n",
       "ENSG00000149091 9.259999e-16 1.601980e-12 25.51904\n",
       "ENSG00000141959 1.465182e-15 1.810546e-12 25.39029\n",
       "ENSG00000124193 2.530524e-15 2.379061e-12 25.36946\n",
       "ENSG00000104852 2.637848e-15 2.379061e-12 24.62016\n",
       "ENSG00000180448 2.750359e-15 2.379061e-12 24.58937"
      ]
     },
     "metadata": {},
     "output_type": "display_data"
    },
    {
     "data": {
      "text/plain": [
       "       PV - AgedBoneMarrowCtrl\n",
       "Down                      2895\n",
       "NotSig                    2666\n",
       "Up                        3089"
      ]
     },
     "metadata": {},
     "output_type": "display_data"
    },
    {
     "data": {
      "text/html": [
       "5984"
      ],
      "text/latex": [
       "5984"
      ],
      "text/markdown": [
       "5984"
      ],
      "text/plain": [
       "[1] 5984"
      ]
     },
     "metadata": {},
     "output_type": "display_data"
    }
   ],
   "source": [
    "samples.tmp <- x.ABM.PV.PB$sample$Sample.type\n",
    "table(samples.tmp)\n",
    "samples.ABM.PV.PB <- as.factor(samples.tmp)\n",
    "design.ABM.PV.PB <- model.matrix(~0 + samples.ABM.PV.PB)\n",
    "colnames(design.ABM.PV.PB) <- c(\"AgedBoneMarrowCtrl\", \"PV\")\n",
    "cm.ABM.PV.PB <- makeContrasts(PV-AgedBoneMarrowCtrl, levels=design.ABM.PV.PB)\n",
    "v.ABM.PV.PB <- voom(x.ABM.PV.PB, design.ABM.PV.PB, plot=FALSE)\n",
    "vfit.ABM.PV.PB <- lmFit(v.ABM.PV.PB,design.ABM.PV.PB)\n",
    "vfit.ABM.PV.PB <- contrasts.fit(vfit.ABM.PV.PB, contrasts=cm.ABM.PV.PB)\n",
    "efit.ABM.PV.PB <- eBayes(vfit.ABM.PV.PB)\n",
    "topTable(efit.ABM.PV.PB, coef=1)\n",
    "dt.ABM.PV.PB <- decideTests(efit.ABM.PV.PB)\n",
    "summary(dt.ABM.PV.PB)\n",
    "length(which(dt.ABM.PV.PB!=0))\n",
    "topTable.ABM.PV.PB <- topTreat(efit.ABM.PV.PB, coef=1, n=Inf, sort.by=\"p\")\n",
    "#write.csv(topTable.ABM.PV.PB, file=\"Limma_DE_AgedBMvsPV_Prog_Holm_Jamieson_RNASeq_TCW.csv\")"
   ]
  },
  {
   "cell_type": "code",
   "execution_count": 33,
   "metadata": {},
   "outputs": [
    {
     "data": {
      "text/plain": [
       "samples.tmp\n",
       "Aged normal bone marrow                      MF \n",
       "                      8                      24 "
      ]
     },
     "metadata": {},
     "output_type": "display_data"
    },
    {
     "data": {
      "text/html": [
       "<table>\n",
       "<caption>A data.frame: 10 × 9</caption>\n",
       "<thead>\n",
       "\t<tr><th></th><th scope=col>genes</th><th scope=col>ENTREZID</th><th scope=col>SYMBOL</th><th scope=col>logFC</th><th scope=col>AveExpr</th><th scope=col>t</th><th scope=col>P.Value</th><th scope=col>adj.P.Val</th><th scope=col>B</th></tr>\n",
       "\t<tr><th></th><th scope=col>&lt;chr&gt;</th><th scope=col>&lt;chr&gt;</th><th scope=col>&lt;chr&gt;</th><th scope=col>&lt;dbl&gt;</th><th scope=col>&lt;dbl&gt;</th><th scope=col>&lt;dbl&gt;</th><th scope=col>&lt;dbl&gt;</th><th scope=col>&lt;dbl&gt;</th><th scope=col>&lt;dbl&gt;</th></tr>\n",
       "</thead>\n",
       "<tbody>\n",
       "\t<tr><th scope=row>ENSG00000112308</th><td>ENSG00000112308</td><td>81688 </td><td>C6orf62 </td><td>-4.450732</td><td>8.662310</td><td>-36.47492</td><td>2.350866e-29</td><td>2.833969e-25</td><td>56.56812</td></tr>\n",
       "\t<tr><th scope=row>ENSG00000124193</th><td>ENSG00000124193</td><td>6431  </td><td>SRSF6   </td><td>-4.346083</td><td>9.247474</td><td>-32.69580</td><td>9.575039e-28</td><td>5.771355e-24</td><td>53.06591</td></tr>\n",
       "\t<tr><th scope=row>ENSG00000171862</th><td>ENSG00000171862</td><td>5728  </td><td>PTEN    </td><td>-3.395091</td><td>8.314070</td><td>-30.93375</td><td>6.202351e-27</td><td>2.492311e-23</td><td>51.26094</td></tr>\n",
       "\t<tr><th scope=row>ENSG00000169905</th><td>ENSG00000169905</td><td>163590</td><td>TOR1AIP2</td><td>-3.774272</td><td>6.191549</td><td>-26.93336</td><td>6.408128e-25</td><td>1.545000e-21</td><td>46.70267</td></tr>\n",
       "\t<tr><th scope=row>ENSG00000009780</th><td>ENSG00000009780</td><td>199870</td><td>FAM76A  </td><td>-3.853728</td><td>4.319172</td><td>-27.12903</td><td>5.035080e-25</td><td>1.517447e-21</td><td>46.55321</td></tr>\n",
       "\t<tr><th scope=row>ENSG00000107951</th><td>ENSG00000107951</td><td>55149 </td><td>MTPAP   </td><td>-4.224144</td><td>6.568696</td><td>-26.28760</td><td>1.436575e-24</td><td>2.886318e-21</td><td>45.93866</td></tr>\n",
       "\t<tr><th scope=row>ENSG00000069275</th><td>ENSG00000069275</td><td>64710 </td><td>NUCKS1  </td><td>-3.536677</td><td>7.987407</td><td>-25.75101</td><td>2.848676e-24</td><td>4.521167e-21</td><td>45.30867</td></tr>\n",
       "\t<tr><th scope=row>ENSG00000187446</th><td>ENSG00000187446</td><td>11261 </td><td>CHP1    </td><td>-4.182877</td><td>7.217865</td><td>-25.66736</td><td>3.173224e-24</td><td>4.521167e-21</td><td>45.18879</td></tr>\n",
       "\t<tr><th scope=row>ENSG00000168092</th><td>ENSG00000168092</td><td>5049  </td><td>PAFAH1B2</td><td>-3.958651</td><td>7.658965</td><td>-25.61957</td><td>3.375404e-24</td><td>4.521167e-21</td><td>45.13779</td></tr>\n",
       "\t<tr><th scope=row>ENSG00000116489</th><td>ENSG00000116489</td><td>829   </td><td>CAPZA1  </td><td>-3.137096</td><td>8.555632</td><td>-25.25272</td><td>5.442472e-24</td><td>6.560900e-21</td><td>44.67964</td></tr>\n",
       "</tbody>\n",
       "</table>\n"
      ],
      "text/latex": [
       "A data.frame: 10 × 9\n",
       "\\begin{tabular}{r|lllllllll}\n",
       "  & genes & ENTREZID & SYMBOL & logFC & AveExpr & t & P.Value & adj.P.Val & B\\\\\n",
       "  & <chr> & <chr> & <chr> & <dbl> & <dbl> & <dbl> & <dbl> & <dbl> & <dbl>\\\\\n",
       "\\hline\n",
       "\tENSG00000112308 & ENSG00000112308 & 81688  & C6orf62  & -4.450732 & 8.662310 & -36.47492 & 2.350866e-29 & 2.833969e-25 & 56.56812\\\\\n",
       "\tENSG00000124193 & ENSG00000124193 & 6431   & SRSF6    & -4.346083 & 9.247474 & -32.69580 & 9.575039e-28 & 5.771355e-24 & 53.06591\\\\\n",
       "\tENSG00000171862 & ENSG00000171862 & 5728   & PTEN     & -3.395091 & 8.314070 & -30.93375 & 6.202351e-27 & 2.492311e-23 & 51.26094\\\\\n",
       "\tENSG00000169905 & ENSG00000169905 & 163590 & TOR1AIP2 & -3.774272 & 6.191549 & -26.93336 & 6.408128e-25 & 1.545000e-21 & 46.70267\\\\\n",
       "\tENSG00000009780 & ENSG00000009780 & 199870 & FAM76A   & -3.853728 & 4.319172 & -27.12903 & 5.035080e-25 & 1.517447e-21 & 46.55321\\\\\n",
       "\tENSG00000107951 & ENSG00000107951 & 55149  & MTPAP    & -4.224144 & 6.568696 & -26.28760 & 1.436575e-24 & 2.886318e-21 & 45.93866\\\\\n",
       "\tENSG00000069275 & ENSG00000069275 & 64710  & NUCKS1   & -3.536677 & 7.987407 & -25.75101 & 2.848676e-24 & 4.521167e-21 & 45.30867\\\\\n",
       "\tENSG00000187446 & ENSG00000187446 & 11261  & CHP1     & -4.182877 & 7.217865 & -25.66736 & 3.173224e-24 & 4.521167e-21 & 45.18879\\\\\n",
       "\tENSG00000168092 & ENSG00000168092 & 5049   & PAFAH1B2 & -3.958651 & 7.658965 & -25.61957 & 3.375404e-24 & 4.521167e-21 & 45.13779\\\\\n",
       "\tENSG00000116489 & ENSG00000116489 & 829    & CAPZA1   & -3.137096 & 8.555632 & -25.25272 & 5.442472e-24 & 6.560900e-21 & 44.67964\\\\\n",
       "\\end{tabular}\n"
      ],
      "text/markdown": [
       "\n",
       "A data.frame: 10 × 9\n",
       "\n",
       "| <!--/--> | genes &lt;chr&gt; | ENTREZID &lt;chr&gt; | SYMBOL &lt;chr&gt; | logFC &lt;dbl&gt; | AveExpr &lt;dbl&gt; | t &lt;dbl&gt; | P.Value &lt;dbl&gt; | adj.P.Val &lt;dbl&gt; | B &lt;dbl&gt; |\n",
       "|---|---|---|---|---|---|---|---|---|---|\n",
       "| ENSG00000112308 | ENSG00000112308 | 81688  | C6orf62  | -4.450732 | 8.662310 | -36.47492 | 2.350866e-29 | 2.833969e-25 | 56.56812 |\n",
       "| ENSG00000124193 | ENSG00000124193 | 6431   | SRSF6    | -4.346083 | 9.247474 | -32.69580 | 9.575039e-28 | 5.771355e-24 | 53.06591 |\n",
       "| ENSG00000171862 | ENSG00000171862 | 5728   | PTEN     | -3.395091 | 8.314070 | -30.93375 | 6.202351e-27 | 2.492311e-23 | 51.26094 |\n",
       "| ENSG00000169905 | ENSG00000169905 | 163590 | TOR1AIP2 | -3.774272 | 6.191549 | -26.93336 | 6.408128e-25 | 1.545000e-21 | 46.70267 |\n",
       "| ENSG00000009780 | ENSG00000009780 | 199870 | FAM76A   | -3.853728 | 4.319172 | -27.12903 | 5.035080e-25 | 1.517447e-21 | 46.55321 |\n",
       "| ENSG00000107951 | ENSG00000107951 | 55149  | MTPAP    | -4.224144 | 6.568696 | -26.28760 | 1.436575e-24 | 2.886318e-21 | 45.93866 |\n",
       "| ENSG00000069275 | ENSG00000069275 | 64710  | NUCKS1   | -3.536677 | 7.987407 | -25.75101 | 2.848676e-24 | 4.521167e-21 | 45.30867 |\n",
       "| ENSG00000187446 | ENSG00000187446 | 11261  | CHP1     | -4.182877 | 7.217865 | -25.66736 | 3.173224e-24 | 4.521167e-21 | 45.18879 |\n",
       "| ENSG00000168092 | ENSG00000168092 | 5049   | PAFAH1B2 | -3.958651 | 7.658965 | -25.61957 | 3.375404e-24 | 4.521167e-21 | 45.13779 |\n",
       "| ENSG00000116489 | ENSG00000116489 | 829    | CAPZA1   | -3.137096 | 8.555632 | -25.25272 | 5.442472e-24 | 6.560900e-21 | 44.67964 |\n",
       "\n"
      ],
      "text/plain": [
       "                genes           ENTREZID SYMBOL   logFC     AveExpr  t        \n",
       "ENSG00000112308 ENSG00000112308 81688    C6orf62  -4.450732 8.662310 -36.47492\n",
       "ENSG00000124193 ENSG00000124193 6431     SRSF6    -4.346083 9.247474 -32.69580\n",
       "ENSG00000171862 ENSG00000171862 5728     PTEN     -3.395091 8.314070 -30.93375\n",
       "ENSG00000169905 ENSG00000169905 163590   TOR1AIP2 -3.774272 6.191549 -26.93336\n",
       "ENSG00000009780 ENSG00000009780 199870   FAM76A   -3.853728 4.319172 -27.12903\n",
       "ENSG00000107951 ENSG00000107951 55149    MTPAP    -4.224144 6.568696 -26.28760\n",
       "ENSG00000069275 ENSG00000069275 64710    NUCKS1   -3.536677 7.987407 -25.75101\n",
       "ENSG00000187446 ENSG00000187446 11261    CHP1     -4.182877 7.217865 -25.66736\n",
       "ENSG00000168092 ENSG00000168092 5049     PAFAH1B2 -3.958651 7.658965 -25.61957\n",
       "ENSG00000116489 ENSG00000116489 829      CAPZA1   -3.137096 8.555632 -25.25272\n",
       "                P.Value      adj.P.Val    B       \n",
       "ENSG00000112308 2.350866e-29 2.833969e-25 56.56812\n",
       "ENSG00000124193 9.575039e-28 5.771355e-24 53.06591\n",
       "ENSG00000171862 6.202351e-27 2.492311e-23 51.26094\n",
       "ENSG00000169905 6.408128e-25 1.545000e-21 46.70267\n",
       "ENSG00000009780 5.035080e-25 1.517447e-21 46.55321\n",
       "ENSG00000107951 1.436575e-24 2.886318e-21 45.93866\n",
       "ENSG00000069275 2.848676e-24 4.521167e-21 45.30867\n",
       "ENSG00000187446 3.173224e-24 4.521167e-21 45.18879\n",
       "ENSG00000168092 3.375404e-24 4.521167e-21 45.13779\n",
       "ENSG00000116489 5.442472e-24 6.560900e-21 44.67964"
      ]
     },
     "metadata": {},
     "output_type": "display_data"
    },
    {
     "data": {
      "text/plain": [
       "       MF - AgedBoneMarrowCtrl\n",
       "Down                      4444\n",
       "NotSig                    3189\n",
       "Up                        4422"
      ]
     },
     "metadata": {},
     "output_type": "display_data"
    },
    {
     "data": {
      "text/html": [
       "8866"
      ],
      "text/latex": [
       "8866"
      ],
      "text/markdown": [
       "8866"
      ],
      "text/plain": [
       "[1] 8866"
      ]
     },
     "metadata": {},
     "output_type": "display_data"
    }
   ],
   "source": [
    "samples.tmp <- x.ABM.MF.PB$sample$Sample.type\n",
    "table(samples.tmp)\n",
    "samples.ABM.MF.PB <- as.factor(samples.tmp)\n",
    "design.ABM.MF.PB <- model.matrix(~0 + samples.ABM.MF.PB)\n",
    "colnames(design.ABM.MF.PB) <- c(\"AgedBoneMarrowCtrl\", \"MF\")\n",
    "cm.ABM.MF.PB <- makeContrasts(MF-AgedBoneMarrowCtrl, levels=design.ABM.MF.PB)\n",
    "v.ABM.MF.PB <- voom(x.ABM.MF.PB, design.ABM.MF.PB, plot=FALSE)\n",
    "vfit.ABM.MF.PB <- lmFit(v.ABM.MF.PB,design.ABM.MF.PB)\n",
    "vfit.ABM.MF.PB <- contrasts.fit(vfit.ABM.MF.PB, contrasts=cm.ABM.MF.PB)\n",
    "efit.ABM.MF.PB <- eBayes(vfit.ABM.MF.PB)\n",
    "topTable(efit.ABM.MF.PB, coef=1)\n",
    "dt.ABM.MF.PB <- decideTests(efit.ABM.MF.PB)\n",
    "summary(dt.ABM.MF.PB)\n",
    "length(which(dt.ABM.MF.PB!=0))\n",
    "topTable.ABM.MF.PB <- topTreat(efit.ABM.MF.PB, coef=1, n=Inf, sort.by=\"p\")\n",
    "#write.csv(topTable.ABM.MF.PB, file=\"LImma_DE_AgedBMvsMF_Prog_Holm_Jamieson_RNASeq_TCW.csv\")"
   ]
  },
  {
   "cell_type": "code",
   "execution_count": 34,
   "metadata": {},
   "outputs": [
    {
     "data": {
      "text/plain": [
       "samples.tmp\n",
       "Aged normal bone marrow                     CML \n",
       "                      8                       5 "
      ]
     },
     "metadata": {},
     "output_type": "display_data"
    },
    {
     "data": {
      "text/html": [
       "<table>\n",
       "<caption>A data.frame: 10 × 9</caption>\n",
       "<thead>\n",
       "\t<tr><th></th><th scope=col>genes</th><th scope=col>ENTREZID</th><th scope=col>SYMBOL</th><th scope=col>logFC</th><th scope=col>AveExpr</th><th scope=col>t</th><th scope=col>P.Value</th><th scope=col>adj.P.Val</th><th scope=col>B</th></tr>\n",
       "\t<tr><th></th><th scope=col>&lt;chr&gt;</th><th scope=col>&lt;chr&gt;</th><th scope=col>&lt;chr&gt;</th><th scope=col>&lt;dbl&gt;</th><th scope=col>&lt;dbl&gt;</th><th scope=col>&lt;dbl&gt;</th><th scope=col>&lt;dbl&gt;</th><th scope=col>&lt;dbl&gt;</th><th scope=col>&lt;dbl&gt;</th></tr>\n",
       "</thead>\n",
       "<tbody>\n",
       "\t<tr><th scope=row>ENSG00000196924</th><td>ENSG00000196924</td><td>2316 </td><td>FLNA   </td><td>7.262436</td><td>5.125063</td><td>39.38393</td><td>7.924785e-17</td><td>7.201252e-13</td><td>27.58100</td></tr>\n",
       "\t<tr><th scope=row>ENSG00000105063</th><td>ENSG00000105063</td><td>22870</td><td>PPP6R1 </td><td>7.259667</td><td>4.444524</td><td>36.45360</td><td>2.562999e-16</td><td>1.164499e-12</td><td>26.52183</td></tr>\n",
       "\t<tr><th scope=row>ENSG00000104852</th><td>ENSG00000104852</td><td>6625 </td><td>SNRNP70</td><td>7.006954</td><td>4.087444</td><td>34.79713</td><td>5.187557e-16</td><td>1.571311e-12</td><td>25.92935</td></tr>\n",
       "\t<tr><th scope=row>ENSG00000133243</th><td>ENSG00000133243</td><td>55643</td><td>BTBD2  </td><td>6.646253</td><td>3.322905</td><td>33.61158</td><td>8.769848e-16</td><td>1.992290e-12</td><td>25.44236</td></tr>\n",
       "\t<tr><th scope=row>ENSG00000079999</th><td>ENSG00000079999</td><td>9817 </td><td>KEAP1  </td><td>4.770763</td><td>4.403169</td><td>31.10103</td><td>2.837359e-15</td><td>3.171202e-12</td><td>24.78140</td></tr>\n",
       "\t<tr><th scope=row>ENSG00000088882</th><td>ENSG00000088882</td><td>56265</td><td>CPXM1  </td><td>5.459389</td><td>5.103849</td><td>30.89253</td><td>3.140841e-15</td><td>3.171202e-12</td><td>24.77483</td></tr>\n",
       "\t<tr><th scope=row>ENSG00000149091</th><td>ENSG00000149091</td><td>8525 </td><td>DGKZ   </td><td>5.931806</td><td>3.852038</td><td>31.15060</td><td>2.769902e-15</td><td>3.171202e-12</td><td>24.62424</td></tr>\n",
       "\t<tr><th scope=row>ENSG00000157350</th><td>ENSG00000157350</td><td>6483 </td><td>ST3GAL2</td><td>5.795419</td><td>3.093739</td><td>31.13717</td><td>2.787999e-15</td><td>3.171202e-12</td><td>24.50256</td></tr>\n",
       "\t<tr><th scope=row>ENSG00000112787</th><td>ENSG00000112787</td><td>57666</td><td>FBRSL1 </td><td>6.205640</td><td>3.301120</td><td>30.99010</td><td>2.994736e-15</td><td>3.171202e-12</td><td>24.46720</td></tr>\n",
       "\t<tr><th scope=row>ENSG00000114650</th><td>ENSG00000114650</td><td>22937</td><td>SCAP   </td><td>4.901811</td><td>4.575798</td><td>30.25653</td><td>4.300029e-15</td><td>3.907436e-12</td><td>24.45231</td></tr>\n",
       "</tbody>\n",
       "</table>\n"
      ],
      "text/latex": [
       "A data.frame: 10 × 9\n",
       "\\begin{tabular}{r|lllllllll}\n",
       "  & genes & ENTREZID & SYMBOL & logFC & AveExpr & t & P.Value & adj.P.Val & B\\\\\n",
       "  & <chr> & <chr> & <chr> & <dbl> & <dbl> & <dbl> & <dbl> & <dbl> & <dbl>\\\\\n",
       "\\hline\n",
       "\tENSG00000196924 & ENSG00000196924 & 2316  & FLNA    & 7.262436 & 5.125063 & 39.38393 & 7.924785e-17 & 7.201252e-13 & 27.58100\\\\\n",
       "\tENSG00000105063 & ENSG00000105063 & 22870 & PPP6R1  & 7.259667 & 4.444524 & 36.45360 & 2.562999e-16 & 1.164499e-12 & 26.52183\\\\\n",
       "\tENSG00000104852 & ENSG00000104852 & 6625  & SNRNP70 & 7.006954 & 4.087444 & 34.79713 & 5.187557e-16 & 1.571311e-12 & 25.92935\\\\\n",
       "\tENSG00000133243 & ENSG00000133243 & 55643 & BTBD2   & 6.646253 & 3.322905 & 33.61158 & 8.769848e-16 & 1.992290e-12 & 25.44236\\\\\n",
       "\tENSG00000079999 & ENSG00000079999 & 9817  & KEAP1   & 4.770763 & 4.403169 & 31.10103 & 2.837359e-15 & 3.171202e-12 & 24.78140\\\\\n",
       "\tENSG00000088882 & ENSG00000088882 & 56265 & CPXM1   & 5.459389 & 5.103849 & 30.89253 & 3.140841e-15 & 3.171202e-12 & 24.77483\\\\\n",
       "\tENSG00000149091 & ENSG00000149091 & 8525  & DGKZ    & 5.931806 & 3.852038 & 31.15060 & 2.769902e-15 & 3.171202e-12 & 24.62424\\\\\n",
       "\tENSG00000157350 & ENSG00000157350 & 6483  & ST3GAL2 & 5.795419 & 3.093739 & 31.13717 & 2.787999e-15 & 3.171202e-12 & 24.50256\\\\\n",
       "\tENSG00000112787 & ENSG00000112787 & 57666 & FBRSL1  & 6.205640 & 3.301120 & 30.99010 & 2.994736e-15 & 3.171202e-12 & 24.46720\\\\\n",
       "\tENSG00000114650 & ENSG00000114650 & 22937 & SCAP    & 4.901811 & 4.575798 & 30.25653 & 4.300029e-15 & 3.907436e-12 & 24.45231\\\\\n",
       "\\end{tabular}\n"
      ],
      "text/markdown": [
       "\n",
       "A data.frame: 10 × 9\n",
       "\n",
       "| <!--/--> | genes &lt;chr&gt; | ENTREZID &lt;chr&gt; | SYMBOL &lt;chr&gt; | logFC &lt;dbl&gt; | AveExpr &lt;dbl&gt; | t &lt;dbl&gt; | P.Value &lt;dbl&gt; | adj.P.Val &lt;dbl&gt; | B &lt;dbl&gt; |\n",
       "|---|---|---|---|---|---|---|---|---|---|\n",
       "| ENSG00000196924 | ENSG00000196924 | 2316  | FLNA    | 7.262436 | 5.125063 | 39.38393 | 7.924785e-17 | 7.201252e-13 | 27.58100 |\n",
       "| ENSG00000105063 | ENSG00000105063 | 22870 | PPP6R1  | 7.259667 | 4.444524 | 36.45360 | 2.562999e-16 | 1.164499e-12 | 26.52183 |\n",
       "| ENSG00000104852 | ENSG00000104852 | 6625  | SNRNP70 | 7.006954 | 4.087444 | 34.79713 | 5.187557e-16 | 1.571311e-12 | 25.92935 |\n",
       "| ENSG00000133243 | ENSG00000133243 | 55643 | BTBD2   | 6.646253 | 3.322905 | 33.61158 | 8.769848e-16 | 1.992290e-12 | 25.44236 |\n",
       "| ENSG00000079999 | ENSG00000079999 | 9817  | KEAP1   | 4.770763 | 4.403169 | 31.10103 | 2.837359e-15 | 3.171202e-12 | 24.78140 |\n",
       "| ENSG00000088882 | ENSG00000088882 | 56265 | CPXM1   | 5.459389 | 5.103849 | 30.89253 | 3.140841e-15 | 3.171202e-12 | 24.77483 |\n",
       "| ENSG00000149091 | ENSG00000149091 | 8525  | DGKZ    | 5.931806 | 3.852038 | 31.15060 | 2.769902e-15 | 3.171202e-12 | 24.62424 |\n",
       "| ENSG00000157350 | ENSG00000157350 | 6483  | ST3GAL2 | 5.795419 | 3.093739 | 31.13717 | 2.787999e-15 | 3.171202e-12 | 24.50256 |\n",
       "| ENSG00000112787 | ENSG00000112787 | 57666 | FBRSL1  | 6.205640 | 3.301120 | 30.99010 | 2.994736e-15 | 3.171202e-12 | 24.46720 |\n",
       "| ENSG00000114650 | ENSG00000114650 | 22937 | SCAP    | 4.901811 | 4.575798 | 30.25653 | 4.300029e-15 | 3.907436e-12 | 24.45231 |\n",
       "\n"
      ],
      "text/plain": [
       "                genes           ENTREZID SYMBOL  logFC    AveExpr  t       \n",
       "ENSG00000196924 ENSG00000196924 2316     FLNA    7.262436 5.125063 39.38393\n",
       "ENSG00000105063 ENSG00000105063 22870    PPP6R1  7.259667 4.444524 36.45360\n",
       "ENSG00000104852 ENSG00000104852 6625     SNRNP70 7.006954 4.087444 34.79713\n",
       "ENSG00000133243 ENSG00000133243 55643    BTBD2   6.646253 3.322905 33.61158\n",
       "ENSG00000079999 ENSG00000079999 9817     KEAP1   4.770763 4.403169 31.10103\n",
       "ENSG00000088882 ENSG00000088882 56265    CPXM1   5.459389 5.103849 30.89253\n",
       "ENSG00000149091 ENSG00000149091 8525     DGKZ    5.931806 3.852038 31.15060\n",
       "ENSG00000157350 ENSG00000157350 6483     ST3GAL2 5.795419 3.093739 31.13717\n",
       "ENSG00000112787 ENSG00000112787 57666    FBRSL1  6.205640 3.301120 30.99010\n",
       "ENSG00000114650 ENSG00000114650 22937    SCAP    4.901811 4.575798 30.25653\n",
       "                P.Value      adj.P.Val    B       \n",
       "ENSG00000196924 7.924785e-17 7.201252e-13 27.58100\n",
       "ENSG00000105063 2.562999e-16 1.164499e-12 26.52183\n",
       "ENSG00000104852 5.187557e-16 1.571311e-12 25.92935\n",
       "ENSG00000133243 8.769848e-16 1.992290e-12 25.44236\n",
       "ENSG00000079999 2.837359e-15 3.171202e-12 24.78140\n",
       "ENSG00000088882 3.140841e-15 3.171202e-12 24.77483\n",
       "ENSG00000149091 2.769902e-15 3.171202e-12 24.62424\n",
       "ENSG00000157350 2.787999e-15 3.171202e-12 24.50256\n",
       "ENSG00000112787 2.994736e-15 3.171202e-12 24.46720\n",
       "ENSG00000114650 4.300029e-15 3.907436e-12 24.45231"
      ]
     },
     "metadata": {},
     "output_type": "display_data"
    },
    {
     "data": {
      "text/plain": [
       "       CML - AgedBoneMarrowCtrl\n",
       "Down                       3011\n",
       "NotSig                     2697\n",
       "Up                         3379"
      ]
     },
     "metadata": {},
     "output_type": "display_data"
    },
    {
     "data": {
      "text/html": [
       "6390"
      ],
      "text/latex": [
       "6390"
      ],
      "text/markdown": [
       "6390"
      ],
      "text/plain": [
       "[1] 6390"
      ]
     },
     "metadata": {},
     "output_type": "display_data"
    },
    {
     "data": {
      "text/html": [
       "<table>\n",
       "<caption>A data.frame: 7 × 9</caption>\n",
       "<thead>\n",
       "\t<tr><th></th><th scope=col>genes</th><th scope=col>ENTREZID</th><th scope=col>SYMBOL</th><th scope=col>logFC</th><th scope=col>AveExpr</th><th scope=col>t</th><th scope=col>P.Value</th><th scope=col>adj.P.Val</th><th scope=col>B</th></tr>\n",
       "\t<tr><th></th><th scope=col>&lt;chr&gt;</th><th scope=col>&lt;chr&gt;</th><th scope=col>&lt;chr&gt;</th><th scope=col>&lt;dbl&gt;</th><th scope=col>&lt;dbl&gt;</th><th scope=col>&lt;dbl&gt;</th><th scope=col>&lt;dbl&gt;</th><th scope=col>&lt;dbl&gt;</th><th scope=col>&lt;dbl&gt;</th></tr>\n",
       "</thead>\n",
       "<tbody>\n",
       "\t<tr><th scope=row>ENSG00000133895</th><td>ENSG00000133895</td><td>4221</td><td>MEN1 </td><td> 5.022381</td><td>4.016521</td><td> 25.855872</td><td>4.582793e-14</td><td>9.915200e-12</td><td>22.287923</td></tr>\n",
       "\t<tr><th scope=row>ENSG00000071564</th><td>ENSG00000071564</td><td>6929</td><td>TCF3 </td><td> 5.031569</td><td>4.723364</td><td> 17.678187</td><td>1.300001e-11</td><td>4.491676e-10</td><td>17.019550</td></tr>\n",
       "\t<tr><th scope=row>ENSG00000135679</th><td>ENSG00000135679</td><td>4193</td><td>MDM2 </td><td>-3.208464</td><td>7.262709</td><td>-17.602369</td><td>1.384520e-11</td><td>4.677000e-10</td><td>16.955322</td></tr>\n",
       "\t<tr><th scope=row>ENSG00000143294</th><td>ENSG00000143294</td><td>5546</td><td>PRCC </td><td> 2.277094</td><td>5.583853</td><td> 16.236567</td><td>4.501185e-11</td><td>1.079701e-09</td><td>15.777984</td></tr>\n",
       "\t<tr><th scope=row>ENSG00000140464</th><td>ENSG00000140464</td><td>5371</td><td>PML  </td><td> 3.481703</td><td>5.564995</td><td> 16.073118</td><td>5.214115e-11</td><td>1.205615e-09</td><td>15.635561</td></tr>\n",
       "\t<tr><th scope=row>ENSG00000136807</th><td>ENSG00000136807</td><td>1025</td><td>CDK9 </td><td> 2.612442</td><td>4.956515</td><td> 13.838991</td><td>4.498295e-10</td><td>6.734103e-09</td><td>13.469071</td></tr>\n",
       "\t<tr><th scope=row>ENSG00000143995</th><td>ENSG00000143995</td><td>4211</td><td>MEIS1</td><td>-2.723980</td><td>7.364445</td><td> -9.063296</td><td>1.500144e-07</td><td>8.573464e-07</td><td> 7.397989</td></tr>\n",
       "</tbody>\n",
       "</table>\n"
      ],
      "text/latex": [
       "A data.frame: 7 × 9\n",
       "\\begin{tabular}{r|lllllllll}\n",
       "  & genes & ENTREZID & SYMBOL & logFC & AveExpr & t & P.Value & adj.P.Val & B\\\\\n",
       "  & <chr> & <chr> & <chr> & <dbl> & <dbl> & <dbl> & <dbl> & <dbl> & <dbl>\\\\\n",
       "\\hline\n",
       "\tENSG00000133895 & ENSG00000133895 & 4221 & MEN1  &  5.022381 & 4.016521 &  25.855872 & 4.582793e-14 & 9.915200e-12 & 22.287923\\\\\n",
       "\tENSG00000071564 & ENSG00000071564 & 6929 & TCF3  &  5.031569 & 4.723364 &  17.678187 & 1.300001e-11 & 4.491676e-10 & 17.019550\\\\\n",
       "\tENSG00000135679 & ENSG00000135679 & 4193 & MDM2  & -3.208464 & 7.262709 & -17.602369 & 1.384520e-11 & 4.677000e-10 & 16.955322\\\\\n",
       "\tENSG00000143294 & ENSG00000143294 & 5546 & PRCC  &  2.277094 & 5.583853 &  16.236567 & 4.501185e-11 & 1.079701e-09 & 15.777984\\\\\n",
       "\tENSG00000140464 & ENSG00000140464 & 5371 & PML   &  3.481703 & 5.564995 &  16.073118 & 5.214115e-11 & 1.205615e-09 & 15.635561\\\\\n",
       "\tENSG00000136807 & ENSG00000136807 & 1025 & CDK9  &  2.612442 & 4.956515 &  13.838991 & 4.498295e-10 & 6.734103e-09 & 13.469071\\\\\n",
       "\tENSG00000143995 & ENSG00000143995 & 4211 & MEIS1 & -2.723980 & 7.364445 &  -9.063296 & 1.500144e-07 & 8.573464e-07 &  7.397989\\\\\n",
       "\\end{tabular}\n"
      ],
      "text/markdown": [
       "\n",
       "A data.frame: 7 × 9\n",
       "\n",
       "| <!--/--> | genes &lt;chr&gt; | ENTREZID &lt;chr&gt; | SYMBOL &lt;chr&gt; | logFC &lt;dbl&gt; | AveExpr &lt;dbl&gt; | t &lt;dbl&gt; | P.Value &lt;dbl&gt; | adj.P.Val &lt;dbl&gt; | B &lt;dbl&gt; |\n",
       "|---|---|---|---|---|---|---|---|---|---|\n",
       "| ENSG00000133895 | ENSG00000133895 | 4221 | MEN1  |  5.022381 | 4.016521 |  25.855872 | 4.582793e-14 | 9.915200e-12 | 22.287923 |\n",
       "| ENSG00000071564 | ENSG00000071564 | 6929 | TCF3  |  5.031569 | 4.723364 |  17.678187 | 1.300001e-11 | 4.491676e-10 | 17.019550 |\n",
       "| ENSG00000135679 | ENSG00000135679 | 4193 | MDM2  | -3.208464 | 7.262709 | -17.602369 | 1.384520e-11 | 4.677000e-10 | 16.955322 |\n",
       "| ENSG00000143294 | ENSG00000143294 | 5546 | PRCC  |  2.277094 | 5.583853 |  16.236567 | 4.501185e-11 | 1.079701e-09 | 15.777984 |\n",
       "| ENSG00000140464 | ENSG00000140464 | 5371 | PML   |  3.481703 | 5.564995 |  16.073118 | 5.214115e-11 | 1.205615e-09 | 15.635561 |\n",
       "| ENSG00000136807 | ENSG00000136807 | 1025 | CDK9  |  2.612442 | 4.956515 |  13.838991 | 4.498295e-10 | 6.734103e-09 | 13.469071 |\n",
       "| ENSG00000143995 | ENSG00000143995 | 4211 | MEIS1 | -2.723980 | 7.364445 |  -9.063296 | 1.500144e-07 | 8.573464e-07 |  7.397989 |\n",
       "\n"
      ],
      "text/plain": [
       "                genes           ENTREZID SYMBOL logFC     AveExpr  t         \n",
       "ENSG00000133895 ENSG00000133895 4221     MEN1    5.022381 4.016521  25.855872\n",
       "ENSG00000071564 ENSG00000071564 6929     TCF3    5.031569 4.723364  17.678187\n",
       "ENSG00000135679 ENSG00000135679 4193     MDM2   -3.208464 7.262709 -17.602369\n",
       "ENSG00000143294 ENSG00000143294 5546     PRCC    2.277094 5.583853  16.236567\n",
       "ENSG00000140464 ENSG00000140464 5371     PML     3.481703 5.564995  16.073118\n",
       "ENSG00000136807 ENSG00000136807 1025     CDK9    2.612442 4.956515  13.838991\n",
       "ENSG00000143995 ENSG00000143995 4211     MEIS1  -2.723980 7.364445  -9.063296\n",
       "                P.Value      adj.P.Val    B        \n",
       "ENSG00000133895 4.582793e-14 9.915200e-12 22.287923\n",
       "ENSG00000071564 1.300001e-11 4.491676e-10 17.019550\n",
       "ENSG00000135679 1.384520e-11 4.677000e-10 16.955322\n",
       "ENSG00000143294 4.501185e-11 1.079701e-09 15.777984\n",
       "ENSG00000140464 5.214115e-11 1.205615e-09 15.635561\n",
       "ENSG00000136807 4.498295e-10 6.734103e-09 13.469071\n",
       "ENSG00000143995 1.500144e-07 8.573464e-07  7.397989"
      ]
     },
     "metadata": {},
     "output_type": "display_data"
    }
   ],
   "source": [
    "samples.tmp <- x.ABM.CML.PB$sample$Sample.type\n",
    "table(samples.tmp)\n",
    "samples.ABM.CML.PB <- as.factor(samples.tmp)\n",
    "design.ABM.CML.PB <- model.matrix(~0 + samples.ABM.CML.PB)\n",
    "colnames(design.ABM.CML.PB) <- c(\"AgedBoneMarrowCtrl\", \"CML\")\n",
    "cm.ABM.CML.PB <- makeContrasts(CML-AgedBoneMarrowCtrl, levels=design.ABM.CML.PB)\n",
    "v.ABM.CML.PB <- voom(x.ABM.CML.PB, design.ABM.CML.PB, plot=FALSE)\n",
    "vfit.ABM.CML.PB <- lmFit(v.ABM.CML.PB,design.ABM.CML.PB)\n",
    "vfit.ABM.CML.PB <- contrasts.fit(vfit.ABM.CML.PB, contrasts=cm.ABM.CML.PB)\n",
    "efit.ABM.CML.PB <- eBayes(vfit.ABM.CML.PB)\n",
    "topTable(efit.ABM.CML.PB, coef=1)\n",
    "dt.ABM.CML.PB <- decideTests(efit.ABM.CML.PB)\n",
    "summary(dt.ABM.CML.PB)\n",
    "\n",
    "length(which(dt.ABM.CML.PB!=0))\n",
    "topTable.ABM.CML.PB <- topTreat(efit.ABM.CML.PB, coef=1, n=Inf, sort.by=\"p\")\n",
    "#write.csv(topTable.ABM.CML.PB, file=\"Limma_DE_AgedBMvsCML_Prog_Holm_Jamieson_RNASeq_TCW.csv\")\n",
    "topTable.ABM.CML.PB[topTable.ABM.CML.PB$ENTREZID %in% c(\"79058\",\"5546\",\"5371\",\"1050\",\"6688\",\"6929\",\n",
    "                                                        \"7709\",\"4193\",\"4221\",\"1025\",\"4211\",\"4066\"),]"
   ]
  },
  {
   "cell_type": "code",
   "execution_count": 36,
   "metadata": {},
   "outputs": [
    {
     "data": {
      "text/plain": [
       "samples.tmp\n",
       "Aged normal bone marrow                    sAML \n",
       "                      8                       9 "
      ]
     },
     "metadata": {},
     "output_type": "display_data"
    },
    {
     "data": {
      "text/html": [
       "<table>\n",
       "<caption>A data.frame: 10 × 9</caption>\n",
       "<thead>\n",
       "\t<tr><th></th><th scope=col>genes</th><th scope=col>ENTREZID</th><th scope=col>SYMBOL</th><th scope=col>logFC</th><th scope=col>AveExpr</th><th scope=col>t</th><th scope=col>P.Value</th><th scope=col>adj.P.Val</th><th scope=col>B</th></tr>\n",
       "\t<tr><th></th><th scope=col>&lt;chr&gt;</th><th scope=col>&lt;chr&gt;</th><th scope=col>&lt;chr&gt;</th><th scope=col>&lt;dbl&gt;</th><th scope=col>&lt;dbl&gt;</th><th scope=col>&lt;dbl&gt;</th><th scope=col>&lt;dbl&gt;</th><th scope=col>&lt;dbl&gt;</th><th scope=col>&lt;dbl&gt;</th></tr>\n",
       "</thead>\n",
       "<tbody>\n",
       "\t<tr><th scope=row>ENSG00000111679</th><td>ENSG00000111679</td><td>5777  </td><td>PTPN6   </td><td> 1.868020</td><td>8.254642</td><td>11.077145</td><td>8.391434e-10</td><td>8.585276e-06</td><td>12.584657</td></tr>\n",
       "\t<tr><th scope=row>ENSG00000128340</th><td>ENSG00000128340</td><td>5880  </td><td>RAC2    </td><td> 1.660394</td><td>8.537634</td><td> 8.941949</td><td>2.734019e-08</td><td>8.776007e-05</td><td> 9.294705</td></tr>\n",
       "\t<tr><th scope=row>ENSG00000180304</th><td>ENSG00000180304</td><td>4947  </td><td>OAZ2    </td><td> 1.737881</td><td>5.699188</td><td> 8.905365</td><td>2.915702e-08</td><td>8.776007e-05</td><td> 9.193122</td></tr>\n",
       "\t<tr><th scope=row>ENSG00000064601</th><td>ENSG00000064601</td><td>5476  </td><td>CTSA    </td><td> 2.311608</td><td>6.623452</td><td> 8.813224</td><td>3.431144e-08</td><td>8.776007e-05</td><td> 9.060542</td></tr>\n",
       "\t<tr><th scope=row>ENSG00000072786</th><td>ENSG00000072786</td><td>6793  </td><td>STK10   </td><td> 1.547620</td><td>5.116472</td><td> 8.571795</td><td>5.283004e-08</td><td>1.061237e-04</td><td> 8.607389</td></tr>\n",
       "\t<tr><th scope=row>ENSG00000166888</th><td>ENSG00000166888</td><td>6778  </td><td>STAT6   </td><td> 1.877058</td><td>5.394849</td><td> 8.481205</td><td>6.223656e-08</td><td>1.061237e-04</td><td> 8.463013</td></tr>\n",
       "\t<tr><th scope=row>ENSG00000089159</th><td>ENSG00000089159</td><td>5829  </td><td>PXN     </td><td> 2.520644</td><td>3.417745</td><td> 8.363159</td><td>7.717333e-08</td><td>1.127943e-04</td><td> 8.016004</td></tr>\n",
       "\t<tr><th scope=row>ENSG00000094916</th><td>ENSG00000094916</td><td>23468 </td><td>CBX5    </td><td>-2.138627</td><td>9.766589</td><td>-7.942621</td><td>1.685367e-07</td><td>1.724299e-04</td><td> 7.542061</td></tr>\n",
       "\t<tr><th scope=row>ENSG00000168890</th><td>ENSG00000168890</td><td>129303</td><td>TMEM150A</td><td> 2.493779</td><td>3.085090</td><td> 7.997192</td><td>1.520913e-07</td><td>1.724299e-04</td><td> 7.356801</td></tr>\n",
       "\t<tr><th scope=row>ENSG00000183386</th><td>ENSG00000183386</td><td>2275  </td><td>FHL3    </td><td> 2.501511</td><td>2.860852</td><td> 8.005237</td><td>1.498115e-07</td><td>1.724299e-04</td><td> 7.322894</td></tr>\n",
       "</tbody>\n",
       "</table>\n"
      ],
      "text/latex": [
       "A data.frame: 10 × 9\n",
       "\\begin{tabular}{r|lllllllll}\n",
       "  & genes & ENTREZID & SYMBOL & logFC & AveExpr & t & P.Value & adj.P.Val & B\\\\\n",
       "  & <chr> & <chr> & <chr> & <dbl> & <dbl> & <dbl> & <dbl> & <dbl> & <dbl>\\\\\n",
       "\\hline\n",
       "\tENSG00000111679 & ENSG00000111679 & 5777   & PTPN6    &  1.868020 & 8.254642 & 11.077145 & 8.391434e-10 & 8.585276e-06 & 12.584657\\\\\n",
       "\tENSG00000128340 & ENSG00000128340 & 5880   & RAC2     &  1.660394 & 8.537634 &  8.941949 & 2.734019e-08 & 8.776007e-05 &  9.294705\\\\\n",
       "\tENSG00000180304 & ENSG00000180304 & 4947   & OAZ2     &  1.737881 & 5.699188 &  8.905365 & 2.915702e-08 & 8.776007e-05 &  9.193122\\\\\n",
       "\tENSG00000064601 & ENSG00000064601 & 5476   & CTSA     &  2.311608 & 6.623452 &  8.813224 & 3.431144e-08 & 8.776007e-05 &  9.060542\\\\\n",
       "\tENSG00000072786 & ENSG00000072786 & 6793   & STK10    &  1.547620 & 5.116472 &  8.571795 & 5.283004e-08 & 1.061237e-04 &  8.607389\\\\\n",
       "\tENSG00000166888 & ENSG00000166888 & 6778   & STAT6    &  1.877058 & 5.394849 &  8.481205 & 6.223656e-08 & 1.061237e-04 &  8.463013\\\\\n",
       "\tENSG00000089159 & ENSG00000089159 & 5829   & PXN      &  2.520644 & 3.417745 &  8.363159 & 7.717333e-08 & 1.127943e-04 &  8.016004\\\\\n",
       "\tENSG00000094916 & ENSG00000094916 & 23468  & CBX5     & -2.138627 & 9.766589 & -7.942621 & 1.685367e-07 & 1.724299e-04 &  7.542061\\\\\n",
       "\tENSG00000168890 & ENSG00000168890 & 129303 & TMEM150A &  2.493779 & 3.085090 &  7.997192 & 1.520913e-07 & 1.724299e-04 &  7.356801\\\\\n",
       "\tENSG00000183386 & ENSG00000183386 & 2275   & FHL3     &  2.501511 & 2.860852 &  8.005237 & 1.498115e-07 & 1.724299e-04 &  7.322894\\\\\n",
       "\\end{tabular}\n"
      ],
      "text/markdown": [
       "\n",
       "A data.frame: 10 × 9\n",
       "\n",
       "| <!--/--> | genes &lt;chr&gt; | ENTREZID &lt;chr&gt; | SYMBOL &lt;chr&gt; | logFC &lt;dbl&gt; | AveExpr &lt;dbl&gt; | t &lt;dbl&gt; | P.Value &lt;dbl&gt; | adj.P.Val &lt;dbl&gt; | B &lt;dbl&gt; |\n",
       "|---|---|---|---|---|---|---|---|---|---|\n",
       "| ENSG00000111679 | ENSG00000111679 | 5777   | PTPN6    |  1.868020 | 8.254642 | 11.077145 | 8.391434e-10 | 8.585276e-06 | 12.584657 |\n",
       "| ENSG00000128340 | ENSG00000128340 | 5880   | RAC2     |  1.660394 | 8.537634 |  8.941949 | 2.734019e-08 | 8.776007e-05 |  9.294705 |\n",
       "| ENSG00000180304 | ENSG00000180304 | 4947   | OAZ2     |  1.737881 | 5.699188 |  8.905365 | 2.915702e-08 | 8.776007e-05 |  9.193122 |\n",
       "| ENSG00000064601 | ENSG00000064601 | 5476   | CTSA     |  2.311608 | 6.623452 |  8.813224 | 3.431144e-08 | 8.776007e-05 |  9.060542 |\n",
       "| ENSG00000072786 | ENSG00000072786 | 6793   | STK10    |  1.547620 | 5.116472 |  8.571795 | 5.283004e-08 | 1.061237e-04 |  8.607389 |\n",
       "| ENSG00000166888 | ENSG00000166888 | 6778   | STAT6    |  1.877058 | 5.394849 |  8.481205 | 6.223656e-08 | 1.061237e-04 |  8.463013 |\n",
       "| ENSG00000089159 | ENSG00000089159 | 5829   | PXN      |  2.520644 | 3.417745 |  8.363159 | 7.717333e-08 | 1.127943e-04 |  8.016004 |\n",
       "| ENSG00000094916 | ENSG00000094916 | 23468  | CBX5     | -2.138627 | 9.766589 | -7.942621 | 1.685367e-07 | 1.724299e-04 |  7.542061 |\n",
       "| ENSG00000168890 | ENSG00000168890 | 129303 | TMEM150A |  2.493779 | 3.085090 |  7.997192 | 1.520913e-07 | 1.724299e-04 |  7.356801 |\n",
       "| ENSG00000183386 | ENSG00000183386 | 2275   | FHL3     |  2.501511 | 2.860852 |  8.005237 | 1.498115e-07 | 1.724299e-04 |  7.322894 |\n",
       "\n"
      ],
      "text/plain": [
       "                genes           ENTREZID SYMBOL   logFC     AveExpr  t        \n",
       "ENSG00000111679 ENSG00000111679 5777     PTPN6     1.868020 8.254642 11.077145\n",
       "ENSG00000128340 ENSG00000128340 5880     RAC2      1.660394 8.537634  8.941949\n",
       "ENSG00000180304 ENSG00000180304 4947     OAZ2      1.737881 5.699188  8.905365\n",
       "ENSG00000064601 ENSG00000064601 5476     CTSA      2.311608 6.623452  8.813224\n",
       "ENSG00000072786 ENSG00000072786 6793     STK10     1.547620 5.116472  8.571795\n",
       "ENSG00000166888 ENSG00000166888 6778     STAT6     1.877058 5.394849  8.481205\n",
       "ENSG00000089159 ENSG00000089159 5829     PXN       2.520644 3.417745  8.363159\n",
       "ENSG00000094916 ENSG00000094916 23468    CBX5     -2.138627 9.766589 -7.942621\n",
       "ENSG00000168890 ENSG00000168890 129303   TMEM150A  2.493779 3.085090  7.997192\n",
       "ENSG00000183386 ENSG00000183386 2275     FHL3      2.501511 2.860852  8.005237\n",
       "                P.Value      adj.P.Val    B        \n",
       "ENSG00000111679 8.391434e-10 8.585276e-06 12.584657\n",
       "ENSG00000128340 2.734019e-08 8.776007e-05  9.294705\n",
       "ENSG00000180304 2.915702e-08 8.776007e-05  9.193122\n",
       "ENSG00000064601 3.431144e-08 8.776007e-05  9.060542\n",
       "ENSG00000072786 5.283004e-08 1.061237e-04  8.607389\n",
       "ENSG00000166888 6.223656e-08 1.061237e-04  8.463013\n",
       "ENSG00000089159 7.717333e-08 1.127943e-04  8.016004\n",
       "ENSG00000094916 1.685367e-07 1.724299e-04  7.542061\n",
       "ENSG00000168890 1.520913e-07 1.724299e-04  7.356801\n",
       "ENSG00000183386 1.498115e-07 1.724299e-04  7.322894"
      ]
     },
     "metadata": {},
     "output_type": "display_data"
    },
    {
     "data": {
      "text/plain": [
       "       sAML - AgedBoneMarrowCtrl\n",
       "Down                         960\n",
       "NotSig                      8156\n",
       "Up                          1115"
      ]
     },
     "metadata": {},
     "output_type": "display_data"
    },
    {
     "data": {
      "text/html": [
       "2075"
      ],
      "text/latex": [
       "2075"
      ],
      "text/markdown": [
       "2075"
      ],
      "text/plain": [
       "[1] 2075"
      ]
     },
     "metadata": {},
     "output_type": "display_data"
    }
   ],
   "source": [
    "samples.tmp <- x.ABM.sAML.PB$sample$Sample.type\n",
    "table(samples.tmp)\n",
    "samples.ABM.sAML.PB <- as.factor(samples.tmp)\n",
    "design.ABM.sAML.PB <- model.matrix(~0 + samples.ABM.sAML.PB)\n",
    "colnames(design.ABM.sAML.PB) <- c(\"AgedBoneMarrowCtrl\", \"sAML\")\n",
    "cm.ABM.sAML.PB <- makeContrasts(sAML-AgedBoneMarrowCtrl, levels=design.ABM.sAML.PB)\n",
    "v.ABM.sAML.PB <- voom(x.ABM.sAML.PB, design.ABM.sAML.PB, plot=FALSE)\n",
    "vfit.ABM.sAML.PB <- lmFit(v.ABM.sAML.PB,design.ABM.sAML.PB)\n",
    "vfit.ABM.sAML.PB <- contrasts.fit(vfit.ABM.sAML.PB, contrasts=cm.ABM.sAML.PB)\n",
    "efit.ABM.sAML.PB <- eBayes(vfit.ABM.sAML.PB)\n",
    "topTable(efit.ABM.sAML.PB, coef=1)\n",
    "dt.ABM.sAML.PB <- decideTests(efit.ABM.sAML.PB)\n",
    "summary(dt.ABM.sAML.PB)\n",
    "\n",
    "length(which(dt.ABM.sAML.PB != 0))\n",
    "topTable.ABM.sAML.PB <- topTreat(efit.ABM.sAML.PB, coef=1, n=Inf, sort.by=\"p\")\n",
    "#write.csv(topTable.ABM.sAML.PB, file=\"Limma_DE_AgedBMvssAML_Prog_Holm_Jamieson_RNASeq_TCW.csv\")"
   ]
  },
  {
   "cell_type": "markdown",
   "metadata": {},
   "source": [
    "## Supplemental Figure S2C\n",
    "### Heatmap of AML vs MF DE Genes in Progenitor Cells"
   ]
  },
  {
   "cell_type": "code",
   "execution_count": 30,
   "metadata": {},
   "outputs": [
    {
     "data": {
      "text/plain": [
       "samples.tmp\n",
       "  MF sAML \n",
       "  22    4 "
      ]
     },
     "metadata": {},
     "output_type": "display_data"
    },
    {
     "data": {
      "image/png": "[encoded data removed]",
      "text/plain": [
       "Plot with title “Color Key”"
      ]
     },
     "metadata": {},
     "output_type": "display_data"
    }
   ],
   "source": [
    "samples.tmp <- x.AML.MF.PB$sample$Sample.type3\n",
    "table(samples.tmp)\n",
    "samples.AML.MF.PB <- as.factor(samples.tmp)\n",
    "\n",
    "celltypes.AML.MF.PB <- as.factor(as.character(x.AML.MF.PB$sample$CellType))\n",
    "sex.AML.MF.PB <- as.factor(as.character(x.AML.MF.PB$sample$Sex))\n",
    "newdesign.AML.MF.PB <- model.matrix(~0 + sex.AML.MF.PB + \n",
    "                                    celltypes.AML.MF.PB + samples.AML.MF.PB)\n",
    "colnames(newdesign.AML.MF.PB) <- c(\"SexM\", \"SexF\",\"CellType\", \"sAML - MF\")\n",
    "design.AML.MF.PB <- model.matrix(~0 + celltypes.AML.MF.PB + samples.AML.MF.PB)\n",
    "colnames(design.AML.MF.PB) <- c(\"CellType1\",\"CellType2\", \"sAML - MF\")\n",
    "\n",
    "v.AML.MF.PB <- voom(x.AML.MF.PB, design.AML.MF.PB, plot=FALSE)\n",
    "vfit.AML.MF.PB <- lmFit(v.AML.MF.PB,design.AML.MF.PB)\n",
    "efit.AML.MF.PB <- eBayes(vfit.AML.MF.PB)\n",
    "dt.AML.MF.PB <- decideTests(efit.AML.MF.PB)\n",
    "topTable.AML.MF.PB <- topTreat(efit.AML.MF.PB, coef=3, n=Inf, sort.by=\"p\")\n",
    "\n",
    "topgenes.AML.MF.PB <- row.names(topTable.AML.MF.PB)[1:25]\n",
    "k.AML.MF.PB <- which(row.names(x.AML.MF.PB$counts) %in% topgenes.AML.MF.PB)\n",
    "logCPM.AML.MF.PB <- cpm(x.AML.MF.PB, log=TRUE)\n",
    "group.AML.MF.PB <- as.factor(x.AML.MF.PB$samples$Sample.type)\n",
    "col.samp.AML.MF.PB <- samp.type.AML.MF.PB <- as.factor(x.AML.MF.PB$samples$Sample.type3)\n",
    "levels(col.samp.AML.MF.PB) <-  brewer.pal(8, \"Set2\") \n",
    "col.samp.AML.MF.PB <- as.character(col.samp.AML.MF.PB)\n",
    "\n",
    "mycol <- colorpanel(100,\"#000066\",\"white\",\"#CC0000\")\n",
    "\n",
    "v.AML.MF.PB.new <- voom(x.AML.MF.PB, newdesign.AML.MF.PB, plot=FALSE)\n",
    "vfit.AML.MF.PB.new <- lmFit(v.AML.MF.PB.new, newdesign.AML.MF.PB)\n",
    "efit.AML.MF.PB.new <- eBayes(vfit.AML.MF.PB.new)\n",
    "dt.AML.MF.PB.new <- decideTests(efit.AML.MF.PB.new)\n",
    "topTable.AML.MF.PB.new <- topTreat(efit.AML.MF.PB.new, coef=4, n=Inf, sort.by=\"p\")\n",
    "\n",
    "topgenes.AML.MF.PB.new <- row.names(topTable.AML.MF.PB.new)[1:25]\n",
    "k.AML.MF.PB.new <- which(row.names(x.AML.MF.PB$counts) %in% topgenes.AML.MF.PB.new)\n",
    "group.AML.MF.PB.new <- as.factor(x.AML.MF.PB$samples$Sample.type3)\n",
    "\n",
    "mycol <- colorpanel(100,\"#000066\",\"white\",\"#CC0000\")\n",
    "#pdf(file=\"Holm_Jamieson_sAMLvMF_Prog_LimmaFactorCellType_DEGenes_Heatmap_03102020.pdf\", width=7, height=9)\n",
    "heatmap.2(logCPM.AML.MF.PB[k.AML.MF.PB.new,], scale=\"row\",\n",
    "    labRow=x.AML.MF.PB$genes$SYMBOL[k.AML.MF.PB], labCol=x.AML.MF.PB$samples$Sample.type3,  \n",
    "col=mycol, trace=\"none\", density.info=\"none\", ColSideColors=col.samp.AML.MF.PB, key=T,\n",
    "margin=c(8,6), lhei=c(2,10), dendrogram=\"column\")\n",
    "\n",
    "legend(\"left\", fill = unique(col.samp.AML.MF.PB),\n",
    "legend = unique(group.AML.MF.PB.new), inset=c(0,0), cex=.6)\n",
    "#dev.off()"
   ]
  },
  {
   "cell_type": "markdown",
   "metadata": {},
   "source": [
    "## Supplemental Figure S3A\n",
    "### Venn Diagram of Differentially Expressed Genes Across Comparisons in Progenitor Cells"
   ]
  },
  {
   "cell_type": "code",
   "execution_count": 51,
   "metadata": {},
   "outputs": [
    {
     "data": {
      "text/html": [
       "<strong>png:</strong> 2"
      ],
      "text/latex": [
       "\\textbf{png:} 2"
      ],
      "text/markdown": [
       "**png:** 2"
      ],
      "text/plain": [
       "png \n",
       "  2 "
      ]
     },
     "metadata": {},
     "output_type": "display_data"
    }
   ],
   "source": [
    "vennInput_withAML <- matrix(nrow = nrow(geneCount_coding.ABM.MF.PB), ncol=4, data = 0)\n",
    "rownames(vennInput_withAML) <- rownames(geneCount_coding.ABM.MF.PB)\n",
    "\n",
    "vennInput_withAML[which(rownames(vennInput_withAML) %in% rownames(dt.ABM.PV.PB)),1] <- dt.ABM.PV.PB[match(\n",
    "                                            rownames(vennInput_withAML)[which(rownames(vennInput_withAML) %in% rownames(dt.ABM.PV.PB))], \n",
    "                                            rownames(dt.ABM.PV.PB)),1]\n",
    "vennInput_withAML[which(rownames(vennInput_withAML) %in% rownames(dt.ABM.ET.PB)),2] <- dt.ABM.ET.PB[match(\n",
    "                                            rownames(vennInput_withAML)[which(rownames(vennInput_withAML) %in% rownames(dt.ABM.ET.PB))],\n",
    "                                            rownames(dt.ABM.ET.PB)),1]\n",
    "vennInput_withAML[which(rownames(vennInput_withAML) %in% rownames(dt.ABM.MF.PB)),3] <- dt.ABM.MF.PB[match(\n",
    "                                            rownames(vennInput_withAML)[which(rownames(vennInput_withAML) %in% rownames(dt.ABM.MF.PB))], \n",
    "                                            rownames(dt.ABM.MF.PB)),1]\n",
    "vennInput_withAML[which(rownames(vennInput_withAML) %in% rownames(dt.ABM.sAML.PB)),4] <- dt.ABM.sAML.PB[match(\n",
    "                                            rownames(vennInput_withAML)[which(rownames(vennInput_withAML) %in% rownames(dt.ABM.sAML.PB))], \n",
    "                                            rownames(dt.ABM.sAML.PB)),1]\n",
    "colnames(vennInput_withAML) <- c(\"PV - Bone Marrow Control\",\n",
    "                         \"ET- Bone Marrow Control\",\n",
    "                         \"MF - Bone Marrow Control\",\n",
    "                         \"sAML - Bone Marrow Control\"\n",
    "                        )\n",
    "\n",
    "pdf(\"vennDiagram_AgedBMvsPV_ET_MF_CML_sAML_Prog_Holm_Jamieson_03102020.pdf\", width=7, height=7)\n",
    "vennDiagram(vennInput_withAML,circle.col=c('red','blue','green', 'gray', \"dark orange\"), cex=0.75,\n",
    "           show.include = FALSE, main=\"Progenitor Cell RNASeq - Differentially Expressed Genes \")\n",
    "#\n",
    "dev.off()"
   ]
  }
 ],
 "metadata": {
  "kernelspec": {
   "display_name": "R",
   "language": "R",
   "name": "ir"
  },
  "language_info": {
   "codemirror_mode": "r",
   "file_extension": ".r",
   "mimetype": "text/x-r-source",
   "name": "R",
   "pygments_lexer": "r",
   "version": "3.4.3"
  }
 },
 "nbformat": 4,
 "nbformat_minor": 2
}
